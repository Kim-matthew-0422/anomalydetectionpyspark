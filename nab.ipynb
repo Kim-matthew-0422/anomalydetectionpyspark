{
  "nbformat": 4,
  "nbformat_minor": 0,
  "metadata": {
    "colab": {
      "provenance": [],
      "authorship_tag": "ABX9TyND5uTr9LaOfVrKbmvQFhMX",
      "include_colab_link": true
    },
    "kernelspec": {
      "name": "python3",
      "display_name": "Python 3"
    },
    "language_info": {
      "name": "python"
    },
    "accelerator": "GPU",
    "gpuClass": "standard"
  },
  "cells": [
    {
      "cell_type": "markdown",
      "metadata": {
        "id": "view-in-github",
        "colab_type": "text"
      },
      "source": [
        "<a href=\"https://colab.research.google.com/github/Kim-matthew-0422/anomalydetectionpyspark/blob/main/nab.ipynb\" target=\"_parent\"><img src=\"https://colab.research.google.com/assets/colab-badge.svg\" alt=\"Open In Colab\"/></a>"
      ]
    },
    {
      "cell_type": "code",
      "execution_count": 1,
      "metadata": {
        "colab": {
          "base_uri": "https://localhost:8080/"
        },
        "id": "7xmnUUgJZOwO",
        "outputId": "f9b7a241-519e-4b29-9b6e-2fa165a7aea0"
      },
      "outputs": [
        {
          "output_type": "stream",
          "name": "stdout",
          "text": [
            "NVIDIA-SMI has failed because it couldn't communicate with the NVIDIA driver. Make sure that the latest NVIDIA driver is installed and running.\n",
            "\n"
          ]
        }
      ],
      "source": [
        "!nvidia-smi -L"
      ]
    },
    {
      "cell_type": "code",
      "source": [
        "!kaggle datasets download -d boltzmannbrain/nab"
      ],
      "metadata": {
        "colab": {
          "base_uri": "https://localhost:8080/"
        },
        "id": "O74Q2bYeZubk",
        "outputId": "b58e2552-fc73-4a26-b2e4-8123a3562300"
      },
      "execution_count": 2,
      "outputs": [
        {
          "output_type": "stream",
          "name": "stdout",
          "text": [
            "Traceback (most recent call last):\n",
            "  File \"/usr/local/bin/kaggle\", line 5, in <module>\n",
            "    from kaggle.cli import main\n",
            "  File \"/usr/local/lib/python3.9/dist-packages/kaggle/__init__.py\", line 23, in <module>\n",
            "    api.authenticate()\n",
            "  File \"/usr/local/lib/python3.9/dist-packages/kaggle/api/kaggle_api_extended.py\", line 164, in authenticate\n",
            "    raise IOError('Could not find {}. Make sure it\\'s located in'\n",
            "OSError: Could not find kaggle.json. Make sure it's located in /root/.kaggle. Or use the environment method.\n"
          ]
        }
      ]
    },
    {
      "cell_type": "code",
      "source": [
        "!ls"
      ],
      "metadata": {
        "colab": {
          "base_uri": "https://localhost:8080/"
        },
        "id": "pQHxrKIKZuX8",
        "outputId": "1f2b42f8-c13a-4753-c84b-38747af297cd"
      },
      "execution_count": null,
      "outputs": [
        {
          "output_type": "stream",
          "name": "stdout",
          "text": [
            "sample_data\n"
          ]
        }
      ]
    },
    {
      "cell_type": "code",
      "source": [
        "from google.colab import files\n",
        "files.upload()"
      ],
      "metadata": {
        "colab": {
          "base_uri": "https://localhost:8080/",
          "height": 90
        },
        "id": "1rDxKlnMZ3da",
        "outputId": "201b6083-bafa-4f08-8652-0f3574172fa3"
      },
      "execution_count": 3,
      "outputs": [
        {
          "output_type": "display_data",
          "data": {
            "text/plain": [
              "<IPython.core.display.HTML object>"
            ],
            "text/html": [
              "\n",
              "     <input type=\"file\" id=\"files-949a4ad0-58bb-40f8-8fe7-1a6e507c1822\" name=\"files[]\" multiple disabled\n",
              "        style=\"border:none\" />\n",
              "     <output id=\"result-949a4ad0-58bb-40f8-8fe7-1a6e507c1822\">\n",
              "      Upload widget is only available when the cell has been executed in the\n",
              "      current browser session. Please rerun this cell to enable.\n",
              "      </output>\n",
              "      <script>// Copyright 2017 Google LLC\n",
              "//\n",
              "// Licensed under the Apache License, Version 2.0 (the \"License\");\n",
              "// you may not use this file except in compliance with the License.\n",
              "// You may obtain a copy of the License at\n",
              "//\n",
              "//      http://www.apache.org/licenses/LICENSE-2.0\n",
              "//\n",
              "// Unless required by applicable law or agreed to in writing, software\n",
              "// distributed under the License is distributed on an \"AS IS\" BASIS,\n",
              "// WITHOUT WARRANTIES OR CONDITIONS OF ANY KIND, either express or implied.\n",
              "// See the License for the specific language governing permissions and\n",
              "// limitations under the License.\n",
              "\n",
              "/**\n",
              " * @fileoverview Helpers for google.colab Python module.\n",
              " */\n",
              "(function(scope) {\n",
              "function span(text, styleAttributes = {}) {\n",
              "  const element = document.createElement('span');\n",
              "  element.textContent = text;\n",
              "  for (const key of Object.keys(styleAttributes)) {\n",
              "    element.style[key] = styleAttributes[key];\n",
              "  }\n",
              "  return element;\n",
              "}\n",
              "\n",
              "// Max number of bytes which will be uploaded at a time.\n",
              "const MAX_PAYLOAD_SIZE = 100 * 1024;\n",
              "\n",
              "function _uploadFiles(inputId, outputId) {\n",
              "  const steps = uploadFilesStep(inputId, outputId);\n",
              "  const outputElement = document.getElementById(outputId);\n",
              "  // Cache steps on the outputElement to make it available for the next call\n",
              "  // to uploadFilesContinue from Python.\n",
              "  outputElement.steps = steps;\n",
              "\n",
              "  return _uploadFilesContinue(outputId);\n",
              "}\n",
              "\n",
              "// This is roughly an async generator (not supported in the browser yet),\n",
              "// where there are multiple asynchronous steps and the Python side is going\n",
              "// to poll for completion of each step.\n",
              "// This uses a Promise to block the python side on completion of each step,\n",
              "// then passes the result of the previous step as the input to the next step.\n",
              "function _uploadFilesContinue(outputId) {\n",
              "  const outputElement = document.getElementById(outputId);\n",
              "  const steps = outputElement.steps;\n",
              "\n",
              "  const next = steps.next(outputElement.lastPromiseValue);\n",
              "  return Promise.resolve(next.value.promise).then((value) => {\n",
              "    // Cache the last promise value to make it available to the next\n",
              "    // step of the generator.\n",
              "    outputElement.lastPromiseValue = value;\n",
              "    return next.value.response;\n",
              "  });\n",
              "}\n",
              "\n",
              "/**\n",
              " * Generator function which is called between each async step of the upload\n",
              " * process.\n",
              " * @param {string} inputId Element ID of the input file picker element.\n",
              " * @param {string} outputId Element ID of the output display.\n",
              " * @return {!Iterable<!Object>} Iterable of next steps.\n",
              " */\n",
              "function* uploadFilesStep(inputId, outputId) {\n",
              "  const inputElement = document.getElementById(inputId);\n",
              "  inputElement.disabled = false;\n",
              "\n",
              "  const outputElement = document.getElementById(outputId);\n",
              "  outputElement.innerHTML = '';\n",
              "\n",
              "  const pickedPromise = new Promise((resolve) => {\n",
              "    inputElement.addEventListener('change', (e) => {\n",
              "      resolve(e.target.files);\n",
              "    });\n",
              "  });\n",
              "\n",
              "  const cancel = document.createElement('button');\n",
              "  inputElement.parentElement.appendChild(cancel);\n",
              "  cancel.textContent = 'Cancel upload';\n",
              "  const cancelPromise = new Promise((resolve) => {\n",
              "    cancel.onclick = () => {\n",
              "      resolve(null);\n",
              "    };\n",
              "  });\n",
              "\n",
              "  // Wait for the user to pick the files.\n",
              "  const files = yield {\n",
              "    promise: Promise.race([pickedPromise, cancelPromise]),\n",
              "    response: {\n",
              "      action: 'starting',\n",
              "    }\n",
              "  };\n",
              "\n",
              "  cancel.remove();\n",
              "\n",
              "  // Disable the input element since further picks are not allowed.\n",
              "  inputElement.disabled = true;\n",
              "\n",
              "  if (!files) {\n",
              "    return {\n",
              "      response: {\n",
              "        action: 'complete',\n",
              "      }\n",
              "    };\n",
              "  }\n",
              "\n",
              "  for (const file of files) {\n",
              "    const li = document.createElement('li');\n",
              "    li.append(span(file.name, {fontWeight: 'bold'}));\n",
              "    li.append(span(\n",
              "        `(${file.type || 'n/a'}) - ${file.size} bytes, ` +\n",
              "        `last modified: ${\n",
              "            file.lastModifiedDate ? file.lastModifiedDate.toLocaleDateString() :\n",
              "                                    'n/a'} - `));\n",
              "    const percent = span('0% done');\n",
              "    li.appendChild(percent);\n",
              "\n",
              "    outputElement.appendChild(li);\n",
              "\n",
              "    const fileDataPromise = new Promise((resolve) => {\n",
              "      const reader = new FileReader();\n",
              "      reader.onload = (e) => {\n",
              "        resolve(e.target.result);\n",
              "      };\n",
              "      reader.readAsArrayBuffer(file);\n",
              "    });\n",
              "    // Wait for the data to be ready.\n",
              "    let fileData = yield {\n",
              "      promise: fileDataPromise,\n",
              "      response: {\n",
              "        action: 'continue',\n",
              "      }\n",
              "    };\n",
              "\n",
              "    // Use a chunked sending to avoid message size limits. See b/62115660.\n",
              "    let position = 0;\n",
              "    do {\n",
              "      const length = Math.min(fileData.byteLength - position, MAX_PAYLOAD_SIZE);\n",
              "      const chunk = new Uint8Array(fileData, position, length);\n",
              "      position += length;\n",
              "\n",
              "      const base64 = btoa(String.fromCharCode.apply(null, chunk));\n",
              "      yield {\n",
              "        response: {\n",
              "          action: 'append',\n",
              "          file: file.name,\n",
              "          data: base64,\n",
              "        },\n",
              "      };\n",
              "\n",
              "      let percentDone = fileData.byteLength === 0 ?\n",
              "          100 :\n",
              "          Math.round((position / fileData.byteLength) * 100);\n",
              "      percent.textContent = `${percentDone}% done`;\n",
              "\n",
              "    } while (position < fileData.byteLength);\n",
              "  }\n",
              "\n",
              "  // All done.\n",
              "  yield {\n",
              "    response: {\n",
              "      action: 'complete',\n",
              "    }\n",
              "  };\n",
              "}\n",
              "\n",
              "scope.google = scope.google || {};\n",
              "scope.google.colab = scope.google.colab || {};\n",
              "scope.google.colab._files = {\n",
              "  _uploadFiles,\n",
              "  _uploadFilesContinue,\n",
              "};\n",
              "})(self);\n",
              "</script> "
            ]
          },
          "metadata": {}
        },
        {
          "output_type": "stream",
          "name": "stdout",
          "text": [
            "Saving kaggle.json to kaggle.json\n"
          ]
        },
        {
          "output_type": "execute_result",
          "data": {
            "text/plain": [
              "{'kaggle.json': b'{\"username\":\"etkim422\",\"key\":\"80ab2ded6fd7d42e4f1a1492a557fa36\"}'}"
            ]
          },
          "metadata": {},
          "execution_count": 3
        }
      ]
    },
    {
      "cell_type": "code",
      "source": [
        "!mkdir ~/.kaggle"
      ],
      "metadata": {
        "colab": {
          "base_uri": "https://localhost:8080/"
        },
        "id": "uo3EdIvTZuVd",
        "outputId": "34a7a9e5-24f4-4283-b76a-8407acc06e1b"
      },
      "execution_count": 4,
      "outputs": [
        {
          "output_type": "stream",
          "name": "stdout",
          "text": [
            "mkdir: cannot create directory ‘/root/.kaggle’: File exists\n"
          ]
        }
      ]
    },
    {
      "cell_type": "code",
      "source": [
        "!cp kaggle.json ~/.kaggle/"
      ],
      "metadata": {
        "id": "F473x9GhaHh3"
      },
      "execution_count": 5,
      "outputs": []
    },
    {
      "cell_type": "code",
      "source": [
        "!kaggle datasets download -d boltzmannbrain/nab"
      ],
      "metadata": {
        "colab": {
          "base_uri": "https://localhost:8080/"
        },
        "id": "yB8eDpZbZuSU",
        "outputId": "d46984b9-0cc3-48b9-c788-df5917d6a00b"
      },
      "execution_count": 6,
      "outputs": [
        {
          "output_type": "stream",
          "name": "stdout",
          "text": [
            "Warning: Your Kaggle API key is readable by other users on this system! To fix this, you can run 'chmod 600 /root/.kaggle/kaggle.json'\n",
            "Downloading nab.zip to /content\n",
            "  0% 0.00/1.64M [00:00<?, ?B/s]\n",
            "100% 1.64M/1.64M [00:00<00:00, 146MB/s]\n"
          ]
        }
      ]
    },
    {
      "cell_type": "code",
      "source": [
        "!ls"
      ],
      "metadata": {
        "colab": {
          "base_uri": "https://localhost:8080/"
        },
        "id": "EgJpZBzBZuPZ",
        "outputId": "51459d24-38de-42ce-d797-1d8188028370"
      },
      "execution_count": null,
      "outputs": [
        {
          "output_type": "stream",
          "name": "stdout",
          "text": [
            "kaggle.json  nab.zip  sample_data\n"
          ]
        }
      ]
    },
    {
      "cell_type": "code",
      "source": [
        "!wget https://raw.githubusercontent.com/mrdbourke/tensorflow-deep-learning/main/extras/helper_functions.py\n",
        "from helper_functions import create_tensorboard_callback, plot_loss_curves, unzip_data, compare_historys, walk_through_dir"
      ],
      "metadata": {
        "colab": {
          "base_uri": "https://localhost:8080/"
        },
        "id": "mudA61eGZuMk",
        "outputId": "ae128086-f142-4826-acaf-5e441ea70932"
      },
      "execution_count": 7,
      "outputs": [
        {
          "output_type": "stream",
          "name": "stdout",
          "text": [
            "--2023-03-14 08:12:53--  https://raw.githubusercontent.com/mrdbourke/tensorflow-deep-learning/main/extras/helper_functions.py\n",
            "Resolving raw.githubusercontent.com (raw.githubusercontent.com)... 185.199.108.133, 185.199.110.133, 185.199.109.133, ...\n",
            "Connecting to raw.githubusercontent.com (raw.githubusercontent.com)|185.199.108.133|:443... connected.\n",
            "HTTP request sent, awaiting response... 200 OK\n",
            "Length: 10246 (10K) [text/plain]\n",
            "Saving to: ‘helper_functions.py’\n",
            "\n",
            "\rhelper_functions.py   0%[                    ]       0  --.-KB/s               \rhelper_functions.py 100%[===================>]  10.01K  --.-KB/s    in 0s      \n",
            "\n",
            "2023-03-14 08:12:53 (61.1 MB/s) - ‘helper_functions.py’ saved [10246/10246]\n",
            "\n"
          ]
        }
      ]
    },
    {
      "cell_type": "code",
      "source": [
        "unzip_data('nab.zip')"
      ],
      "metadata": {
        "id": "PrEF5HpSZuJr"
      },
      "execution_count": 8,
      "outputs": []
    },
    {
      "cell_type": "code",
      "source": [
        "!ls"
      ],
      "metadata": {
        "colab": {
          "base_uri": "https://localhost:8080/"
        },
        "id": "jf7aVZ_OZuHC",
        "outputId": "bcd12fbf-8241-4de4-b192-4bffe5216e36"
      },
      "execution_count": null,
      "outputs": [
        {
          "output_type": "stream",
          "name": "stdout",
          "text": [
            "artificialNoAnomaly    nab.zip\t       realAWSCloudwatch  sample_data\n",
            "artificialWithAnomaly  __pycache__     realKnownCause\n",
            "helper_functions.py    README.md       realTraffic\n",
            "kaggle.json\t       realAdExchange  realTweets\n"
          ]
        }
      ]
    },
    {
      "cell_type": "code",
      "source": [
        "!apt-get install openjdk-8-jdk-headless -qq > /dev/null"
      ],
      "metadata": {
        "id": "ipK_CIWiZuEN"
      },
      "execution_count": 9,
      "outputs": []
    },
    {
      "cell_type": "code",
      "source": [
        "import os\n",
        "os.environ[\"JAVA_HOME\"] = \"/usr/lib/jvm/java-8-openjdk-amd64\"\n",
        "os.environ[\"SPARK_HOME\"] = \"/content/spark-3.3.2-bin-hadoop3\""
      ],
      "metadata": {
        "id": "qZsHigPXZuBi"
      },
      "execution_count": 10,
      "outputs": []
    },
    {
      "cell_type": "code",
      "source": [
        "!pip install pyspark"
      ],
      "metadata": {
        "colab": {
          "base_uri": "https://localhost:8080/"
        },
        "id": "3cUogd8qZt_J",
        "outputId": "43d07c05-06a2-4197-b4c8-4bac9affc041"
      },
      "execution_count": 11,
      "outputs": [
        {
          "output_type": "stream",
          "name": "stdout",
          "text": [
            "Looking in indexes: https://pypi.org/simple, https://us-python.pkg.dev/colab-wheels/public/simple/\n",
            "Collecting pyspark\n",
            "  Downloading pyspark-3.3.2.tar.gz (281.4 MB)\n",
            "\u001b[2K     \u001b[90m━━━━━━━━━━━━━━━━━━━━━━━━━━━━━━━━━━━━━━━\u001b[0m \u001b[32m281.4/281.4 MB\u001b[0m \u001b[31m4.0 MB/s\u001b[0m eta \u001b[36m0:00:00\u001b[0m\n",
            "\u001b[?25h  Preparing metadata (setup.py) ... \u001b[?25l\u001b[?25hdone\n",
            "Collecting py4j==0.10.9.5\n",
            "  Downloading py4j-0.10.9.5-py2.py3-none-any.whl (199 kB)\n",
            "\u001b[2K     \u001b[90m━━━━━━━━━━━━━━━━━━━━━━━━━━━━━━━━━━━━━━\u001b[0m \u001b[32m199.7/199.7 KB\u001b[0m \u001b[31m17.8 MB/s\u001b[0m eta \u001b[36m0:00:00\u001b[0m\n",
            "\u001b[?25hBuilding wheels for collected packages: pyspark\n",
            "  Building wheel for pyspark (setup.py) ... \u001b[?25l\u001b[?25hdone\n",
            "  Created wheel for pyspark: filename=pyspark-3.3.2-py2.py3-none-any.whl size=281824025 sha256=39816e1d636958715e5ffd0301cc0c809d91c7d1ba94d97484159189c8ba3182\n",
            "  Stored in directory: /root/.cache/pip/wheels/6c/e3/9b/0525ce8a69478916513509d43693511463c6468db0de237c86\n",
            "Successfully built pyspark\n",
            "Installing collected packages: py4j, pyspark\n",
            "Successfully installed py4j-0.10.9.5 pyspark-3.3.2\n"
          ]
        }
      ]
    },
    {
      "cell_type": "code",
      "source": [
        "import pyspark\n",
        "import pandas as pd"
      ],
      "metadata": {
        "id": "oNyUKDqjZt8p"
      },
      "execution_count": 12,
      "outputs": []
    },
    {
      "cell_type": "code",
      "source": [
        "from pyspark.sql import SparkSession"
      ],
      "metadata": {
        "id": "HCP1mPefZt5u"
      },
      "execution_count": 13,
      "outputs": []
    },
    {
      "cell_type": "code",
      "source": [
        "!wget -q https://dlcdn.apache.org/spark/spark-3.3.2/spark-3.3.2-bin-hadoop3.tgz"
      ],
      "metadata": {
        "id": "1J54rL2bZt3F"
      },
      "execution_count": 14,
      "outputs": []
    },
    {
      "cell_type": "code",
      "source": [
        "!tar xf spark-3.3.2-bin-hadoop3.tgz"
      ],
      "metadata": {
        "id": "6QrwgvEqZt0J"
      },
      "execution_count": 15,
      "outputs": []
    },
    {
      "cell_type": "code",
      "source": [
        "!pip install -q findspark"
      ],
      "metadata": {
        "id": "-uKIQ0t2ZtxH"
      },
      "execution_count": 16,
      "outputs": []
    },
    {
      "cell_type": "code",
      "source": [
        "spark = SparkSession.builder\\\n",
        "        .master(\"local[*]\")\\\n",
        "        .appName(\"Test Setup\")\\\n",
        "        .getOrCreate()"
      ],
      "metadata": {
        "id": "GnLy9VqOZtuN"
      },
      "execution_count": 17,
      "outputs": []
    },
    {
      "cell_type": "code",
      "source": [
        "!ls"
      ],
      "metadata": {
        "colab": {
          "base_uri": "https://localhost:8080/"
        },
        "id": "y7rgS3J4Ztrd",
        "outputId": "39ec72dc-5d05-48d1-a0ac-dc81c1c5abb8"
      },
      "execution_count": 18,
      "outputs": [
        {
          "output_type": "stream",
          "name": "stdout",
          "text": [
            "artificialNoAnomaly    __pycache__\t  realTraffic\n",
            "artificialWithAnomaly  README.md\t  realTweets\n",
            "helper_functions.py    realAdExchange\t  sample_data\n",
            "kaggle.json\t       realAWSCloudwatch  spark-3.3.2-bin-hadoop3\n",
            "nab.zip\t\t       realKnownCause\t  spark-3.3.2-bin-hadoop3.tgz\n"
          ]
        }
      ]
    },
    {
      "cell_type": "code",
      "source": [
        "df_aiwith = spark.read.csv('artificialWithAnomaly/artificialWithAnomaly/art_daily_flatmiddle.csv')"
      ],
      "metadata": {
        "id": "u7LEDNcBZtot"
      },
      "execution_count": 19,
      "outputs": []
    },
    {
      "cell_type": "code",
      "source": [
        "%cd artificialWithAnomaly"
      ],
      "metadata": {
        "colab": {
          "base_uri": "https://localhost:8080/"
        },
        "id": "MMzXaEvfZtlw",
        "outputId": "af3df396-e781-4596-de6f-c778f7eb1e36"
      },
      "execution_count": 20,
      "outputs": [
        {
          "output_type": "stream",
          "name": "stdout",
          "text": [
            "/content/artificialWithAnomaly\n"
          ]
        }
      ]
    },
    {
      "cell_type": "code",
      "source": [
        "!ls artificialWithAnomaly"
      ],
      "metadata": {
        "colab": {
          "base_uri": "https://localhost:8080/"
        },
        "id": "5BnoSaOPZtjA",
        "outputId": "64b20d22-01cc-4166-88a2-d859e409ea9e"
      },
      "execution_count": 21,
      "outputs": [
        {
          "output_type": "stream",
          "name": "stdout",
          "text": [
            "art_daily_flatmiddle.csv  art_daily_jumpsup.csv  art_increase_spike_density.csv\n",
            "art_daily_jumpsdown.csv   art_daily_nojump.csv\t art_load_balancer_spikes.csv\n"
          ]
        }
      ]
    },
    {
      "cell_type": "code",
      "source": [
        "df_aiwith.show()"
      ],
      "metadata": {
        "colab": {
          "base_uri": "https://localhost:8080/"
        },
        "id": "popHGZ7hZtgR",
        "outputId": "df3563e9-e994-4a4a-d343-e85a38f3bcf7"
      },
      "execution_count": 22,
      "outputs": [
        {
          "output_type": "stream",
          "name": "stdout",
          "text": [
            "+-------------------+-------------------+\n",
            "|                _c0|                _c1|\n",
            "+-------------------+-------------------+\n",
            "|          timestamp|              value|\n",
            "|2014-04-01 00:00:00|     -21.0483826823|\n",
            "|2014-04-01 00:05:00|     -20.2954768676|\n",
            "|2014-04-01 00:10:00|-18.127229468299998|\n",
            "|2014-04-01 00:15:00|     -20.1716653997|\n",
            "|2014-04-01 00:20:00|      -21.223761612|\n",
            "|2014-04-01 00:25:00|     -19.1044911334|\n",
            "|2014-04-01 00:30:00|-21.589446495900003|\n",
            "|2014-04-01 00:35:00|     -18.9450416275|\n",
            "|2014-04-01 00:40:00|-18.305892530599998|\n",
            "|2014-04-01 00:45:00|     -18.6397572378|\n",
            "|2014-04-01 00:50:00|     -21.3480114749|\n",
            "|2014-04-01 00:55:00|-19.669223676199998|\n",
            "|2014-04-01 01:00:00|     -21.1877822545|\n",
            "|2014-04-01 01:05:00|      -20.124932244|\n",
            "|2014-04-01 01:10:00|     -19.9222364992|\n",
            "|2014-04-01 01:15:00|      -21.227652606|\n",
            "|2014-04-01 01:20:00|-19.693950446800002|\n",
            "|2014-04-01 01:25:00|     -21.2081309243|\n",
            "|2014-04-01 01:30:00|     -18.4026486599|\n",
            "+-------------------+-------------------+\n",
            "only showing top 20 rows\n",
            "\n"
          ]
        }
      ]
    },
    {
      "cell_type": "code",
      "source": [],
      "metadata": {
        "colab": {
          "base_uri": "https://localhost:8080/"
        },
        "id": "RDoaRYYlZtdj",
        "outputId": "60d1f188-6d7c-42db-f5d5-048adc6e8ac5"
      },
      "execution_count": null,
      "outputs": [
        {
          "output_type": "stream",
          "name": "stdout",
          "text": [
            "artificialNoAnomaly    __pycache__\t  realTraffic\n",
            "artificialWithAnomaly  README.md\t  realTweets\n",
            "helper_functions.py    realAdExchange\t  sample_data\n",
            "kaggle.json\t       realAWSCloudwatch  spark-3.3.2-bin-hadoop3\n",
            "nab.zip\t\t       realKnownCause\t  spark-3.3.2-bin-hadoop3.tgz\n"
          ]
        }
      ]
    },
    {
      "cell_type": "code",
      "source": [
        "df_temp = spark.read.csv('realKnownCause/realKnownCause/ambient_temperature_system_failure.csv', header = True)"
      ],
      "metadata": {
        "id": "MVhr0LNDZtay"
      },
      "execution_count": 66,
      "outputs": []
    },
    {
      "cell_type": "code",
      "source": [
        "df_temp.show()"
      ],
      "metadata": {
        "colab": {
          "base_uri": "https://localhost:8080/"
        },
        "id": "QQGJnEQCZtYI",
        "outputId": "f18f62f2-bf7b-43ed-a4e1-fde76ec50836"
      },
      "execution_count": 24,
      "outputs": [
        {
          "output_type": "stream",
          "name": "stdout",
          "text": [
            "+-------------------+-----------+\n",
            "|          timestamp|      value|\n",
            "+-------------------+-----------+\n",
            "|2013-07-04 00:00:00|69.88083514|\n",
            "|2013-07-04 01:00:00|71.22022706|\n",
            "|2013-07-04 02:00:00|70.87780496|\n",
            "|2013-07-04 03:00:00|68.95939994|\n",
            "|2013-07-04 04:00:00|69.28355102|\n",
            "|2013-07-04 05:00:00|70.06096581|\n",
            "|2013-07-04 06:00:00|69.27976479|\n",
            "|2013-07-04 07:00:00|69.36960846|\n",
            "|2013-07-04 08:00:00|69.16671394|\n",
            "|2013-07-04 09:00:00|68.98608257|\n",
            "|2013-07-04 10:00:00|69.96506224|\n",
            "|2013-07-04 11:00:00|70.55619466|\n",
            "|2013-07-04 12:00:00|70.30750511|\n",
            "|2013-07-04 13:00:00|70.24625215|\n",
            "|2013-07-04 14:00:00|69.85490839|\n",
            "|2013-07-04 15:00:00|71.64329118|\n",
            "|2013-07-04 16:00:00|71.24565942|\n",
            "|2013-07-04 17:00:00|70.74509976|\n",
            "|2013-07-04 18:00:00|71.37329829|\n",
            "|2013-07-04 19:00:00| 71.7957509|\n",
            "+-------------------+-----------+\n",
            "only showing top 20 rows\n",
            "\n"
          ]
        }
      ]
    },
    {
      "cell_type": "code",
      "source": [
        "from pyspark.sql.functions import hour"
      ],
      "metadata": {
        "id": "pQhdAcyfZtVk"
      },
      "execution_count": 25,
      "outputs": []
    },
    {
      "cell_type": "code",
      "source": [
        "df_temp = df_temp.withColumn('hour', hour('timestamp'))"
      ],
      "metadata": {
        "id": "3Mt18M5aZtTE"
      },
      "execution_count": 67,
      "outputs": []
    },
    {
      "cell_type": "code",
      "source": [
        "df_temp.show()"
      ],
      "metadata": {
        "colab": {
          "base_uri": "https://localhost:8080/"
        },
        "id": "-S-z99VQZtQr",
        "outputId": "6eb7113d-c9e3-4d44-fcd2-ca0496fa977b"
      },
      "execution_count": null,
      "outputs": [
        {
          "output_type": "stream",
          "name": "stdout",
          "text": [
            "+-------------------+-----------+----+\n",
            "|          timestamp|      value|hour|\n",
            "+-------------------+-----------+----+\n",
            "|2013-07-04 00:00:00|69.88083514|   0|\n",
            "|2013-07-04 01:00:00|71.22022706|   1|\n",
            "|2013-07-04 02:00:00|70.87780496|   2|\n",
            "|2013-07-04 03:00:00|68.95939994|   3|\n",
            "|2013-07-04 04:00:00|69.28355102|   4|\n",
            "|2013-07-04 05:00:00|70.06096581|   5|\n",
            "|2013-07-04 06:00:00|69.27976479|   6|\n",
            "|2013-07-04 07:00:00|69.36960846|   7|\n",
            "|2013-07-04 08:00:00|69.16671394|   8|\n",
            "|2013-07-04 09:00:00|68.98608257|   9|\n",
            "|2013-07-04 10:00:00|69.96506224|  10|\n",
            "|2013-07-04 11:00:00|70.55619466|  11|\n",
            "|2013-07-04 12:00:00|70.30750511|  12|\n",
            "|2013-07-04 13:00:00|70.24625215|  13|\n",
            "|2013-07-04 14:00:00|69.85490839|  14|\n",
            "|2013-07-04 15:00:00|71.64329118|  15|\n",
            "|2013-07-04 16:00:00|71.24565942|  16|\n",
            "|2013-07-04 17:00:00|70.74509976|  17|\n",
            "|2013-07-04 18:00:00|71.37329829|  18|\n",
            "|2013-07-04 19:00:00| 71.7957509|  19|\n",
            "+-------------------+-----------+----+\n",
            "only showing top 20 rows\n",
            "\n"
          ]
        }
      ]
    },
    {
      "cell_type": "code",
      "source": [],
      "metadata": {
        "colab": {
          "base_uri": "https://localhost:8080/",
          "height": 165
        },
        "id": "sDDIrH2KZtOW",
        "outputId": "b356ee31-9030-4a78-9bb8-dd62dbb8a365"
      },
      "execution_count": null,
      "outputs": [
        {
          "output_type": "error",
          "ename": "NameError",
          "evalue": "ignored",
          "traceback": [
            "\u001b[0;31m---------------------------------------------------------------------------\u001b[0m",
            "\u001b[0;31mNameError\u001b[0m                                 Traceback (most recent call last)",
            "\u001b[0;32m<ipython-input-54-0e0fbdbe289a>\u001b[0m in \u001b[0;36m<module>\u001b[0;34m\u001b[0m\n\u001b[0;32m----> 1\u001b[0;31m \u001b[0mdf_temp\u001b[0m \u001b[0;34m=\u001b[0m \u001b[0mdf_temp\u001b[0m\u001b[0;34m.\u001b[0m\u001b[0mwithColumn\u001b[0m\u001b[0;34m(\u001b[0m\u001b[0;34m'day'\u001b[0m\u001b[0;34m,\u001b[0m \u001b[0mday\u001b[0m\u001b[0;34m(\u001b[0m\u001b[0;34m'timestamp'\u001b[0m\u001b[0;34m)\u001b[0m\u001b[0;34m)\u001b[0m\u001b[0;34m\u001b[0m\u001b[0;34m\u001b[0m\u001b[0m\n\u001b[0m",
            "\u001b[0;31mNameError\u001b[0m: name 'day' is not defined"
          ]
        }
      ]
    },
    {
      "cell_type": "code",
      "source": [
        "from pyspark.sql.functions import dayofmonth\n",
        "df_temp = df_temp.withColumn('day', dayofmonth('timestamp'))"
      ],
      "metadata": {
        "id": "PGonYzXzZtLy"
      },
      "execution_count": 68,
      "outputs": []
    },
    {
      "cell_type": "code",
      "source": [
        "df_temp.show()"
      ],
      "metadata": {
        "colab": {
          "base_uri": "https://localhost:8080/"
        },
        "id": "RVfitVeYZtJP",
        "outputId": "70c4d843-3ad1-4cac-f275-a6cfd6e73f5f"
      },
      "execution_count": 28,
      "outputs": [
        {
          "output_type": "stream",
          "name": "stdout",
          "text": [
            "+-------------------+-----------+----+---+\n",
            "|          timestamp|      value|hour|day|\n",
            "+-------------------+-----------+----+---+\n",
            "|2013-07-04 00:00:00|69.88083514|   0|  4|\n",
            "|2013-07-04 01:00:00|71.22022706|   1|  4|\n",
            "|2013-07-04 02:00:00|70.87780496|   2|  4|\n",
            "|2013-07-04 03:00:00|68.95939994|   3|  4|\n",
            "|2013-07-04 04:00:00|69.28355102|   4|  4|\n",
            "|2013-07-04 05:00:00|70.06096581|   5|  4|\n",
            "|2013-07-04 06:00:00|69.27976479|   6|  4|\n",
            "|2013-07-04 07:00:00|69.36960846|   7|  4|\n",
            "|2013-07-04 08:00:00|69.16671394|   8|  4|\n",
            "|2013-07-04 09:00:00|68.98608257|   9|  4|\n",
            "|2013-07-04 10:00:00|69.96506224|  10|  4|\n",
            "|2013-07-04 11:00:00|70.55619466|  11|  4|\n",
            "|2013-07-04 12:00:00|70.30750511|  12|  4|\n",
            "|2013-07-04 13:00:00|70.24625215|  13|  4|\n",
            "|2013-07-04 14:00:00|69.85490839|  14|  4|\n",
            "|2013-07-04 15:00:00|71.64329118|  15|  4|\n",
            "|2013-07-04 16:00:00|71.24565942|  16|  4|\n",
            "|2013-07-04 17:00:00|70.74509976|  17|  4|\n",
            "|2013-07-04 18:00:00|71.37329829|  18|  4|\n",
            "|2013-07-04 19:00:00| 71.7957509|  19|  4|\n",
            "+-------------------+-----------+----+---+\n",
            "only showing top 20 rows\n",
            "\n"
          ]
        }
      ]
    },
    {
      "cell_type": "code",
      "source": [
        "from pyspark.sql.functions import month, year\n"
      ],
      "metadata": {
        "id": "rnCcFMnsZtGg"
      },
      "execution_count": 29,
      "outputs": []
    },
    {
      "cell_type": "code",
      "source": [
        "df_temp = df_temp.withColumn('month', month('timestamp'))\n",
        "df_temp = df_temp.withColumn('year', year('timestamp'))"
      ],
      "metadata": {
        "id": "YAE4zwJ2ZtER"
      },
      "execution_count": 69,
      "outputs": []
    },
    {
      "cell_type": "code",
      "source": [
        "df_temp.show()"
      ],
      "metadata": {
        "colab": {
          "base_uri": "https://localhost:8080/"
        },
        "id": "mtbm-cC0ZtBs",
        "outputId": "924568f6-f79c-46e1-df9d-f52296299571"
      },
      "execution_count": 31,
      "outputs": [
        {
          "output_type": "stream",
          "name": "stdout",
          "text": [
            "+-------------------+-----------+----+---+-----+----+\n",
            "|          timestamp|      value|hour|day|month|year|\n",
            "+-------------------+-----------+----+---+-----+----+\n",
            "|2013-07-04 00:00:00|69.88083514|   0|  4|    7|2013|\n",
            "|2013-07-04 01:00:00|71.22022706|   1|  4|    7|2013|\n",
            "|2013-07-04 02:00:00|70.87780496|   2|  4|    7|2013|\n",
            "|2013-07-04 03:00:00|68.95939994|   3|  4|    7|2013|\n",
            "|2013-07-04 04:00:00|69.28355102|   4|  4|    7|2013|\n",
            "|2013-07-04 05:00:00|70.06096581|   5|  4|    7|2013|\n",
            "|2013-07-04 06:00:00|69.27976479|   6|  4|    7|2013|\n",
            "|2013-07-04 07:00:00|69.36960846|   7|  4|    7|2013|\n",
            "|2013-07-04 08:00:00|69.16671394|   8|  4|    7|2013|\n",
            "|2013-07-04 09:00:00|68.98608257|   9|  4|    7|2013|\n",
            "|2013-07-04 10:00:00|69.96506224|  10|  4|    7|2013|\n",
            "|2013-07-04 11:00:00|70.55619466|  11|  4|    7|2013|\n",
            "|2013-07-04 12:00:00|70.30750511|  12|  4|    7|2013|\n",
            "|2013-07-04 13:00:00|70.24625215|  13|  4|    7|2013|\n",
            "|2013-07-04 14:00:00|69.85490839|  14|  4|    7|2013|\n",
            "|2013-07-04 15:00:00|71.64329118|  15|  4|    7|2013|\n",
            "|2013-07-04 16:00:00|71.24565942|  16|  4|    7|2013|\n",
            "|2013-07-04 17:00:00|70.74509976|  17|  4|    7|2013|\n",
            "|2013-07-04 18:00:00|71.37329829|  18|  4|    7|2013|\n",
            "|2013-07-04 19:00:00| 71.7957509|  19|  4|    7|2013|\n",
            "+-------------------+-----------+----+---+-----+----+\n",
            "only showing top 20 rows\n",
            "\n"
          ]
        }
      ]
    },
    {
      "cell_type": "code",
      "source": [
        "from pyspark.sql.functions import dayofweek, hour, when\n",
        "\n",
        "\n",
        "df_temp = df_temp.withColumn('day_of_week', dayofweek('timestamp'))\n",
        "df_temp = df_temp.withColumn('weekday_or_weekend', \n",
        "                   when((df_temp['day_of_week'] == 1) | (df_temp['day_of_week'] == 7), 'weekend').otherwise('weekday'))\n",
        "df_temp = df_temp.withColumn('daytime_or_nighttime', \n",
        "                   when((df_temp['hour'] >= 7) & (df_temp['hour'] <= 19), 'daytime').otherwise('nighttime'))"
      ],
      "metadata": {
        "id": "OBr309zNZs_R"
      },
      "execution_count": 70,
      "outputs": []
    },
    {
      "cell_type": "code",
      "source": [
        "df_temp.show()"
      ],
      "metadata": {
        "colab": {
          "base_uri": "https://localhost:8080/"
        },
        "id": "0ZnfV1zuv-iO",
        "outputId": "6b3bdd0b-0a5f-4e8f-cbf3-c4323082e494"
      },
      "execution_count": 33,
      "outputs": [
        {
          "output_type": "stream",
          "name": "stdout",
          "text": [
            "+-------------------+-----------+----+---+-----+----+-----------+------------------+--------------------+\n",
            "|          timestamp|      value|hour|day|month|year|day_of_week|weekday_or_weekend|daytime_or_nighttime|\n",
            "+-------------------+-----------+----+---+-----+----+-----------+------------------+--------------------+\n",
            "|2013-07-04 00:00:00|69.88083514|   0|  4|    7|2013|          5|           weekday|           nighttime|\n",
            "|2013-07-04 01:00:00|71.22022706|   1|  4|    7|2013|          5|           weekday|           nighttime|\n",
            "|2013-07-04 02:00:00|70.87780496|   2|  4|    7|2013|          5|           weekday|           nighttime|\n",
            "|2013-07-04 03:00:00|68.95939994|   3|  4|    7|2013|          5|           weekday|           nighttime|\n",
            "|2013-07-04 04:00:00|69.28355102|   4|  4|    7|2013|          5|           weekday|           nighttime|\n",
            "|2013-07-04 05:00:00|70.06096581|   5|  4|    7|2013|          5|           weekday|           nighttime|\n",
            "|2013-07-04 06:00:00|69.27976479|   6|  4|    7|2013|          5|           weekday|           nighttime|\n",
            "|2013-07-04 07:00:00|69.36960846|   7|  4|    7|2013|          5|           weekday|             daytime|\n",
            "|2013-07-04 08:00:00|69.16671394|   8|  4|    7|2013|          5|           weekday|             daytime|\n",
            "|2013-07-04 09:00:00|68.98608257|   9|  4|    7|2013|          5|           weekday|             daytime|\n",
            "|2013-07-04 10:00:00|69.96506224|  10|  4|    7|2013|          5|           weekday|             daytime|\n",
            "|2013-07-04 11:00:00|70.55619466|  11|  4|    7|2013|          5|           weekday|             daytime|\n",
            "|2013-07-04 12:00:00|70.30750511|  12|  4|    7|2013|          5|           weekday|             daytime|\n",
            "|2013-07-04 13:00:00|70.24625215|  13|  4|    7|2013|          5|           weekday|             daytime|\n",
            "|2013-07-04 14:00:00|69.85490839|  14|  4|    7|2013|          5|           weekday|             daytime|\n",
            "|2013-07-04 15:00:00|71.64329118|  15|  4|    7|2013|          5|           weekday|             daytime|\n",
            "|2013-07-04 16:00:00|71.24565942|  16|  4|    7|2013|          5|           weekday|             daytime|\n",
            "|2013-07-04 17:00:00|70.74509976|  17|  4|    7|2013|          5|           weekday|             daytime|\n",
            "|2013-07-04 18:00:00|71.37329829|  18|  4|    7|2013|          5|           weekday|             daytime|\n",
            "|2013-07-04 19:00:00| 71.7957509|  19|  4|    7|2013|          5|           weekday|             daytime|\n",
            "+-------------------+-----------+----+---+-----+----+-----------+------------------+--------------------+\n",
            "only showing top 20 rows\n",
            "\n"
          ]
        }
      ]
    },
    {
      "cell_type": "code",
      "source": [
        "df_temp.columns"
      ],
      "metadata": {
        "colab": {
          "base_uri": "https://localhost:8080/"
        },
        "id": "StFphFKWv-et",
        "outputId": "9dc88d2e-c2d4-407b-d263-8d610784ffc1"
      },
      "execution_count": 34,
      "outputs": [
        {
          "output_type": "execute_result",
          "data": {
            "text/plain": [
              "['timestamp',\n",
              " 'value',\n",
              " 'hour',\n",
              " 'day',\n",
              " 'month',\n",
              " 'year',\n",
              " 'day_of_week',\n",
              " 'weekday_or_weekend',\n",
              " 'daytime_or_nighttime']"
            ]
          },
          "metadata": {},
          "execution_count": 34
        }
      ]
    },
    {
      "cell_type": "code",
      "source": [
        "df_temp.count()"
      ],
      "metadata": {
        "colab": {
          "base_uri": "https://localhost:8080/"
        },
        "id": "99oVsRUNv-cP",
        "outputId": "e08c6c35-b3e1-424f-880a-41e6ccde96c7"
      },
      "execution_count": null,
      "outputs": [
        {
          "output_type": "execute_result",
          "data": {
            "text/plain": [
              "7267"
            ]
          },
          "metadata": {},
          "execution_count": 71
        }
      ]
    },
    {
      "cell_type": "code",
      "source": [
        "import pandas as pd\n",
        "import plotly.graph_objects as go"
      ],
      "metadata": {
        "id": "aX-cShb_15YY"
      },
      "execution_count": null,
      "outputs": []
    },
    {
      "cell_type": "code",
      "source": [
        "df_temp.printSchema()"
      ],
      "metadata": {
        "colab": {
          "base_uri": "https://localhost:8080/"
        },
        "id": "9-t6IrS_2Pol",
        "outputId": "c9b0277a-822a-48c8-f720-c33dc95ecacd"
      },
      "execution_count": null,
      "outputs": [
        {
          "output_type": "stream",
          "name": "stdout",
          "text": [
            "root\n",
            " |-- timestamp: string (nullable = true)\n",
            " |-- value: string (nullable = true)\n",
            " |-- hour: integer (nullable = true)\n",
            " |-- day: integer (nullable = true)\n",
            " |-- month: integer (nullable = true)\n",
            " |-- year: integer (nullable = true)\n",
            " |-- day_of_week: integer (nullable = true)\n",
            " |-- weekday_or_weekend: string (nullable = false)\n",
            " |-- daytime_or_nighttime: string (nullable = false)\n",
            "\n"
          ]
        }
      ]
    },
    {
      "cell_type": "code",
      "source": [
        "from pyspark.sql.functions import col\n",
        "from pyspark.sql.types import FloatType\n",
        "\n",
        "df_temp = df_temp.withColumn(\"value\", col(\"value\").cast(FloatType()))"
      ],
      "metadata": {
        "id": "TJbiC4B92Wbr"
      },
      "execution_count": 37,
      "outputs": []
    },
    {
      "cell_type": "code",
      "source": [
        "df_pandas = df_temp.toPandas()"
      ],
      "metadata": {
        "id": "yMqDdjfH2A0L"
      },
      "execution_count": null,
      "outputs": []
    },
    {
      "cell_type": "markdown",
      "source": [
        "must convert to pandas before using plotly... apprantly."
      ],
      "metadata": {
        "id": "z9lwL9PA2EKD"
      }
    },
    {
      "cell_type": "code",
      "source": [
        "df_hour = df_pandas.groupby('hour')['value'].mean().reset_index()"
      ],
      "metadata": {
        "id": "p_pXryVqv-Zo"
      },
      "execution_count": null,
      "outputs": []
    },
    {
      "cell_type": "code",
      "source": [
        "df_hour.head()"
      ],
      "metadata": {
        "colab": {
          "base_uri": "https://localhost:8080/",
          "height": 206
        },
        "id": "X7Znng4W21GE",
        "outputId": "05b7f994-7cba-4824-c29f-7eb3ec5a4dd6"
      },
      "execution_count": null,
      "outputs": [
        {
          "output_type": "execute_result",
          "data": {
            "text/plain": [
              "   hour      value\n",
              "0     0  71.517860\n",
              "1     1  71.222046\n",
              "2     2  71.079826\n",
              "3     3  70.833176\n",
              "4     4  70.562767"
            ],
            "text/html": [
              "\n",
              "  <div id=\"df-4a507af6-8840-44df-b4c6-1c0233eebb53\">\n",
              "    <div class=\"colab-df-container\">\n",
              "      <div>\n",
              "<style scoped>\n",
              "    .dataframe tbody tr th:only-of-type {\n",
              "        vertical-align: middle;\n",
              "    }\n",
              "\n",
              "    .dataframe tbody tr th {\n",
              "        vertical-align: top;\n",
              "    }\n",
              "\n",
              "    .dataframe thead th {\n",
              "        text-align: right;\n",
              "    }\n",
              "</style>\n",
              "<table border=\"1\" class=\"dataframe\">\n",
              "  <thead>\n",
              "    <tr style=\"text-align: right;\">\n",
              "      <th></th>\n",
              "      <th>hour</th>\n",
              "      <th>value</th>\n",
              "    </tr>\n",
              "  </thead>\n",
              "  <tbody>\n",
              "    <tr>\n",
              "      <th>0</th>\n",
              "      <td>0</td>\n",
              "      <td>71.517860</td>\n",
              "    </tr>\n",
              "    <tr>\n",
              "      <th>1</th>\n",
              "      <td>1</td>\n",
              "      <td>71.222046</td>\n",
              "    </tr>\n",
              "    <tr>\n",
              "      <th>2</th>\n",
              "      <td>2</td>\n",
              "      <td>71.079826</td>\n",
              "    </tr>\n",
              "    <tr>\n",
              "      <th>3</th>\n",
              "      <td>3</td>\n",
              "      <td>70.833176</td>\n",
              "    </tr>\n",
              "    <tr>\n",
              "      <th>4</th>\n",
              "      <td>4</td>\n",
              "      <td>70.562767</td>\n",
              "    </tr>\n",
              "  </tbody>\n",
              "</table>\n",
              "</div>\n",
              "      <button class=\"colab-df-convert\" onclick=\"convertToInteractive('df-4a507af6-8840-44df-b4c6-1c0233eebb53')\"\n",
              "              title=\"Convert this dataframe to an interactive table.\"\n",
              "              style=\"display:none;\">\n",
              "        \n",
              "  <svg xmlns=\"http://www.w3.org/2000/svg\" height=\"24px\"viewBox=\"0 0 24 24\"\n",
              "       width=\"24px\">\n",
              "    <path d=\"M0 0h24v24H0V0z\" fill=\"none\"/>\n",
              "    <path d=\"M18.56 5.44l.94 2.06.94-2.06 2.06-.94-2.06-.94-.94-2.06-.94 2.06-2.06.94zm-11 1L8.5 8.5l.94-2.06 2.06-.94-2.06-.94L8.5 2.5l-.94 2.06-2.06.94zm10 10l.94 2.06.94-2.06 2.06-.94-2.06-.94-.94-2.06-.94 2.06-2.06.94z\"/><path d=\"M17.41 7.96l-1.37-1.37c-.4-.4-.92-.59-1.43-.59-.52 0-1.04.2-1.43.59L10.3 9.45l-7.72 7.72c-.78.78-.78 2.05 0 2.83L4 21.41c.39.39.9.59 1.41.59.51 0 1.02-.2 1.41-.59l7.78-7.78 2.81-2.81c.8-.78.8-2.07 0-2.86zM5.41 20L4 18.59l7.72-7.72 1.47 1.35L5.41 20z\"/>\n",
              "  </svg>\n",
              "      </button>\n",
              "      \n",
              "  <style>\n",
              "    .colab-df-container {\n",
              "      display:flex;\n",
              "      flex-wrap:wrap;\n",
              "      gap: 12px;\n",
              "    }\n",
              "\n",
              "    .colab-df-convert {\n",
              "      background-color: #E8F0FE;\n",
              "      border: none;\n",
              "      border-radius: 50%;\n",
              "      cursor: pointer;\n",
              "      display: none;\n",
              "      fill: #1967D2;\n",
              "      height: 32px;\n",
              "      padding: 0 0 0 0;\n",
              "      width: 32px;\n",
              "    }\n",
              "\n",
              "    .colab-df-convert:hover {\n",
              "      background-color: #E2EBFA;\n",
              "      box-shadow: 0px 1px 2px rgba(60, 64, 67, 0.3), 0px 1px 3px 1px rgba(60, 64, 67, 0.15);\n",
              "      fill: #174EA6;\n",
              "    }\n",
              "\n",
              "    [theme=dark] .colab-df-convert {\n",
              "      background-color: #3B4455;\n",
              "      fill: #D2E3FC;\n",
              "    }\n",
              "\n",
              "    [theme=dark] .colab-df-convert:hover {\n",
              "      background-color: #434B5C;\n",
              "      box-shadow: 0px 1px 3px 1px rgba(0, 0, 0, 0.15);\n",
              "      filter: drop-shadow(0px 1px 2px rgba(0, 0, 0, 0.3));\n",
              "      fill: #FFFFFF;\n",
              "    }\n",
              "  </style>\n",
              "\n",
              "      <script>\n",
              "        const buttonEl =\n",
              "          document.querySelector('#df-4a507af6-8840-44df-b4c6-1c0233eebb53 button.colab-df-convert');\n",
              "        buttonEl.style.display =\n",
              "          google.colab.kernel.accessAllowed ? 'block' : 'none';\n",
              "\n",
              "        async function convertToInteractive(key) {\n",
              "          const element = document.querySelector('#df-4a507af6-8840-44df-b4c6-1c0233eebb53');\n",
              "          const dataTable =\n",
              "            await google.colab.kernel.invokeFunction('convertToInteractive',\n",
              "                                                     [key], {});\n",
              "          if (!dataTable) return;\n",
              "\n",
              "          const docLinkHtml = 'Like what you see? Visit the ' +\n",
              "            '<a target=\"_blank\" href=https://colab.research.google.com/notebooks/data_table.ipynb>data table notebook</a>'\n",
              "            + ' to learn more about interactive tables.';\n",
              "          element.innerHTML = '';\n",
              "          dataTable['output_type'] = 'display_data';\n",
              "          await google.colab.output.renderOutput(dataTable, element);\n",
              "          const docLink = document.createElement('div');\n",
              "          docLink.innerHTML = docLinkHtml;\n",
              "          element.appendChild(docLink);\n",
              "        }\n",
              "      </script>\n",
              "    </div>\n",
              "  </div>\n",
              "  "
            ]
          },
          "metadata": {},
          "execution_count": 82
        }
      ]
    },
    {
      "cell_type": "code",
      "source": [
        "fig = go.Figure([go.Bar(x=df_hour['hour'], y=df_hour['value'])])\n",
        "fig.update_layout(title='Hourly Values', xaxis_title='Hour', yaxis_title='Value')\n",
        "fig.show()"
      ],
      "metadata": {
        "colab": {
          "base_uri": "https://localhost:8080/",
          "height": 542
        },
        "id": "5zUgsLLGv-XA",
        "outputId": "cac470a9-9b25-46db-9f00-50a71bde5d02"
      },
      "execution_count": null,
      "outputs": [
        {
          "output_type": "display_data",
          "data": {
            "text/html": [
              "<html>\n",
              "<head><meta charset=\"utf-8\" /></head>\n",
              "<body>\n",
              "    <div>            <script src=\"https://cdnjs.cloudflare.com/ajax/libs/mathjax/2.7.5/MathJax.js?config=TeX-AMS-MML_SVG\"></script><script type=\"text/javascript\">if (window.MathJax) {MathJax.Hub.Config({SVG: {font: \"STIX-Web\"}});}</script>                <script type=\"text/javascript\">window.PlotlyConfig = {MathJaxConfig: 'local'};</script>\n",
              "        <script src=\"https://cdn.plot.ly/plotly-2.8.3.min.js\"></script>                <div id=\"3bdbe459-22d0-4bca-8359-527255c7353d\" class=\"plotly-graph-div\" style=\"height:525px; width:100%;\"></div>            <script type=\"text/javascript\">                                    window.PLOTLYENV=window.PLOTLYENV || {};                                    if (document.getElementById(\"3bdbe459-22d0-4bca-8359-527255c7353d\")) {                    Plotly.newPlot(                        \"3bdbe459-22d0-4bca-8359-527255c7353d\",                        [{\"x\":[0,1,2,3,4,5,6,7,8,9,10,11,12,13,14,15,16,17,18,19,20,21,22,23],\"y\":[71.51786041259766,71.2220458984375,71.07982635498047,70.83317565917969,70.5627670288086,70.30650329589844,70.05926513671875,69.99225616455078,70.0854263305664,70.24944305419922,70.53292083740234,70.78177642822266,71.16534423828125,71.33389282226562,71.53929901123047,71.70340728759766,71.91181945800781,72.1103286743164,72.25444030761719,72.35626220703125,72.30152130126953,72.11293029785156,71.97777557373047,71.77005004882812],\"type\":\"bar\"}],                        {\"template\":{\"data\":{\"bar\":[{\"error_x\":{\"color\":\"#2a3f5f\"},\"error_y\":{\"color\":\"#2a3f5f\"},\"marker\":{\"line\":{\"color\":\"#E5ECF6\",\"width\":0.5},\"pattern\":{\"fillmode\":\"overlay\",\"size\":10,\"solidity\":0.2}},\"type\":\"bar\"}],\"barpolar\":[{\"marker\":{\"line\":{\"color\":\"#E5ECF6\",\"width\":0.5},\"pattern\":{\"fillmode\":\"overlay\",\"size\":10,\"solidity\":0.2}},\"type\":\"barpolar\"}],\"carpet\":[{\"aaxis\":{\"endlinecolor\":\"#2a3f5f\",\"gridcolor\":\"white\",\"linecolor\":\"white\",\"minorgridcolor\":\"white\",\"startlinecolor\":\"#2a3f5f\"},\"baxis\":{\"endlinecolor\":\"#2a3f5f\",\"gridcolor\":\"white\",\"linecolor\":\"white\",\"minorgridcolor\":\"white\",\"startlinecolor\":\"#2a3f5f\"},\"type\":\"carpet\"}],\"choropleth\":[{\"colorbar\":{\"outlinewidth\":0,\"ticks\":\"\"},\"type\":\"choropleth\"}],\"contour\":[{\"colorbar\":{\"outlinewidth\":0,\"ticks\":\"\"},\"colorscale\":[[0.0,\"#0d0887\"],[0.1111111111111111,\"#46039f\"],[0.2222222222222222,\"#7201a8\"],[0.3333333333333333,\"#9c179e\"],[0.4444444444444444,\"#bd3786\"],[0.5555555555555556,\"#d8576b\"],[0.6666666666666666,\"#ed7953\"],[0.7777777777777778,\"#fb9f3a\"],[0.8888888888888888,\"#fdca26\"],[1.0,\"#f0f921\"]],\"type\":\"contour\"}],\"contourcarpet\":[{\"colorbar\":{\"outlinewidth\":0,\"ticks\":\"\"},\"type\":\"contourcarpet\"}],\"heatmap\":[{\"colorbar\":{\"outlinewidth\":0,\"ticks\":\"\"},\"colorscale\":[[0.0,\"#0d0887\"],[0.1111111111111111,\"#46039f\"],[0.2222222222222222,\"#7201a8\"],[0.3333333333333333,\"#9c179e\"],[0.4444444444444444,\"#bd3786\"],[0.5555555555555556,\"#d8576b\"],[0.6666666666666666,\"#ed7953\"],[0.7777777777777778,\"#fb9f3a\"],[0.8888888888888888,\"#fdca26\"],[1.0,\"#f0f921\"]],\"type\":\"heatmap\"}],\"heatmapgl\":[{\"colorbar\":{\"outlinewidth\":0,\"ticks\":\"\"},\"colorscale\":[[0.0,\"#0d0887\"],[0.1111111111111111,\"#46039f\"],[0.2222222222222222,\"#7201a8\"],[0.3333333333333333,\"#9c179e\"],[0.4444444444444444,\"#bd3786\"],[0.5555555555555556,\"#d8576b\"],[0.6666666666666666,\"#ed7953\"],[0.7777777777777778,\"#fb9f3a\"],[0.8888888888888888,\"#fdca26\"],[1.0,\"#f0f921\"]],\"type\":\"heatmapgl\"}],\"histogram\":[{\"marker\":{\"pattern\":{\"fillmode\":\"overlay\",\"size\":10,\"solidity\":0.2}},\"type\":\"histogram\"}],\"histogram2d\":[{\"colorbar\":{\"outlinewidth\":0,\"ticks\":\"\"},\"colorscale\":[[0.0,\"#0d0887\"],[0.1111111111111111,\"#46039f\"],[0.2222222222222222,\"#7201a8\"],[0.3333333333333333,\"#9c179e\"],[0.4444444444444444,\"#bd3786\"],[0.5555555555555556,\"#d8576b\"],[0.6666666666666666,\"#ed7953\"],[0.7777777777777778,\"#fb9f3a\"],[0.8888888888888888,\"#fdca26\"],[1.0,\"#f0f921\"]],\"type\":\"histogram2d\"}],\"histogram2dcontour\":[{\"colorbar\":{\"outlinewidth\":0,\"ticks\":\"\"},\"colorscale\":[[0.0,\"#0d0887\"],[0.1111111111111111,\"#46039f\"],[0.2222222222222222,\"#7201a8\"],[0.3333333333333333,\"#9c179e\"],[0.4444444444444444,\"#bd3786\"],[0.5555555555555556,\"#d8576b\"],[0.6666666666666666,\"#ed7953\"],[0.7777777777777778,\"#fb9f3a\"],[0.8888888888888888,\"#fdca26\"],[1.0,\"#f0f921\"]],\"type\":\"histogram2dcontour\"}],\"mesh3d\":[{\"colorbar\":{\"outlinewidth\":0,\"ticks\":\"\"},\"type\":\"mesh3d\"}],\"parcoords\":[{\"line\":{\"colorbar\":{\"outlinewidth\":0,\"ticks\":\"\"}},\"type\":\"parcoords\"}],\"pie\":[{\"automargin\":true,\"type\":\"pie\"}],\"scatter\":[{\"marker\":{\"colorbar\":{\"outlinewidth\":0,\"ticks\":\"\"}},\"type\":\"scatter\"}],\"scatter3d\":[{\"line\":{\"colorbar\":{\"outlinewidth\":0,\"ticks\":\"\"}},\"marker\":{\"colorbar\":{\"outlinewidth\":0,\"ticks\":\"\"}},\"type\":\"scatter3d\"}],\"scattercarpet\":[{\"marker\":{\"colorbar\":{\"outlinewidth\":0,\"ticks\":\"\"}},\"type\":\"scattercarpet\"}],\"scattergeo\":[{\"marker\":{\"colorbar\":{\"outlinewidth\":0,\"ticks\":\"\"}},\"type\":\"scattergeo\"}],\"scattergl\":[{\"marker\":{\"colorbar\":{\"outlinewidth\":0,\"ticks\":\"\"}},\"type\":\"scattergl\"}],\"scattermapbox\":[{\"marker\":{\"colorbar\":{\"outlinewidth\":0,\"ticks\":\"\"}},\"type\":\"scattermapbox\"}],\"scatterpolar\":[{\"marker\":{\"colorbar\":{\"outlinewidth\":0,\"ticks\":\"\"}},\"type\":\"scatterpolar\"}],\"scatterpolargl\":[{\"marker\":{\"colorbar\":{\"outlinewidth\":0,\"ticks\":\"\"}},\"type\":\"scatterpolargl\"}],\"scatterternary\":[{\"marker\":{\"colorbar\":{\"outlinewidth\":0,\"ticks\":\"\"}},\"type\":\"scatterternary\"}],\"surface\":[{\"colorbar\":{\"outlinewidth\":0,\"ticks\":\"\"},\"colorscale\":[[0.0,\"#0d0887\"],[0.1111111111111111,\"#46039f\"],[0.2222222222222222,\"#7201a8\"],[0.3333333333333333,\"#9c179e\"],[0.4444444444444444,\"#bd3786\"],[0.5555555555555556,\"#d8576b\"],[0.6666666666666666,\"#ed7953\"],[0.7777777777777778,\"#fb9f3a\"],[0.8888888888888888,\"#fdca26\"],[1.0,\"#f0f921\"]],\"type\":\"surface\"}],\"table\":[{\"cells\":{\"fill\":{\"color\":\"#EBF0F8\"},\"line\":{\"color\":\"white\"}},\"header\":{\"fill\":{\"color\":\"#C8D4E3\"},\"line\":{\"color\":\"white\"}},\"type\":\"table\"}]},\"layout\":{\"annotationdefaults\":{\"arrowcolor\":\"#2a3f5f\",\"arrowhead\":0,\"arrowwidth\":1},\"autotypenumbers\":\"strict\",\"coloraxis\":{\"colorbar\":{\"outlinewidth\":0,\"ticks\":\"\"}},\"colorscale\":{\"diverging\":[[0,\"#8e0152\"],[0.1,\"#c51b7d\"],[0.2,\"#de77ae\"],[0.3,\"#f1b6da\"],[0.4,\"#fde0ef\"],[0.5,\"#f7f7f7\"],[0.6,\"#e6f5d0\"],[0.7,\"#b8e186\"],[0.8,\"#7fbc41\"],[0.9,\"#4d9221\"],[1,\"#276419\"]],\"sequential\":[[0.0,\"#0d0887\"],[0.1111111111111111,\"#46039f\"],[0.2222222222222222,\"#7201a8\"],[0.3333333333333333,\"#9c179e\"],[0.4444444444444444,\"#bd3786\"],[0.5555555555555556,\"#d8576b\"],[0.6666666666666666,\"#ed7953\"],[0.7777777777777778,\"#fb9f3a\"],[0.8888888888888888,\"#fdca26\"],[1.0,\"#f0f921\"]],\"sequentialminus\":[[0.0,\"#0d0887\"],[0.1111111111111111,\"#46039f\"],[0.2222222222222222,\"#7201a8\"],[0.3333333333333333,\"#9c179e\"],[0.4444444444444444,\"#bd3786\"],[0.5555555555555556,\"#d8576b\"],[0.6666666666666666,\"#ed7953\"],[0.7777777777777778,\"#fb9f3a\"],[0.8888888888888888,\"#fdca26\"],[1.0,\"#f0f921\"]]},\"colorway\":[\"#636efa\",\"#EF553B\",\"#00cc96\",\"#ab63fa\",\"#FFA15A\",\"#19d3f3\",\"#FF6692\",\"#B6E880\",\"#FF97FF\",\"#FECB52\"],\"font\":{\"color\":\"#2a3f5f\"},\"geo\":{\"bgcolor\":\"white\",\"lakecolor\":\"white\",\"landcolor\":\"#E5ECF6\",\"showlakes\":true,\"showland\":true,\"subunitcolor\":\"white\"},\"hoverlabel\":{\"align\":\"left\"},\"hovermode\":\"closest\",\"mapbox\":{\"style\":\"light\"},\"paper_bgcolor\":\"white\",\"plot_bgcolor\":\"#E5ECF6\",\"polar\":{\"angularaxis\":{\"gridcolor\":\"white\",\"linecolor\":\"white\",\"ticks\":\"\"},\"bgcolor\":\"#E5ECF6\",\"radialaxis\":{\"gridcolor\":\"white\",\"linecolor\":\"white\",\"ticks\":\"\"}},\"scene\":{\"xaxis\":{\"backgroundcolor\":\"#E5ECF6\",\"gridcolor\":\"white\",\"gridwidth\":2,\"linecolor\":\"white\",\"showbackground\":true,\"ticks\":\"\",\"zerolinecolor\":\"white\"},\"yaxis\":{\"backgroundcolor\":\"#E5ECF6\",\"gridcolor\":\"white\",\"gridwidth\":2,\"linecolor\":\"white\",\"showbackground\":true,\"ticks\":\"\",\"zerolinecolor\":\"white\"},\"zaxis\":{\"backgroundcolor\":\"#E5ECF6\",\"gridcolor\":\"white\",\"gridwidth\":2,\"linecolor\":\"white\",\"showbackground\":true,\"ticks\":\"\",\"zerolinecolor\":\"white\"}},\"shapedefaults\":{\"line\":{\"color\":\"#2a3f5f\"}},\"ternary\":{\"aaxis\":{\"gridcolor\":\"white\",\"linecolor\":\"white\",\"ticks\":\"\"},\"baxis\":{\"gridcolor\":\"white\",\"linecolor\":\"white\",\"ticks\":\"\"},\"bgcolor\":\"#E5ECF6\",\"caxis\":{\"gridcolor\":\"white\",\"linecolor\":\"white\",\"ticks\":\"\"}},\"title\":{\"x\":0.05},\"xaxis\":{\"automargin\":true,\"gridcolor\":\"white\",\"linecolor\":\"white\",\"ticks\":\"\",\"title\":{\"standoff\":15},\"zerolinecolor\":\"white\",\"zerolinewidth\":2},\"yaxis\":{\"automargin\":true,\"gridcolor\":\"white\",\"linecolor\":\"white\",\"ticks\":\"\",\"title\":{\"standoff\":15},\"zerolinecolor\":\"white\",\"zerolinewidth\":2}}},\"title\":{\"text\":\"Hourly Values\"},\"xaxis\":{\"title\":{\"text\":\"Hour\"}},\"yaxis\":{\"title\":{\"text\":\"Value\"}}},                        {\"responsive\": true}                    ).then(function(){\n",
              "                            \n",
              "var gd = document.getElementById('3bdbe459-22d0-4bca-8359-527255c7353d');\n",
              "var x = new MutationObserver(function (mutations, observer) {{\n",
              "        var display = window.getComputedStyle(gd).display;\n",
              "        if (!display || display === 'none') {{\n",
              "            console.log([gd, 'removed!']);\n",
              "            Plotly.purge(gd);\n",
              "            observer.disconnect();\n",
              "        }}\n",
              "}});\n",
              "\n",
              "// Listen for the removal of the full notebook cells\n",
              "var notebookContainer = gd.closest('#notebook-container');\n",
              "if (notebookContainer) {{\n",
              "    x.observe(notebookContainer, {childList: true});\n",
              "}}\n",
              "\n",
              "// Listen for the clearing of the current output cell\n",
              "var outputEl = gd.closest('.output');\n",
              "if (outputEl) {{\n",
              "    x.observe(outputEl, {childList: true});\n",
              "}}\n",
              "\n",
              "                        })                };                            </script>        </div>\n",
              "</body>\n",
              "</html>"
            ]
          },
          "metadata": {}
        }
      ]
    },
    {
      "cell_type": "code",
      "source": [
        "from pyspark.sql.functions import avg\n",
        "\n",
        "grouped_df = df_temp.groupBy(['month', 'day', 'year', 'daytime_or_nighttime']).agg(avg('value').alias('avg_value')).orderBy(['month', 'day', 'year'])\n",
        "grouped_df.show()\n"
      ],
      "metadata": {
        "colab": {
          "base_uri": "https://localhost:8080/"
        },
        "id": "5yYDPvVDv-Uy",
        "outputId": "942316ae-12a5-4cc7-ae45-90ef5f126d9a"
      },
      "execution_count": 36,
      "outputs": [
        {
          "output_type": "stream",
          "name": "stdout",
          "text": [
            "+-----+---+----+--------------------+-----------------+\n",
            "|month|day|year|daytime_or_nighttime|        avg_value|\n",
            "+-----+---+----+--------------------+-----------------+\n",
            "|    1|  1|2014|           nighttime| 77.0498310435902|\n",
            "|    1|  1|2014|             daytime|76.94728381817157|\n",
            "|    1|  2|2014|           nighttime|76.54957233775745|\n",
            "|    1|  2|2014|             daytime|76.11133458064153|\n",
            "|    1|  3|2014|             daytime| 74.2931618323693|\n",
            "|    1|  3|2014|           nighttime|75.48906430331144|\n",
            "|    1|  4|2014|             daytime|73.25489983191856|\n",
            "|    1|  4|2014|           nighttime|74.59842057661577|\n",
            "|    1|  5|2014|           nighttime|74.85629411177202|\n",
            "|    1|  5|2014|             daytime|74.08551084078275|\n",
            "|    1|  6|2014|           nighttime|74.67203729802912|\n",
            "|    1|  6|2014|             daytime|74.52462181678185|\n",
            "|    1|  7|2014|             daytime|74.88567234919621|\n",
            "|    1|  7|2014|           nighttime|75.01538918235086|\n",
            "|    1|  8|2014|           nighttime|75.26360459761186|\n",
            "|    1|  8|2014|             daytime| 75.1744631253756|\n",
            "|    1|  9|2014|             daytime|74.39810356727013|\n",
            "|    1|  9|2014|           nighttime|74.99688651344992|\n",
            "|    1| 10|2014|           nighttime|75.14456800981002|\n",
            "|    1| 10|2014|             daytime|  74.503783592811|\n",
            "+-----+---+----+--------------------+-----------------+\n",
            "only showing top 20 rows\n",
            "\n"
          ]
        }
      ]
    },
    {
      "cell_type": "code",
      "source": [
        "grouped_df_pandas = grouped_df.toPandas()"
      ],
      "metadata": {
        "id": "yuRoml9Bv-Se"
      },
      "execution_count": 38,
      "outputs": []
    },
    {
      "cell_type": "code",
      "source": [
        "grouped_df_pandas.head()"
      ],
      "metadata": {
        "colab": {
          "base_uri": "https://localhost:8080/",
          "height": 206
        },
        "id": "jAUs-XTD7A6p",
        "outputId": "1e6b9a30-be2c-4ee5-ff09-9897e9a8b403"
      },
      "execution_count": 39,
      "outputs": [
        {
          "output_type": "execute_result",
          "data": {
            "text/plain": [
              "   month  day  year daytime_or_nighttime  avg_value\n",
              "0      1    1  2014            nighttime  77.049831\n",
              "1      1    1  2014              daytime  76.947284\n",
              "2      1    2  2014            nighttime  76.549572\n",
              "3      1    2  2014              daytime  76.111335\n",
              "4      1    3  2014              daytime  74.293162"
            ],
            "text/html": [
              "\n",
              "  <div id=\"df-aa837845-81db-4029-b847-8b4cc6c3c6da\">\n",
              "    <div class=\"colab-df-container\">\n",
              "      <div>\n",
              "<style scoped>\n",
              "    .dataframe tbody tr th:only-of-type {\n",
              "        vertical-align: middle;\n",
              "    }\n",
              "\n",
              "    .dataframe tbody tr th {\n",
              "        vertical-align: top;\n",
              "    }\n",
              "\n",
              "    .dataframe thead th {\n",
              "        text-align: right;\n",
              "    }\n",
              "</style>\n",
              "<table border=\"1\" class=\"dataframe\">\n",
              "  <thead>\n",
              "    <tr style=\"text-align: right;\">\n",
              "      <th></th>\n",
              "      <th>month</th>\n",
              "      <th>day</th>\n",
              "      <th>year</th>\n",
              "      <th>daytime_or_nighttime</th>\n",
              "      <th>avg_value</th>\n",
              "    </tr>\n",
              "  </thead>\n",
              "  <tbody>\n",
              "    <tr>\n",
              "      <th>0</th>\n",
              "      <td>1</td>\n",
              "      <td>1</td>\n",
              "      <td>2014</td>\n",
              "      <td>nighttime</td>\n",
              "      <td>77.049831</td>\n",
              "    </tr>\n",
              "    <tr>\n",
              "      <th>1</th>\n",
              "      <td>1</td>\n",
              "      <td>1</td>\n",
              "      <td>2014</td>\n",
              "      <td>daytime</td>\n",
              "      <td>76.947284</td>\n",
              "    </tr>\n",
              "    <tr>\n",
              "      <th>2</th>\n",
              "      <td>1</td>\n",
              "      <td>2</td>\n",
              "      <td>2014</td>\n",
              "      <td>nighttime</td>\n",
              "      <td>76.549572</td>\n",
              "    </tr>\n",
              "    <tr>\n",
              "      <th>3</th>\n",
              "      <td>1</td>\n",
              "      <td>2</td>\n",
              "      <td>2014</td>\n",
              "      <td>daytime</td>\n",
              "      <td>76.111335</td>\n",
              "    </tr>\n",
              "    <tr>\n",
              "      <th>4</th>\n",
              "      <td>1</td>\n",
              "      <td>3</td>\n",
              "      <td>2014</td>\n",
              "      <td>daytime</td>\n",
              "      <td>74.293162</td>\n",
              "    </tr>\n",
              "  </tbody>\n",
              "</table>\n",
              "</div>\n",
              "      <button class=\"colab-df-convert\" onclick=\"convertToInteractive('df-aa837845-81db-4029-b847-8b4cc6c3c6da')\"\n",
              "              title=\"Convert this dataframe to an interactive table.\"\n",
              "              style=\"display:none;\">\n",
              "        \n",
              "  <svg xmlns=\"http://www.w3.org/2000/svg\" height=\"24px\"viewBox=\"0 0 24 24\"\n",
              "       width=\"24px\">\n",
              "    <path d=\"M0 0h24v24H0V0z\" fill=\"none\"/>\n",
              "    <path d=\"M18.56 5.44l.94 2.06.94-2.06 2.06-.94-2.06-.94-.94-2.06-.94 2.06-2.06.94zm-11 1L8.5 8.5l.94-2.06 2.06-.94-2.06-.94L8.5 2.5l-.94 2.06-2.06.94zm10 10l.94 2.06.94-2.06 2.06-.94-2.06-.94-.94-2.06-.94 2.06-2.06.94z\"/><path d=\"M17.41 7.96l-1.37-1.37c-.4-.4-.92-.59-1.43-.59-.52 0-1.04.2-1.43.59L10.3 9.45l-7.72 7.72c-.78.78-.78 2.05 0 2.83L4 21.41c.39.39.9.59 1.41.59.51 0 1.02-.2 1.41-.59l7.78-7.78 2.81-2.81c.8-.78.8-2.07 0-2.86zM5.41 20L4 18.59l7.72-7.72 1.47 1.35L5.41 20z\"/>\n",
              "  </svg>\n",
              "      </button>\n",
              "      \n",
              "  <style>\n",
              "    .colab-df-container {\n",
              "      display:flex;\n",
              "      flex-wrap:wrap;\n",
              "      gap: 12px;\n",
              "    }\n",
              "\n",
              "    .colab-df-convert {\n",
              "      background-color: #E8F0FE;\n",
              "      border: none;\n",
              "      border-radius: 50%;\n",
              "      cursor: pointer;\n",
              "      display: none;\n",
              "      fill: #1967D2;\n",
              "      height: 32px;\n",
              "      padding: 0 0 0 0;\n",
              "      width: 32px;\n",
              "    }\n",
              "\n",
              "    .colab-df-convert:hover {\n",
              "      background-color: #E2EBFA;\n",
              "      box-shadow: 0px 1px 2px rgba(60, 64, 67, 0.3), 0px 1px 3px 1px rgba(60, 64, 67, 0.15);\n",
              "      fill: #174EA6;\n",
              "    }\n",
              "\n",
              "    [theme=dark] .colab-df-convert {\n",
              "      background-color: #3B4455;\n",
              "      fill: #D2E3FC;\n",
              "    }\n",
              "\n",
              "    [theme=dark] .colab-df-convert:hover {\n",
              "      background-color: #434B5C;\n",
              "      box-shadow: 0px 1px 3px 1px rgba(0, 0, 0, 0.15);\n",
              "      filter: drop-shadow(0px 1px 2px rgba(0, 0, 0, 0.3));\n",
              "      fill: #FFFFFF;\n",
              "    }\n",
              "  </style>\n",
              "\n",
              "      <script>\n",
              "        const buttonEl =\n",
              "          document.querySelector('#df-aa837845-81db-4029-b847-8b4cc6c3c6da button.colab-df-convert');\n",
              "        buttonEl.style.display =\n",
              "          google.colab.kernel.accessAllowed ? 'block' : 'none';\n",
              "\n",
              "        async function convertToInteractive(key) {\n",
              "          const element = document.querySelector('#df-aa837845-81db-4029-b847-8b4cc6c3c6da');\n",
              "          const dataTable =\n",
              "            await google.colab.kernel.invokeFunction('convertToInteractive',\n",
              "                                                     [key], {});\n",
              "          if (!dataTable) return;\n",
              "\n",
              "          const docLinkHtml = 'Like what you see? Visit the ' +\n",
              "            '<a target=\"_blank\" href=https://colab.research.google.com/notebooks/data_table.ipynb>data table notebook</a>'\n",
              "            + ' to learn more about interactive tables.';\n",
              "          element.innerHTML = '';\n",
              "          dataTable['output_type'] = 'display_data';\n",
              "          await google.colab.output.renderOutput(dataTable, element);\n",
              "          const docLink = document.createElement('div');\n",
              "          docLink.innerHTML = docLinkHtml;\n",
              "          element.appendChild(docLink);\n",
              "        }\n",
              "      </script>\n",
              "    </div>\n",
              "  </div>\n",
              "  "
            ]
          },
          "metadata": {},
          "execution_count": 39
        }
      ]
    },
    {
      "cell_type": "code",
      "source": [],
      "metadata": {
        "colab": {
          "base_uri": "https://localhost:8080/",
          "height": 542
        },
        "id": "8hYslMIQv-P-",
        "outputId": "f0e255aa-7442-47a0-fbee-81b912d063ef"
      },
      "execution_count": null,
      "outputs": [
        {
          "output_type": "display_data",
          "data": {
            "text/html": [
              "<html>\n",
              "<head><meta charset=\"utf-8\" /></head>\n",
              "<body>\n",
              "    <div>            <script src=\"https://cdnjs.cloudflare.com/ajax/libs/mathjax/2.7.5/MathJax.js?config=TeX-AMS-MML_SVG\"></script><script type=\"text/javascript\">if (window.MathJax) {MathJax.Hub.Config({SVG: {font: \"STIX-Web\"}});}</script>                <script type=\"text/javascript\">window.PlotlyConfig = {MathJaxConfig: 'local'};</script>\n",
              "        <script src=\"https://cdn.plot.ly/plotly-2.8.3.min.js\"></script>                <div id=\"43e3a14e-68a0-4d4c-a0ef-7eedba61bf2c\" class=\"plotly-graph-div\" style=\"height:525px; width:100%;\"></div>            <script type=\"text/javascript\">                                    window.PLOTLYENV=window.PLOTLYENV || {};                                    if (document.getElementById(\"43e3a14e-68a0-4d4c-a0ef-7eedba61bf2c\")) {                    Plotly.newPlot(                        \"43e3a14e-68a0-4d4c-a0ef-7eedba61bf2c\",                        [{\"x\":[1,1,2,2,3,3,4,4,5,5,6,6,7,7,8,8,9,9,10,10,11,11,12,12,13,13,14,14,15,15,16,16,17,17,18,18,19,19,20,20,21,21,22,22,23,23,24,24,25,25,26,26,27,27,28,28,29,29,30,30,31,31,1,1,2,2,3,3,4,4,5,5,6,6,7,7,8,8,9,9,10,10,11,11,12,12,13,13,14,14,15,15,16,16,17,17,18,18,19,19,20,20,21,21,22,22,23,23,24,24,25,25,26,26,27,27,28,28,1,1,2,3,3,4,4,5,5,6,6,7,7,8,8,9,9,10,10,11,11,12,12,13,13,14,14,15,15,16,16,17,17,18,18,19,19,20,20,21,21,22,22,23,23,24,24,25,25,26,26,27,27,28,28,29,29,30,30,31,31,1,1,2,2,3,3,10,10,11,11,12,12,13,13,14,14,15,15,16,16,17,17,18,18,19,19,20,20,21,21,22,22,23,23,24,24,25,25,26,26,27,27,28,28,29,29,30,30,1,1,2,2,3,3,4,4,5,5,6,6,7,7,8,8,9,9,10,10,11,11,12,12,13,13,14,14,15,15,16,16,17,17,18,18,19,19,20,20,21,21,22,22,23,23,24,24,25,25,26,26,27,27,28,28,4,4,5,5,6,6,7,7,8,8,9,9,10,10,11,11,12,12,13,13,14,14,15,15,16,16,17,17,18,18,19,19,20,20,21,21,22,22,23,23,24,24,25,25,26,26,27,27,28,29,29,30,30,31,31,1,1,2,2,3,3,4,4,5,5,6,6,7,7,8,8,9,9,10,10,11,11,12,12,13,13,14,14,15,15,16,16,17,17,18,18,19,19,20,20,21,21,22,22,23,23,24,24,25,25,26,26,27,27,29,29,30,30,31,31,1,1,2,2,3,3,4,4,5,5,6,6,7,7,8,8,9,9,16,16,17,17,18,18,19,19,20,20,21,21,22,22,23,23,24,24,25,25,26,26,27,27,1,1,2,2,3,3,4,4,5,5,6,6,7,7,8,8,9,9,10,10,11,11,14,14,15,15,16,16,17,17,18,18,19,19,20,20,21,21,22,22,23,23,24,24,25,25,26,26,27,27,28,28,29,29,30,30,31,31,1,1,2,2,3,3,4,4,5,5,6,6,7,7,8,8,9,9,10,10,11,11,12,12,13,13,14,14,15,15,16,16,17,17,18,18,19,19,20,20,21,21,22,22,23,23,24,24,25,25,26,26,27,27,28,28,29,29,30,30,1,1,2,2,3,3,4,4,5,5,6,6,7,7,8,8,9,9,10,10,11,11,12,12,13,13,14,14,15,15,16,16,17,17,18,18,19,19,20,20,21,21,22,22,23,23,24,24,25,25,26,26,27,27,28,28,29,29,30,30,31,31],\"y\":[77.0498310435902,76.94728381817157,76.54957233775745,76.11133458064153,74.2931618323693,75.48906430331144,73.25489983191856,74.59842057661577,74.08551084078275,74.85629411177202,74.67203729802912,74.52462181678185,74.88567234919621,75.01538918235086,75.26360459761186,75.1744631253756,74.99688651344992,74.39810356727013,74.503783592811,75.14456800981002,76.16281405362216,74.5874281663161,76.52835141695462,78.19336561723189,78.15238050981002,77.70871675931491,76.63017214261569,77.0932187167081,74.84208540482955,74.716184762808,74.48283210167519,74.53321838378906,73.62430161696214,74.07368954745206,74.33464466441761,73.23027508075421,74.5843179876154,73.2543205848107,74.5593244112455,74.94245355779475,74.83079112659802,74.43476808988132,73.87201274525036,73.8839357816256,73.68965218283914,73.49504793607272,73.75506591796875,73.61840585561899,71.36099888728215,72.25031974098899,71.5953667380593,70.51191887488731,72.68367351185192,72.79337604229266,71.83975043663612,72.26809137517756,70.32412367600661,70.89691855690695,71.67906365027794,70.74552154541016,73.33843994140625,72.40444599498402,71.47689643272987,72.22831726074219,70.20598660982571,71.31928808038884,72.33439428156072,72.6200209397536,73.36415100097656,73.20620903602013,73.0160152728741,72.95776297829367,72.63131009615384,72.64215018532492,73.68343422629617,72.97232877291165,73.1033769087358,72.51715792142429,71.35425845059481,70.3100116436298,71.57326022061434,71.89047475961539,73.1129316850142,72.77831444373497,72.47278317538175,72.26937279334435,72.5566629263071,72.70882762562145,73.42631461403586,72.85456672081581,71.00020599365234,69.63269688532903,66.50601543079723,66.00835418701172,68.44892032329852,67.18004087968306,70.09588681734525,70.08134391091086,70.4057353626598,70.42821209247296,71.3200288252397,71.14923741267278,72.53813448819247,72.03749495286208,71.03714986947867,71.3289864280007,69.74647756723257,70.45509823885831,72.63031299297626,72.11081418124112,73.35131542499249,74.07531391490589,72.92589430375533,72.3495131272536,72.08013777299361,71.97357881986179,72.57180647416548,71.73062251164363,68.586294000799,66.7936283991887,65.01964378356934,68.47246066006747,69.6114273071289,67.82471951571378,69.48076864389273,70.46639251708984,69.28921924937855,66.72029465895433,67.46042841131037,65.99028631357046,65.51258746060458,65.5727767944336,64.84348326462965,64.29844492132014,63.14792075523963,64.87114334106445,67.24782767662636,69.95216193565956,68.02888280695134,70.27995065542368,68.64223133433948,69.77030875466086,70.38660196157602,68.91460210626775,70.30626854529747,68.35850231464093,68.67816231467508,64.29959517258864,65.26203883777966,64.39859806407581,67.44754263070914,68.18200005425348,69.61779080904446,70.19898399939903,68.58868685635653,70.46773176926833,68.79340639981356,69.76219353309044,68.61213059858842,65.53644385704628,66.97303980047053,63.78349061445756,63.472161513108475,71.94336700439453,65.55796813964844,68.13591696999289,69.4619891826923,68.37184143066406,69.67273594782903,70.32754810039813,69.02804149280895,68.5633316040039,69.59408041147086,67.26096898859197,66.83580603966347,64.93992753462358,64.54299486600436,67.69623859112079,65.46137098832564,69.12356391319862,67.66542122580789,69.66587536151593,68.58893169056286,68.09580739339192,68.53181457519531,68.82450675964355,70.2238265991211,67.52773842444786,66.19461094249378,63.22712443425105,64.29367446899414,59.62367317893288,59.092673961932846,62.55866935036399,65.71435840313251,67.84060111412636,65.87669199163264,68.55808844933144,66.02254694158381,66.49770979447798,68.2108394916241,67.46210132945667,68.51981764573317,64.60206868098332,65.61670962246981,61.87136008522727,60.783645336444565,66.59911581186148,63.11677135120738,66.24601710926403,68.36525432880109,67.8363106467507,68.8389646089994,69.56709641676683,68.09891718084162,69.97063798170824,68.02140669389205,65.22745807354266,66.44807017933239,64.45025194608249,64.62789847634055,66.79826443011945,64.85099029541016,64.40911307701698,64.92853164672852,66.01869495098407,64.47410583496094,66.91273615910457,65.29248948530717,67.20526651235727,66.19193475896662,64.87236345731296,65.43795707009055,63.02290989802434,62.66385997425426,62.967789043079726,64.66538267869215,65.92419932438777,63.87691463123668,65.95571552623402,68.36538666945238,69.57938091571515,67.43601642955433,70.17888054480919,68.69281075217508,66.78042309100812,67.3631758256392,63.62426168268377,63.302129598764274,64.09368445656516,66.83008663470929,66.20697229558772,68.61223426231972,67.10031682794744,68.6494134756235,68.35542158647017,69.8724142221304,68.83609424937855,69.87568195049579,65.94495357166637,64.48458451491136,60.73763795332475,60.17739633413461,67.57218874417819,61.41057656028054,64.1305264559659,68.13769208467923,66.9027151627974,70.8806146474985,68.32576508955522,71.22658421443059,68.50850469415838,70.8712868323693,62.28589659470778,65.18977355957031,61.90133701671254,61.79430565467248,64.69271989302202,69.97977975698618,70.35164143488957,67.41657534512606,66.65540967668805,70.28958723280165,70.40426459679237,70.54953557794744,71.08550193093039,71.57861973689153,68.07676520714394,69.48100488836116,64.84442242709073,64.59036518977238,64.91292780095881,67.50475311279297,69.77287761981671,67.6549204046076,70.0872321495643,68.1679257479581,70.89986595740685,68.91041426225142,70.11414822665128,71.5770251934345,69.19793701171875,70.10194813121448,67.11419539018111,66.49429614727313,67.93253603848544,70.07898770845853,71.64636993408203,70.99536895751953,71.1852139559659,71.95599952110878,72.3807601928711,72.71501100980319,73.69555109197444,73.72007458026593,70.7289064847506,71.57097278941761,65.95789043719952,67.009465304288,67.06414344094016,69.16205772986778,70.49657322810246,69.25627205588601,70.43644159490412,71.09541320800781,71.75689350474964,72.19171025202824,72.40293953635476,72.522338280311,71.3727035522461,72.80576879327947,72.39412117004395,74.38106727600098,73.70043659210205,72.80292158860426,73.75059162486683,74.58192443847656,73.47842407226562,73.48111900916466,74.80817690762606,74.56167741255327,73.84851837158203,72.50837846235795,71.04070223294772,68.45213942094283,66.30377432016226,69.06250901655717,69.74157245342548,71.3425424749201,71.55297029935397,72.32686497614934,72.47791983864524,72.43744243275036,71.4939446082482,71.38329784686749,71.95216855135831,70.16743191805753,68.96042985182542,66.89483781294389,65.4791506253756,65.87397662076083,66.57411692692683,67.86843039772727,68.91341224083534,69.79049037053035,69.15615012428977,70.91351846548227,70.8747856833718,71.77370106090198,71.66800807072566,69.06786581186148,70.46515308726917,66.48447140780362,65.88748873197116,67.06430331143466,68.03802020733173,69.07514014610878,69.37819810347123,68.40359635786577,67.73248349703275,68.72250131460336,68.71679063276811,69.91873585094105,70.25313626802884,68.26239429820667,66.50632124680739,65.31659975918856,64.15750210101788,65.49093107743697,66.74026401226337,65.23621041434151,66.05394744873047,69.86068132188585,70.72079467773438,69.33563440496272,69.35608907846304,68.10701196843928,67.73834874079778,66.29626171405499,67.10557070645419,68.15484560452975,67.4307597767223,69.55806385387073,68.56157508263222,70.8620124230018,70.85361827503552,71.36375357887961,71.75299424391527,72.89347076416016,73.073054226962,71.4339611346905,72.24499789151278,68.7056632408729,69.93143324418502,70.20171180138222,68.05034065246582,73.00029468536377,74.94783210754395,72.68248514028696,72.98714169588956,71.91898522010216,72.14653847434305,68.26124161940355,70.27670288085938,69.54609888250178,69.04527810903696,68.94903916579027,69.82535206187855,69.99128029563211,69.17415266770583,70.83185438676314,71.22300250713641,71.78024291992188,71.24423079057173,72.4834224994366,73.5634633844549,75.3604805686257,74.48886401836688,75.32346852620442,76.6836907523019,76.65092468261719,77.83435249328613,77.44474029541016,76.85955634483925,75.63531259390024,76.35253767533736,75.57056485689603,76.15770582719283,75.81952549861028,76.28156419233842,76.26356212909405,76.75396104292436,74.9621071448693,75.5774321122603,73.57291759144177,73.29272167499249,73.36995403583234,73.80894262140447,74.0599858210637,74.29014101895419,73.5464835533729,74.227783203125,72.9830322265625,73.61805725097656,72.55262228158804,72.88532881303267,72.68352801983173,72.45145693692294,73.0082182450728,72.59461740347055,72.89757121693005,72.98047755314754,71.8458744929387,72.62057356400923,71.99461850253019,70.81025871863731,73.00076779452237,73.06647139329176,74.08287048339844,73.29222987248347,73.29551403339093,74.11292752352628,74.75443209134616,75.07785866477273,73.54624106667258,72.92986356295071,72.49581028864934,73.37371132590555,72.06212792029747,72.6750786521218,72.49209242600661,72.05272189053622,73.60163393887606,73.43177091158353,74.6462735262784,73.97349372276894,76.01967412775213,75.55949225792519,76.31882199374112,75.45888284536508,75.82531530206853,74.67353996863731,75.91996834494851,74.32742896446815,74.72183286226712,75.67278983376242,75.36663231482872,75.85925084894353,76.38319743763317,75.77457662729117,76.62834375554866,76.08147430419922,74.83746103140024,74.97578014026989,73.78068195689808,73.1692892221304,72.92467733529898,73.47933821244673,73.54834277813251,73.86457061767578,74.11102881798378,74.96335671164773,74.93612046675248,73.93099916898288,74.18560929731889,73.68361370380109,73.01263016920824,73.43544977361506,71.64622145432692,72.48018368807706,71.16768880990836,71.9167744029652,72.4336596402255,71.78139085036058,74.32061698219992,73.52408893291766,74.50546558086688,75.73889229514383,74.95045764629657,75.81936298717152,74.55663651686449,75.02336398037997,74.9558008367365,73.86111039381761,74.12449939434345,75.28737293590198,74.55393805870644,75.48288449374112,76.05725929953836,75.04694131704477,75.70447951096754,76.92096918279475,76.22581071120042,77.15275851162997,78.33987565474077,77.35249152550331,77.92413884943181,77.5176532451923,77.29846538196911,75.66985027606671,74.59727654090294,75.22294894131747,74.41711014967699,75.5393329967152,76.24208693070845,74.93162947434645,75.3771966787485,76.55050173672763,76.04852294921875,75.0641092153696,75.117431640625,75.86555272882634,74.92360511192909,75.42558496648616,72.9560769888071,74.41756231134588,73.1669411292443,73.50598907470703,74.09579467773438,73.62017000638522,75.3796816739169,74.8235843365009,74.250610938439,75.78800478848544,75.15929706280048,76.28715931285511,76.9713856623723,77.6202226118608,76.59638331486629,77.67848482998934,75.73704704871544,76.34213811700994,75.64882131723257,76.53103013472123,75.97146259654652,75.00056692270132,75.9386467566857,76.78077975186434,80.06000726873225,78.53047121488132,83.89222994717684,82.37837571364183,80.54471118633563,82.64900693026456,78.38635664719801,80.0580132224343,78.53064519708806,77.56209505521335,77.1787837635387,76.15935927170973,75.98577646108774,76.29675362326883,75.19331888052133,76.02398334849964,76.21670324152166,75.22420795147235,76.42382465709339,75.68815788855919,76.90389251708984,77.37873146750711],\"type\":\"bar\"}],                        {\"template\":{\"data\":{\"bar\":[{\"error_x\":{\"color\":\"#2a3f5f\"},\"error_y\":{\"color\":\"#2a3f5f\"},\"marker\":{\"line\":{\"color\":\"#E5ECF6\",\"width\":0.5},\"pattern\":{\"fillmode\":\"overlay\",\"size\":10,\"solidity\":0.2}},\"type\":\"bar\"}],\"barpolar\":[{\"marker\":{\"line\":{\"color\":\"#E5ECF6\",\"width\":0.5},\"pattern\":{\"fillmode\":\"overlay\",\"size\":10,\"solidity\":0.2}},\"type\":\"barpolar\"}],\"carpet\":[{\"aaxis\":{\"endlinecolor\":\"#2a3f5f\",\"gridcolor\":\"white\",\"linecolor\":\"white\",\"minorgridcolor\":\"white\",\"startlinecolor\":\"#2a3f5f\"},\"baxis\":{\"endlinecolor\":\"#2a3f5f\",\"gridcolor\":\"white\",\"linecolor\":\"white\",\"minorgridcolor\":\"white\",\"startlinecolor\":\"#2a3f5f\"},\"type\":\"carpet\"}],\"choropleth\":[{\"colorbar\":{\"outlinewidth\":0,\"ticks\":\"\"},\"type\":\"choropleth\"}],\"contour\":[{\"colorbar\":{\"outlinewidth\":0,\"ticks\":\"\"},\"colorscale\":[[0.0,\"#0d0887\"],[0.1111111111111111,\"#46039f\"],[0.2222222222222222,\"#7201a8\"],[0.3333333333333333,\"#9c179e\"],[0.4444444444444444,\"#bd3786\"],[0.5555555555555556,\"#d8576b\"],[0.6666666666666666,\"#ed7953\"],[0.7777777777777778,\"#fb9f3a\"],[0.8888888888888888,\"#fdca26\"],[1.0,\"#f0f921\"]],\"type\":\"contour\"}],\"contourcarpet\":[{\"colorbar\":{\"outlinewidth\":0,\"ticks\":\"\"},\"type\":\"contourcarpet\"}],\"heatmap\":[{\"colorbar\":{\"outlinewidth\":0,\"ticks\":\"\"},\"colorscale\":[[0.0,\"#0d0887\"],[0.1111111111111111,\"#46039f\"],[0.2222222222222222,\"#7201a8\"],[0.3333333333333333,\"#9c179e\"],[0.4444444444444444,\"#bd3786\"],[0.5555555555555556,\"#d8576b\"],[0.6666666666666666,\"#ed7953\"],[0.7777777777777778,\"#fb9f3a\"],[0.8888888888888888,\"#fdca26\"],[1.0,\"#f0f921\"]],\"type\":\"heatmap\"}],\"heatmapgl\":[{\"colorbar\":{\"outlinewidth\":0,\"ticks\":\"\"},\"colorscale\":[[0.0,\"#0d0887\"],[0.1111111111111111,\"#46039f\"],[0.2222222222222222,\"#7201a8\"],[0.3333333333333333,\"#9c179e\"],[0.4444444444444444,\"#bd3786\"],[0.5555555555555556,\"#d8576b\"],[0.6666666666666666,\"#ed7953\"],[0.7777777777777778,\"#fb9f3a\"],[0.8888888888888888,\"#fdca26\"],[1.0,\"#f0f921\"]],\"type\":\"heatmapgl\"}],\"histogram\":[{\"marker\":{\"pattern\":{\"fillmode\":\"overlay\",\"size\":10,\"solidity\":0.2}},\"type\":\"histogram\"}],\"histogram2d\":[{\"colorbar\":{\"outlinewidth\":0,\"ticks\":\"\"},\"colorscale\":[[0.0,\"#0d0887\"],[0.1111111111111111,\"#46039f\"],[0.2222222222222222,\"#7201a8\"],[0.3333333333333333,\"#9c179e\"],[0.4444444444444444,\"#bd3786\"],[0.5555555555555556,\"#d8576b\"],[0.6666666666666666,\"#ed7953\"],[0.7777777777777778,\"#fb9f3a\"],[0.8888888888888888,\"#fdca26\"],[1.0,\"#f0f921\"]],\"type\":\"histogram2d\"}],\"histogram2dcontour\":[{\"colorbar\":{\"outlinewidth\":0,\"ticks\":\"\"},\"colorscale\":[[0.0,\"#0d0887\"],[0.1111111111111111,\"#46039f\"],[0.2222222222222222,\"#7201a8\"],[0.3333333333333333,\"#9c179e\"],[0.4444444444444444,\"#bd3786\"],[0.5555555555555556,\"#d8576b\"],[0.6666666666666666,\"#ed7953\"],[0.7777777777777778,\"#fb9f3a\"],[0.8888888888888888,\"#fdca26\"],[1.0,\"#f0f921\"]],\"type\":\"histogram2dcontour\"}],\"mesh3d\":[{\"colorbar\":{\"outlinewidth\":0,\"ticks\":\"\"},\"type\":\"mesh3d\"}],\"parcoords\":[{\"line\":{\"colorbar\":{\"outlinewidth\":0,\"ticks\":\"\"}},\"type\":\"parcoords\"}],\"pie\":[{\"automargin\":true,\"type\":\"pie\"}],\"scatter\":[{\"marker\":{\"colorbar\":{\"outlinewidth\":0,\"ticks\":\"\"}},\"type\":\"scatter\"}],\"scatter3d\":[{\"line\":{\"colorbar\":{\"outlinewidth\":0,\"ticks\":\"\"}},\"marker\":{\"colorbar\":{\"outlinewidth\":0,\"ticks\":\"\"}},\"type\":\"scatter3d\"}],\"scattercarpet\":[{\"marker\":{\"colorbar\":{\"outlinewidth\":0,\"ticks\":\"\"}},\"type\":\"scattercarpet\"}],\"scattergeo\":[{\"marker\":{\"colorbar\":{\"outlinewidth\":0,\"ticks\":\"\"}},\"type\":\"scattergeo\"}],\"scattergl\":[{\"marker\":{\"colorbar\":{\"outlinewidth\":0,\"ticks\":\"\"}},\"type\":\"scattergl\"}],\"scattermapbox\":[{\"marker\":{\"colorbar\":{\"outlinewidth\":0,\"ticks\":\"\"}},\"type\":\"scattermapbox\"}],\"scatterpolar\":[{\"marker\":{\"colorbar\":{\"outlinewidth\":0,\"ticks\":\"\"}},\"type\":\"scatterpolar\"}],\"scatterpolargl\":[{\"marker\":{\"colorbar\":{\"outlinewidth\":0,\"ticks\":\"\"}},\"type\":\"scatterpolargl\"}],\"scatterternary\":[{\"marker\":{\"colorbar\":{\"outlinewidth\":0,\"ticks\":\"\"}},\"type\":\"scatterternary\"}],\"surface\":[{\"colorbar\":{\"outlinewidth\":0,\"ticks\":\"\"},\"colorscale\":[[0.0,\"#0d0887\"],[0.1111111111111111,\"#46039f\"],[0.2222222222222222,\"#7201a8\"],[0.3333333333333333,\"#9c179e\"],[0.4444444444444444,\"#bd3786\"],[0.5555555555555556,\"#d8576b\"],[0.6666666666666666,\"#ed7953\"],[0.7777777777777778,\"#fb9f3a\"],[0.8888888888888888,\"#fdca26\"],[1.0,\"#f0f921\"]],\"type\":\"surface\"}],\"table\":[{\"cells\":{\"fill\":{\"color\":\"#EBF0F8\"},\"line\":{\"color\":\"white\"}},\"header\":{\"fill\":{\"color\":\"#C8D4E3\"},\"line\":{\"color\":\"white\"}},\"type\":\"table\"}]},\"layout\":{\"annotationdefaults\":{\"arrowcolor\":\"#2a3f5f\",\"arrowhead\":0,\"arrowwidth\":1},\"autotypenumbers\":\"strict\",\"coloraxis\":{\"colorbar\":{\"outlinewidth\":0,\"ticks\":\"\"}},\"colorscale\":{\"diverging\":[[0,\"#8e0152\"],[0.1,\"#c51b7d\"],[0.2,\"#de77ae\"],[0.3,\"#f1b6da\"],[0.4,\"#fde0ef\"],[0.5,\"#f7f7f7\"],[0.6,\"#e6f5d0\"],[0.7,\"#b8e186\"],[0.8,\"#7fbc41\"],[0.9,\"#4d9221\"],[1,\"#276419\"]],\"sequential\":[[0.0,\"#0d0887\"],[0.1111111111111111,\"#46039f\"],[0.2222222222222222,\"#7201a8\"],[0.3333333333333333,\"#9c179e\"],[0.4444444444444444,\"#bd3786\"],[0.5555555555555556,\"#d8576b\"],[0.6666666666666666,\"#ed7953\"],[0.7777777777777778,\"#fb9f3a\"],[0.8888888888888888,\"#fdca26\"],[1.0,\"#f0f921\"]],\"sequentialminus\":[[0.0,\"#0d0887\"],[0.1111111111111111,\"#46039f\"],[0.2222222222222222,\"#7201a8\"],[0.3333333333333333,\"#9c179e\"],[0.4444444444444444,\"#bd3786\"],[0.5555555555555556,\"#d8576b\"],[0.6666666666666666,\"#ed7953\"],[0.7777777777777778,\"#fb9f3a\"],[0.8888888888888888,\"#fdca26\"],[1.0,\"#f0f921\"]]},\"colorway\":[\"#636efa\",\"#EF553B\",\"#00cc96\",\"#ab63fa\",\"#FFA15A\",\"#19d3f3\",\"#FF6692\",\"#B6E880\",\"#FF97FF\",\"#FECB52\"],\"font\":{\"color\":\"#2a3f5f\"},\"geo\":{\"bgcolor\":\"white\",\"lakecolor\":\"white\",\"landcolor\":\"#E5ECF6\",\"showlakes\":true,\"showland\":true,\"subunitcolor\":\"white\"},\"hoverlabel\":{\"align\":\"left\"},\"hovermode\":\"closest\",\"mapbox\":{\"style\":\"light\"},\"paper_bgcolor\":\"white\",\"plot_bgcolor\":\"#E5ECF6\",\"polar\":{\"angularaxis\":{\"gridcolor\":\"white\",\"linecolor\":\"white\",\"ticks\":\"\"},\"bgcolor\":\"#E5ECF6\",\"radialaxis\":{\"gridcolor\":\"white\",\"linecolor\":\"white\",\"ticks\":\"\"}},\"scene\":{\"xaxis\":{\"backgroundcolor\":\"#E5ECF6\",\"gridcolor\":\"white\",\"gridwidth\":2,\"linecolor\":\"white\",\"showbackground\":true,\"ticks\":\"\",\"zerolinecolor\":\"white\"},\"yaxis\":{\"backgroundcolor\":\"#E5ECF6\",\"gridcolor\":\"white\",\"gridwidth\":2,\"linecolor\":\"white\",\"showbackground\":true,\"ticks\":\"\",\"zerolinecolor\":\"white\"},\"zaxis\":{\"backgroundcolor\":\"#E5ECF6\",\"gridcolor\":\"white\",\"gridwidth\":2,\"linecolor\":\"white\",\"showbackground\":true,\"ticks\":\"\",\"zerolinecolor\":\"white\"}},\"shapedefaults\":{\"line\":{\"color\":\"#2a3f5f\"}},\"ternary\":{\"aaxis\":{\"gridcolor\":\"white\",\"linecolor\":\"white\",\"ticks\":\"\"},\"baxis\":{\"gridcolor\":\"white\",\"linecolor\":\"white\",\"ticks\":\"\"},\"bgcolor\":\"#E5ECF6\",\"caxis\":{\"gridcolor\":\"white\",\"linecolor\":\"white\",\"ticks\":\"\"}},\"title\":{\"x\":0.05},\"xaxis\":{\"automargin\":true,\"gridcolor\":\"white\",\"linecolor\":\"white\",\"ticks\":\"\",\"title\":{\"standoff\":15},\"zerolinecolor\":\"white\",\"zerolinewidth\":2},\"yaxis\":{\"automargin\":true,\"gridcolor\":\"white\",\"linecolor\":\"white\",\"ticks\":\"\",\"title\":{\"standoff\":15},\"zerolinecolor\":\"white\",\"zerolinewidth\":2}}},\"title\":{\"text\":\"daily Values\"},\"xaxis\":{\"title\":{\"text\":\"days\"}},\"yaxis\":{\"title\":{\"text\":\"Value\"}}},                        {\"responsive\": true}                    ).then(function(){\n",
              "                            \n",
              "var gd = document.getElementById('43e3a14e-68a0-4d4c-a0ef-7eedba61bf2c');\n",
              "var x = new MutationObserver(function (mutations, observer) {{\n",
              "        var display = window.getComputedStyle(gd).display;\n",
              "        if (!display || display === 'none') {{\n",
              "            console.log([gd, 'removed!']);\n",
              "            Plotly.purge(gd);\n",
              "            observer.disconnect();\n",
              "        }}\n",
              "}});\n",
              "\n",
              "// Listen for the removal of the full notebook cells\n",
              "var notebookContainer = gd.closest('#notebook-container');\n",
              "if (notebookContainer) {{\n",
              "    x.observe(notebookContainer, {childList: true});\n",
              "}}\n",
              "\n",
              "// Listen for the clearing of the current output cell\n",
              "var outputEl = gd.closest('.output');\n",
              "if (outputEl) {{\n",
              "    x.observe(outputEl, {childList: true});\n",
              "}}\n",
              "\n",
              "                        })                };                            </script>        </div>\n",
              "</body>\n",
              "</html>"
            ]
          },
          "metadata": {}
        }
      ]
    },
    {
      "cell_type": "code",
      "source": [
        "df_pandas = df_temp.toPandas()"
      ],
      "metadata": {
        "id": "2mBd_rdOv-Nm"
      },
      "execution_count": null,
      "outputs": []
    },
    {
      "cell_type": "code",
      "source": [
        "import pandas as pd\n",
        "import seaborn as sns\n",
        "import matplotlib.pyplot as plt\n",
        "\n",
        "data = df_pandas\n",
        "\n",
        "# Pivot the data to create a two-dimensional grid of hour and day of week\n",
        "pivot_data = data.pivot_table(values='value', index='hour', columns='day_of_week')\n",
        "\n",
        "# Create a heatmap of the data\n",
        "sns.heatmap(pivot_data, cmap='YlGnBu')\n",
        "\n",
        "# Set the axis labels and plot title\n",
        "plt.xlabel('Day of Week')\n",
        "plt.ylabel('Hour')\n",
        "plt.title('Average Value by Hour and Day of Week')\n",
        "\n",
        "# Show the plot\n",
        "plt.show()"
      ],
      "metadata": {
        "colab": {
          "base_uri": "https://localhost:8080/",
          "height": 235
        },
        "id": "u4xAHrayv-LP",
        "outputId": "44e382c2-00ef-4997-b502-c8da624caee0"
      },
      "execution_count": 40,
      "outputs": [
        {
          "output_type": "error",
          "ename": "NameError",
          "evalue": "ignored",
          "traceback": [
            "\u001b[0;31m---------------------------------------------------------------------------\u001b[0m",
            "\u001b[0;31mNameError\u001b[0m                                 Traceback (most recent call last)",
            "\u001b[0;32m<ipython-input-40-bb7438d7a632>\u001b[0m in \u001b[0;36m<module>\u001b[0;34m\u001b[0m\n\u001b[1;32m      3\u001b[0m \u001b[0;32mimport\u001b[0m \u001b[0mmatplotlib\u001b[0m\u001b[0;34m.\u001b[0m\u001b[0mpyplot\u001b[0m \u001b[0;32mas\u001b[0m \u001b[0mplt\u001b[0m\u001b[0;34m\u001b[0m\u001b[0;34m\u001b[0m\u001b[0m\n\u001b[1;32m      4\u001b[0m \u001b[0;34m\u001b[0m\u001b[0m\n\u001b[0;32m----> 5\u001b[0;31m \u001b[0mdata\u001b[0m \u001b[0;34m=\u001b[0m \u001b[0mdf_pandas\u001b[0m\u001b[0;34m\u001b[0m\u001b[0;34m\u001b[0m\u001b[0m\n\u001b[0m\u001b[1;32m      6\u001b[0m \u001b[0;34m\u001b[0m\u001b[0m\n\u001b[1;32m      7\u001b[0m \u001b[0;31m# Pivot the data to create a two-dimensional grid of hour and day of week\u001b[0m\u001b[0;34m\u001b[0m\u001b[0;34m\u001b[0m\u001b[0m\n",
            "\u001b[0;31mNameError\u001b[0m: name 'df_pandas' is not defined"
          ]
        }
      ]
    },
    {
      "cell_type": "code",
      "source": [
        "import matplotlib.pyplot as plt\n",
        "\n",
        "values = df_temp.select('value').rdd.flatMap(lambda x: x).collect()\n",
        "\n",
        "plt.hist(values, bins=20)\n",
        "plt.title('Histogram of Values')\n",
        "plt.xlabel('Value')\n",
        "plt.ylabel('Frequency')\n",
        "plt.show()\n"
      ],
      "metadata": {
        "colab": {
          "base_uri": "https://localhost:8080/",
          "height": 295
        },
        "id": "8Vna8sbIv-G4",
        "outputId": "ad44798b-c4c6-45a5-a9e9-8f8c7b67a264"
      },
      "execution_count": 41,
      "outputs": [
        {
          "output_type": "display_data",
          "data": {
            "text/plain": [
              "<Figure size 432x288 with 1 Axes>"
            ],
            "image/png": "[encoded data removed]"
          },
          "metadata": {
            "needs_background": "light"
          }
        }
      ]
    },
    {
      "cell_type": "code",
      "source": [
        "df_temp.show()"
      ],
      "metadata": {
        "colab": {
          "base_uri": "https://localhost:8080/"
        },
        "id": "63YoXcnTv-E5",
        "outputId": "e322ba7d-cfeb-4c64-b9b6-1aaf3af35ccf"
      },
      "execution_count": null,
      "outputs": [
        {
          "output_type": "stream",
          "name": "stdout",
          "text": [
            "+-------------------+---------+----+---+-----+----+-----------+------------------+--------------------+\n",
            "|          timestamp|    value|hour|day|month|year|day_of_week|weekday_or_weekend|daytime_or_nighttime|\n",
            "+-------------------+---------+----+---+-----+----+-----------+------------------+--------------------+\n",
            "|2013-07-04 00:00:00| 69.88084|   0|  4|    7|2013|          5|           weekday|           nighttime|\n",
            "|2013-07-04 01:00:00| 71.22023|   1|  4|    7|2013|          5|           weekday|           nighttime|\n",
            "|2013-07-04 02:00:00| 70.87781|   2|  4|    7|2013|          5|           weekday|           nighttime|\n",
            "|2013-07-04 03:00:00|  68.9594|   3|  4|    7|2013|          5|           weekday|           nighttime|\n",
            "|2013-07-04 04:00:00|69.283554|   4|  4|    7|2013|          5|           weekday|           nighttime|\n",
            "|2013-07-04 05:00:00| 70.06097|   5|  4|    7|2013|          5|           weekday|           nighttime|\n",
            "|2013-07-04 06:00:00| 69.27976|   6|  4|    7|2013|          5|           weekday|           nighttime|\n",
            "|2013-07-04 07:00:00|69.369606|   7|  4|    7|2013|          5|           weekday|             daytime|\n",
            "|2013-07-04 08:00:00| 69.16672|   8|  4|    7|2013|          5|           weekday|             daytime|\n",
            "|2013-07-04 09:00:00|68.986084|   9|  4|    7|2013|          5|           weekday|             daytime|\n",
            "|2013-07-04 10:00:00|69.965065|  10|  4|    7|2013|          5|           weekday|             daytime|\n",
            "|2013-07-04 11:00:00|  70.5562|  11|  4|    7|2013|          5|           weekday|             daytime|\n",
            "|2013-07-04 12:00:00|  70.3075|  12|  4|    7|2013|          5|           weekday|             daytime|\n",
            "|2013-07-04 13:00:00|70.246254|  13|  4|    7|2013|          5|           weekday|             daytime|\n",
            "|2013-07-04 14:00:00| 69.85491|  14|  4|    7|2013|          5|           weekday|             daytime|\n",
            "|2013-07-04 15:00:00| 71.64329|  15|  4|    7|2013|          5|           weekday|             daytime|\n",
            "|2013-07-04 16:00:00| 71.24566|  16|  4|    7|2013|          5|           weekday|             daytime|\n",
            "|2013-07-04 17:00:00|  70.7451|  17|  4|    7|2013|          5|           weekday|             daytime|\n",
            "|2013-07-04 18:00:00|  71.3733|  18|  4|    7|2013|          5|           weekday|             daytime|\n",
            "|2013-07-04 19:00:00| 71.79575|  19|  4|    7|2013|          5|           weekday|             daytime|\n",
            "+-------------------+---------+----+---+-----+----+-----------+------------------+--------------------+\n",
            "only showing top 20 rows\n",
            "\n"
          ]
        }
      ]
    },
    {
      "cell_type": "code",
      "source": [],
      "metadata": {
        "id": "oFlCTMtTv-Cr"
      },
      "execution_count": null,
      "outputs": []
    },
    {
      "cell_type": "code",
      "source": [],
      "metadata": {
        "id": "9lRCroyfv-AW"
      },
      "execution_count": null,
      "outputs": []
    },
    {
      "cell_type": "code",
      "source": [],
      "metadata": {
        "colab": {
          "base_uri": "https://localhost:8080/"
        },
        "id": "Ag7EvRp7C9gT",
        "outputId": "26366876-9347-4796-b8da-5cb6fa8ba067"
      },
      "execution_count": null,
      "outputs": [
        {
          "output_type": "stream",
          "name": "stdout",
          "text": [
            "+---------+----+---+-----+----+-----------+------------------+--------------------+------------------------+--------------------------+--------------------------+----------------------------+\n",
            "|    value|hour|day|month|year|day_of_week|weekday_or_weekend|daytime_or_nighttime|weekday_or_weekend_index|daytime_or_nighttime_index|weekday_or_weekend_encoded|daytime_or_nighttime_encoded|\n",
            "+---------+----+---+-----+----+-----------+------------------+--------------------+------------------------+--------------------------+--------------------------+----------------------------+\n",
            "| 69.88084|   0|  4|    7|2013|          5|           weekday|           nighttime|                     0.0|                       1.0|             (1,[0],[1.0])|                   (1,[],[])|\n",
            "| 71.22023|   1|  4|    7|2013|          5|           weekday|           nighttime|                     0.0|                       1.0|             (1,[0],[1.0])|                   (1,[],[])|\n",
            "| 70.87781|   2|  4|    7|2013|          5|           weekday|           nighttime|                     0.0|                       1.0|             (1,[0],[1.0])|                   (1,[],[])|\n",
            "|  68.9594|   3|  4|    7|2013|          5|           weekday|           nighttime|                     0.0|                       1.0|             (1,[0],[1.0])|                   (1,[],[])|\n",
            "|69.283554|   4|  4|    7|2013|          5|           weekday|           nighttime|                     0.0|                       1.0|             (1,[0],[1.0])|                   (1,[],[])|\n",
            "| 70.06097|   5|  4|    7|2013|          5|           weekday|           nighttime|                     0.0|                       1.0|             (1,[0],[1.0])|                   (1,[],[])|\n",
            "| 69.27976|   6|  4|    7|2013|          5|           weekday|           nighttime|                     0.0|                       1.0|             (1,[0],[1.0])|                   (1,[],[])|\n",
            "|69.369606|   7|  4|    7|2013|          5|           weekday|             daytime|                     0.0|                       0.0|             (1,[0],[1.0])|               (1,[0],[1.0])|\n",
            "| 69.16672|   8|  4|    7|2013|          5|           weekday|             daytime|                     0.0|                       0.0|             (1,[0],[1.0])|               (1,[0],[1.0])|\n",
            "|68.986084|   9|  4|    7|2013|          5|           weekday|             daytime|                     0.0|                       0.0|             (1,[0],[1.0])|               (1,[0],[1.0])|\n",
            "|69.965065|  10|  4|    7|2013|          5|           weekday|             daytime|                     0.0|                       0.0|             (1,[0],[1.0])|               (1,[0],[1.0])|\n",
            "|  70.5562|  11|  4|    7|2013|          5|           weekday|             daytime|                     0.0|                       0.0|             (1,[0],[1.0])|               (1,[0],[1.0])|\n",
            "|  70.3075|  12|  4|    7|2013|          5|           weekday|             daytime|                     0.0|                       0.0|             (1,[0],[1.0])|               (1,[0],[1.0])|\n",
            "|70.246254|  13|  4|    7|2013|          5|           weekday|             daytime|                     0.0|                       0.0|             (1,[0],[1.0])|               (1,[0],[1.0])|\n",
            "| 69.85491|  14|  4|    7|2013|          5|           weekday|             daytime|                     0.0|                       0.0|             (1,[0],[1.0])|               (1,[0],[1.0])|\n",
            "| 71.64329|  15|  4|    7|2013|          5|           weekday|             daytime|                     0.0|                       0.0|             (1,[0],[1.0])|               (1,[0],[1.0])|\n",
            "| 71.24566|  16|  4|    7|2013|          5|           weekday|             daytime|                     0.0|                       0.0|             (1,[0],[1.0])|               (1,[0],[1.0])|\n",
            "|  70.7451|  17|  4|    7|2013|          5|           weekday|             daytime|                     0.0|                       0.0|             (1,[0],[1.0])|               (1,[0],[1.0])|\n",
            "|  71.3733|  18|  4|    7|2013|          5|           weekday|             daytime|                     0.0|                       0.0|             (1,[0],[1.0])|               (1,[0],[1.0])|\n",
            "| 71.79575|  19|  4|    7|2013|          5|           weekday|             daytime|                     0.0|                       0.0|             (1,[0],[1.0])|               (1,[0],[1.0])|\n",
            "+---------+----+---+-----+----+-----------+------------------+--------------------+------------------------+--------------------------+--------------------------+----------------------------+\n",
            "only showing top 20 rows\n",
            "\n"
          ]
        }
      ]
    },
    {
      "cell_type": "code",
      "source": [],
      "metadata": {
        "id": "cB-tSEvyC9d0"
      },
      "execution_count": null,
      "outputs": []
    },
    {
      "cell_type": "code",
      "source": [],
      "metadata": {
        "colab": {
          "base_uri": "https://localhost:8080/"
        },
        "id": "7GQmErAMC9ba",
        "outputId": "3fa58b7e-2db8-4b34-d4f3-5013431db46b"
      },
      "execution_count": null,
      "outputs": [
        {
          "output_type": "stream",
          "name": "stdout",
          "text": [
            "+---------+----+---+-----+----+-----------+------------------+--------------------+------------------------+--------------------------+--------------------------+----------------------------+--------------------+--------------------+\n",
            "|    value|hour|day|month|year|day_of_week|weekday_or_weekend|daytime_or_nighttime|weekday_or_weekend_index|daytime_or_nighttime_index|weekday_or_weekend_encoded|daytime_or_nighttime_encoded|            features|      scaledFeatures|\n",
            "+---------+----+---+-----+----+-----------+------------------+--------------------+------------------------+--------------------------+--------------------------+----------------------------+--------------------+--------------------+\n",
            "| 69.88084|   0|  4|    7|2013|          5|           weekday|           nighttime|                     0.0|                       1.0|             (1,[0],[1.0])|                   (1,[],[])|[69.8808364868164...|[16.4521910998663...|\n",
            "| 71.22023|   1|  4|    7|2013|          5|           weekday|           nighttime|                     0.0|                       1.0|             (1,[0],[1.0])|                   (1,[],[])|[71.2202301025390...|[16.7675273326827...|\n",
            "| 70.87781|   2|  4|    7|2013|          5|           weekday|           nighttime|                     0.0|                       1.0|             (1,[0],[1.0])|                   (1,[],[])|[70.8778076171875...|[16.6869100926907...|\n",
            "|  68.9594|   3|  4|    7|2013|          5|           weekday|           nighttime|                     0.0|                       1.0|             (1,[0],[1.0])|                   (1,[],[])|[68.9593963623046...|[16.2352545293029...|\n",
            "|69.283554|   4|  4|    7|2013|          5|           weekday|           nighttime|                     0.0|                       1.0|             (1,[0],[1.0])|                   (1,[],[])|[69.2835540771484...|[16.3115716562753...|\n",
            "| 70.06097|   5|  4|    7|2013|          5|           weekday|           nighttime|                     0.0|                       1.0|             (1,[0],[1.0])|                   (1,[],[])|[70.0609664916992...|[16.4945994826525...|\n",
            "| 69.27976|   6|  4|    7|2013|          5|           weekday|           nighttime|                     0.0|                       1.0|             (1,[0],[1.0])|                   (1,[],[])|[69.2797622680664...|[16.3106789427537...|\n",
            "|69.369606|   7|  4|    7|2013|          5|           weekday|             daytime|                     0.0|                       0.0|             (1,[0],[1.0])|               (1,[0],[1.0])|[69.3696060180664...|[16.3318310442230...|\n",
            "| 69.16672|   8|  4|    7|2013|          5|           weekday|             daytime|                     0.0|                       0.0|             (1,[0],[1.0])|               (1,[0],[1.0])|[69.1667175292968...|[16.2840645841030...|\n",
            "|68.986084|   9|  4|    7|2013|          5|           weekday|             daytime|                     0.0|                       0.0|             (1,[0],[1.0])|               (1,[0],[1.0])|[68.986083984375,...|[16.2415376518351...|\n",
            "|69.965065|  10|  4|    7|2013|          5|           weekday|             daytime|                     0.0|                       0.0|             (1,[0],[1.0])|               (1,[0],[1.0])|[69.9650650024414...|[16.4720211949937...|\n",
            "|  70.5562|  11|  4|    7|2013|          5|           weekday|             daytime|                     0.0|                       0.0|             (1,[0],[1.0])|               (1,[0],[1.0])|[70.5561981201171...|[16.6111928979440...|\n",
            "|  70.3075|  12|  4|    7|2013|          5|           weekday|             daytime|                     0.0|                       0.0|             (1,[0],[1.0])|               (1,[0],[1.0])|[70.3075027465820...|[16.5526420273942...|\n",
            "|70.246254|  13|  4|    7|2013|          5|           weekday|             daytime|                     0.0|                       0.0|             (1,[0],[1.0])|               (1,[0],[1.0])|[70.2462539672851...|[16.5382220995244...|\n",
            "| 69.85491|  14|  4|    7|2013|          5|           weekday|             daytime|                     0.0|                       0.0|             (1,[0],[1.0])|               (1,[0],[1.0])|[69.8549118041992...|[16.4460875977609...|\n",
            "| 71.64329|  15|  4|    7|2013|          5|           weekday|             daytime|                     0.0|                       0.0|             (1,[0],[1.0])|               (1,[0],[1.0])|[71.6432876586914...|[16.8671286555915...|\n",
            "| 71.24566|  16|  4|    7|2013|          5|           weekday|             daytime|                     0.0|                       0.0|             (1,[0],[1.0])|               (1,[0],[1.0])|[71.2456588745117...|[16.7735140815105...|\n",
            "|  70.7451|  17|  4|    7|2013|          5|           weekday|             daytime|                     0.0|                       0.0|             (1,[0],[1.0])|               (1,[0],[1.0])|[70.7451019287109...|[16.6556669156393...|\n",
            "|  71.3733|  18|  4|    7|2013|          5|           weekday|             daytime|                     0.0|                       0.0|             (1,[0],[1.0])|               (1,[0],[1.0])|[71.3732986450195...|[16.8035645789274...|\n",
            "| 71.79575|  19|  4|    7|2013|          5|           weekday|             daytime|                     0.0|                       0.0|             (1,[0],[1.0])|               (1,[0],[1.0])|[71.7957534790039...|[16.9030240016990...|\n",
            "+---------+----+---+-----+----+-----------+------------------+--------------------+------------------------+--------------------------+--------------------------+----------------------------+--------------------+--------------------+\n",
            "only showing top 20 rows\n",
            "\n"
          ]
        }
      ]
    },
    {
      "cell_type": "code",
      "source": [
        "train = scaled_df.filter(col(\"timestamp\") < \"2014-09-01 00:00:00\")\n",
        "test = scaled_df.filter(col(\"timestamp\") >= \"2014-09-01 00:00:00\")"
      ],
      "metadata": {
        "id": "p7OISK2HC9Y7"
      },
      "execution_count": null,
      "outputs": []
    },
    {
      "cell_type": "code",
      "source": [
        "from pyspark.sql.functions import from_unixtime, date_format, unix_timestamp\n",
        "df_temp = df_temp.withColumn(\"date\", date_format(\"timestamp\", \"yyyy-MM-dd\"))\n"
      ],
      "metadata": {
        "id": "NEZwdsm1C9UF"
      },
      "execution_count": 73,
      "outputs": []
    },
    {
      "cell_type": "code",
      "source": [
        "df_temp.show()"
      ],
      "metadata": {
        "id": "wzN89AyuC9Ry",
        "colab": {
          "base_uri": "https://localhost:8080/"
        },
        "outputId": "e51b6e0f-720c-427e-c5de-76db52c0f72c"
      },
      "execution_count": 43,
      "outputs": [
        {
          "output_type": "stream",
          "name": "stdout",
          "text": [
            "+-------------------+---------+----+---+-----+----+-----------+------------------+--------------------+----------+\n",
            "|          timestamp|    value|hour|day|month|year|day_of_week|weekday_or_weekend|daytime_or_nighttime|      date|\n",
            "+-------------------+---------+----+---+-----+----+-----------+------------------+--------------------+----------+\n",
            "|2013-07-04 00:00:00| 69.88084|   0|  4|    7|2013|          5|           weekday|           nighttime|2013-07-04|\n",
            "|2013-07-04 01:00:00| 71.22023|   1|  4|    7|2013|          5|           weekday|           nighttime|2013-07-04|\n",
            "|2013-07-04 02:00:00| 70.87781|   2|  4|    7|2013|          5|           weekday|           nighttime|2013-07-04|\n",
            "|2013-07-04 03:00:00|  68.9594|   3|  4|    7|2013|          5|           weekday|           nighttime|2013-07-04|\n",
            "|2013-07-04 04:00:00|69.283554|   4|  4|    7|2013|          5|           weekday|           nighttime|2013-07-04|\n",
            "|2013-07-04 05:00:00| 70.06097|   5|  4|    7|2013|          5|           weekday|           nighttime|2013-07-04|\n",
            "|2013-07-04 06:00:00| 69.27976|   6|  4|    7|2013|          5|           weekday|           nighttime|2013-07-04|\n",
            "|2013-07-04 07:00:00|69.369606|   7|  4|    7|2013|          5|           weekday|             daytime|2013-07-04|\n",
            "|2013-07-04 08:00:00| 69.16672|   8|  4|    7|2013|          5|           weekday|             daytime|2013-07-04|\n",
            "|2013-07-04 09:00:00|68.986084|   9|  4|    7|2013|          5|           weekday|             daytime|2013-07-04|\n",
            "|2013-07-04 10:00:00|69.965065|  10|  4|    7|2013|          5|           weekday|             daytime|2013-07-04|\n",
            "|2013-07-04 11:00:00|  70.5562|  11|  4|    7|2013|          5|           weekday|             daytime|2013-07-04|\n",
            "|2013-07-04 12:00:00|  70.3075|  12|  4|    7|2013|          5|           weekday|             daytime|2013-07-04|\n",
            "|2013-07-04 13:00:00|70.246254|  13|  4|    7|2013|          5|           weekday|             daytime|2013-07-04|\n",
            "|2013-07-04 14:00:00| 69.85491|  14|  4|    7|2013|          5|           weekday|             daytime|2013-07-04|\n",
            "|2013-07-04 15:00:00| 71.64329|  15|  4|    7|2013|          5|           weekday|             daytime|2013-07-04|\n",
            "|2013-07-04 16:00:00| 71.24566|  16|  4|    7|2013|          5|           weekday|             daytime|2013-07-04|\n",
            "|2013-07-04 17:00:00|  70.7451|  17|  4|    7|2013|          5|           weekday|             daytime|2013-07-04|\n",
            "|2013-07-04 18:00:00|  71.3733|  18|  4|    7|2013|          5|           weekday|             daytime|2013-07-04|\n",
            "|2013-07-04 19:00:00| 71.79575|  19|  4|    7|2013|          5|           weekday|             daytime|2013-07-04|\n",
            "+-------------------+---------+----+---+-----+----+-----------+------------------+--------------------+----------+\n",
            "only showing top 20 rows\n",
            "\n"
          ]
        }
      ]
    },
    {
      "cell_type": "code",
      "source": [
        "from pyspark.sql.functions import col\n",
        "df_temp = df_temp.withColumn('value', col('value').cast('float'))\n",
        "daily_temps = df_temp.groupBy(\"date\").avg(\"value\").orderBy('date')\n"
      ],
      "metadata": {
        "id": "4i9DDJPsDNaj"
      },
      "execution_count": null,
      "outputs": []
    },
    {
      "cell_type": "code",
      "source": [
        "daily_temps.show()"
      ],
      "metadata": {
        "colab": {
          "base_uri": "https://localhost:8080/"
        },
        "id": "t3LaQcIqESk5",
        "outputId": "1adb4b8b-359d-4c21-fcbb-a5c9c30a7d17"
      },
      "execution_count": null,
      "outputs": [
        {
          "output_type": "stream",
          "name": "stdout",
          "text": [
            "+----------+-----------------+\n",
            "|      date|       avg(value)|\n",
            "+----------+-----------------+\n",
            "|2013-07-04|70.47084712982178|\n",
            "|2013-07-05|71.35260740915935|\n",
            "|2013-07-06|68.72037506103516|\n",
            "|2013-07-07|64.70680809020996|\n",
            "|2013-07-08|66.31683317820232|\n",
            "|2013-07-09|68.80214722951253|\n",
            "|2013-07-10|69.20755004882812|\n",
            "|2013-07-11|69.98803393046062|\n",
            "|2013-07-12|70.90653991699219|\n",
            "|2013-07-13|69.61227544148763|\n",
            "|2013-07-14|66.77841663360596|\n",
            "|2013-07-15|69.09519735972087|\n",
            "|2013-07-16|71.34799448649089|\n",
            "|2013-07-17|71.60272280375163|\n",
            "|2013-07-18| 72.5618127187093|\n",
            "|2013-07-19|73.70883464813232|\n",
            "|2013-07-20|71.11485354105632|\n",
            "|2013-07-21|66.43986225128174|\n",
            "|2013-07-22|68.20051368077596|\n",
            "|2013-07-23|69.92810185750325|\n",
            "+----------+-----------------+\n",
            "only showing top 20 rows\n",
            "\n"
          ]
        }
      ]
    },
    {
      "cell_type": "code",
      "source": [
        "df_temp.show()"
      ],
      "metadata": {
        "colab": {
          "base_uri": "https://localhost:8080/"
        },
        "id": "VIW_w9cUESha",
        "outputId": "96f9bd80-896f-48e7-d3bc-abec7fc23ac4"
      },
      "execution_count": null,
      "outputs": [
        {
          "output_type": "stream",
          "name": "stdout",
          "text": [
            "+-------------------+---------+----------+\n",
            "|          timestamp|    value|      date|\n",
            "+-------------------+---------+----------+\n",
            "|2013-07-04 00:00:00| 69.88084|2013-07-04|\n",
            "|2013-07-04 01:00:00| 71.22023|2013-07-04|\n",
            "|2013-07-04 02:00:00| 70.87781|2013-07-04|\n",
            "|2013-07-04 03:00:00|  68.9594|2013-07-04|\n",
            "|2013-07-04 04:00:00|69.283554|2013-07-04|\n",
            "|2013-07-04 05:00:00| 70.06097|2013-07-04|\n",
            "|2013-07-04 06:00:00| 69.27976|2013-07-04|\n",
            "|2013-07-04 07:00:00|69.369606|2013-07-04|\n",
            "|2013-07-04 08:00:00| 69.16672|2013-07-04|\n",
            "|2013-07-04 09:00:00|68.986084|2013-07-04|\n",
            "|2013-07-04 10:00:00|69.965065|2013-07-04|\n",
            "|2013-07-04 11:00:00|  70.5562|2013-07-04|\n",
            "|2013-07-04 12:00:00|  70.3075|2013-07-04|\n",
            "|2013-07-04 13:00:00|70.246254|2013-07-04|\n",
            "|2013-07-04 14:00:00| 69.85491|2013-07-04|\n",
            "|2013-07-04 15:00:00| 71.64329|2013-07-04|\n",
            "|2013-07-04 16:00:00| 71.24566|2013-07-04|\n",
            "|2013-07-04 17:00:00|  70.7451|2013-07-04|\n",
            "|2013-07-04 18:00:00|  71.3733|2013-07-04|\n",
            "|2013-07-04 19:00:00| 71.79575|2013-07-04|\n",
            "+-------------------+---------+----------+\n",
            "only showing top 20 rows\n",
            "\n"
          ]
        }
      ]
    },
    {
      "cell_type": "code",
      "source": [
        "max_temp = df_temp.agg({'value':'max'}).collect()[0][0]\n",
        "print(\"Maximum temperature: {}\".format(max_temp))\n"
      ],
      "metadata": {
        "colab": {
          "base_uri": "https://localhost:8080/"
        },
        "id": "dG2UT8nAESfb",
        "outputId": "046684c7-eb78-4c68-e373-75ea5b14dcaa"
      },
      "execution_count": 44,
      "outputs": [
        {
          "output_type": "stream",
          "name": "stdout",
          "text": [
            "Maximum temperature: 86.22321319580078\n"
          ]
        }
      ]
    },
    {
      "cell_type": "code",
      "source": [
        "min_temp = df_temp.agg({'value':'min'}).collect()[0][0]\n",
        "print(\"Minimum temperature: {}\".format(min_temp))\n"
      ],
      "metadata": {
        "colab": {
          "base_uri": "https://localhost:8080/"
        },
        "id": "LAm5To7iESdj",
        "outputId": "52879dbc-a8f3-4508-b105-9f89f53d7f5c"
      },
      "execution_count": 45,
      "outputs": [
        {
          "output_type": "stream",
          "name": "stdout",
          "text": [
            "Minimum temperature: 57.458404541015625\n"
          ]
        }
      ]
    },
    {
      "cell_type": "code",
      "source": [
        "temp_range = max_temp - min_temp"
      ],
      "metadata": {
        "id": "AhlL0mVxESbs"
      },
      "execution_count": 46,
      "outputs": []
    },
    {
      "cell_type": "code",
      "source": [
        "temp_stddev = df_temp.agg({'value':'stddev'}).collect()[0][0]\n",
        "print('temp stddev: {}'.format(temp_stddev))"
      ],
      "metadata": {
        "colab": {
          "base_uri": "https://localhost:8080/"
        },
        "id": "ZpXduYy-ESaB",
        "outputId": "e8c2ae29-838c-413f-f71d-f528a5d346e7"
      },
      "execution_count": 47,
      "outputs": [
        {
          "output_type": "stream",
          "name": "stdout",
          "text": [
            "temp stddev: 4.247509408481414\n"
          ]
        }
      ]
    },
    {
      "cell_type": "code",
      "source": [
        "from pyspark.sql.functions import skewness\n",
        "from pyspark.sql.types import FloatType\n",
        "\n",
        "\n",
        "skewness_value = df_temp.select(skewness(\"value\")).collect()[0][0]\n"
      ],
      "metadata": {
        "id": "xM_99nY4ESYL"
      },
      "execution_count": 48,
      "outputs": []
    },
    {
      "cell_type": "code",
      "source": [
        "print(skewness_value)"
      ],
      "metadata": {
        "colab": {
          "base_uri": "https://localhost:8080/"
        },
        "id": "a0x0oDAcESWV",
        "outputId": "29e76958-19e0-4307-caf1-c590bd4513ad"
      },
      "execution_count": 49,
      "outputs": [
        {
          "output_type": "stream",
          "name": "stdout",
          "text": [
            "-0.3925324581781906\n"
          ]
        }
      ]
    },
    {
      "cell_type": "markdown",
      "source": [
        "slightly more values lowers than the mean."
      ],
      "metadata": {
        "id": "bTmYRV39IP5_"
      }
    },
    {
      "cell_type": "code",
      "source": [
        "import pandas as pd\n",
        "import matplotlib.pyplot as plt\n",
        "\n",
        "fig, ax = plt.subplots()\n",
        "ax.hist(df_temp.select('value').rdd.flatMap(lambda x: x).collect(), bins=50)\n",
        "ax.set_xlabel('Temperature (degrees Celsius)')\n",
        "ax.set_ylabel('Frequency')\n",
        "ax.set_title(f'Histogram of Ambient Temperature Data\\nSkewness: {skewness_value:.2f}')\n",
        "plt.show()"
      ],
      "metadata": {
        "colab": {
          "base_uri": "https://localhost:8080/",
          "height": 310
        },
        "id": "9h7dwZ5ZIPlt",
        "outputId": "e46d65b5-4c44-40b2-b67e-38b91e667857"
      },
      "execution_count": 50,
      "outputs": [
        {
          "output_type": "display_data",
          "data": {
            "text/plain": [
              "<Figure size 432x288 with 1 Axes>"
            ],
            "image/png": "[encoded data removed]"
          },
          "metadata": {
            "needs_background": "light"
          }
        }
      ]
    },
    {
      "cell_type": "code",
      "source": [
        "import pyspark.sql.functions as F\n",
        "kurtosis = df_temp.agg(F.kurtosis('value')).collect()[0][0]\n"
      ],
      "metadata": {
        "id": "kvaX-UDjESUn"
      },
      "execution_count": 51,
      "outputs": []
    },
    {
      "cell_type": "code",
      "source": [
        "print(kurtosis)"
      ],
      "metadata": {
        "colab": {
          "base_uri": "https://localhost:8080/"
        },
        "id": "VlBYECg0ESTN",
        "outputId": "e9b570e9-6e4d-4527-cbeb-61bdd73a53e0"
      },
      "execution_count": 52,
      "outputs": [
        {
          "output_type": "stream",
          "name": "stdout",
          "text": [
            "-0.12128662822123104\n"
          ]
        }
      ]
    },
    {
      "cell_type": "code",
      "source": [
        "\n",
        "# Plot a histogram of the data\n",
        "fig, ax = plt.subplots()\n",
        "ax.hist(df_temp.select('value').rdd.flatMap(lambda x: x).collect(), bins=50)\n",
        "ax.set_xlabel('Temperature (degrees Celsius)')\n",
        "ax.set_ylabel('Frequency')\n",
        "ax.set_title(f'Histogram of Ambient Temperature Data\\nKurtosis: {kurtosis:.2f} (Platykurtic)')\n",
        "plt.show()"
      ],
      "metadata": {
        "colab": {
          "base_uri": "https://localhost:8080/",
          "height": 310
        },
        "id": "r_p5-7JUESRS",
        "outputId": "b2094055-6464-4f3e-a903-404637fc1e8e"
      },
      "execution_count": 53,
      "outputs": [
        {
          "output_type": "display_data",
          "data": {
            "text/plain": [
              "<Figure size 432x288 with 1 Axes>"
            ],
            "image/png": "[encoded data removed]"
          },
          "metadata": {
            "needs_background": "light"
          }
        }
      ]
    },
    {
      "cell_type": "code",
      "source": [
        "weekly_mean = df_temp.groupby('week').agg(avg('temperature'))"
      ],
      "metadata": {
        "colab": {
          "base_uri": "https://localhost:8080/",
          "height": 571
        },
        "id": "K6rgdflyESP9",
        "outputId": "335a5eb6-57c7-483d-9395-1d60f1d5c44a"
      },
      "execution_count": 74,
      "outputs": [
        {
          "output_type": "error",
          "ename": "AnalysisException",
          "evalue": "ignored",
          "traceback": [
            "\u001b[0;31m---------------------------------------------------------------------------\u001b[0m",
            "\u001b[0;31mAnalysisException\u001b[0m                         Traceback (most recent call last)",
            "\u001b[0;32m<ipython-input-74-fc90289c594d>\u001b[0m in \u001b[0;36m<module>\u001b[0;34m\u001b[0m\n\u001b[0;32m----> 1\u001b[0;31m \u001b[0mweekly_mean\u001b[0m \u001b[0;34m=\u001b[0m \u001b[0mdf_temp\u001b[0m\u001b[0;34m.\u001b[0m\u001b[0mgroupby\u001b[0m\u001b[0;34m(\u001b[0m\u001b[0;34m'week'\u001b[0m\u001b[0;34m)\u001b[0m\u001b[0;34m.\u001b[0m\u001b[0magg\u001b[0m\u001b[0;34m(\u001b[0m\u001b[0mavg\u001b[0m\u001b[0;34m(\u001b[0m\u001b[0;34m'temperature'\u001b[0m\u001b[0;34m)\u001b[0m\u001b[0;34m)\u001b[0m\u001b[0;34m\u001b[0m\u001b[0;34m\u001b[0m\u001b[0m\n\u001b[0m",
            "\u001b[0;32m/usr/local/lib/python3.9/dist-packages/pyspark/sql/group.py\u001b[0m in \u001b[0;36magg\u001b[0;34m(self, *exprs)\u001b[0m\n\u001b[1;32m    135\u001b[0m             \u001b[0;32massert\u001b[0m \u001b[0mall\u001b[0m\u001b[0;34m(\u001b[0m\u001b[0misinstance\u001b[0m\u001b[0;34m(\u001b[0m\u001b[0mc\u001b[0m\u001b[0;34m,\u001b[0m \u001b[0mColumn\u001b[0m\u001b[0;34m)\u001b[0m \u001b[0;32mfor\u001b[0m \u001b[0mc\u001b[0m \u001b[0;32min\u001b[0m \u001b[0mexprs\u001b[0m\u001b[0;34m)\u001b[0m\u001b[0;34m,\u001b[0m \u001b[0;34m\"all exprs should be Column\"\u001b[0m\u001b[0;34m\u001b[0m\u001b[0;34m\u001b[0m\u001b[0m\n\u001b[1;32m    136\u001b[0m             \u001b[0mexprs\u001b[0m \u001b[0;34m=\u001b[0m \u001b[0mcast\u001b[0m\u001b[0;34m(\u001b[0m\u001b[0mTuple\u001b[0m\u001b[0;34m[\u001b[0m\u001b[0mColumn\u001b[0m\u001b[0;34m,\u001b[0m \u001b[0;34m...\u001b[0m\u001b[0;34m]\u001b[0m\u001b[0;34m,\u001b[0m \u001b[0mexprs\u001b[0m\u001b[0;34m)\u001b[0m\u001b[0;34m\u001b[0m\u001b[0;34m\u001b[0m\u001b[0m\n\u001b[0;32m--> 137\u001b[0;31m             \u001b[0mjdf\u001b[0m \u001b[0;34m=\u001b[0m \u001b[0mself\u001b[0m\u001b[0;34m.\u001b[0m\u001b[0m_jgd\u001b[0m\u001b[0;34m.\u001b[0m\u001b[0magg\u001b[0m\u001b[0;34m(\u001b[0m\u001b[0mexprs\u001b[0m\u001b[0;34m[\u001b[0m\u001b[0;36m0\u001b[0m\u001b[0;34m]\u001b[0m\u001b[0;34m.\u001b[0m\u001b[0m_jc\u001b[0m\u001b[0;34m,\u001b[0m \u001b[0m_to_seq\u001b[0m\u001b[0;34m(\u001b[0m\u001b[0mself\u001b[0m\u001b[0;34m.\u001b[0m\u001b[0msession\u001b[0m\u001b[0;34m.\u001b[0m\u001b[0m_sc\u001b[0m\u001b[0;34m,\u001b[0m \u001b[0;34m[\u001b[0m\u001b[0mc\u001b[0m\u001b[0;34m.\u001b[0m\u001b[0m_jc\u001b[0m \u001b[0;32mfor\u001b[0m \u001b[0mc\u001b[0m \u001b[0;32min\u001b[0m \u001b[0mexprs\u001b[0m\u001b[0;34m[\u001b[0m\u001b[0;36m1\u001b[0m\u001b[0;34m:\u001b[0m\u001b[0;34m]\u001b[0m\u001b[0;34m]\u001b[0m\u001b[0;34m)\u001b[0m\u001b[0;34m)\u001b[0m\u001b[0;34m\u001b[0m\u001b[0;34m\u001b[0m\u001b[0m\n\u001b[0m\u001b[1;32m    138\u001b[0m         \u001b[0;32mreturn\u001b[0m \u001b[0mDataFrame\u001b[0m\u001b[0;34m(\u001b[0m\u001b[0mjdf\u001b[0m\u001b[0;34m,\u001b[0m \u001b[0mself\u001b[0m\u001b[0;34m.\u001b[0m\u001b[0msession\u001b[0m\u001b[0;34m)\u001b[0m\u001b[0;34m\u001b[0m\u001b[0;34m\u001b[0m\u001b[0m\n\u001b[1;32m    139\u001b[0m \u001b[0;34m\u001b[0m\u001b[0m\n",
            "\u001b[0;32m/usr/local/lib/python3.9/dist-packages/py4j/java_gateway.py\u001b[0m in \u001b[0;36m__call__\u001b[0;34m(self, *args)\u001b[0m\n\u001b[1;32m   1319\u001b[0m \u001b[0;34m\u001b[0m\u001b[0m\n\u001b[1;32m   1320\u001b[0m         \u001b[0manswer\u001b[0m \u001b[0;34m=\u001b[0m \u001b[0mself\u001b[0m\u001b[0;34m.\u001b[0m\u001b[0mgateway_client\u001b[0m\u001b[0;34m.\u001b[0m\u001b[0msend_command\u001b[0m\u001b[0;34m(\u001b[0m\u001b[0mcommand\u001b[0m\u001b[0;34m)\u001b[0m\u001b[0;34m\u001b[0m\u001b[0;34m\u001b[0m\u001b[0m\n\u001b[0;32m-> 1321\u001b[0;31m         return_value = get_return_value(\n\u001b[0m\u001b[1;32m   1322\u001b[0m             answer, self.gateway_client, self.target_id, self.name)\n\u001b[1;32m   1323\u001b[0m \u001b[0;34m\u001b[0m\u001b[0m\n",
            "\u001b[0;32m/usr/local/lib/python3.9/dist-packages/pyspark/sql/utils.py\u001b[0m in \u001b[0;36mdeco\u001b[0;34m(*a, **kw)\u001b[0m\n\u001b[1;32m    194\u001b[0m                 \u001b[0;31m# Hide where the exception came from that shows a non-Pythonic\u001b[0m\u001b[0;34m\u001b[0m\u001b[0;34m\u001b[0m\u001b[0m\n\u001b[1;32m    195\u001b[0m                 \u001b[0;31m# JVM exception message.\u001b[0m\u001b[0;34m\u001b[0m\u001b[0;34m\u001b[0m\u001b[0m\n\u001b[0;32m--> 196\u001b[0;31m                 \u001b[0;32mraise\u001b[0m \u001b[0mconverted\u001b[0m \u001b[0;32mfrom\u001b[0m \u001b[0;32mNone\u001b[0m\u001b[0;34m\u001b[0m\u001b[0;34m\u001b[0m\u001b[0m\n\u001b[0m\u001b[1;32m    197\u001b[0m             \u001b[0;32melse\u001b[0m\u001b[0;34m:\u001b[0m\u001b[0;34m\u001b[0m\u001b[0;34m\u001b[0m\u001b[0m\n\u001b[1;32m    198\u001b[0m                 \u001b[0;32mraise\u001b[0m\u001b[0;34m\u001b[0m\u001b[0;34m\u001b[0m\u001b[0m\n",
            "\u001b[0;31mAnalysisException\u001b[0m: Column 'week' does not exist. Did you mean one of the following? [year, date, day, hour, month, value, day_of_week, timestamp, weekday_or_weekend, daytime_or_nighttime];\n'Aggregate ['week], ['week, avg('temperature) AS avg(temperature)#838]\n+- Project [timestamp#751, value#752, hour#755, day#760, month#765, year#771, day_of_week#778, weekday_or_weekend#786, daytime_or_nighttime#795, date_format(cast(timestamp#751 as timestamp), yyyy-MM-dd, Some(Etc/UTC)) AS date#816]\n   +- Project [timestamp#751, value#752, hour#755, day#760, month#765, year#771, day_of_week#778, weekday_or_weekend#786, CASE WHEN ((hour#755 >= 7) AND (hour#755 <= 19)) THEN daytime ELSE nighttime END AS daytime_or_nighttime#795]\n      +- Project [timestamp#751, value#752, hour#755, day#760, month#765, year#771, day_of_week#778, CASE WHEN ((day_of_week#778 = 1) OR (day_of_week#778 = 7)) THEN weekend ELSE weekday END AS weekday_or_weekend#786]\n         +- Project [timestamp#751, value#752, hour#755, day#760, month#765, year#771, dayofweek(cast(timestamp#751 as date)) AS day_of_week#778]\n            +- Project [timestamp#751, value#752, hour#755, day#760, month#765, year(cast(timestamp#751 as date)) AS year#771]\n               +- Project [timestamp#751, value#752, hour#755, day#760, month(cast(timestamp#751 as date)) AS month#765]\n                  +- Project [timestamp#751, value#752, hour#755, dayofmonth(cast(timestamp#751 as date)) AS day#760]\n                     +- Project [timestamp#751, value#752, hour(cast(timestamp#751 as timestamp), Some(Etc/UTC)) AS hour#755]\n                        +- Relation [timestamp#751,value#752] csv\n"
          ]
        }
      ]
    },
    {
      "cell_type": "code",
      "source": [
        "df_temp.show()"
      ],
      "metadata": {
        "colab": {
          "base_uri": "https://localhost:8080/"
        },
        "id": "YWttNP7mESMx",
        "outputId": "d252e0f4-3b66-46aa-fbe1-ec1081ed4e2a"
      },
      "execution_count": null,
      "outputs": [
        {
          "output_type": "stream",
          "name": "stdout",
          "text": [
            "+-------------------+---------+----------+\n",
            "|          timestamp|    value|      date|\n",
            "+-------------------+---------+----------+\n",
            "|2013-07-04 00:00:00| 69.88084|2013-07-04|\n",
            "|2013-07-04 01:00:00| 71.22023|2013-07-04|\n",
            "|2013-07-04 02:00:00| 70.87781|2013-07-04|\n",
            "|2013-07-04 03:00:00|  68.9594|2013-07-04|\n",
            "|2013-07-04 04:00:00|69.283554|2013-07-04|\n",
            "|2013-07-04 05:00:00| 70.06097|2013-07-04|\n",
            "|2013-07-04 06:00:00| 69.27976|2013-07-04|\n",
            "|2013-07-04 07:00:00|69.369606|2013-07-04|\n",
            "|2013-07-04 08:00:00| 69.16672|2013-07-04|\n",
            "|2013-07-04 09:00:00|68.986084|2013-07-04|\n",
            "|2013-07-04 10:00:00|69.965065|2013-07-04|\n",
            "|2013-07-04 11:00:00|  70.5562|2013-07-04|\n",
            "|2013-07-04 12:00:00|  70.3075|2013-07-04|\n",
            "|2013-07-04 13:00:00|70.246254|2013-07-04|\n",
            "|2013-07-04 14:00:00| 69.85491|2013-07-04|\n",
            "|2013-07-04 15:00:00| 71.64329|2013-07-04|\n",
            "|2013-07-04 16:00:00| 71.24566|2013-07-04|\n",
            "|2013-07-04 17:00:00|  70.7451|2013-07-04|\n",
            "|2013-07-04 18:00:00|  71.3733|2013-07-04|\n",
            "|2013-07-04 19:00:00| 71.79575|2013-07-04|\n",
            "+-------------------+---------+----------+\n",
            "only showing top 20 rows\n",
            "\n"
          ]
        }
      ]
    },
    {
      "cell_type": "code",
      "source": [
        "from pyspark.sql.functions import weekofyear\n",
        "\n",
        "df_temp = df_temp.withColumn('week', weekofyear('timestamp'))\n"
      ],
      "metadata": {
        "id": "5qP-U-GMESK7"
      },
      "execution_count": 75,
      "outputs": []
    },
    {
      "cell_type": "code",
      "source": [
        "df_temp.show()"
      ],
      "metadata": {
        "colab": {
          "base_uri": "https://localhost:8080/"
        },
        "id": "cqlKom3SESJJ",
        "outputId": "43bccac6-7410-4a1f-871d-85401c7c7051"
      },
      "execution_count": 76,
      "outputs": [
        {
          "output_type": "stream",
          "name": "stdout",
          "text": [
            "+-------------------+-----------+----+---+-----+----+-----------+------------------+--------------------+----------+----+\n",
            "|          timestamp|      value|hour|day|month|year|day_of_week|weekday_or_weekend|daytime_or_nighttime|      date|week|\n",
            "+-------------------+-----------+----+---+-----+----+-----------+------------------+--------------------+----------+----+\n",
            "|2013-07-04 00:00:00|69.88083514|   0|  4|    7|2013|          5|           weekday|           nighttime|2013-07-04|  27|\n",
            "|2013-07-04 01:00:00|71.22022706|   1|  4|    7|2013|          5|           weekday|           nighttime|2013-07-04|  27|\n",
            "|2013-07-04 02:00:00|70.87780496|   2|  4|    7|2013|          5|           weekday|           nighttime|2013-07-04|  27|\n",
            "|2013-07-04 03:00:00|68.95939994|   3|  4|    7|2013|          5|           weekday|           nighttime|2013-07-04|  27|\n",
            "|2013-07-04 04:00:00|69.28355102|   4|  4|    7|2013|          5|           weekday|           nighttime|2013-07-04|  27|\n",
            "|2013-07-04 05:00:00|70.06096581|   5|  4|    7|2013|          5|           weekday|           nighttime|2013-07-04|  27|\n",
            "|2013-07-04 06:00:00|69.27976479|   6|  4|    7|2013|          5|           weekday|           nighttime|2013-07-04|  27|\n",
            "|2013-07-04 07:00:00|69.36960846|   7|  4|    7|2013|          5|           weekday|             daytime|2013-07-04|  27|\n",
            "|2013-07-04 08:00:00|69.16671394|   8|  4|    7|2013|          5|           weekday|             daytime|2013-07-04|  27|\n",
            "|2013-07-04 09:00:00|68.98608257|   9|  4|    7|2013|          5|           weekday|             daytime|2013-07-04|  27|\n",
            "|2013-07-04 10:00:00|69.96506224|  10|  4|    7|2013|          5|           weekday|             daytime|2013-07-04|  27|\n",
            "|2013-07-04 11:00:00|70.55619466|  11|  4|    7|2013|          5|           weekday|             daytime|2013-07-04|  27|\n",
            "|2013-07-04 12:00:00|70.30750511|  12|  4|    7|2013|          5|           weekday|             daytime|2013-07-04|  27|\n",
            "|2013-07-04 13:00:00|70.24625215|  13|  4|    7|2013|          5|           weekday|             daytime|2013-07-04|  27|\n",
            "|2013-07-04 14:00:00|69.85490839|  14|  4|    7|2013|          5|           weekday|             daytime|2013-07-04|  27|\n",
            "|2013-07-04 15:00:00|71.64329118|  15|  4|    7|2013|          5|           weekday|             daytime|2013-07-04|  27|\n",
            "|2013-07-04 16:00:00|71.24565942|  16|  4|    7|2013|          5|           weekday|             daytime|2013-07-04|  27|\n",
            "|2013-07-04 17:00:00|70.74509976|  17|  4|    7|2013|          5|           weekday|             daytime|2013-07-04|  27|\n",
            "|2013-07-04 18:00:00|71.37329829|  18|  4|    7|2013|          5|           weekday|             daytime|2013-07-04|  27|\n",
            "|2013-07-04 19:00:00| 71.7957509|  19|  4|    7|2013|          5|           weekday|             daytime|2013-07-04|  27|\n",
            "+-------------------+-----------+----+---+-----+----+-----------+------------------+--------------------+----------+----+\n",
            "only showing top 20 rows\n",
            "\n"
          ]
        }
      ]
    },
    {
      "cell_type": "code",
      "source": [
        "from pyspark.sql.functions import avg\n",
        "weekly_mean = df_temp.groupBy('week').agg(avg('value')).orderBy('week')\n"
      ],
      "metadata": {
        "id": "KrbX9wOXESHD"
      },
      "execution_count": null,
      "outputs": []
    },
    {
      "cell_type": "code",
      "source": [
        "weekly_mean.show()"
      ],
      "metadata": {
        "colab": {
          "base_uri": "https://localhost:8080/"
        },
        "id": "udNhv5hGESFZ",
        "outputId": "9e7bcb76-1f90-43ad-8d4f-fe0f8a523f56"
      },
      "execution_count": null,
      "outputs": [
        {
          "output_type": "stream",
          "name": "stdout",
          "text": [
            "+----+-----------------+\n",
            "|week|       avg(value)|\n",
            "+----+-----------------+\n",
            "|   1| 75.6577277410598|\n",
            "|   2|75.26051684788295|\n",
            "|   3|75.06641397022065|\n",
            "|   4|73.32458023797898|\n",
            "|   5|71.72356010618664|\n",
            "|   6| 72.6094315846761|\n",
            "|   7|71.32547310420445|\n",
            "|   8|70.44444629124233|\n",
            "|   9| 71.5588383030247|\n",
            "|  10|66.91585922241211|\n",
            "|  11|68.25382661819458|\n",
            "|  12|67.59528856392366|\n",
            "|  13|67.96702855593199|\n",
            "|  14|68.13654755383003|\n",
            "|  15| 64.0205763357657|\n",
            "|  16|65.77348886217389|\n",
            "|  17|67.00948474520729|\n",
            "|  18|65.25208386920747|\n",
            "|  19|66.38945654460362|\n",
            "|  20|66.45565141950335|\n",
            "+----+-----------------+\n",
            "only showing top 20 rows\n",
            "\n"
          ]
        }
      ]
    },
    {
      "cell_type": "code",
      "source": [
        "from pyspark.sql.functions import stddev, max, min\n",
        "\n",
        "weekly_stddev = df_temp.groupBy('week').agg(stddev('value')).orderBy('week')\n"
      ],
      "metadata": {
        "id": "bCqXmmMSESDv"
      },
      "execution_count": null,
      "outputs": []
    },
    {
      "cell_type": "code",
      "source": [
        "weekly_stddev.show()"
      ],
      "metadata": {
        "colab": {
          "base_uri": "https://localhost:8080/"
        },
        "id": "2QEtaIG2ESB5",
        "outputId": "9774c882-0319-4f97-baaf-0a07077af2cd"
      },
      "execution_count": null,
      "outputs": [
        {
          "output_type": "stream",
          "name": "stdout",
          "text": [
            "+----+------------------+\n",
            "|week|stddev_samp(value)|\n",
            "+----+------------------+\n",
            "|   1|1.4736922133242254|\n",
            "|   2| 1.524349421209301|\n",
            "|   3| 1.810258144018254|\n",
            "|   4| 1.632211629041752|\n",
            "|   5| 1.521452744006231|\n",
            "|   6|1.4467009517151084|\n",
            "|   7|2.6054334123517884|\n",
            "|   8|2.0800125827234877|\n",
            "|   9| 2.591973062069365|\n",
            "|  10|2.6430707077400624|\n",
            "|  11| 2.691817635010105|\n",
            "|  12|3.0405630139875104|\n",
            "|  13|2.5282586035788404|\n",
            "|  14|  2.55566351743775|\n",
            "|  15| 4.031756790339654|\n",
            "|  16| 3.313518761592206|\n",
            "|  17| 2.720392089273927|\n",
            "|  18|1.7207826958629557|\n",
            "|  19|2.8378375592300755|\n",
            "|  20|3.5319381483079253|\n",
            "+----+------------------+\n",
            "only showing top 20 rows\n",
            "\n"
          ]
        }
      ]
    },
    {
      "cell_type": "code",
      "source": [
        "import matplotlib.pyplot as plt\n",
        "\n",
        "# Extract the week and standard deviation values as separate lists\n",
        "weeks = [row['week'] for row in weekly_stddev.collect()]\n",
        "std_devs = [row['stddev_samp(value)'] for row in weekly_stddev.collect()]\n",
        "\n",
        "# Create the bar chart\n",
        "plt.bar(weeks, std_devs)\n",
        "plt.xlabel('Week')\n",
        "plt.ylabel('Standard Deviation')\n",
        "plt.title('Standard Deviation of Ambient Temperature by Week')\n",
        "plt.show()\n"
      ],
      "metadata": {
        "colab": {
          "base_uri": "https://localhost:8080/",
          "height": 295
        },
        "id": "D9hVrpMXESAK",
        "outputId": "5e88719b-f408-4dd2-dba7-4fc14eb592a6"
      },
      "execution_count": null,
      "outputs": [
        {
          "output_type": "display_data",
          "data": {
            "text/plain": [
              "<Figure size 432x288 with 1 Axes>"
            ],
            "image/png": "[encoded data removed]"
          },
          "metadata": {
            "needs_background": "light"
          }
        }
      ]
    },
    {
      "cell_type": "code",
      "source": [
        "df = df_temp"
      ],
      "metadata": {
        "id": "aInaW7FwER-Q"
      },
      "execution_count": 77,
      "outputs": []
    },
    {
      "cell_type": "code",
      "source": [
        "from pyspark.ml.feature import VectorAssembler\n",
        "from pyspark.ml.regression import LinearRegression"
      ],
      "metadata": {
        "id": "AW3rq6v3ER8l"
      },
      "execution_count": 78,
      "outputs": []
    },
    {
      "cell_type": "code",
      "source": [
        "assembler = VectorAssembler(inputCols = ['date'], outputCol = 'features')"
      ],
      "metadata": {
        "id": "j0VzQ0FkShD3"
      },
      "execution_count": null,
      "outputs": []
    },
    {
      "cell_type": "code",
      "source": [
        "lr = LinearRegression(featuresCol='features', labelCol='temperature')\n",
        "df_temp = lr.fit(assembler.transform(df_temp)).coefficients[0]"
      ],
      "metadata": {
        "colab": {
          "base_uri": "https://localhost:8080/",
          "height": 328
        },
        "id": "n981WOTNER64",
        "outputId": "de50c5c0-b2e2-4f3e-f973-730e8b122e04"
      },
      "execution_count": null,
      "outputs": [
        {
          "output_type": "error",
          "ename": "IllegalArgumentException",
          "evalue": "ignored",
          "traceback": [
            "\u001b[0;31m---------------------------------------------------------------------------\u001b[0m",
            "\u001b[0;31mIllegalArgumentException\u001b[0m                  Traceback (most recent call last)",
            "\u001b[0;32m<ipython-input-101-34c19faa20cf>\u001b[0m in \u001b[0;36m<module>\u001b[0;34m\u001b[0m\n\u001b[1;32m      1\u001b[0m \u001b[0mlr\u001b[0m \u001b[0;34m=\u001b[0m \u001b[0mLinearRegression\u001b[0m\u001b[0;34m(\u001b[0m\u001b[0mfeaturesCol\u001b[0m\u001b[0;34m=\u001b[0m\u001b[0;34m'features'\u001b[0m\u001b[0;34m,\u001b[0m \u001b[0mlabelCol\u001b[0m\u001b[0;34m=\u001b[0m\u001b[0;34m'temperature'\u001b[0m\u001b[0;34m)\u001b[0m\u001b[0;34m\u001b[0m\u001b[0;34m\u001b[0m\u001b[0m\n\u001b[0;32m----> 2\u001b[0;31m \u001b[0mdf_temp\u001b[0m \u001b[0;34m=\u001b[0m \u001b[0mlr\u001b[0m\u001b[0;34m.\u001b[0m\u001b[0mfit\u001b[0m\u001b[0;34m(\u001b[0m\u001b[0massembler\u001b[0m\u001b[0;34m.\u001b[0m\u001b[0mtransform\u001b[0m\u001b[0;34m(\u001b[0m\u001b[0mdf_temp\u001b[0m\u001b[0;34m)\u001b[0m\u001b[0;34m)\u001b[0m\u001b[0;34m.\u001b[0m\u001b[0mcoefficients\u001b[0m\u001b[0;34m[\u001b[0m\u001b[0;36m0\u001b[0m\u001b[0;34m]\u001b[0m\u001b[0;34m\u001b[0m\u001b[0;34m\u001b[0m\u001b[0m\n\u001b[0m",
            "\u001b[0;32m/usr/local/lib/python3.9/dist-packages/pyspark/ml/base.py\u001b[0m in \u001b[0;36mtransform\u001b[0;34m(self, dataset, params)\u001b[0m\n\u001b[1;32m    260\u001b[0m                 \u001b[0;32mreturn\u001b[0m \u001b[0mself\u001b[0m\u001b[0;34m.\u001b[0m\u001b[0mcopy\u001b[0m\u001b[0;34m(\u001b[0m\u001b[0mparams\u001b[0m\u001b[0;34m)\u001b[0m\u001b[0;34m.\u001b[0m\u001b[0m_transform\u001b[0m\u001b[0;34m(\u001b[0m\u001b[0mdataset\u001b[0m\u001b[0;34m)\u001b[0m\u001b[0;34m\u001b[0m\u001b[0;34m\u001b[0m\u001b[0m\n\u001b[1;32m    261\u001b[0m             \u001b[0;32melse\u001b[0m\u001b[0;34m:\u001b[0m\u001b[0;34m\u001b[0m\u001b[0;34m\u001b[0m\u001b[0m\n\u001b[0;32m--> 262\u001b[0;31m                 \u001b[0;32mreturn\u001b[0m \u001b[0mself\u001b[0m\u001b[0;34m.\u001b[0m\u001b[0m_transform\u001b[0m\u001b[0;34m(\u001b[0m\u001b[0mdataset\u001b[0m\u001b[0;34m)\u001b[0m\u001b[0;34m\u001b[0m\u001b[0;34m\u001b[0m\u001b[0m\n\u001b[0m\u001b[1;32m    263\u001b[0m         \u001b[0;32melse\u001b[0m\u001b[0;34m:\u001b[0m\u001b[0;34m\u001b[0m\u001b[0;34m\u001b[0m\u001b[0m\n\u001b[1;32m    264\u001b[0m             \u001b[0;32mraise\u001b[0m \u001b[0mTypeError\u001b[0m\u001b[0;34m(\u001b[0m\u001b[0;34m\"Params must be a param map but got %s.\"\u001b[0m \u001b[0;34m%\u001b[0m \u001b[0mtype\u001b[0m\u001b[0;34m(\u001b[0m\u001b[0mparams\u001b[0m\u001b[0;34m)\u001b[0m\u001b[0;34m)\u001b[0m\u001b[0;34m\u001b[0m\u001b[0;34m\u001b[0m\u001b[0m\n",
            "\u001b[0;32m/usr/local/lib/python3.9/dist-packages/pyspark/ml/wrapper.py\u001b[0m in \u001b[0;36m_transform\u001b[0;34m(self, dataset)\u001b[0m\n\u001b[1;32m    398\u001b[0m \u001b[0;34m\u001b[0m\u001b[0m\n\u001b[1;32m    399\u001b[0m         \u001b[0mself\u001b[0m\u001b[0;34m.\u001b[0m\u001b[0m_transfer_params_to_java\u001b[0m\u001b[0;34m(\u001b[0m\u001b[0;34m)\u001b[0m\u001b[0;34m\u001b[0m\u001b[0;34m\u001b[0m\u001b[0m\n\u001b[0;32m--> 400\u001b[0;31m         \u001b[0;32mreturn\u001b[0m \u001b[0mDataFrame\u001b[0m\u001b[0;34m(\u001b[0m\u001b[0mself\u001b[0m\u001b[0;34m.\u001b[0m\u001b[0m_java_obj\u001b[0m\u001b[0;34m.\u001b[0m\u001b[0mtransform\u001b[0m\u001b[0;34m(\u001b[0m\u001b[0mdataset\u001b[0m\u001b[0;34m.\u001b[0m\u001b[0m_jdf\u001b[0m\u001b[0;34m)\u001b[0m\u001b[0;34m,\u001b[0m \u001b[0mdataset\u001b[0m\u001b[0;34m.\u001b[0m\u001b[0msparkSession\u001b[0m\u001b[0;34m)\u001b[0m\u001b[0;34m\u001b[0m\u001b[0;34m\u001b[0m\u001b[0m\n\u001b[0m\u001b[1;32m    401\u001b[0m \u001b[0;34m\u001b[0m\u001b[0m\n\u001b[1;32m    402\u001b[0m \u001b[0;34m\u001b[0m\u001b[0m\n",
            "\u001b[0;32m/usr/local/lib/python3.9/dist-packages/py4j/java_gateway.py\u001b[0m in \u001b[0;36m__call__\u001b[0;34m(self, *args)\u001b[0m\n\u001b[1;32m   1319\u001b[0m \u001b[0;34m\u001b[0m\u001b[0m\n\u001b[1;32m   1320\u001b[0m         \u001b[0manswer\u001b[0m \u001b[0;34m=\u001b[0m \u001b[0mself\u001b[0m\u001b[0;34m.\u001b[0m\u001b[0mgateway_client\u001b[0m\u001b[0;34m.\u001b[0m\u001b[0msend_command\u001b[0m\u001b[0;34m(\u001b[0m\u001b[0mcommand\u001b[0m\u001b[0;34m)\u001b[0m\u001b[0;34m\u001b[0m\u001b[0;34m\u001b[0m\u001b[0m\n\u001b[0;32m-> 1321\u001b[0;31m         return_value = get_return_value(\n\u001b[0m\u001b[1;32m   1322\u001b[0m             answer, self.gateway_client, self.target_id, self.name)\n\u001b[1;32m   1323\u001b[0m \u001b[0;34m\u001b[0m\u001b[0m\n",
            "\u001b[0;32m/usr/local/lib/python3.9/dist-packages/pyspark/sql/utils.py\u001b[0m in \u001b[0;36mdeco\u001b[0;34m(*a, **kw)\u001b[0m\n\u001b[1;32m    194\u001b[0m                 \u001b[0;31m# Hide where the exception came from that shows a non-Pythonic\u001b[0m\u001b[0;34m\u001b[0m\u001b[0;34m\u001b[0m\u001b[0m\n\u001b[1;32m    195\u001b[0m                 \u001b[0;31m# JVM exception message.\u001b[0m\u001b[0;34m\u001b[0m\u001b[0;34m\u001b[0m\u001b[0m\n\u001b[0;32m--> 196\u001b[0;31m                 \u001b[0;32mraise\u001b[0m \u001b[0mconverted\u001b[0m \u001b[0;32mfrom\u001b[0m \u001b[0;32mNone\u001b[0m\u001b[0;34m\u001b[0m\u001b[0;34m\u001b[0m\u001b[0m\n\u001b[0m\u001b[1;32m    197\u001b[0m             \u001b[0;32melse\u001b[0m\u001b[0;34m:\u001b[0m\u001b[0;34m\u001b[0m\u001b[0;34m\u001b[0m\u001b[0m\n\u001b[1;32m    198\u001b[0m                 \u001b[0;32mraise\u001b[0m\u001b[0;34m\u001b[0m\u001b[0;34m\u001b[0m\u001b[0m\n",
            "\u001b[0;31mIllegalArgumentException\u001b[0m: Data type string of column date is not supported."
          ]
        }
      ]
    },
    {
      "cell_type": "code",
      "source": [
        "weekly_mean.show()"
      ],
      "metadata": {
        "colab": {
          "base_uri": "https://localhost:8080/"
        },
        "id": "Bmr6wll3ER3G",
        "outputId": "540fec73-2933-4980-c0c6-4c93f155f641"
      },
      "execution_count": null,
      "outputs": [
        {
          "output_type": "stream",
          "name": "stdout",
          "text": [
            "+----+-----------------+\n",
            "|week|       avg(value)|\n",
            "+----+-----------------+\n",
            "|   1| 75.6577277410598|\n",
            "|   2|75.26051684788295|\n",
            "|   3|75.06641397022065|\n",
            "|   4|73.32458023797898|\n",
            "|   5|71.72356010618664|\n",
            "|   6| 72.6094315846761|\n",
            "|   7|71.32547310420445|\n",
            "|   8|70.44444629124233|\n",
            "|   9| 71.5588383030247|\n",
            "|  10|66.91585922241211|\n",
            "|  11|68.25382661819458|\n",
            "|  12|67.59528856392366|\n",
            "|  13|67.96702855593199|\n",
            "|  14|68.13654755383003|\n",
            "|  15| 64.0205763357657|\n",
            "|  16|65.77348886217389|\n",
            "|  17|67.00948474520729|\n",
            "|  18|65.25208386920747|\n",
            "|  19|66.38945654460362|\n",
            "|  20|66.45565141950335|\n",
            "+----+-----------------+\n",
            "only showing top 20 rows\n",
            "\n"
          ]
        }
      ]
    },
    {
      "cell_type": "code",
      "source": [
        "daily_mean = df_temp.groupBy('date').agg(avg('value')).orderBy('date')\n"
      ],
      "metadata": {
        "id": "xDygRGTXUdzu"
      },
      "execution_count": 79,
      "outputs": []
    },
    {
      "cell_type": "code",
      "source": [
        "df_temp.show()"
      ],
      "metadata": {
        "colab": {
          "base_uri": "https://localhost:8080/"
        },
        "id": "g-OI4SLHUdxU",
        "outputId": "5d9ab02f-8358-4309-cba0-358ead47dee2"
      },
      "execution_count": 80,
      "outputs": [
        {
          "output_type": "stream",
          "name": "stdout",
          "text": [
            "+-------------------+-----------+----+---+-----+----+-----------+------------------+--------------------+----------+----+\n",
            "|          timestamp|      value|hour|day|month|year|day_of_week|weekday_or_weekend|daytime_or_nighttime|      date|week|\n",
            "+-------------------+-----------+----+---+-----+----+-----------+------------------+--------------------+----------+----+\n",
            "|2013-07-04 00:00:00|69.88083514|   0|  4|    7|2013|          5|           weekday|           nighttime|2013-07-04|  27|\n",
            "|2013-07-04 01:00:00|71.22022706|   1|  4|    7|2013|          5|           weekday|           nighttime|2013-07-04|  27|\n",
            "|2013-07-04 02:00:00|70.87780496|   2|  4|    7|2013|          5|           weekday|           nighttime|2013-07-04|  27|\n",
            "|2013-07-04 03:00:00|68.95939994|   3|  4|    7|2013|          5|           weekday|           nighttime|2013-07-04|  27|\n",
            "|2013-07-04 04:00:00|69.28355102|   4|  4|    7|2013|          5|           weekday|           nighttime|2013-07-04|  27|\n",
            "|2013-07-04 05:00:00|70.06096581|   5|  4|    7|2013|          5|           weekday|           nighttime|2013-07-04|  27|\n",
            "|2013-07-04 06:00:00|69.27976479|   6|  4|    7|2013|          5|           weekday|           nighttime|2013-07-04|  27|\n",
            "|2013-07-04 07:00:00|69.36960846|   7|  4|    7|2013|          5|           weekday|             daytime|2013-07-04|  27|\n",
            "|2013-07-04 08:00:00|69.16671394|   8|  4|    7|2013|          5|           weekday|             daytime|2013-07-04|  27|\n",
            "|2013-07-04 09:00:00|68.98608257|   9|  4|    7|2013|          5|           weekday|             daytime|2013-07-04|  27|\n",
            "|2013-07-04 10:00:00|69.96506224|  10|  4|    7|2013|          5|           weekday|             daytime|2013-07-04|  27|\n",
            "|2013-07-04 11:00:00|70.55619466|  11|  4|    7|2013|          5|           weekday|             daytime|2013-07-04|  27|\n",
            "|2013-07-04 12:00:00|70.30750511|  12|  4|    7|2013|          5|           weekday|             daytime|2013-07-04|  27|\n",
            "|2013-07-04 13:00:00|70.24625215|  13|  4|    7|2013|          5|           weekday|             daytime|2013-07-04|  27|\n",
            "|2013-07-04 14:00:00|69.85490839|  14|  4|    7|2013|          5|           weekday|             daytime|2013-07-04|  27|\n",
            "|2013-07-04 15:00:00|71.64329118|  15|  4|    7|2013|          5|           weekday|             daytime|2013-07-04|  27|\n",
            "|2013-07-04 16:00:00|71.24565942|  16|  4|    7|2013|          5|           weekday|             daytime|2013-07-04|  27|\n",
            "|2013-07-04 17:00:00|70.74509976|  17|  4|    7|2013|          5|           weekday|             daytime|2013-07-04|  27|\n",
            "|2013-07-04 18:00:00|71.37329829|  18|  4|    7|2013|          5|           weekday|             daytime|2013-07-04|  27|\n",
            "|2013-07-04 19:00:00| 71.7957509|  19|  4|    7|2013|          5|           weekday|             daytime|2013-07-04|  27|\n",
            "+-------------------+-----------+----+---+-----+----+-----------+------------------+--------------------+----------+----+\n",
            "only showing top 20 rows\n",
            "\n"
          ]
        }
      ]
    },
    {
      "cell_type": "code",
      "source": [
        "daily_mean = weekly_mean.withColumn('year', year('date')) \\\n",
        "                 .withColumn('month', month('date')) \\\n",
        "                 .withColumn('day', dayofmonth('date'))"
      ],
      "metadata": {
        "id": "8ahk3kf6Uduo",
        "colab": {
          "base_uri": "https://localhost:8080/",
          "height": 200
        },
        "outputId": "a7af58fd-9d73-43cc-d73b-b9cc2e53ee73"
      },
      "execution_count": 81,
      "outputs": [
        {
          "output_type": "error",
          "ename": "NameError",
          "evalue": "ignored",
          "traceback": [
            "\u001b[0;31m---------------------------------------------------------------------------\u001b[0m",
            "\u001b[0;31mNameError\u001b[0m                                 Traceback (most recent call last)",
            "\u001b[0;32m<ipython-input-81-bdfd205a6e19>\u001b[0m in \u001b[0;36m<module>\u001b[0;34m\u001b[0m\n\u001b[0;32m----> 1\u001b[0;31m \u001b[0mdaily_mean\u001b[0m \u001b[0;34m=\u001b[0m \u001b[0mweekly_mean\u001b[0m\u001b[0;34m.\u001b[0m\u001b[0mwithColumn\u001b[0m\u001b[0;34m(\u001b[0m\u001b[0;34m'year'\u001b[0m\u001b[0;34m,\u001b[0m \u001b[0myear\u001b[0m\u001b[0;34m(\u001b[0m\u001b[0;34m'date'\u001b[0m\u001b[0;34m)\u001b[0m\u001b[0;34m)\u001b[0m\u001b[0;31m \u001b[0m\u001b[0;31m\\\u001b[0m\u001b[0;34m\u001b[0m\u001b[0;34m\u001b[0m\u001b[0m\n\u001b[0m\u001b[1;32m      2\u001b[0m                  \u001b[0;34m.\u001b[0m\u001b[0mwithColumn\u001b[0m\u001b[0;34m(\u001b[0m\u001b[0;34m'month'\u001b[0m\u001b[0;34m,\u001b[0m \u001b[0mmonth\u001b[0m\u001b[0;34m(\u001b[0m\u001b[0;34m'date'\u001b[0m\u001b[0;34m)\u001b[0m\u001b[0;34m)\u001b[0m\u001b[0;31m \u001b[0m\u001b[0;31m\\\u001b[0m\u001b[0;34m\u001b[0m\u001b[0;34m\u001b[0m\u001b[0m\n\u001b[1;32m      3\u001b[0m                  \u001b[0;34m.\u001b[0m\u001b[0mwithColumn\u001b[0m\u001b[0;34m(\u001b[0m\u001b[0;34m'day'\u001b[0m\u001b[0;34m,\u001b[0m \u001b[0mdayofmonth\u001b[0m\u001b[0;34m(\u001b[0m\u001b[0;34m'date'\u001b[0m\u001b[0;34m)\u001b[0m\u001b[0;34m)\u001b[0m\u001b[0;34m\u001b[0m\u001b[0;34m\u001b[0m\u001b[0m\n",
            "\u001b[0;31mNameError\u001b[0m: name 'weekly_mean' is not defined"
          ]
        }
      ]
    },
    {
      "cell_type": "code",
      "source": [
        "assembler = VectorAssembler(inputCols=['year', 'month', 'day'], outputCol='features')\n"
      ],
      "metadata": {
        "id": "icijy0ioUdsq"
      },
      "execution_count": null,
      "outputs": []
    },
    {
      "cell_type": "code",
      "source": [
        "lr = LinearRegression(featuresCol='features', labelCol='avg(value)')"
      ],
      "metadata": {
        "id": "2pOCkiiMUdpY"
      },
      "execution_count": null,
      "outputs": []
    },
    {
      "cell_type": "code",
      "source": [
        "daily_lr = lr.fit(assembler.transform(daily_mean)).coefficients[0]"
      ],
      "metadata": {
        "id": "3fSQQehGUdm4"
      },
      "execution_count": null,
      "outputs": []
    },
    {
      "cell_type": "code",
      "source": [
        "weekly_assembler = VectorAssembler(inputCols=['week'], outputCol='features')\n",
        "weekly_lr = LinearRegression(featuresCol='features', labelCol='avg(value)')\n",
        "weekly_lr_model = weekly_lr.fit(weekly_assembler.transform(weekly_mean.groupBy('week').agg(avg('avg(value)').alias('avg(value)')).withColumnRenamed('week', 'week')))"
      ],
      "metadata": {
        "id": "DsVq5TxRUdk5"
      },
      "execution_count": null,
      "outputs": []
    },
    {
      "cell_type": "code",
      "source": [
        "slope = weekly_lr_model.coefficients[0]"
      ],
      "metadata": {
        "id": "QaxjCUTsUdiQ"
      },
      "execution_count": null,
      "outputs": []
    },
    {
      "cell_type": "code",
      "source": [
        "df_temp.show()\n",
        "weekly_mean = weekly_mean.withColumn('date', df_temp.date)"
      ],
      "metadata": {
        "colab": {
          "base_uri": "https://localhost:8080/",
          "height": 953
        },
        "id": "7x25GkNIp-m-",
        "outputId": "7900c313-8095-4955-fbb4-1efd093c8f4a"
      },
      "execution_count": null,
      "outputs": [
        {
          "output_type": "stream",
          "name": "stdout",
          "text": [
            "+-------------------+---------+----------+----+\n",
            "|          timestamp|    value|      date|week|\n",
            "+-------------------+---------+----------+----+\n",
            "|2013-07-04 00:00:00| 69.88084|2013-07-04|  27|\n",
            "|2013-07-04 01:00:00| 71.22023|2013-07-04|  27|\n",
            "|2013-07-04 02:00:00| 70.87781|2013-07-04|  27|\n",
            "|2013-07-04 03:00:00|  68.9594|2013-07-04|  27|\n",
            "|2013-07-04 04:00:00|69.283554|2013-07-04|  27|\n",
            "|2013-07-04 05:00:00| 70.06097|2013-07-04|  27|\n",
            "|2013-07-04 06:00:00| 69.27976|2013-07-04|  27|\n",
            "|2013-07-04 07:00:00|69.369606|2013-07-04|  27|\n",
            "|2013-07-04 08:00:00| 69.16672|2013-07-04|  27|\n",
            "|2013-07-04 09:00:00|68.986084|2013-07-04|  27|\n",
            "|2013-07-04 10:00:00|69.965065|2013-07-04|  27|\n",
            "|2013-07-04 11:00:00|  70.5562|2013-07-04|  27|\n",
            "|2013-07-04 12:00:00|  70.3075|2013-07-04|  27|\n",
            "|2013-07-04 13:00:00|70.246254|2013-07-04|  27|\n",
            "|2013-07-04 14:00:00| 69.85491|2013-07-04|  27|\n",
            "|2013-07-04 15:00:00| 71.64329|2013-07-04|  27|\n",
            "|2013-07-04 16:00:00| 71.24566|2013-07-04|  27|\n",
            "|2013-07-04 17:00:00|  70.7451|2013-07-04|  27|\n",
            "|2013-07-04 18:00:00|  71.3733|2013-07-04|  27|\n",
            "|2013-07-04 19:00:00| 71.79575|2013-07-04|  27|\n",
            "+-------------------+---------+----------+----+\n",
            "only showing top 20 rows\n",
            "\n"
          ]
        },
        {
          "output_type": "error",
          "ename": "AnalysisException",
          "evalue": "ignored",
          "traceback": [
            "\u001b[0;31m---------------------------------------------------------------------------\u001b[0m",
            "\u001b[0;31mAnalysisException\u001b[0m                         Traceback (most recent call last)",
            "\u001b[0;32m<ipython-input-147-509cd6382036>\u001b[0m in \u001b[0;36m<module>\u001b[0;34m\u001b[0m\n\u001b[1;32m      1\u001b[0m \u001b[0mdf_temp\u001b[0m\u001b[0;34m.\u001b[0m\u001b[0mshow\u001b[0m\u001b[0;34m(\u001b[0m\u001b[0;34m)\u001b[0m\u001b[0;34m\u001b[0m\u001b[0;34m\u001b[0m\u001b[0m\n\u001b[0;32m----> 2\u001b[0;31m \u001b[0mweekly_mean\u001b[0m \u001b[0;34m=\u001b[0m \u001b[0mweekly_mean\u001b[0m\u001b[0;34m.\u001b[0m\u001b[0mwithColumn\u001b[0m\u001b[0;34m(\u001b[0m\u001b[0;34m'date'\u001b[0m\u001b[0;34m,\u001b[0m \u001b[0mdf_temp\u001b[0m\u001b[0;34m.\u001b[0m\u001b[0mdate\u001b[0m\u001b[0;34m)\u001b[0m\u001b[0;34m\u001b[0m\u001b[0;34m\u001b[0m\u001b[0m\n\u001b[0m",
            "\u001b[0;32m/usr/local/lib/python3.9/dist-packages/pyspark/sql/dataframe.py\u001b[0m in \u001b[0;36mwithColumn\u001b[0;34m(self, colName, col)\u001b[0m\n\u001b[1;32m   3034\u001b[0m         \u001b[0;32mif\u001b[0m \u001b[0;32mnot\u001b[0m \u001b[0misinstance\u001b[0m\u001b[0;34m(\u001b[0m\u001b[0mcol\u001b[0m\u001b[0;34m,\u001b[0m \u001b[0mColumn\u001b[0m\u001b[0;34m)\u001b[0m\u001b[0;34m:\u001b[0m\u001b[0;34m\u001b[0m\u001b[0;34m\u001b[0m\u001b[0m\n\u001b[1;32m   3035\u001b[0m             \u001b[0;32mraise\u001b[0m \u001b[0mTypeError\u001b[0m\u001b[0;34m(\u001b[0m\u001b[0;34m\"col should be Column\"\u001b[0m\u001b[0;34m)\u001b[0m\u001b[0;34m\u001b[0m\u001b[0;34m\u001b[0m\u001b[0m\n\u001b[0;32m-> 3036\u001b[0;31m         \u001b[0;32mreturn\u001b[0m \u001b[0mDataFrame\u001b[0m\u001b[0;34m(\u001b[0m\u001b[0mself\u001b[0m\u001b[0;34m.\u001b[0m\u001b[0m_jdf\u001b[0m\u001b[0;34m.\u001b[0m\u001b[0mwithColumn\u001b[0m\u001b[0;34m(\u001b[0m\u001b[0mcolName\u001b[0m\u001b[0;34m,\u001b[0m \u001b[0mcol\u001b[0m\u001b[0;34m.\u001b[0m\u001b[0m_jc\u001b[0m\u001b[0;34m)\u001b[0m\u001b[0;34m,\u001b[0m \u001b[0mself\u001b[0m\u001b[0;34m.\u001b[0m\u001b[0msparkSession\u001b[0m\u001b[0;34m)\u001b[0m\u001b[0;34m\u001b[0m\u001b[0;34m\u001b[0m\u001b[0m\n\u001b[0m\u001b[1;32m   3037\u001b[0m \u001b[0;34m\u001b[0m\u001b[0m\n\u001b[1;32m   3038\u001b[0m     \u001b[0;32mdef\u001b[0m \u001b[0mwithColumnRenamed\u001b[0m\u001b[0;34m(\u001b[0m\u001b[0mself\u001b[0m\u001b[0;34m,\u001b[0m \u001b[0mexisting\u001b[0m\u001b[0;34m:\u001b[0m \u001b[0mstr\u001b[0m\u001b[0;34m,\u001b[0m \u001b[0mnew\u001b[0m\u001b[0;34m:\u001b[0m \u001b[0mstr\u001b[0m\u001b[0;34m)\u001b[0m \u001b[0;34m->\u001b[0m \u001b[0;34m\"DataFrame\"\u001b[0m\u001b[0;34m:\u001b[0m\u001b[0;34m\u001b[0m\u001b[0;34m\u001b[0m\u001b[0m\n",
            "\u001b[0;32m/usr/local/lib/python3.9/dist-packages/py4j/java_gateway.py\u001b[0m in \u001b[0;36m__call__\u001b[0;34m(self, *args)\u001b[0m\n\u001b[1;32m   1319\u001b[0m \u001b[0;34m\u001b[0m\u001b[0m\n\u001b[1;32m   1320\u001b[0m         \u001b[0manswer\u001b[0m \u001b[0;34m=\u001b[0m \u001b[0mself\u001b[0m\u001b[0;34m.\u001b[0m\u001b[0mgateway_client\u001b[0m\u001b[0;34m.\u001b[0m\u001b[0msend_command\u001b[0m\u001b[0;34m(\u001b[0m\u001b[0mcommand\u001b[0m\u001b[0;34m)\u001b[0m\u001b[0;34m\u001b[0m\u001b[0;34m\u001b[0m\u001b[0m\n\u001b[0;32m-> 1321\u001b[0;31m         return_value = get_return_value(\n\u001b[0m\u001b[1;32m   1322\u001b[0m             answer, self.gateway_client, self.target_id, self.name)\n\u001b[1;32m   1323\u001b[0m \u001b[0;34m\u001b[0m\u001b[0m\n",
            "\u001b[0;32m/usr/local/lib/python3.9/dist-packages/pyspark/sql/utils.py\u001b[0m in \u001b[0;36mdeco\u001b[0;34m(*a, **kw)\u001b[0m\n\u001b[1;32m    194\u001b[0m                 \u001b[0;31m# Hide where the exception came from that shows a non-Pythonic\u001b[0m\u001b[0;34m\u001b[0m\u001b[0;34m\u001b[0m\u001b[0m\n\u001b[1;32m    195\u001b[0m                 \u001b[0;31m# JVM exception message.\u001b[0m\u001b[0;34m\u001b[0m\u001b[0;34m\u001b[0m\u001b[0m\n\u001b[0;32m--> 196\u001b[0;31m                 \u001b[0;32mraise\u001b[0m \u001b[0mconverted\u001b[0m \u001b[0;32mfrom\u001b[0m \u001b[0;32mNone\u001b[0m\u001b[0;34m\u001b[0m\u001b[0;34m\u001b[0m\u001b[0m\n\u001b[0m\u001b[1;32m    197\u001b[0m             \u001b[0;32melse\u001b[0m\u001b[0;34m:\u001b[0m\u001b[0;34m\u001b[0m\u001b[0;34m\u001b[0m\u001b[0m\n\u001b[1;32m    198\u001b[0m                 \u001b[0;32mraise\u001b[0m\u001b[0;34m\u001b[0m\u001b[0;34m\u001b[0m\u001b[0m\n",
            "\u001b[0;31mAnalysisException\u001b[0m: Resolved attribute(s) date#211 missing from week#664,avg(value)#738 in operator !Project [week#664, avg(value)#738, date#211 AS date#1400].;\n!Project [week#664, avg(value)#738, date#211 AS date#1400]\n+- Sort [week#664 ASC NULLS FIRST], true\n   +- Aggregate [week#664], [week#664, avg(value#282) AS avg(value)#738]\n      +- Project [timestamp#207, value#282, date#211, weekofyear(cast(timestamp#207 as date)) AS week#664]\n         +- Project [timestamp#207, cast(value#237 as float) AS value#282, date#211]\n            +- Project [timestamp#207, cast(value#208 as float) AS value#237, date#211]\n               +- Project [timestamp#207, value#208, date_format(cast(timestamp#207 as timestamp), yyyy-MM-dd, Some(Etc/UTC)) AS date#211]\n                  +- Relation [timestamp#207,value#208] csv\n"
          ]
        }
      ]
    },
    {
      "cell_type": "code",
      "source": [
        "weekly_mean.show()"
      ],
      "metadata": {
        "colab": {
          "base_uri": "https://localhost:8080/"
        },
        "id": "LlM2456IqQy_",
        "outputId": "b6b1c559-1a0d-4034-8ee3-dd5ef0b4c032"
      },
      "execution_count": null,
      "outputs": [
        {
          "output_type": "stream",
          "name": "stdout",
          "text": [
            "+----+-----------------+\n",
            "|week|       avg(value)|\n",
            "+----+-----------------+\n",
            "|   1| 75.6577277410598|\n",
            "|   2|75.26051684788295|\n",
            "|   3|75.06641397022065|\n",
            "|   4|73.32458023797898|\n",
            "|   5|71.72356010618664|\n",
            "|   6| 72.6094315846761|\n",
            "|   7|71.32547310420445|\n",
            "|   8|70.44444629124233|\n",
            "|   9| 71.5588383030247|\n",
            "|  10|66.91585922241211|\n",
            "|  11|68.25382661819458|\n",
            "|  12|67.59528856392366|\n",
            "|  13|67.96702855593199|\n",
            "|  14|68.13654755383003|\n",
            "|  15| 64.0205763357657|\n",
            "|  16|65.77348886217389|\n",
            "|  17|67.00948474520729|\n",
            "|  18|65.25208386920747|\n",
            "|  19|66.38945654460362|\n",
            "|  20|66.45565141950335|\n",
            "+----+-----------------+\n",
            "only showing top 20 rows\n",
            "\n"
          ]
        }
      ]
    },
    {
      "cell_type": "code",
      "source": [],
      "metadata": {
        "colab": {
          "base_uri": "https://localhost:8080/",
          "height": 554
        },
        "id": "YloqkE7KrMbt",
        "outputId": "478b6cba-c8b9-4719-8cd0-441f6790dadc"
      },
      "execution_count": null,
      "outputs": [
        {
          "output_type": "error",
          "ename": "AnalysisException",
          "evalue": "ignored",
          "traceback": [
            "\u001b[0;31m---------------------------------------------------------------------------\u001b[0m",
            "\u001b[0;31mAnalysisException\u001b[0m                         Traceback (most recent call last)",
            "\u001b[0;32m<ipython-input-151-c425617016bb>\u001b[0m in \u001b[0;36m<module>\u001b[0;34m\u001b[0m\n\u001b[1;32m      4\u001b[0m \u001b[0mdf1\u001b[0m \u001b[0;34m=\u001b[0m \u001b[0mdf_temp\u001b[0m\u001b[0;34m.\u001b[0m\u001b[0mwithColumn\u001b[0m\u001b[0;34m(\u001b[0m\u001b[0;34m'date'\u001b[0m\u001b[0;34m,\u001b[0m \u001b[0mdf_temp\u001b[0m\u001b[0;34m[\u001b[0m\u001b[0;34m'timestamp'\u001b[0m\u001b[0;34m]\u001b[0m\u001b[0;34m.\u001b[0m\u001b[0mcast\u001b[0m\u001b[0;34m(\u001b[0m\u001b[0;34m'date'\u001b[0m\u001b[0;34m)\u001b[0m\u001b[0;34m)\u001b[0m\u001b[0;34m\u001b[0m\u001b[0;34m\u001b[0m\u001b[0m\n\u001b[1;32m      5\u001b[0m \u001b[0;31m# extract week number from date column\u001b[0m\u001b[0;34m\u001b[0m\u001b[0;34m\u001b[0m\u001b[0m\n\u001b[0;32m----> 6\u001b[0;31m \u001b[0mdf1\u001b[0m \u001b[0;34m=\u001b[0m \u001b[0mweekly_mean\u001b[0m\u001b[0;34m.\u001b[0m\u001b[0mwithColumn\u001b[0m\u001b[0;34m(\u001b[0m\u001b[0;34m'week'\u001b[0m\u001b[0;34m,\u001b[0m \u001b[0mweekofyear\u001b[0m\u001b[0;34m(\u001b[0m\u001b[0mdf1\u001b[0m\u001b[0;34m[\u001b[0m\u001b[0;34m'date'\u001b[0m\u001b[0;34m]\u001b[0m\u001b[0;34m)\u001b[0m\u001b[0;34m)\u001b[0m\u001b[0;34m\u001b[0m\u001b[0;34m\u001b[0m\u001b[0m\n\u001b[0m\u001b[1;32m      7\u001b[0m \u001b[0;34m\u001b[0m\u001b[0m\n\u001b[1;32m      8\u001b[0m \u001b[0;31m# join the two tables on week column\u001b[0m\u001b[0;34m\u001b[0m\u001b[0;34m\u001b[0m\u001b[0m\n",
            "\u001b[0;32m/usr/local/lib/python3.9/dist-packages/pyspark/sql/dataframe.py\u001b[0m in \u001b[0;36mwithColumn\u001b[0;34m(self, colName, col)\u001b[0m\n\u001b[1;32m   3034\u001b[0m         \u001b[0;32mif\u001b[0m \u001b[0;32mnot\u001b[0m \u001b[0misinstance\u001b[0m\u001b[0;34m(\u001b[0m\u001b[0mcol\u001b[0m\u001b[0;34m,\u001b[0m \u001b[0mColumn\u001b[0m\u001b[0;34m)\u001b[0m\u001b[0;34m:\u001b[0m\u001b[0;34m\u001b[0m\u001b[0;34m\u001b[0m\u001b[0m\n\u001b[1;32m   3035\u001b[0m             \u001b[0;32mraise\u001b[0m \u001b[0mTypeError\u001b[0m\u001b[0;34m(\u001b[0m\u001b[0;34m\"col should be Column\"\u001b[0m\u001b[0;34m)\u001b[0m\u001b[0;34m\u001b[0m\u001b[0;34m\u001b[0m\u001b[0m\n\u001b[0;32m-> 3036\u001b[0;31m         \u001b[0;32mreturn\u001b[0m \u001b[0mDataFrame\u001b[0m\u001b[0;34m(\u001b[0m\u001b[0mself\u001b[0m\u001b[0;34m.\u001b[0m\u001b[0m_jdf\u001b[0m\u001b[0;34m.\u001b[0m\u001b[0mwithColumn\u001b[0m\u001b[0;34m(\u001b[0m\u001b[0mcolName\u001b[0m\u001b[0;34m,\u001b[0m \u001b[0mcol\u001b[0m\u001b[0;34m.\u001b[0m\u001b[0m_jc\u001b[0m\u001b[0;34m)\u001b[0m\u001b[0;34m,\u001b[0m \u001b[0mself\u001b[0m\u001b[0;34m.\u001b[0m\u001b[0msparkSession\u001b[0m\u001b[0;34m)\u001b[0m\u001b[0;34m\u001b[0m\u001b[0;34m\u001b[0m\u001b[0m\n\u001b[0m\u001b[1;32m   3037\u001b[0m \u001b[0;34m\u001b[0m\u001b[0m\n\u001b[1;32m   3038\u001b[0m     \u001b[0;32mdef\u001b[0m \u001b[0mwithColumnRenamed\u001b[0m\u001b[0;34m(\u001b[0m\u001b[0mself\u001b[0m\u001b[0;34m,\u001b[0m \u001b[0mexisting\u001b[0m\u001b[0;34m:\u001b[0m \u001b[0mstr\u001b[0m\u001b[0;34m,\u001b[0m \u001b[0mnew\u001b[0m\u001b[0;34m:\u001b[0m \u001b[0mstr\u001b[0m\u001b[0;34m)\u001b[0m \u001b[0;34m->\u001b[0m \u001b[0;34m\"DataFrame\"\u001b[0m\u001b[0;34m:\u001b[0m\u001b[0;34m\u001b[0m\u001b[0;34m\u001b[0m\u001b[0m\n",
            "\u001b[0;32m/usr/local/lib/python3.9/dist-packages/py4j/java_gateway.py\u001b[0m in \u001b[0;36m__call__\u001b[0;34m(self, *args)\u001b[0m\n\u001b[1;32m   1319\u001b[0m \u001b[0;34m\u001b[0m\u001b[0m\n\u001b[1;32m   1320\u001b[0m         \u001b[0manswer\u001b[0m \u001b[0;34m=\u001b[0m \u001b[0mself\u001b[0m\u001b[0;34m.\u001b[0m\u001b[0mgateway_client\u001b[0m\u001b[0;34m.\u001b[0m\u001b[0msend_command\u001b[0m\u001b[0;34m(\u001b[0m\u001b[0mcommand\u001b[0m\u001b[0;34m)\u001b[0m\u001b[0;34m\u001b[0m\u001b[0;34m\u001b[0m\u001b[0m\n\u001b[0;32m-> 1321\u001b[0;31m         return_value = get_return_value(\n\u001b[0m\u001b[1;32m   1322\u001b[0m             answer, self.gateway_client, self.target_id, self.name)\n\u001b[1;32m   1323\u001b[0m \u001b[0;34m\u001b[0m\u001b[0m\n",
            "\u001b[0;32m/usr/local/lib/python3.9/dist-packages/pyspark/sql/utils.py\u001b[0m in \u001b[0;36mdeco\u001b[0;34m(*a, **kw)\u001b[0m\n\u001b[1;32m    194\u001b[0m                 \u001b[0;31m# Hide where the exception came from that shows a non-Pythonic\u001b[0m\u001b[0;34m\u001b[0m\u001b[0;34m\u001b[0m\u001b[0m\n\u001b[1;32m    195\u001b[0m                 \u001b[0;31m# JVM exception message.\u001b[0m\u001b[0;34m\u001b[0m\u001b[0;34m\u001b[0m\u001b[0m\n\u001b[0;32m--> 196\u001b[0;31m                 \u001b[0;32mraise\u001b[0m \u001b[0mconverted\u001b[0m \u001b[0;32mfrom\u001b[0m \u001b[0;32mNone\u001b[0m\u001b[0;34m\u001b[0m\u001b[0;34m\u001b[0m\u001b[0m\n\u001b[0m\u001b[1;32m    197\u001b[0m             \u001b[0;32melse\u001b[0m\u001b[0;34m:\u001b[0m\u001b[0;34m\u001b[0m\u001b[0;34m\u001b[0m\u001b[0m\n\u001b[1;32m    198\u001b[0m                 \u001b[0;32mraise\u001b[0m\u001b[0;34m\u001b[0m\u001b[0;34m\u001b[0m\u001b[0m\n",
            "\u001b[0;31mAnalysisException\u001b[0m: Resolved attribute(s) date#1420 missing from week#664,avg(value)#738 in operator !Project [weekofyear(date#1420) AS week#1425, avg(value)#738].;\n!Project [weekofyear(date#1420) AS week#1425, avg(value)#738]\n+- Sort [week#664 ASC NULLS FIRST], true\n   +- Aggregate [week#664], [week#664, avg(value#282) AS avg(value)#738]\n      +- Project [timestamp#207, value#282, date#211, weekofyear(cast(timestamp#207 as date)) AS week#664]\n         +- Project [timestamp#207, cast(value#237 as float) AS value#282, date#211]\n            +- Project [timestamp#207, cast(value#208 as float) AS value#237, date#211]\n               +- Project [timestamp#207, value#208, date_format(cast(timestamp#207 as timestamp), yyyy-MM-dd, Some(Etc/UTC)) AS date#211]\n                  +- Relation [timestamp#207,value#208] csv\n"
          ]
        }
      ]
    },
    {
      "cell_type": "code",
      "source": [
        "import matplotlib.pyplot as plt\n",
        "import pandas as pd\n",
        "\n",
        "data_pd = weekly_mean.toPandas()\n",
        "data_pd.plot(x=\"week\", y=\"avg(value)\", kind=\"scatter\")\n",
        "plt.plot(data_pd[\"week\"], data_pd[\"week\"] * slope + weekly_lr_model.intercept, color=\"red\")\n",
        "plt.show()"
      ],
      "metadata": {
        "colab": {
          "base_uri": "https://localhost:8080/",
          "height": 279
        },
        "id": "XWr81woiUdf-",
        "outputId": "b5bfff0f-2189-4a39-dba9-7abc47f56a61"
      },
      "execution_count": null,
      "outputs": [
        {
          "output_type": "display_data",
          "data": {
            "text/plain": [
              "<Figure size 432x288 with 1 Axes>"
            ],
            "image/png": "[encoded data removed]"
          },
          "metadata": {
            "needs_background": "light"
          }
        }
      ]
    },
    {
      "cell_type": "code",
      "source": [
        "weekly_mean.show()"
      ],
      "metadata": {
        "colab": {
          "base_uri": "https://localhost:8080/"
        },
        "id": "9wT5JZvkUddV",
        "outputId": "d30c5d6b-1079-4945-9547-3bb9e1d90d86"
      },
      "execution_count": null,
      "outputs": [
        {
          "output_type": "stream",
          "name": "stdout",
          "text": [
            "+----+-----------------+\n",
            "|week|       avg(value)|\n",
            "+----+-----------------+\n",
            "|   1| 75.6577277410598|\n",
            "|   2|75.26051684788295|\n",
            "|   3|75.06641397022065|\n",
            "|   4|73.32458023797898|\n",
            "|   5|71.72356010618664|\n",
            "|   6| 72.6094315846761|\n",
            "|   7|71.32547310420445|\n",
            "|   8|70.44444629124233|\n",
            "|   9| 71.5588383030247|\n",
            "|  10|66.91585922241211|\n",
            "|  11|68.25382661819458|\n",
            "|  12|67.59528856392366|\n",
            "|  13|67.96702855593199|\n",
            "|  14|68.13654755383003|\n",
            "|  15| 64.0205763357657|\n",
            "|  16|65.77348886217389|\n",
            "|  17|67.00948474520729|\n",
            "|  18|65.25208386920747|\n",
            "|  19|66.38945654460362|\n",
            "|  20|66.45565141950335|\n",
            "+----+-----------------+\n",
            "only showing top 20 rows\n",
            "\n"
          ]
        }
      ]
    },
    {
      "cell_type": "code",
      "source": [
        "#spectral density"
      ],
      "metadata": {
        "id": "jtYeFBNCUdbH"
      },
      "execution_count": null,
      "outputs": []
    },
    {
      "cell_type": "code",
      "source": [
        "df_temp.show()"
      ],
      "metadata": {
        "colab": {
          "base_uri": "https://localhost:8080/"
        },
        "id": "qGTWKP9mwU32",
        "outputId": "7d4b369a-fefa-4a2b-a980-9b38f6a8190f"
      },
      "execution_count": 65,
      "outputs": [
        {
          "output_type": "stream",
          "name": "stdout",
          "text": [
            "+-------+\n",
            "|Celsius|\n",
            "+-------+\n",
            "|   21.0|\n",
            "|   21.8|\n",
            "|   21.6|\n",
            "|   20.5|\n",
            "|   20.7|\n",
            "|   21.1|\n",
            "|   20.7|\n",
            "|   20.8|\n",
            "|   20.6|\n",
            "|   20.5|\n",
            "|   21.1|\n",
            "|   21.4|\n",
            "|   21.3|\n",
            "|   21.2|\n",
            "|   21.0|\n",
            "|   22.0|\n",
            "|   21.8|\n",
            "|   21.5|\n",
            "|   21.9|\n",
            "|   22.1|\n",
            "+-------+\n",
            "only showing top 20 rows\n",
            "\n"
          ]
        }
      ]
    },
    {
      "cell_type": "code",
      "source": [
        "from pyspark.sql.functions import col\n",
        "from pyspark.ml.feature import VectorAssembler\n",
        "import numpy as np\n",
        "from pyspark.ml.feature import PCA\n",
        "\n",
        "# Convert DataFrame into an RDD and extract the value column as a list of floats\n",
        "value_list = df_temp.select(\"value\").rdd.flatMap(lambda x: x).collect()\n",
        "\n",
        "# Apply the Fast Fourier Transform (FFT) algorithm on the value list to calculate the power spectrum\n",
        "fft_output = np.fft.fft(value_list)\n",
        "power_spectrum = np.abs(fft_output) ** 2\n",
        "\n",
        "# Define the sampling frequency and calculate the frequency axis\n",
        "sampling_freq = 1.0 / 3600  # Data is hourly\n",
        "freq_axis = np.fft.fftfreq(len(value_list), d=sampling_freq)\n",
        "freq_axis = freq_axis[:len(freq_axis) // 2]\n",
        "\n",
        "# Calculate the spectral density using the power spectrum\n",
        "spectral_density = power_spectrum[:len(power_spectrum) // 2] / (sampling_freq * len(value_list))\n",
        "\n",
        "# Convert the frequency axis and spectral density into a PySpark DataFrame\n",
        "freq_axis_df = spark.createDataFrame([(float(f),) for f in freq_axis], [\"frequency\"])\n",
        "spectral_density_df = spark.createDataFrame([(float(s),) for s in spectral_density], [\"spectral_density\"])\n",
        "\n",
        "# Join the two DataFrames and display the results\n",
        "result_df = freq_axis_df.join(spectral_density_df, freq_axis_df.frequency == spectral_density_df.spectral_density, \"left_outer\")\n",
        "result_df.show()\n"
      ],
      "metadata": {
        "colab": {
          "base_uri": "https://localhost:8080/"
        },
        "id": "lVSUF7lXUdYq",
        "outputId": "03822df3-db44-4310-b01a-2a62b1976ada"
      },
      "execution_count": null,
      "outputs": [
        {
          "output_type": "stream",
          "name": "stdout",
          "text": [
            "+-----------------+----------------+\n",
            "|        frequency|spectral_density|\n",
            "+-----------------+----------------+\n",
            "|              0.0|            null|\n",
            "| 4.95390119719279|            null|\n",
            "|7.430851795789184|            null|\n",
            "|0.990780239438558|            null|\n",
            "|8.917022154947022|            null|\n",
            "|2.476950598596395|            null|\n",
            "|4.458511077473511|            null|\n",
            "|3.467730838034953|            null|\n",
            "|8.421632035227743|            null|\n",
            "|3.963120957754232|            null|\n",
            "|6.935461676069906|            null|\n",
            "| 9.90780239438558|            null|\n",
            "|1.981560478877116|            null|\n",
            "|6.440071556350627|            null|\n",
            "|0.495390119719279|            null|\n",
            "|5.449291316912069|            null|\n",
            "|  9.4124122746663|            null|\n",
            "|7.926241915508464|            null|\n",
            "|2.972340718315674|            null|\n",
            "|5.944681436631348|            null|\n",
            "+-----------------+----------------+\n",
            "only showing top 20 rows\n",
            "\n"
          ]
        }
      ]
    },
    {
      "cell_type": "code",
      "source": [
        "print(freq_axis_df.select('frequency').distinct().count())\n",
        "print(spectral_density_df.select('spectral_density').distinct().count())\n"
      ],
      "metadata": {
        "colab": {
          "base_uri": "https://localhost:8080/"
        },
        "id": "Af7Ua-e_wSmD",
        "outputId": "5287ff55-d271-40a0-8c0a-7b9674514eac"
      },
      "execution_count": null,
      "outputs": [
        {
          "output_type": "stream",
          "name": "stdout",
          "text": [
            "3633\n",
            "3633\n"
          ]
        }
      ]
    },
    {
      "cell_type": "code",
      "source": [
        "spectral_density_df = spectral_density_df.fillna(0, subset=['spectral_density'])\n"
      ],
      "metadata": {
        "id": "IZjo7fq_xoED"
      },
      "execution_count": null,
      "outputs": []
    },
    {
      "cell_type": "code",
      "source": [
        "\n",
        "# Join the two DataFrames and display the results\n",
        "result_df = freq_axis_df.join(spectral_density_df, freq_axis_df.frequency == spectral_density_df.spectral_density, \"left\")\n",
        "result_df.show()"
      ],
      "metadata": {
        "colab": {
          "base_uri": "https://localhost:8080/"
        },
        "id": "Lwu4bjS2wSkR",
        "outputId": "de65c665-026d-48db-804f-8aae0456d43d"
      },
      "execution_count": null,
      "outputs": [
        {
          "output_type": "stream",
          "name": "stdout",
          "text": [
            "+-----------------+----------------+\n",
            "|        frequency|spectral_density|\n",
            "+-----------------+----------------+\n",
            "|              0.0|            null|\n",
            "| 4.95390119719279|            null|\n",
            "|7.430851795789184|            null|\n",
            "|0.990780239438558|            null|\n",
            "|8.917022154947022|            null|\n",
            "|2.476950598596395|            null|\n",
            "|4.458511077473511|            null|\n",
            "|3.467730838034953|            null|\n",
            "|8.421632035227743|            null|\n",
            "|3.963120957754232|            null|\n",
            "|6.935461676069906|            null|\n",
            "| 9.90780239438558|            null|\n",
            "|1.981560478877116|            null|\n",
            "|6.440071556350627|            null|\n",
            "|0.495390119719279|            null|\n",
            "|5.449291316912069|            null|\n",
            "|  9.4124122746663|            null|\n",
            "|7.926241915508464|            null|\n",
            "|2.972340718315674|            null|\n",
            "|5.944681436631348|            null|\n",
            "+-----------------+----------------+\n",
            "only showing top 20 rows\n",
            "\n"
          ]
        }
      ]
    },
    {
      "cell_type": "code",
      "source": [
        "from pyspark.sql.functions import round\n",
        "\n",
        "df_temp = df_temp.withColumn(\"Celsius\", (col(\"value\")-32)*(5/9))\n",
        "df_temp = df_temp.select(round(df_temp['Celsius'], 1).alias('Celsius'))\n",
        "# compute the frequency distribution of temperature\n",
        "freq_df = df_temp.groupBy(\"Celsius\").count().orderBy(\"Celsius\")\n",
        "\n",
        "# show the resulting dataframe\n",
        "freq_df.show()"
      ],
      "metadata": {
        "colab": {
          "base_uri": "https://localhost:8080/"
        },
        "id": "5ocHCR-swSiQ",
        "outputId": "80f3d048-7fd8-492e-add0-b4520199baf2"
      },
      "execution_count": 55,
      "outputs": [
        {
          "output_type": "stream",
          "name": "stdout",
          "text": [
            "+-------+-----+\n",
            "|Celsius|count|\n",
            "+-------+-----+\n",
            "|   14.1|    1|\n",
            "|   14.4|    2|\n",
            "|   14.5|    1|\n",
            "|   14.6|    1|\n",
            "|   14.7|    3|\n",
            "|   14.8|    1|\n",
            "|   14.9|    4|\n",
            "|   15.0|    2|\n",
            "|   15.1|    6|\n",
            "|   15.2|    5|\n",
            "|   15.3|    5|\n",
            "|   15.4|    3|\n",
            "|   15.5|    6|\n",
            "|   15.6|    1|\n",
            "|   15.7|   14|\n",
            "|   15.8|    9|\n",
            "|   15.9|    6|\n",
            "|   16.0|    8|\n",
            "|   16.1|   13|\n",
            "|   16.2|   11|\n",
            "+-------+-----+\n",
            "only showing top 20 rows\n",
            "\n"
          ]
        }
      ]
    },
    {
      "cell_type": "code",
      "source": [
        "freq_df.count()"
      ],
      "metadata": {
        "colab": {
          "base_uri": "https://localhost:8080/"
        },
        "id": "TuTbRCv9wSgo",
        "outputId": "eb23d531-598f-47ea-d8bd-93f6e7f092ca"
      },
      "execution_count": 58,
      "outputs": [
        {
          "output_type": "execute_result",
          "data": {
            "text/plain": [
              "151"
            ]
          },
          "metadata": {},
          "execution_count": 58
        }
      ]
    },
    {
      "cell_type": "code",
      "source": [
        "pd_df = freq_df.toPandas()"
      ],
      "metadata": {
        "id": "pfxGPqYswSe6"
      },
      "execution_count": 59,
      "outputs": []
    },
    {
      "cell_type": "code",
      "source": [
        "plt.bar(pd_df['Celsius'],pd_df['count'],align = 'center')\n",
        "plt.xticks(rotation=90)\n",
        "plt.xlabel(\"Celsius (C)\")\n",
        "plt.ylabel(\"Count\")\n",
        "plt.title(\"Frequency of Ambient Temperature\")\n",
        "plt.show()"
      ],
      "metadata": {
        "colab": {
          "base_uri": "https://localhost:8080/",
          "height": 308
        },
        "id": "d7BaQYWsQDbP",
        "outputId": "4e9396f0-8c23-4f0b-b3e0-602298bc471a"
      },
      "execution_count": 61,
      "outputs": [
        {
          "output_type": "display_data",
          "data": {
            "text/plain": [
              "<Figure size 432x288 with 1 Axes>"
            ],
            "image/png": "[encoded data removed]"
          },
          "metadata": {
            "needs_background": "light"
          }
        }
      ]
    },
    {
      "cell_type": "code",
      "source": [
        "df = df_temp"
      ],
      "metadata": {
        "id": "N3aRoKMKwScu"
      },
      "execution_count": 57,
      "outputs": []
    },
    {
      "cell_type": "code",
      "source": [
        "df.show()"
      ],
      "metadata": {
        "colab": {
          "base_uri": "https://localhost:8080/"
        },
        "id": "UUFMZ-XpwSa2",
        "outputId": "8b22dbc9-c453-42bf-876e-6c1348e33c2b"
      },
      "execution_count": null,
      "outputs": [
        {
          "output_type": "stream",
          "name": "stdout",
          "text": [
            "+-------------------+---------+----+---+-----+----+-----------+------------------+--------------------+----------+\n",
            "|          timestamp|    value|hour|day|month|year|day_of_week|weekday_or_weekend|daytime_or_nighttime|      date|\n",
            "+-------------------+---------+----+---+-----+----+-----------+------------------+--------------------+----------+\n",
            "|2013-07-04 00:00:00| 69.88084|   0|  4|    7|2013|          5|           weekday|           nighttime|2013-07-04|\n",
            "|2013-07-04 01:00:00| 71.22023|   1|  4|    7|2013|          5|           weekday|           nighttime|2013-07-04|\n",
            "|2013-07-04 02:00:00| 70.87781|   2|  4|    7|2013|          5|           weekday|           nighttime|2013-07-04|\n",
            "|2013-07-04 03:00:00|  68.9594|   3|  4|    7|2013|          5|           weekday|           nighttime|2013-07-04|\n",
            "|2013-07-04 04:00:00|69.283554|   4|  4|    7|2013|          5|           weekday|           nighttime|2013-07-04|\n",
            "|2013-07-04 05:00:00| 70.06097|   5|  4|    7|2013|          5|           weekday|           nighttime|2013-07-04|\n",
            "|2013-07-04 06:00:00| 69.27976|   6|  4|    7|2013|          5|           weekday|           nighttime|2013-07-04|\n",
            "|2013-07-04 07:00:00|69.369606|   7|  4|    7|2013|          5|           weekday|             daytime|2013-07-04|\n",
            "|2013-07-04 08:00:00| 69.16672|   8|  4|    7|2013|          5|           weekday|             daytime|2013-07-04|\n",
            "|2013-07-04 09:00:00|68.986084|   9|  4|    7|2013|          5|           weekday|             daytime|2013-07-04|\n",
            "|2013-07-04 10:00:00|69.965065|  10|  4|    7|2013|          5|           weekday|             daytime|2013-07-04|\n",
            "|2013-07-04 11:00:00|  70.5562|  11|  4|    7|2013|          5|           weekday|             daytime|2013-07-04|\n",
            "|2013-07-04 12:00:00|  70.3075|  12|  4|    7|2013|          5|           weekday|             daytime|2013-07-04|\n",
            "|2013-07-04 13:00:00|70.246254|  13|  4|    7|2013|          5|           weekday|             daytime|2013-07-04|\n",
            "|2013-07-04 14:00:00| 69.85491|  14|  4|    7|2013|          5|           weekday|             daytime|2013-07-04|\n",
            "|2013-07-04 15:00:00| 71.64329|  15|  4|    7|2013|          5|           weekday|             daytime|2013-07-04|\n",
            "|2013-07-04 16:00:00| 71.24566|  16|  4|    7|2013|          5|           weekday|             daytime|2013-07-04|\n",
            "|2013-07-04 17:00:00|  70.7451|  17|  4|    7|2013|          5|           weekday|             daytime|2013-07-04|\n",
            "|2013-07-04 18:00:00|  71.3733|  18|  4|    7|2013|          5|           weekday|             daytime|2013-07-04|\n",
            "|2013-07-04 19:00:00| 71.79575|  19|  4|    7|2013|          5|           weekday|             daytime|2013-07-04|\n",
            "+-------------------+---------+----+---+-----+----+-----------+------------------+--------------------+----------+\n",
            "only showing top 20 rows\n",
            "\n"
          ]
        }
      ]
    },
    {
      "cell_type": "code",
      "source": [
        "from pyspark.sql.functions import mean, stddev\n",
        "from pyspark.sql.window import Window\n",
        "import pyspark.sql.functions as F\n"
      ],
      "metadata": {
        "id": "7ICxRHR4wSZJ"
      },
      "execution_count": 62,
      "outputs": []
    },
    {
      "cell_type": "code",
      "source": [
        "df.show()"
      ],
      "metadata": {
        "colab": {
          "base_uri": "https://localhost:8080/"
        },
        "id": "B82yYIzyQgSL",
        "outputId": "a5ddced8-9add-480a-c68a-f4ea79ad63e8"
      },
      "execution_count": 82,
      "outputs": [
        {
          "output_type": "stream",
          "name": "stdout",
          "text": [
            "+-------------------+-----------+----+---+-----+----+-----------+------------------+--------------------+----------+----+\n",
            "|          timestamp|      value|hour|day|month|year|day_of_week|weekday_or_weekend|daytime_or_nighttime|      date|week|\n",
            "+-------------------+-----------+----+---+-----+----+-----------+------------------+--------------------+----------+----+\n",
            "|2013-07-04 00:00:00|69.88083514|   0|  4|    7|2013|          5|           weekday|           nighttime|2013-07-04|  27|\n",
            "|2013-07-04 01:00:00|71.22022706|   1|  4|    7|2013|          5|           weekday|           nighttime|2013-07-04|  27|\n",
            "|2013-07-04 02:00:00|70.87780496|   2|  4|    7|2013|          5|           weekday|           nighttime|2013-07-04|  27|\n",
            "|2013-07-04 03:00:00|68.95939994|   3|  4|    7|2013|          5|           weekday|           nighttime|2013-07-04|  27|\n",
            "|2013-07-04 04:00:00|69.28355102|   4|  4|    7|2013|          5|           weekday|           nighttime|2013-07-04|  27|\n",
            "|2013-07-04 05:00:00|70.06096581|   5|  4|    7|2013|          5|           weekday|           nighttime|2013-07-04|  27|\n",
            "|2013-07-04 06:00:00|69.27976479|   6|  4|    7|2013|          5|           weekday|           nighttime|2013-07-04|  27|\n",
            "|2013-07-04 07:00:00|69.36960846|   7|  4|    7|2013|          5|           weekday|             daytime|2013-07-04|  27|\n",
            "|2013-07-04 08:00:00|69.16671394|   8|  4|    7|2013|          5|           weekday|             daytime|2013-07-04|  27|\n",
            "|2013-07-04 09:00:00|68.98608257|   9|  4|    7|2013|          5|           weekday|             daytime|2013-07-04|  27|\n",
            "|2013-07-04 10:00:00|69.96506224|  10|  4|    7|2013|          5|           weekday|             daytime|2013-07-04|  27|\n",
            "|2013-07-04 11:00:00|70.55619466|  11|  4|    7|2013|          5|           weekday|             daytime|2013-07-04|  27|\n",
            "|2013-07-04 12:00:00|70.30750511|  12|  4|    7|2013|          5|           weekday|             daytime|2013-07-04|  27|\n",
            "|2013-07-04 13:00:00|70.24625215|  13|  4|    7|2013|          5|           weekday|             daytime|2013-07-04|  27|\n",
            "|2013-07-04 14:00:00|69.85490839|  14|  4|    7|2013|          5|           weekday|             daytime|2013-07-04|  27|\n",
            "|2013-07-04 15:00:00|71.64329118|  15|  4|    7|2013|          5|           weekday|             daytime|2013-07-04|  27|\n",
            "|2013-07-04 16:00:00|71.24565942|  16|  4|    7|2013|          5|           weekday|             daytime|2013-07-04|  27|\n",
            "|2013-07-04 17:00:00|70.74509976|  17|  4|    7|2013|          5|           weekday|             daytime|2013-07-04|  27|\n",
            "|2013-07-04 18:00:00|71.37329829|  18|  4|    7|2013|          5|           weekday|             daytime|2013-07-04|  27|\n",
            "|2013-07-04 19:00:00| 71.7957509|  19|  4|    7|2013|          5|           weekday|             daytime|2013-07-04|  27|\n",
            "+-------------------+-----------+----+---+-----+----+-----------+------------------+--------------------+----------+----+\n",
            "only showing top 20 rows\n",
            "\n"
          ]
        }
      ]
    },
    {
      "cell_type": "code",
      "source": [
        "mean_temp = df.agg(mean('value')).collect()[0][0]\n",
        "stddev_temp = df.agg(stddev('value')).collect()[0][0]\n"
      ],
      "metadata": {
        "id": "ApExg9vtwSXO"
      },
      "execution_count": 83,
      "outputs": []
    },
    {
      "cell_type": "code",
      "source": [
        "threshold = mean_temp + 3 * stddev_temp\n"
      ],
      "metadata": {
        "id": "g_mNQ5vYwSVi"
      },
      "execution_count": 84,
      "outputs": []
    },
    {
      "cell_type": "code",
      "source": [
        "df = df.withColumn('is_anomaly', F.when(F.col('value') > threshold, 1).otherwise(0))\n"
      ],
      "metadata": {
        "id": "q6qa9Q54wSTy"
      },
      "execution_count": 85,
      "outputs": []
    },
    {
      "cell_type": "code",
      "source": [
        "anomalies = df.filter(F.col('is_anomaly') == 1)\n"
      ],
      "metadata": {
        "id": "SFq_iA3JwSR4"
      },
      "execution_count": 86,
      "outputs": []
    },
    {
      "cell_type": "code",
      "source": [
        "anomalies.show()"
      ],
      "metadata": {
        "colab": {
          "base_uri": "https://localhost:8080/"
        },
        "id": "zxO2J0tGwSOL",
        "outputId": "ee931ace-c225-4374-aa43-d72c4fef5ec6"
      },
      "execution_count": 87,
      "outputs": [
        {
          "output_type": "stream",
          "name": "stdout",
          "text": [
            "+-------------------+-----------+----+---+-----+----+-----------+------------------+--------------------+----------+----+----------+\n",
            "|          timestamp|      value|hour|day|month|year|day_of_week|weekday_or_weekend|daytime_or_nighttime|      date|week|is_anomaly|\n",
            "+-------------------+-----------+----+---+-----+----+-----------+------------------+--------------------+----------+----+----------+\n",
            "|2013-12-22 17:00:00|84.39093203|  17| 22|   12|2013|          1|           weekend|             daytime|2013-12-22|  51|         1|\n",
            "|2013-12-22 18:00:00|85.22768546|  18| 22|   12|2013|          1|           weekend|             daytime|2013-12-22|  51|         1|\n",
            "|2013-12-22 19:00:00|86.09488844|  19| 22|   12|2013|          1|           weekend|             daytime|2013-12-22|  51|         1|\n",
            "|2013-12-22 20:00:00|86.20418922|  20| 22|   12|2013|          1|           weekend|           nighttime|2013-12-22|  51|         1|\n",
            "|2013-12-22 21:00:00|86.22321261|  21| 22|   12|2013|          1|           weekend|           nighttime|2013-12-22|  51|         1|\n",
            "|2013-12-22 22:00:00|85.64943737|  22| 22|   12|2013|          1|           weekend|           nighttime|2013-12-22|  51|         1|\n",
            "|2013-12-22 23:00:00|86.07470988|  23| 22|   12|2013|          1|           weekend|           nighttime|2013-12-22|  51|         1|\n",
            "|2013-12-23 00:00:00|85.32616543|   0| 23|   12|2013|          2|           weekday|           nighttime|2013-12-23|  52|         1|\n",
            "|2013-12-23 01:00:00|85.70599036|   1| 23|   12|2013|          2|           weekday|           nighttime|2013-12-23|  52|         1|\n",
            "|2013-12-23 02:00:00|84.08697057|   2| 23|   12|2013|          2|           weekday|           nighttime|2013-12-23|  52|         1|\n",
            "|2013-12-23 03:00:00|85.22227695|   3| 23|   12|2013|          2|           weekday|           nighttime|2013-12-23|  52|         1|\n",
            "|2013-12-23 05:00:00|84.32899995|   5| 23|   12|2013|          2|           weekday|           nighttime|2013-12-23|  52|         1|\n",
            "+-------------------+-----------+----+---+-----+----+-----------+------------------+--------------------+----------+----+----------+\n",
            "\n"
          ]
        }
      ]
    },
    {
      "cell_type": "code",
      "source": [
        "from pyspark.sql.functions import udf\n",
        "from pyspark.sql.types import BooleanType\n",
        "\n",
        "# Define a PySpark UDF from the mad_based_outlier function\n",
        "@udf(returnType=BooleanType())\n",
        "def mad_outlier_udf(col, thresh=3.5):\n",
        "    arr = np.array(col)\n",
        "    if len(arr.shape) == 1:\n",
        "        arr = arr[:, None]\n",
        "    median = np.median(arr, axis=0)\n",
        "    diff = np.sum((arr - median) ** 2, axis=-1)\n",
        "    diff = np.sqrt(diff)\n",
        "    med_abs_deviation = np.median(diff)\n",
        "\n",
        "    modified_z_score = 0.6745 * diff / med_abs_deviation\n",
        "\n",
        "    return modified_z_score > thresh\n",
        "\n",
        "# Apply the UDF to a PySpark DataFrame column\n",
        "df = df.withColumn('mad_outlier', mad_outlier_udf(df['value']))\n"
      ],
      "metadata": {
        "id": "VHr7yWJiwSMb"
      },
      "execution_count": 183,
      "outputs": []
    },
    {
      "cell_type": "code",
      "source": [
        "import numpy as np\n",
        "\n",
        "arr = np.array(df.select(col('value')).rdd.flatMap(lambda x: x).collect())\n"
      ],
      "metadata": {
        "id": "rZq2218XwSKt"
      },
      "execution_count": 123,
      "outputs": []
    },
    {
      "cell_type": "code",
      "source": [
        "arr"
      ],
      "metadata": {
        "colab": {
          "base_uri": "https://localhost:8080/"
        },
        "id": "ZpijFsb2XgDo",
        "outputId": "006e9956-9590-4a0a-9165-a8d1eb9e7b82"
      },
      "execution_count": 129,
      "outputs": [
        {
          "output_type": "execute_result",
          "data": {
            "text/plain": [
              "array([69.88083649, 71.2202301 , 70.87780762, ..., 72.04656219,\n",
              "       71.82522583, 72.58409119])"
            ]
          },
          "metadata": {},
          "execution_count": 129
        }
      ]
    },
    {
      "cell_type": "code",
      "source": [
        "from pyspark.sql.types import ArrayType, DoubleType\n",
        "Mad_data = mad_based_outlier(arr)"
      ],
      "metadata": {
        "colab": {
          "base_uri": "https://localhost:8080/"
        },
        "id": "fYuI-h6gWtHj",
        "outputId": "5a6ca45a-3e0c-4aac-9db1-b1ce7742a4dd"
      },
      "execution_count": 137,
      "outputs": [
        {
          "output_type": "stream",
          "name": "stdout",
          "text": [
            "<class 'numpy.ndarray'>\n"
          ]
        }
      ]
    },
    {
      "cell_type": "code",
      "source": [],
      "metadata": {
        "colab": {
          "base_uri": "https://localhost:8080/",
          "height": 165
        },
        "id": "UU5xTxAaXV0Y",
        "outputId": "7d779eaf-62e6-426e-e60c-837b21673e5d"
      },
      "execution_count": 131,
      "outputs": [
        {
          "output_type": "error",
          "ename": "AttributeError",
          "evalue": "ignored",
          "traceback": [
            "\u001b[0;31m---------------------------------------------------------------------------\u001b[0m",
            "\u001b[0;31mAttributeError\u001b[0m                            Traceback (most recent call last)",
            "\u001b[0;32m<ipython-input-131-30da19bc3e31>\u001b[0m in \u001b[0;36m<module>\u001b[0;34m\u001b[0m\n\u001b[0;32m----> 1\u001b[0;31m \u001b[0mMad_data\u001b[0m\u001b[0;34m.\u001b[0m\u001b[0mprintSchema\u001b[0m\u001b[0;34m(\u001b[0m\u001b[0;34m)\u001b[0m\u001b[0;34m\u001b[0m\u001b[0;34m\u001b[0m\u001b[0m\n\u001b[0m",
            "\u001b[0;31mAttributeError\u001b[0m: 'numpy.ndarray' object has no attribute 'printSchema'"
          ]
        }
      ]
    },
    {
      "cell_type": "code",
      "source": [],
      "metadata": {
        "id": "0ZN88SA8Z0QK"
      },
      "execution_count": 153,
      "outputs": []
    },
    {
      "cell_type": "code",
      "source": [],
      "metadata": {
        "colab": {
          "base_uri": "https://localhost:8080/",
          "height": 884
        },
        "id": "uVYbcnPKWwxB",
        "outputId": "4e5f2eb6-0715-4763-f6f1-85729d75ac7e"
      },
      "execution_count": 154,
      "outputs": [
        {
          "output_type": "error",
          "ename": "TypeError",
          "evalue": "ignored",
          "traceback": [
            "\u001b[0;31m---------------------------------------------------------------------------\u001b[0m",
            "\u001b[0;31mTypeError\u001b[0m                                 Traceback (most recent call last)",
            "\u001b[0;32m/usr/local/lib/python3.9/dist-packages/pyspark/sql/types.py\u001b[0m in \u001b[0;36m_infer_type\u001b[0;34m(obj, infer_dict_as_struct, prefer_timestamp_ntz)\u001b[0m\n\u001b[1;32m   1269\u001b[0m         \u001b[0;32mtry\u001b[0m\u001b[0;34m:\u001b[0m\u001b[0;34m\u001b[0m\u001b[0;34m\u001b[0m\u001b[0m\n\u001b[0;32m-> 1270\u001b[0;31m             \u001b[0;32mreturn\u001b[0m \u001b[0m_infer_schema\u001b[0m\u001b[0;34m(\u001b[0m\u001b[0mobj\u001b[0m\u001b[0;34m,\u001b[0m \u001b[0minfer_dict_as_struct\u001b[0m\u001b[0;34m=\u001b[0m\u001b[0minfer_dict_as_struct\u001b[0m\u001b[0;34m)\u001b[0m\u001b[0;34m\u001b[0m\u001b[0;34m\u001b[0m\u001b[0m\n\u001b[0m\u001b[1;32m   1271\u001b[0m         \u001b[0;32mexcept\u001b[0m \u001b[0mTypeError\u001b[0m\u001b[0;34m:\u001b[0m\u001b[0;34m\u001b[0m\u001b[0;34m\u001b[0m\u001b[0m\n",
            "\u001b[0;32m/usr/local/lib/python3.9/dist-packages/pyspark/sql/types.py\u001b[0m in \u001b[0;36m_infer_schema\u001b[0;34m(row, names, infer_dict_as_struct, prefer_timestamp_ntz)\u001b[0m\n\u001b[1;32m   1301\u001b[0m     \u001b[0;32melse\u001b[0m\u001b[0;34m:\u001b[0m\u001b[0;34m\u001b[0m\u001b[0;34m\u001b[0m\u001b[0m\n\u001b[0;32m-> 1302\u001b[0;31m         \u001b[0;32mraise\u001b[0m \u001b[0mTypeError\u001b[0m\u001b[0;34m(\u001b[0m\u001b[0;34m\"Can not infer schema for type: %s\"\u001b[0m \u001b[0;34m%\u001b[0m \u001b[0mtype\u001b[0m\u001b[0;34m(\u001b[0m\u001b[0mrow\u001b[0m\u001b[0;34m)\u001b[0m\u001b[0;34m)\u001b[0m\u001b[0;34m\u001b[0m\u001b[0;34m\u001b[0m\u001b[0m\n\u001b[0m\u001b[1;32m   1303\u001b[0m \u001b[0;34m\u001b[0m\u001b[0m\n",
            "\u001b[0;31mTypeError\u001b[0m: Can not infer schema for type: <class 'set'>",
            "\nDuring handling of the above exception, another exception occurred:\n",
            "\u001b[0;31mTypeError\u001b[0m                                 Traceback (most recent call last)",
            "\u001b[0;32m/usr/local/lib/python3.9/dist-packages/pyspark/sql/types.py\u001b[0m in \u001b[0;36m_infer_schema\u001b[0;34m(row, names, infer_dict_as_struct, prefer_timestamp_ntz)\u001b[0m\n\u001b[1;32m   1307\u001b[0m             fields.append(\n\u001b[0;32m-> 1308\u001b[0;31m                 \u001b[0mStructField\u001b[0m\u001b[0;34m(\u001b[0m\u001b[0mk\u001b[0m\u001b[0;34m,\u001b[0m \u001b[0m_infer_type\u001b[0m\u001b[0;34m(\u001b[0m\u001b[0mv\u001b[0m\u001b[0;34m,\u001b[0m \u001b[0minfer_dict_as_struct\u001b[0m\u001b[0;34m,\u001b[0m \u001b[0mprefer_timestamp_ntz\u001b[0m\u001b[0;34m)\u001b[0m\u001b[0;34m,\u001b[0m \u001b[0;32mTrue\u001b[0m\u001b[0;34m)\u001b[0m\u001b[0;34m\u001b[0m\u001b[0;34m\u001b[0m\u001b[0m\n\u001b[0m\u001b[1;32m   1309\u001b[0m             )\n",
            "\u001b[0;32m/usr/local/lib/python3.9/dist-packages/pyspark/sql/types.py\u001b[0m in \u001b[0;36m_infer_type\u001b[0;34m(obj, infer_dict_as_struct, prefer_timestamp_ntz)\u001b[0m\n\u001b[1;32m   1271\u001b[0m         \u001b[0;32mexcept\u001b[0m \u001b[0mTypeError\u001b[0m\u001b[0;34m:\u001b[0m\u001b[0;34m\u001b[0m\u001b[0;34m\u001b[0m\u001b[0m\n\u001b[0;32m-> 1272\u001b[0;31m             \u001b[0;32mraise\u001b[0m \u001b[0mTypeError\u001b[0m\u001b[0;34m(\u001b[0m\u001b[0;34m\"not supported type: %s\"\u001b[0m \u001b[0;34m%\u001b[0m \u001b[0mtype\u001b[0m\u001b[0;34m(\u001b[0m\u001b[0mobj\u001b[0m\u001b[0;34m)\u001b[0m\u001b[0;34m)\u001b[0m\u001b[0;34m\u001b[0m\u001b[0;34m\u001b[0m\u001b[0m\n\u001b[0m\u001b[1;32m   1273\u001b[0m \u001b[0;34m\u001b[0m\u001b[0m\n",
            "\u001b[0;31mTypeError\u001b[0m: not supported type: <class 'set'>",
            "\nThe above exception was the direct cause of the following exception:\n",
            "\u001b[0;31mTypeError\u001b[0m                                 Traceback (most recent call last)",
            "\u001b[0;32m/usr/local/lib/python3.9/dist-packages/pyspark/sql/types.py\u001b[0m in \u001b[0;36m_infer_type\u001b[0;34m(obj, infer_dict_as_struct, prefer_timestamp_ntz)\u001b[0m\n\u001b[1;32m   1269\u001b[0m         \u001b[0;32mtry\u001b[0m\u001b[0;34m:\u001b[0m\u001b[0;34m\u001b[0m\u001b[0;34m\u001b[0m\u001b[0m\n\u001b[0;32m-> 1270\u001b[0;31m             \u001b[0;32mreturn\u001b[0m \u001b[0m_infer_schema\u001b[0m\u001b[0;34m(\u001b[0m\u001b[0mobj\u001b[0m\u001b[0;34m,\u001b[0m \u001b[0minfer_dict_as_struct\u001b[0m\u001b[0;34m=\u001b[0m\u001b[0minfer_dict_as_struct\u001b[0m\u001b[0;34m)\u001b[0m\u001b[0;34m\u001b[0m\u001b[0;34m\u001b[0m\u001b[0m\n\u001b[0m\u001b[1;32m   1271\u001b[0m         \u001b[0;32mexcept\u001b[0m \u001b[0mTypeError\u001b[0m\u001b[0;34m:\u001b[0m\u001b[0;34m\u001b[0m\u001b[0;34m\u001b[0m\u001b[0m\n",
            "\u001b[0;32m/usr/local/lib/python3.9/dist-packages/pyspark/sql/types.py\u001b[0m in \u001b[0;36m_infer_schema\u001b[0;34m(row, names, infer_dict_as_struct, prefer_timestamp_ntz)\u001b[0m\n\u001b[1;32m   1310\u001b[0m         \u001b[0;32mexcept\u001b[0m \u001b[0mTypeError\u001b[0m \u001b[0;32mas\u001b[0m \u001b[0me\u001b[0m\u001b[0;34m:\u001b[0m\u001b[0;34m\u001b[0m\u001b[0;34m\u001b[0m\u001b[0m\n\u001b[0;32m-> 1311\u001b[0;31m             \u001b[0;32mraise\u001b[0m \u001b[0mTypeError\u001b[0m\u001b[0;34m(\u001b[0m\u001b[0;34m\"Unable to infer the type of the field {}.\"\u001b[0m\u001b[0;34m.\u001b[0m\u001b[0mformat\u001b[0m\u001b[0;34m(\u001b[0m\u001b[0mk\u001b[0m\u001b[0;34m)\u001b[0m\u001b[0;34m)\u001b[0m \u001b[0;32mfrom\u001b[0m \u001b[0me\u001b[0m\u001b[0;34m\u001b[0m\u001b[0;34m\u001b[0m\u001b[0m\n\u001b[0m\u001b[1;32m   1312\u001b[0m     \u001b[0;32mreturn\u001b[0m \u001b[0mStructType\u001b[0m\u001b[0;34m(\u001b[0m\u001b[0mfields\u001b[0m\u001b[0;34m)\u001b[0m\u001b[0;34m\u001b[0m\u001b[0;34m\u001b[0m\u001b[0m\n",
            "\u001b[0;31mTypeError\u001b[0m: Unable to infer the type of the field _field_names.",
            "\nDuring handling of the above exception, another exception occurred:\n",
            "\u001b[0;31mTypeError\u001b[0m                                 Traceback (most recent call last)",
            "\u001b[0;32m/usr/local/lib/python3.9/dist-packages/pyspark/sql/types.py\u001b[0m in \u001b[0;36m_infer_schema\u001b[0;34m(row, names, infer_dict_as_struct, prefer_timestamp_ntz)\u001b[0m\n\u001b[1;32m   1307\u001b[0m             fields.append(\n\u001b[0;32m-> 1308\u001b[0;31m                 \u001b[0mStructField\u001b[0m\u001b[0;34m(\u001b[0m\u001b[0mk\u001b[0m\u001b[0;34m,\u001b[0m \u001b[0m_infer_type\u001b[0m\u001b[0;34m(\u001b[0m\u001b[0mv\u001b[0m\u001b[0;34m,\u001b[0m \u001b[0minfer_dict_as_struct\u001b[0m\u001b[0;34m,\u001b[0m \u001b[0mprefer_timestamp_ntz\u001b[0m\u001b[0;34m)\u001b[0m\u001b[0;34m,\u001b[0m \u001b[0;32mTrue\u001b[0m\u001b[0;34m)\u001b[0m\u001b[0;34m\u001b[0m\u001b[0;34m\u001b[0m\u001b[0m\n\u001b[0m\u001b[1;32m   1309\u001b[0m             )\n",
            "\u001b[0;32m/usr/local/lib/python3.9/dist-packages/pyspark/sql/types.py\u001b[0m in \u001b[0;36m_infer_type\u001b[0;34m(obj, infer_dict_as_struct, prefer_timestamp_ntz)\u001b[0m\n\u001b[1;32m   1271\u001b[0m         \u001b[0;32mexcept\u001b[0m \u001b[0mTypeError\u001b[0m\u001b[0;34m:\u001b[0m\u001b[0;34m\u001b[0m\u001b[0;34m\u001b[0m\u001b[0m\n\u001b[0;32m-> 1272\u001b[0;31m             \u001b[0;32mraise\u001b[0m \u001b[0mTypeError\u001b[0m\u001b[0;34m(\u001b[0m\u001b[0;34m\"not supported type: %s\"\u001b[0m \u001b[0;34m%\u001b[0m \u001b[0mtype\u001b[0m\u001b[0;34m(\u001b[0m\u001b[0mobj\u001b[0m\u001b[0;34m)\u001b[0m\u001b[0;34m)\u001b[0m\u001b[0;34m\u001b[0m\u001b[0;34m\u001b[0m\u001b[0m\n\u001b[0m\u001b[1;32m   1273\u001b[0m \u001b[0;34m\u001b[0m\u001b[0m\n",
            "\u001b[0;31mTypeError\u001b[0m: not supported type: <class 'py4j.java_gateway.JavaObject'>",
            "\nThe above exception was the direct cause of the following exception:\n",
            "\u001b[0;31mTypeError\u001b[0m                                 Traceback (most recent call last)",
            "\u001b[0;32m/usr/local/lib/python3.9/dist-packages/pyspark/sql/types.py\u001b[0m in \u001b[0;36m_infer_type\u001b[0;34m(obj, infer_dict_as_struct, prefer_timestamp_ntz)\u001b[0m\n\u001b[1;32m   1269\u001b[0m         \u001b[0;32mtry\u001b[0m\u001b[0;34m:\u001b[0m\u001b[0;34m\u001b[0m\u001b[0;34m\u001b[0m\u001b[0m\n\u001b[0;32m-> 1270\u001b[0;31m             \u001b[0;32mreturn\u001b[0m \u001b[0m_infer_schema\u001b[0m\u001b[0;34m(\u001b[0m\u001b[0mobj\u001b[0m\u001b[0;34m,\u001b[0m \u001b[0minfer_dict_as_struct\u001b[0m\u001b[0;34m=\u001b[0m\u001b[0minfer_dict_as_struct\u001b[0m\u001b[0;34m)\u001b[0m\u001b[0;34m\u001b[0m\u001b[0;34m\u001b[0m\u001b[0m\n\u001b[0m\u001b[1;32m   1271\u001b[0m         \u001b[0;32mexcept\u001b[0m \u001b[0mTypeError\u001b[0m\u001b[0;34m:\u001b[0m\u001b[0;34m\u001b[0m\u001b[0;34m\u001b[0m\u001b[0m\n",
            "\u001b[0;32m/usr/local/lib/python3.9/dist-packages/pyspark/sql/types.py\u001b[0m in \u001b[0;36m_infer_schema\u001b[0;34m(row, names, infer_dict_as_struct, prefer_timestamp_ntz)\u001b[0m\n\u001b[1;32m   1310\u001b[0m         \u001b[0;32mexcept\u001b[0m \u001b[0mTypeError\u001b[0m \u001b[0;32mas\u001b[0m \u001b[0me\u001b[0m\u001b[0;34m:\u001b[0m\u001b[0;34m\u001b[0m\u001b[0;34m\u001b[0m\u001b[0m\n\u001b[0;32m-> 1311\u001b[0;31m             \u001b[0;32mraise\u001b[0m \u001b[0mTypeError\u001b[0m\u001b[0;34m(\u001b[0m\u001b[0;34m\"Unable to infer the type of the field {}.\"\u001b[0m\u001b[0;34m.\u001b[0m\u001b[0mformat\u001b[0m\u001b[0;34m(\u001b[0m\u001b[0mk\u001b[0m\u001b[0;34m)\u001b[0m\u001b[0;34m)\u001b[0m \u001b[0;32mfrom\u001b[0m \u001b[0me\u001b[0m\u001b[0;34m\u001b[0m\u001b[0;34m\u001b[0m\u001b[0m\n\u001b[0m\u001b[1;32m   1312\u001b[0m     \u001b[0;32mreturn\u001b[0m \u001b[0mStructType\u001b[0m\u001b[0;34m(\u001b[0m\u001b[0mfields\u001b[0m\u001b[0;34m)\u001b[0m\u001b[0;34m\u001b[0m\u001b[0;34m\u001b[0m\u001b[0m\n",
            "\u001b[0;31mTypeError\u001b[0m: Unable to infer the type of the field _jc.",
            "\nDuring handling of the above exception, another exception occurred:\n",
            "\u001b[0;31mTypeError\u001b[0m                                 Traceback (most recent call last)",
            "\u001b[0;32m/usr/local/lib/python3.9/dist-packages/pyspark/sql/types.py\u001b[0m in \u001b[0;36m_infer_schema\u001b[0;34m(row, names, infer_dict_as_struct, prefer_timestamp_ntz)\u001b[0m\n\u001b[1;32m   1307\u001b[0m             fields.append(\n\u001b[0;32m-> 1308\u001b[0;31m                 \u001b[0mStructField\u001b[0m\u001b[0;34m(\u001b[0m\u001b[0mk\u001b[0m\u001b[0;34m,\u001b[0m \u001b[0m_infer_type\u001b[0m\u001b[0;34m(\u001b[0m\u001b[0mv\u001b[0m\u001b[0;34m,\u001b[0m \u001b[0minfer_dict_as_struct\u001b[0m\u001b[0;34m,\u001b[0m \u001b[0mprefer_timestamp_ntz\u001b[0m\u001b[0;34m)\u001b[0m\u001b[0;34m,\u001b[0m \u001b[0;32mTrue\u001b[0m\u001b[0;34m)\u001b[0m\u001b[0;34m\u001b[0m\u001b[0;34m\u001b[0m\u001b[0m\n\u001b[0m\u001b[1;32m   1309\u001b[0m             )\n",
            "\u001b[0;32m/usr/local/lib/python3.9/dist-packages/pyspark/sql/types.py\u001b[0m in \u001b[0;36m_infer_type\u001b[0;34m(obj, infer_dict_as_struct, prefer_timestamp_ntz)\u001b[0m\n\u001b[1;32m   1271\u001b[0m         \u001b[0;32mexcept\u001b[0m \u001b[0mTypeError\u001b[0m\u001b[0;34m:\u001b[0m\u001b[0;34m\u001b[0m\u001b[0;34m\u001b[0m\u001b[0m\n\u001b[0;32m-> 1272\u001b[0;31m             \u001b[0;32mraise\u001b[0m \u001b[0mTypeError\u001b[0m\u001b[0;34m(\u001b[0m\u001b[0;34m\"not supported type: %s\"\u001b[0m \u001b[0;34m%\u001b[0m \u001b[0mtype\u001b[0m\u001b[0;34m(\u001b[0m\u001b[0mobj\u001b[0m\u001b[0;34m)\u001b[0m\u001b[0;34m)\u001b[0m\u001b[0;34m\u001b[0m\u001b[0;34m\u001b[0m\u001b[0m\n\u001b[0m\u001b[1;32m   1273\u001b[0m \u001b[0;34m\u001b[0m\u001b[0m\n",
            "\u001b[0;31mTypeError\u001b[0m: not supported type: <class 'pyspark.sql.column.Column'>",
            "\nThe above exception was the direct cause of the following exception:\n",
            "\u001b[0;31mTypeError\u001b[0m                                 Traceback (most recent call last)",
            "\u001b[0;32m<ipython-input-154-eb121b509817>\u001b[0m in \u001b[0;36m<module>\u001b[0;34m\u001b[0m\n\u001b[0;32m----> 1\u001b[0;31m \u001b[0mdf\u001b[0m \u001b[0;34m=\u001b[0m \u001b[0mspark\u001b[0m\u001b[0;34m.\u001b[0m\u001b[0mcreateDataFrame\u001b[0m\u001b[0;34m(\u001b[0m\u001b[0;34m[\u001b[0m\u001b[0;34m(\u001b[0m\u001b[0;36m1\u001b[0m\u001b[0;34m,\u001b[0m \u001b[0mmy_map\u001b[0m\u001b[0;34m)\u001b[0m\u001b[0;34m]\u001b[0m\u001b[0;34m,\u001b[0m \u001b[0;34m[\u001b[0m\u001b[0;34m\"id\"\u001b[0m\u001b[0;34m,\u001b[0m \u001b[0;34m\"data\"\u001b[0m\u001b[0;34m]\u001b[0m\u001b[0;34m)\u001b[0m\u001b[0;34m\u001b[0m\u001b[0;34m\u001b[0m\u001b[0m\n\u001b[0m",
            "\u001b[0;32m/usr/local/lib/python3.9/dist-packages/pyspark/sql/session.py\u001b[0m in \u001b[0;36mcreateDataFrame\u001b[0;34m(self, data, schema, samplingRatio, verifySchema)\u001b[0m\n\u001b[1;32m    892\u001b[0m                 \u001b[0mdata\u001b[0m\u001b[0;34m,\u001b[0m \u001b[0mschema\u001b[0m\u001b[0;34m,\u001b[0m \u001b[0msamplingRatio\u001b[0m\u001b[0;34m,\u001b[0m \u001b[0mverifySchema\u001b[0m\u001b[0;34m\u001b[0m\u001b[0;34m\u001b[0m\u001b[0m\n\u001b[1;32m    893\u001b[0m             )\n\u001b[0;32m--> 894\u001b[0;31m         return self._create_dataframe(\n\u001b[0m\u001b[1;32m    895\u001b[0m             \u001b[0mdata\u001b[0m\u001b[0;34m,\u001b[0m \u001b[0mschema\u001b[0m\u001b[0;34m,\u001b[0m \u001b[0msamplingRatio\u001b[0m\u001b[0;34m,\u001b[0m \u001b[0mverifySchema\u001b[0m  \u001b[0;31m# type: ignore[arg-type]\u001b[0m\u001b[0;34m\u001b[0m\u001b[0;34m\u001b[0m\u001b[0m\n\u001b[1;32m    896\u001b[0m         )\n",
            "\u001b[0;32m/usr/local/lib/python3.9/dist-packages/pyspark/sql/session.py\u001b[0m in \u001b[0;36m_create_dataframe\u001b[0;34m(self, data, schema, samplingRatio, verifySchema)\u001b[0m\n\u001b[1;32m    934\u001b[0m             \u001b[0mrdd\u001b[0m\u001b[0;34m,\u001b[0m \u001b[0mstruct\u001b[0m \u001b[0;34m=\u001b[0m \u001b[0mself\u001b[0m\u001b[0;34m.\u001b[0m\u001b[0m_createFromRDD\u001b[0m\u001b[0;34m(\u001b[0m\u001b[0mdata\u001b[0m\u001b[0;34m.\u001b[0m\u001b[0mmap\u001b[0m\u001b[0;34m(\u001b[0m\u001b[0mprepare\u001b[0m\u001b[0;34m)\u001b[0m\u001b[0;34m,\u001b[0m \u001b[0mschema\u001b[0m\u001b[0;34m,\u001b[0m \u001b[0msamplingRatio\u001b[0m\u001b[0;34m)\u001b[0m\u001b[0;34m\u001b[0m\u001b[0;34m\u001b[0m\u001b[0m\n\u001b[1;32m    935\u001b[0m         \u001b[0;32melse\u001b[0m\u001b[0;34m:\u001b[0m\u001b[0;34m\u001b[0m\u001b[0;34m\u001b[0m\u001b[0m\n\u001b[0;32m--> 936\u001b[0;31m             \u001b[0mrdd\u001b[0m\u001b[0;34m,\u001b[0m \u001b[0mstruct\u001b[0m \u001b[0;34m=\u001b[0m \u001b[0mself\u001b[0m\u001b[0;34m.\u001b[0m\u001b[0m_createFromLocal\u001b[0m\u001b[0;34m(\u001b[0m\u001b[0mmap\u001b[0m\u001b[0;34m(\u001b[0m\u001b[0mprepare\u001b[0m\u001b[0;34m,\u001b[0m \u001b[0mdata\u001b[0m\u001b[0;34m)\u001b[0m\u001b[0;34m,\u001b[0m \u001b[0mschema\u001b[0m\u001b[0;34m)\u001b[0m\u001b[0;34m\u001b[0m\u001b[0;34m\u001b[0m\u001b[0m\n\u001b[0m\u001b[1;32m    937\u001b[0m         \u001b[0;32massert\u001b[0m \u001b[0mself\u001b[0m\u001b[0;34m.\u001b[0m\u001b[0m_jvm\u001b[0m \u001b[0;32mis\u001b[0m \u001b[0;32mnot\u001b[0m \u001b[0;32mNone\u001b[0m\u001b[0;34m\u001b[0m\u001b[0;34m\u001b[0m\u001b[0m\n\u001b[1;32m    938\u001b[0m         \u001b[0mjrdd\u001b[0m \u001b[0;34m=\u001b[0m \u001b[0mself\u001b[0m\u001b[0;34m.\u001b[0m\u001b[0m_jvm\u001b[0m\u001b[0;34m.\u001b[0m\u001b[0mSerDeUtil\u001b[0m\u001b[0;34m.\u001b[0m\u001b[0mtoJavaArray\u001b[0m\u001b[0;34m(\u001b[0m\u001b[0mrdd\u001b[0m\u001b[0;34m.\u001b[0m\u001b[0m_to_java_object_rdd\u001b[0m\u001b[0;34m(\u001b[0m\u001b[0;34m)\u001b[0m\u001b[0;34m)\u001b[0m\u001b[0;34m\u001b[0m\u001b[0;34m\u001b[0m\u001b[0m\n",
            "\u001b[0;32m/usr/local/lib/python3.9/dist-packages/pyspark/sql/session.py\u001b[0m in \u001b[0;36m_createFromLocal\u001b[0;34m(self, data, schema)\u001b[0m\n\u001b[1;32m    629\u001b[0m \u001b[0;34m\u001b[0m\u001b[0m\n\u001b[1;32m    630\u001b[0m         \u001b[0;32mif\u001b[0m \u001b[0mschema\u001b[0m \u001b[0;32mis\u001b[0m \u001b[0;32mNone\u001b[0m \u001b[0;32mor\u001b[0m \u001b[0misinstance\u001b[0m\u001b[0;34m(\u001b[0m\u001b[0mschema\u001b[0m\u001b[0;34m,\u001b[0m \u001b[0;34m(\u001b[0m\u001b[0mlist\u001b[0m\u001b[0;34m,\u001b[0m \u001b[0mtuple\u001b[0m\u001b[0;34m)\u001b[0m\u001b[0;34m)\u001b[0m\u001b[0;34m:\u001b[0m\u001b[0;34m\u001b[0m\u001b[0;34m\u001b[0m\u001b[0m\n\u001b[0;32m--> 631\u001b[0;31m             \u001b[0mstruct\u001b[0m \u001b[0;34m=\u001b[0m \u001b[0mself\u001b[0m\u001b[0;34m.\u001b[0m\u001b[0m_inferSchemaFromList\u001b[0m\u001b[0;34m(\u001b[0m\u001b[0mdata\u001b[0m\u001b[0;34m,\u001b[0m \u001b[0mnames\u001b[0m\u001b[0;34m=\u001b[0m\u001b[0mschema\u001b[0m\u001b[0;34m)\u001b[0m\u001b[0;34m\u001b[0m\u001b[0;34m\u001b[0m\u001b[0m\n\u001b[0m\u001b[1;32m    632\u001b[0m             \u001b[0mconverter\u001b[0m \u001b[0;34m=\u001b[0m \u001b[0m_create_converter\u001b[0m\u001b[0;34m(\u001b[0m\u001b[0mstruct\u001b[0m\u001b[0;34m)\u001b[0m\u001b[0;34m\u001b[0m\u001b[0;34m\u001b[0m\u001b[0m\n\u001b[1;32m    633\u001b[0m             \u001b[0mtupled_data\u001b[0m\u001b[0;34m:\u001b[0m \u001b[0mIterable\u001b[0m\u001b[0;34m[\u001b[0m\u001b[0mTuple\u001b[0m\u001b[0;34m]\u001b[0m \u001b[0;34m=\u001b[0m \u001b[0mmap\u001b[0m\u001b[0;34m(\u001b[0m\u001b[0mconverter\u001b[0m\u001b[0;34m,\u001b[0m \u001b[0mdata\u001b[0m\u001b[0;34m)\u001b[0m\u001b[0;34m\u001b[0m\u001b[0;34m\u001b[0m\u001b[0m\n",
            "\u001b[0;32m/usr/local/lib/python3.9/dist-packages/pyspark/sql/session.py\u001b[0m in \u001b[0;36m_inferSchemaFromList\u001b[0;34m(self, data, names)\u001b[0m\n\u001b[1;32m    515\u001b[0m         \u001b[0minfer_dict_as_struct\u001b[0m \u001b[0;34m=\u001b[0m \u001b[0mself\u001b[0m\u001b[0;34m.\u001b[0m\u001b[0m_jconf\u001b[0m\u001b[0;34m.\u001b[0m\u001b[0minferDictAsStruct\u001b[0m\u001b[0;34m(\u001b[0m\u001b[0;34m)\u001b[0m\u001b[0;34m\u001b[0m\u001b[0;34m\u001b[0m\u001b[0m\n\u001b[1;32m    516\u001b[0m         \u001b[0mprefer_timestamp_ntz\u001b[0m \u001b[0;34m=\u001b[0m \u001b[0mis_timestamp_ntz_preferred\u001b[0m\u001b[0;34m(\u001b[0m\u001b[0;34m)\u001b[0m\u001b[0;34m\u001b[0m\u001b[0;34m\u001b[0m\u001b[0m\n\u001b[0;32m--> 517\u001b[0;31m         schema = reduce(\n\u001b[0m\u001b[1;32m    518\u001b[0m             \u001b[0m_merge_type\u001b[0m\u001b[0;34m,\u001b[0m\u001b[0;34m\u001b[0m\u001b[0;34m\u001b[0m\u001b[0m\n\u001b[1;32m    519\u001b[0m             \u001b[0;34m(\u001b[0m\u001b[0m_infer_schema\u001b[0m\u001b[0;34m(\u001b[0m\u001b[0mrow\u001b[0m\u001b[0;34m,\u001b[0m \u001b[0mnames\u001b[0m\u001b[0;34m,\u001b[0m \u001b[0minfer_dict_as_struct\u001b[0m\u001b[0;34m,\u001b[0m \u001b[0mprefer_timestamp_ntz\u001b[0m\u001b[0;34m)\u001b[0m \u001b[0;32mfor\u001b[0m \u001b[0mrow\u001b[0m \u001b[0;32min\u001b[0m \u001b[0mdata\u001b[0m\u001b[0;34m)\u001b[0m\u001b[0;34m,\u001b[0m\u001b[0;34m\u001b[0m\u001b[0;34m\u001b[0m\u001b[0m\n",
            "\u001b[0;32m/usr/local/lib/python3.9/dist-packages/pyspark/sql/session.py\u001b[0m in \u001b[0;36m<genexpr>\u001b[0;34m(.0)\u001b[0m\n\u001b[1;32m    517\u001b[0m         schema = reduce(\n\u001b[1;32m    518\u001b[0m             \u001b[0m_merge_type\u001b[0m\u001b[0;34m,\u001b[0m\u001b[0;34m\u001b[0m\u001b[0;34m\u001b[0m\u001b[0m\n\u001b[0;32m--> 519\u001b[0;31m             \u001b[0;34m(\u001b[0m\u001b[0m_infer_schema\u001b[0m\u001b[0;34m(\u001b[0m\u001b[0mrow\u001b[0m\u001b[0;34m,\u001b[0m \u001b[0mnames\u001b[0m\u001b[0;34m,\u001b[0m \u001b[0minfer_dict_as_struct\u001b[0m\u001b[0;34m,\u001b[0m \u001b[0mprefer_timestamp_ntz\u001b[0m\u001b[0;34m)\u001b[0m \u001b[0;32mfor\u001b[0m \u001b[0mrow\u001b[0m \u001b[0;32min\u001b[0m \u001b[0mdata\u001b[0m\u001b[0;34m)\u001b[0m\u001b[0;34m,\u001b[0m\u001b[0;34m\u001b[0m\u001b[0;34m\u001b[0m\u001b[0m\n\u001b[0m\u001b[1;32m    520\u001b[0m         )\n\u001b[1;32m    521\u001b[0m         \u001b[0;32mif\u001b[0m \u001b[0m_has_nulltype\u001b[0m\u001b[0;34m(\u001b[0m\u001b[0mschema\u001b[0m\u001b[0;34m)\u001b[0m\u001b[0;34m:\u001b[0m\u001b[0;34m\u001b[0m\u001b[0;34m\u001b[0m\u001b[0m\n",
            "\u001b[0;32m/usr/local/lib/python3.9/dist-packages/pyspark/sql/types.py\u001b[0m in \u001b[0;36m_infer_schema\u001b[0;34m(row, names, infer_dict_as_struct, prefer_timestamp_ntz)\u001b[0m\n\u001b[1;32m   1309\u001b[0m             )\n\u001b[1;32m   1310\u001b[0m         \u001b[0;32mexcept\u001b[0m \u001b[0mTypeError\u001b[0m \u001b[0;32mas\u001b[0m \u001b[0me\u001b[0m\u001b[0;34m:\u001b[0m\u001b[0;34m\u001b[0m\u001b[0;34m\u001b[0m\u001b[0m\n\u001b[0;32m-> 1311\u001b[0;31m             \u001b[0;32mraise\u001b[0m \u001b[0mTypeError\u001b[0m\u001b[0;34m(\u001b[0m\u001b[0;34m\"Unable to infer the type of the field {}.\"\u001b[0m\u001b[0;34m.\u001b[0m\u001b[0mformat\u001b[0m\u001b[0;34m(\u001b[0m\u001b[0mk\u001b[0m\u001b[0;34m)\u001b[0m\u001b[0;34m)\u001b[0m \u001b[0;32mfrom\u001b[0m \u001b[0me\u001b[0m\u001b[0;34m\u001b[0m\u001b[0;34m\u001b[0m\u001b[0m\n\u001b[0m\u001b[1;32m   1312\u001b[0m     \u001b[0;32mreturn\u001b[0m \u001b[0mStructType\u001b[0m\u001b[0;34m(\u001b[0m\u001b[0mfields\u001b[0m\u001b[0;34m)\u001b[0m\u001b[0;34m\u001b[0m\u001b[0;34m\u001b[0m\u001b[0m\n\u001b[1;32m   1313\u001b[0m \u001b[0;34m\u001b[0m\u001b[0m\n",
            "\u001b[0;31mTypeError\u001b[0m: Unable to infer the type of the field data."
          ]
        }
      ]
    },
    {
      "cell_type": "code",
      "source": [],
      "metadata": {
        "colab": {
          "base_uri": "https://localhost:8080/",
          "height": 328
        },
        "id": "-BNkwwJ9Y-tj",
        "outputId": "bb54a00e-0e63-422d-f3a1-5124527770b5"
      },
      "execution_count": 149,
      "outputs": [
        {
          "output_type": "error",
          "ename": "TypeError",
          "evalue": "ignored",
          "traceback": [
            "\u001b[0;31m---------------------------------------------------------------------------\u001b[0m",
            "\u001b[0;31mTypeError\u001b[0m                                 Traceback (most recent call last)",
            "\u001b[0;32m<ipython-input-149-a269f841b502>\u001b[0m in \u001b[0;36m<module>\u001b[0;34m\u001b[0m\n\u001b[0;32m----> 1\u001b[0;31m \u001b[0mdf\u001b[0m \u001b[0;34m=\u001b[0m \u001b[0mdf\u001b[0m\u001b[0;34m.\u001b[0m\u001b[0mwithColumn\u001b[0m\u001b[0;34m(\u001b[0m\u001b[0;34m'new_col'\u001b[0m\u001b[0;34m,\u001b[0m \u001b[0mto_int_array\u001b[0m\u001b[0;34m(\u001b[0m\u001b[0mMad_data\u001b[0m\u001b[0;34m)\u001b[0m\u001b[0;34m)\u001b[0m\u001b[0;34m\u001b[0m\u001b[0;34m\u001b[0m\u001b[0m\n\u001b[0m",
            "\u001b[0;32m/usr/local/lib/python3.9/dist-packages/pyspark/sql/udf.py\u001b[0m in \u001b[0;36mwrapper\u001b[0;34m(*args)\u001b[0m\n\u001b[1;32m    274\u001b[0m         \u001b[0;34m@\u001b[0m\u001b[0mfunctools\u001b[0m\u001b[0;34m.\u001b[0m\u001b[0mwraps\u001b[0m\u001b[0;34m(\u001b[0m\u001b[0mself\u001b[0m\u001b[0;34m.\u001b[0m\u001b[0mfunc\u001b[0m\u001b[0;34m,\u001b[0m \u001b[0massigned\u001b[0m\u001b[0;34m=\u001b[0m\u001b[0massignments\u001b[0m\u001b[0;34m)\u001b[0m\u001b[0;34m\u001b[0m\u001b[0;34m\u001b[0m\u001b[0m\n\u001b[1;32m    275\u001b[0m         \u001b[0;32mdef\u001b[0m \u001b[0mwrapper\u001b[0m\u001b[0;34m(\u001b[0m\u001b[0;34m*\u001b[0m\u001b[0margs\u001b[0m\u001b[0;34m:\u001b[0m \u001b[0;34m\"ColumnOrName\"\u001b[0m\u001b[0;34m)\u001b[0m \u001b[0;34m->\u001b[0m \u001b[0mColumn\u001b[0m\u001b[0;34m:\u001b[0m\u001b[0;34m\u001b[0m\u001b[0;34m\u001b[0m\u001b[0m\n\u001b[0;32m--> 276\u001b[0;31m             \u001b[0;32mreturn\u001b[0m \u001b[0mself\u001b[0m\u001b[0;34m(\u001b[0m\u001b[0;34m*\u001b[0m\u001b[0margs\u001b[0m\u001b[0;34m)\u001b[0m\u001b[0;34m\u001b[0m\u001b[0;34m\u001b[0m\u001b[0m\n\u001b[0m\u001b[1;32m    277\u001b[0m \u001b[0;34m\u001b[0m\u001b[0m\n\u001b[1;32m    278\u001b[0m         \u001b[0mwrapper\u001b[0m\u001b[0;34m.\u001b[0m\u001b[0m__name__\u001b[0m \u001b[0;34m=\u001b[0m \u001b[0mself\u001b[0m\u001b[0;34m.\u001b[0m\u001b[0m_name\u001b[0m\u001b[0;34m\u001b[0m\u001b[0;34m\u001b[0m\u001b[0m\n",
            "\u001b[0;32m/usr/local/lib/python3.9/dist-packages/pyspark/sql/udf.py\u001b[0m in \u001b[0;36m__call__\u001b[0;34m(self, *cols)\u001b[0m\n\u001b[1;32m    249\u001b[0m             \u001b[0mjudf\u001b[0m \u001b[0;34m=\u001b[0m \u001b[0mself\u001b[0m\u001b[0;34m.\u001b[0m\u001b[0m_judf\u001b[0m\u001b[0;34m\u001b[0m\u001b[0;34m\u001b[0m\u001b[0m\n\u001b[1;32m    250\u001b[0m \u001b[0;34m\u001b[0m\u001b[0m\n\u001b[0;32m--> 251\u001b[0;31m         \u001b[0mjPythonUDF\u001b[0m \u001b[0;34m=\u001b[0m \u001b[0mjudf\u001b[0m\u001b[0;34m.\u001b[0m\u001b[0mapply\u001b[0m\u001b[0;34m(\u001b[0m\u001b[0m_to_seq\u001b[0m\u001b[0;34m(\u001b[0m\u001b[0msc\u001b[0m\u001b[0;34m,\u001b[0m \u001b[0mcols\u001b[0m\u001b[0;34m,\u001b[0m \u001b[0m_to_java_column\u001b[0m\u001b[0;34m)\u001b[0m\u001b[0;34m)\u001b[0m\u001b[0;34m\u001b[0m\u001b[0;34m\u001b[0m\u001b[0m\n\u001b[0m\u001b[1;32m    252\u001b[0m         \u001b[0;32mif\u001b[0m \u001b[0mprofiler\u001b[0m \u001b[0;32mis\u001b[0m \u001b[0;32mnot\u001b[0m \u001b[0;32mNone\u001b[0m\u001b[0;34m:\u001b[0m\u001b[0;34m\u001b[0m\u001b[0;34m\u001b[0m\u001b[0m\n\u001b[1;32m    253\u001b[0m             \u001b[0mid\u001b[0m \u001b[0;34m=\u001b[0m \u001b[0mjPythonUDF\u001b[0m\u001b[0;34m.\u001b[0m\u001b[0mexpr\u001b[0m\u001b[0;34m(\u001b[0m\u001b[0;34m)\u001b[0m\u001b[0;34m.\u001b[0m\u001b[0mresultId\u001b[0m\u001b[0;34m(\u001b[0m\u001b[0;34m)\u001b[0m\u001b[0;34m.\u001b[0m\u001b[0mid\u001b[0m\u001b[0;34m(\u001b[0m\u001b[0;34m)\u001b[0m\u001b[0;34m\u001b[0m\u001b[0;34m\u001b[0m\u001b[0m\n",
            "\u001b[0;32m/usr/local/lib/python3.9/dist-packages/pyspark/sql/column.py\u001b[0m in \u001b[0;36m_to_seq\u001b[0;34m(sc, cols, converter)\u001b[0m\n\u001b[1;32m     84\u001b[0m     \"\"\"\n\u001b[1;32m     85\u001b[0m     \u001b[0;32mif\u001b[0m \u001b[0mconverter\u001b[0m\u001b[0;34m:\u001b[0m\u001b[0;34m\u001b[0m\u001b[0;34m\u001b[0m\u001b[0m\n\u001b[0;32m---> 86\u001b[0;31m         \u001b[0mcols\u001b[0m \u001b[0;34m=\u001b[0m \u001b[0;34m[\u001b[0m\u001b[0mconverter\u001b[0m\u001b[0;34m(\u001b[0m\u001b[0mc\u001b[0m\u001b[0;34m)\u001b[0m \u001b[0;32mfor\u001b[0m \u001b[0mc\u001b[0m \u001b[0;32min\u001b[0m \u001b[0mcols\u001b[0m\u001b[0;34m]\u001b[0m\u001b[0;34m\u001b[0m\u001b[0;34m\u001b[0m\u001b[0m\n\u001b[0m\u001b[1;32m     87\u001b[0m     \u001b[0;32massert\u001b[0m \u001b[0msc\u001b[0m\u001b[0;34m.\u001b[0m\u001b[0m_jvm\u001b[0m \u001b[0;32mis\u001b[0m \u001b[0;32mnot\u001b[0m \u001b[0;32mNone\u001b[0m\u001b[0;34m\u001b[0m\u001b[0;34m\u001b[0m\u001b[0m\n\u001b[1;32m     88\u001b[0m     \u001b[0;32mreturn\u001b[0m \u001b[0msc\u001b[0m\u001b[0;34m.\u001b[0m\u001b[0m_jvm\u001b[0m\u001b[0;34m.\u001b[0m\u001b[0mPythonUtils\u001b[0m\u001b[0;34m.\u001b[0m\u001b[0mtoSeq\u001b[0m\u001b[0;34m(\u001b[0m\u001b[0mcols\u001b[0m\u001b[0;34m)\u001b[0m\u001b[0;34m\u001b[0m\u001b[0;34m\u001b[0m\u001b[0m\n",
            "\u001b[0;32m/usr/local/lib/python3.9/dist-packages/pyspark/sql/column.py\u001b[0m in \u001b[0;36m<listcomp>\u001b[0;34m(.0)\u001b[0m\n\u001b[1;32m     84\u001b[0m     \"\"\"\n\u001b[1;32m     85\u001b[0m     \u001b[0;32mif\u001b[0m \u001b[0mconverter\u001b[0m\u001b[0;34m:\u001b[0m\u001b[0;34m\u001b[0m\u001b[0;34m\u001b[0m\u001b[0m\n\u001b[0;32m---> 86\u001b[0;31m         \u001b[0mcols\u001b[0m \u001b[0;34m=\u001b[0m \u001b[0;34m[\u001b[0m\u001b[0mconverter\u001b[0m\u001b[0;34m(\u001b[0m\u001b[0mc\u001b[0m\u001b[0;34m)\u001b[0m \u001b[0;32mfor\u001b[0m \u001b[0mc\u001b[0m \u001b[0;32min\u001b[0m \u001b[0mcols\u001b[0m\u001b[0;34m]\u001b[0m\u001b[0;34m\u001b[0m\u001b[0;34m\u001b[0m\u001b[0m\n\u001b[0m\u001b[1;32m     87\u001b[0m     \u001b[0;32massert\u001b[0m \u001b[0msc\u001b[0m\u001b[0;34m.\u001b[0m\u001b[0m_jvm\u001b[0m \u001b[0;32mis\u001b[0m \u001b[0;32mnot\u001b[0m \u001b[0;32mNone\u001b[0m\u001b[0;34m\u001b[0m\u001b[0;34m\u001b[0m\u001b[0m\n\u001b[1;32m     88\u001b[0m     \u001b[0;32mreturn\u001b[0m \u001b[0msc\u001b[0m\u001b[0;34m.\u001b[0m\u001b[0m_jvm\u001b[0m\u001b[0;34m.\u001b[0m\u001b[0mPythonUtils\u001b[0m\u001b[0;34m.\u001b[0m\u001b[0mtoSeq\u001b[0m\u001b[0;34m(\u001b[0m\u001b[0mcols\u001b[0m\u001b[0;34m)\u001b[0m\u001b[0;34m\u001b[0m\u001b[0;34m\u001b[0m\u001b[0m\n",
            "\u001b[0;32m/usr/local/lib/python3.9/dist-packages/pyspark/sql/column.py\u001b[0m in \u001b[0;36m_to_java_column\u001b[0;34m(col)\u001b[0m\n\u001b[1;32m     63\u001b[0m         \u001b[0mjcol\u001b[0m \u001b[0;34m=\u001b[0m \u001b[0m_create_column_from_name\u001b[0m\u001b[0;34m(\u001b[0m\u001b[0mcol\u001b[0m\u001b[0;34m)\u001b[0m\u001b[0;34m\u001b[0m\u001b[0;34m\u001b[0m\u001b[0m\n\u001b[1;32m     64\u001b[0m     \u001b[0;32melse\u001b[0m\u001b[0;34m:\u001b[0m\u001b[0;34m\u001b[0m\u001b[0;34m\u001b[0m\u001b[0m\n\u001b[0;32m---> 65\u001b[0;31m         raise TypeError(\n\u001b[0m\u001b[1;32m     66\u001b[0m             \u001b[0;34m\"Invalid argument, not a string or column: \"\u001b[0m\u001b[0;34m\u001b[0m\u001b[0;34m\u001b[0m\u001b[0m\n\u001b[1;32m     67\u001b[0m             \u001b[0;34m\"{0} of type {1}. \"\u001b[0m\u001b[0;34m\u001b[0m\u001b[0;34m\u001b[0m\u001b[0m\n",
            "\u001b[0;31mTypeError\u001b[0m: Invalid argument, not a string or column: [False False False ... False False False] of type <class 'numpy.ndarray'>. For column literals, use 'lit', 'array', 'struct' or 'create_map' function."
          ]
        }
      ]
    },
    {
      "cell_type": "code",
      "source": [],
      "metadata": {
        "id": "XnW6CRIkZBha"
      },
      "execution_count": null,
      "outputs": []
    },
    {
      "cell_type": "code",
      "source": [
        "\n"
      ],
      "metadata": {
        "colab": {
          "base_uri": "https://localhost:8080/"
        },
        "id": "64oXckGgXChg",
        "outputId": "c76d99bf-9e25-4a15-e47d-cf3f168a69bb"
      },
      "execution_count": 160,
      "outputs": [
        {
          "output_type": "stream",
          "name": "stdout",
          "text": [
            "+-------------------+---------+----+---+-----+----+-----------+------------------+--------------------+----------+----+\n",
            "|          timestamp|    value|hour|day|month|year|day_of_week|weekday_or_weekend|daytime_or_nighttime|      date|week|\n",
            "+-------------------+---------+----+---+-----+----+-----------+------------------+--------------------+----------+----+\n",
            "|2013-07-04 00:00:00| 69.88084|   0|  4|    7|2013|          5|           weekday|           nighttime|2013-07-04|  27|\n",
            "|2013-07-04 01:00:00| 71.22023|   1|  4|    7|2013|          5|           weekday|           nighttime|2013-07-04|  27|\n",
            "|2013-07-04 02:00:00| 70.87781|   2|  4|    7|2013|          5|           weekday|           nighttime|2013-07-04|  27|\n",
            "|2013-07-04 03:00:00|  68.9594|   3|  4|    7|2013|          5|           weekday|           nighttime|2013-07-04|  27|\n",
            "|2013-07-04 04:00:00|69.283554|   4|  4|    7|2013|          5|           weekday|           nighttime|2013-07-04|  27|\n",
            "|2013-07-04 05:00:00| 70.06097|   5|  4|    7|2013|          5|           weekday|           nighttime|2013-07-04|  27|\n",
            "|2013-07-04 06:00:00| 69.27976|   6|  4|    7|2013|          5|           weekday|           nighttime|2013-07-04|  27|\n",
            "|2013-07-04 07:00:00|69.369606|   7|  4|    7|2013|          5|           weekday|             daytime|2013-07-04|  27|\n",
            "|2013-07-04 08:00:00| 69.16672|   8|  4|    7|2013|          5|           weekday|             daytime|2013-07-04|  27|\n",
            "|2013-07-04 09:00:00|68.986084|   9|  4|    7|2013|          5|           weekday|             daytime|2013-07-04|  27|\n",
            "|2013-07-04 10:00:00|69.965065|  10|  4|    7|2013|          5|           weekday|             daytime|2013-07-04|  27|\n",
            "|2013-07-04 11:00:00|  70.5562|  11|  4|    7|2013|          5|           weekday|             daytime|2013-07-04|  27|\n",
            "|2013-07-04 12:00:00|  70.3075|  12|  4|    7|2013|          5|           weekday|             daytime|2013-07-04|  27|\n",
            "|2013-07-04 13:00:00|70.246254|  13|  4|    7|2013|          5|           weekday|             daytime|2013-07-04|  27|\n",
            "|2013-07-04 14:00:00| 69.85491|  14|  4|    7|2013|          5|           weekday|             daytime|2013-07-04|  27|\n",
            "|2013-07-04 15:00:00| 71.64329|  15|  4|    7|2013|          5|           weekday|             daytime|2013-07-04|  27|\n",
            "|2013-07-04 16:00:00| 71.24566|  16|  4|    7|2013|          5|           weekday|             daytime|2013-07-04|  27|\n",
            "|2013-07-04 17:00:00|  70.7451|  17|  4|    7|2013|          5|           weekday|             daytime|2013-07-04|  27|\n",
            "|2013-07-04 18:00:00|  71.3733|  18|  4|    7|2013|          5|           weekday|             daytime|2013-07-04|  27|\n",
            "|2013-07-04 19:00:00| 71.79575|  19|  4|    7|2013|          5|           weekday|             daytime|2013-07-04|  27|\n",
            "+-------------------+---------+----+---+-----+----+-----------+------------------+--------------------+----------+----+\n",
            "only showing top 20 rows\n",
            "\n"
          ]
        }
      ]
    },
    {
      "cell_type": "code",
      "source": [],
      "metadata": {
        "id": "6cwhrildwSI3",
        "colab": {
          "base_uri": "https://localhost:8080/"
        },
        "outputId": "1be9482a-cb8b-4a07-97f0-dfd2da0d3fa1"
      },
      "execution_count": 111,
      "outputs": [
        {
          "output_type": "stream",
          "name": "stdout",
          "text": [
            "<class 'numpy.ndarray'>\n"
          ]
        },
        {
          "output_type": "execute_result",
          "data": {
            "text/plain": [
              "array([False, False, False, ..., False, False, False])"
            ]
          },
          "metadata": {},
          "execution_count": 111
        }
      ]
    },
    {
      "cell_type": "code",
      "source": [
        "df.printSchema()"
      ],
      "metadata": {
        "id": "Vc_FsKdfwSHQ",
        "colab": {
          "base_uri": "https://localhost:8080/"
        },
        "outputId": "cee59cd4-0c46-4897-f69d-1347613583a4"
      },
      "execution_count": 94,
      "outputs": [
        {
          "output_type": "stream",
          "name": "stdout",
          "text": [
            "root\n",
            " |-- timestamp: string (nullable = true)\n",
            " |-- value: string (nullable = true)\n",
            " |-- hour: integer (nullable = true)\n",
            " |-- day: integer (nullable = true)\n",
            " |-- month: integer (nullable = true)\n",
            " |-- year: integer (nullable = true)\n",
            " |-- day_of_week: integer (nullable = true)\n",
            " |-- weekday_or_weekend: string (nullable = false)\n",
            " |-- daytime_or_nighttime: string (nullable = false)\n",
            " |-- date: string (nullable = true)\n",
            " |-- week: integer (nullable = true)\n",
            " |-- is_anomaly: integer (nullable = false)\n",
            "\n"
          ]
        }
      ]
    },
    {
      "cell_type": "code",
      "source": [
        "df_temp = df_temp.withColumn(\"value\", col(\"value\").cast(FloatType()))\n",
        "df = df.withColumn('value', col('value').cast(FloatType()))"
      ],
      "metadata": {
        "id": "EtmxCbwtwSFg"
      },
      "execution_count": 95,
      "outputs": []
    },
    {
      "cell_type": "code",
      "source": [
        "from pyspark.sql.functions import col, udf\n",
        "from pyspark.sql.types import BooleanType\n",
        "\n"
      ],
      "metadata": {
        "id": "Mtzc9l8rwSC6",
        "colab": {
          "base_uri": "https://localhost:8080/",
          "height": 345
        },
        "outputId": "3174341b-8c81-4c0a-ce5f-2f00d0a5d555"
      },
      "execution_count": 133,
      "outputs": [
        {
          "output_type": "error",
          "ename": "AttributeError",
          "evalue": "ignored",
          "traceback": [
            "\u001b[0;31m---------------------------------------------------------------------------\u001b[0m",
            "\u001b[0;31mAttributeError\u001b[0m                            Traceback (most recent call last)",
            "\u001b[0;32m<ipython-input-133-d6f223e6b0a0>\u001b[0m in \u001b[0;36m<module>\u001b[0;34m\u001b[0m\n\u001b[1;32m      2\u001b[0m \u001b[0;32mfrom\u001b[0m \u001b[0mpyspark\u001b[0m\u001b[0;34m.\u001b[0m\u001b[0msql\u001b[0m\u001b[0;34m.\u001b[0m\u001b[0mtypes\u001b[0m \u001b[0;32mimport\u001b[0m \u001b[0mBooleanType\u001b[0m\u001b[0;34m\u001b[0m\u001b[0;34m\u001b[0m\u001b[0m\n\u001b[1;32m      3\u001b[0m \u001b[0;34m\u001b[0m\u001b[0m\n\u001b[0;32m----> 4\u001b[0;31m \u001b[0mdf\u001b[0m \u001b[0;34m=\u001b[0m \u001b[0mdf\u001b[0m\u001b[0;34m.\u001b[0m\u001b[0mwithColumn\u001b[0m\u001b[0;34m(\u001b[0m\u001b[0;34m'Mad_anomaly'\u001b[0m\u001b[0;34m,\u001b[0m \u001b[0mcol\u001b[0m\u001b[0;34m(\u001b[0m\u001b[0mMad_data\u001b[0m\u001b[0;34m)\u001b[0m\u001b[0;34m)\u001b[0m\u001b[0;34m\u001b[0m\u001b[0;34m\u001b[0m\u001b[0m\n\u001b[0m",
            "\u001b[0;32m/usr/local/lib/python3.9/dist-packages/pyspark/sql/functions.py\u001b[0m in \u001b[0;36mcol\u001b[0;34m(col)\u001b[0m\n\u001b[1;32m    150\u001b[0m     \u001b[0mColumn\u001b[0m\u001b[0;34m<\u001b[0m\u001b[0;34m'x'\u001b[0m\u001b[0;34m>\u001b[0m\u001b[0;34m\u001b[0m\u001b[0;34m\u001b[0m\u001b[0m\n\u001b[1;32m    151\u001b[0m     \"\"\"\n\u001b[0;32m--> 152\u001b[0;31m     \u001b[0;32mreturn\u001b[0m \u001b[0m_invoke_function\u001b[0m\u001b[0;34m(\u001b[0m\u001b[0;34m\"col\"\u001b[0m\u001b[0;34m,\u001b[0m \u001b[0mcol\u001b[0m\u001b[0;34m)\u001b[0m\u001b[0;34m\u001b[0m\u001b[0;34m\u001b[0m\u001b[0m\n\u001b[0m\u001b[1;32m    153\u001b[0m \u001b[0;34m\u001b[0m\u001b[0m\n\u001b[1;32m    154\u001b[0m \u001b[0;34m\u001b[0m\u001b[0m\n",
            "\u001b[0;32m/usr/local/lib/python3.9/dist-packages/pyspark/sql/functions.py\u001b[0m in \u001b[0;36m_invoke_function\u001b[0;34m(name, *args)\u001b[0m\n\u001b[1;32m     83\u001b[0m     \u001b[0;32massert\u001b[0m \u001b[0mSparkContext\u001b[0m\u001b[0;34m.\u001b[0m\u001b[0m_active_spark_context\u001b[0m \u001b[0;32mis\u001b[0m \u001b[0;32mnot\u001b[0m \u001b[0;32mNone\u001b[0m\u001b[0;34m\u001b[0m\u001b[0;34m\u001b[0m\u001b[0m\n\u001b[1;32m     84\u001b[0m     \u001b[0mjf\u001b[0m \u001b[0;34m=\u001b[0m \u001b[0m_get_jvm_function\u001b[0m\u001b[0;34m(\u001b[0m\u001b[0mname\u001b[0m\u001b[0;34m,\u001b[0m \u001b[0mSparkContext\u001b[0m\u001b[0;34m.\u001b[0m\u001b[0m_active_spark_context\u001b[0m\u001b[0;34m)\u001b[0m\u001b[0;34m\u001b[0m\u001b[0;34m\u001b[0m\u001b[0m\n\u001b[0;32m---> 85\u001b[0;31m     \u001b[0;32mreturn\u001b[0m \u001b[0mColumn\u001b[0m\u001b[0;34m(\u001b[0m\u001b[0mjf\u001b[0m\u001b[0;34m(\u001b[0m\u001b[0;34m*\u001b[0m\u001b[0margs\u001b[0m\u001b[0;34m)\u001b[0m\u001b[0;34m)\u001b[0m\u001b[0;34m\u001b[0m\u001b[0;34m\u001b[0m\u001b[0m\n\u001b[0m\u001b[1;32m     86\u001b[0m \u001b[0;34m\u001b[0m\u001b[0m\n\u001b[1;32m     87\u001b[0m \u001b[0;34m\u001b[0m\u001b[0m\n",
            "\u001b[0;32m/usr/local/lib/python3.9/dist-packages/py4j/java_gateway.py\u001b[0m in \u001b[0;36m__call__\u001b[0;34m(self, *args)\u001b[0m\n\u001b[1;32m   1311\u001b[0m \u001b[0;34m\u001b[0m\u001b[0m\n\u001b[1;32m   1312\u001b[0m     \u001b[0;32mdef\u001b[0m \u001b[0m__call__\u001b[0m\u001b[0;34m(\u001b[0m\u001b[0mself\u001b[0m\u001b[0;34m,\u001b[0m \u001b[0;34m*\u001b[0m\u001b[0margs\u001b[0m\u001b[0;34m)\u001b[0m\u001b[0;34m:\u001b[0m\u001b[0;34m\u001b[0m\u001b[0;34m\u001b[0m\u001b[0m\n\u001b[0;32m-> 1313\u001b[0;31m         \u001b[0margs_command\u001b[0m\u001b[0;34m,\u001b[0m \u001b[0mtemp_args\u001b[0m \u001b[0;34m=\u001b[0m \u001b[0mself\u001b[0m\u001b[0;34m.\u001b[0m\u001b[0m_build_args\u001b[0m\u001b[0;34m(\u001b[0m\u001b[0;34m*\u001b[0m\u001b[0margs\u001b[0m\u001b[0;34m)\u001b[0m\u001b[0;34m\u001b[0m\u001b[0;34m\u001b[0m\u001b[0m\n\u001b[0m\u001b[1;32m   1314\u001b[0m \u001b[0;34m\u001b[0m\u001b[0m\n\u001b[1;32m   1315\u001b[0m         \u001b[0mcommand\u001b[0m \u001b[0;34m=\u001b[0m \u001b[0mproto\u001b[0m\u001b[0;34m.\u001b[0m\u001b[0mCALL_COMMAND_NAME\u001b[0m \u001b[0;34m+\u001b[0m\u001b[0;31m\\\u001b[0m\u001b[0;34m\u001b[0m\u001b[0;34m\u001b[0m\u001b[0m\n",
            "\u001b[0;32m/usr/local/lib/python3.9/dist-packages/py4j/java_gateway.py\u001b[0m in \u001b[0;36m_build_args\u001b[0;34m(self, *args)\u001b[0m\n\u001b[1;32m   1275\u001b[0m     \u001b[0;32mdef\u001b[0m \u001b[0m_build_args\u001b[0m\u001b[0;34m(\u001b[0m\u001b[0mself\u001b[0m\u001b[0;34m,\u001b[0m \u001b[0;34m*\u001b[0m\u001b[0margs\u001b[0m\u001b[0;34m)\u001b[0m\u001b[0;34m:\u001b[0m\u001b[0;34m\u001b[0m\u001b[0;34m\u001b[0m\u001b[0m\n\u001b[1;32m   1276\u001b[0m         \u001b[0;32mif\u001b[0m \u001b[0mself\u001b[0m\u001b[0;34m.\u001b[0m\u001b[0mconverters\u001b[0m \u001b[0;32mis\u001b[0m \u001b[0;32mnot\u001b[0m \u001b[0;32mNone\u001b[0m \u001b[0;32mand\u001b[0m \u001b[0mlen\u001b[0m\u001b[0;34m(\u001b[0m\u001b[0mself\u001b[0m\u001b[0;34m.\u001b[0m\u001b[0mconverters\u001b[0m\u001b[0;34m)\u001b[0m \u001b[0;34m>\u001b[0m \u001b[0;36m0\u001b[0m\u001b[0;34m:\u001b[0m\u001b[0;34m\u001b[0m\u001b[0;34m\u001b[0m\u001b[0m\n\u001b[0;32m-> 1277\u001b[0;31m             \u001b[0;34m(\u001b[0m\u001b[0mnew_args\u001b[0m\u001b[0;34m,\u001b[0m \u001b[0mtemp_args\u001b[0m\u001b[0;34m)\u001b[0m \u001b[0;34m=\u001b[0m \u001b[0mself\u001b[0m\u001b[0;34m.\u001b[0m\u001b[0m_get_args\u001b[0m\u001b[0;34m(\u001b[0m\u001b[0margs\u001b[0m\u001b[0;34m)\u001b[0m\u001b[0;34m\u001b[0m\u001b[0;34m\u001b[0m\u001b[0m\n\u001b[0m\u001b[1;32m   1278\u001b[0m         \u001b[0;32melse\u001b[0m\u001b[0;34m:\u001b[0m\u001b[0;34m\u001b[0m\u001b[0;34m\u001b[0m\u001b[0m\n\u001b[1;32m   1279\u001b[0m             \u001b[0mnew_args\u001b[0m \u001b[0;34m=\u001b[0m \u001b[0margs\u001b[0m\u001b[0;34m\u001b[0m\u001b[0;34m\u001b[0m\u001b[0m\n",
            "\u001b[0;32m/usr/local/lib/python3.9/dist-packages/py4j/java_gateway.py\u001b[0m in \u001b[0;36m_get_args\u001b[0;34m(self, args)\u001b[0m\n\u001b[1;32m   1262\u001b[0m                 \u001b[0;32mfor\u001b[0m \u001b[0mconverter\u001b[0m \u001b[0;32min\u001b[0m \u001b[0mself\u001b[0m\u001b[0;34m.\u001b[0m\u001b[0mgateway_client\u001b[0m\u001b[0;34m.\u001b[0m\u001b[0mconverters\u001b[0m\u001b[0;34m:\u001b[0m\u001b[0;34m\u001b[0m\u001b[0;34m\u001b[0m\u001b[0m\n\u001b[1;32m   1263\u001b[0m                     \u001b[0;32mif\u001b[0m \u001b[0mconverter\u001b[0m\u001b[0;34m.\u001b[0m\u001b[0mcan_convert\u001b[0m\u001b[0;34m(\u001b[0m\u001b[0marg\u001b[0m\u001b[0;34m)\u001b[0m\u001b[0;34m:\u001b[0m\u001b[0;34m\u001b[0m\u001b[0;34m\u001b[0m\u001b[0m\n\u001b[0;32m-> 1264\u001b[0;31m                         \u001b[0mtemp_arg\u001b[0m \u001b[0;34m=\u001b[0m \u001b[0mconverter\u001b[0m\u001b[0;34m.\u001b[0m\u001b[0mconvert\u001b[0m\u001b[0;34m(\u001b[0m\u001b[0marg\u001b[0m\u001b[0;34m,\u001b[0m \u001b[0mself\u001b[0m\u001b[0;34m.\u001b[0m\u001b[0mgateway_client\u001b[0m\u001b[0;34m)\u001b[0m\u001b[0;34m\u001b[0m\u001b[0;34m\u001b[0m\u001b[0m\n\u001b[0m\u001b[1;32m   1265\u001b[0m                         \u001b[0mtemp_args\u001b[0m\u001b[0;34m.\u001b[0m\u001b[0mappend\u001b[0m\u001b[0;34m(\u001b[0m\u001b[0mtemp_arg\u001b[0m\u001b[0;34m)\u001b[0m\u001b[0;34m\u001b[0m\u001b[0;34m\u001b[0m\u001b[0m\n\u001b[1;32m   1266\u001b[0m                         \u001b[0mnew_args\u001b[0m\u001b[0;34m.\u001b[0m\u001b[0mappend\u001b[0m\u001b[0;34m(\u001b[0m\u001b[0mtemp_arg\u001b[0m\u001b[0;34m)\u001b[0m\u001b[0;34m\u001b[0m\u001b[0;34m\u001b[0m\u001b[0m\n",
            "\u001b[0;32m/usr/local/lib/python3.9/dist-packages/py4j/java_collections.py\u001b[0m in \u001b[0;36mconvert\u001b[0;34m(self, object, gateway_client)\u001b[0m\n\u001b[1;32m    509\u001b[0m         \u001b[0mjava_list\u001b[0m \u001b[0;34m=\u001b[0m \u001b[0mArrayList\u001b[0m\u001b[0;34m(\u001b[0m\u001b[0;34m)\u001b[0m\u001b[0;34m\u001b[0m\u001b[0;34m\u001b[0m\u001b[0m\n\u001b[1;32m    510\u001b[0m         \u001b[0;32mfor\u001b[0m \u001b[0melement\u001b[0m \u001b[0;32min\u001b[0m \u001b[0mobject\u001b[0m\u001b[0;34m:\u001b[0m\u001b[0;34m\u001b[0m\u001b[0;34m\u001b[0m\u001b[0m\n\u001b[0;32m--> 511\u001b[0;31m             \u001b[0mjava_list\u001b[0m\u001b[0;34m.\u001b[0m\u001b[0madd\u001b[0m\u001b[0;34m(\u001b[0m\u001b[0melement\u001b[0m\u001b[0;34m)\u001b[0m\u001b[0;34m\u001b[0m\u001b[0;34m\u001b[0m\u001b[0m\n\u001b[0m\u001b[1;32m    512\u001b[0m         \u001b[0;32mreturn\u001b[0m \u001b[0mjava_list\u001b[0m\u001b[0;34m\u001b[0m\u001b[0;34m\u001b[0m\u001b[0m\n\u001b[1;32m    513\u001b[0m \u001b[0;34m\u001b[0m\u001b[0m\n",
            "\u001b[0;32m/usr/local/lib/python3.9/dist-packages/py4j/java_gateway.py\u001b[0m in \u001b[0;36m__call__\u001b[0;34m(self, *args)\u001b[0m\n\u001b[1;32m   1311\u001b[0m \u001b[0;34m\u001b[0m\u001b[0m\n\u001b[1;32m   1312\u001b[0m     \u001b[0;32mdef\u001b[0m \u001b[0m__call__\u001b[0m\u001b[0;34m(\u001b[0m\u001b[0mself\u001b[0m\u001b[0;34m,\u001b[0m \u001b[0;34m*\u001b[0m\u001b[0margs\u001b[0m\u001b[0;34m)\u001b[0m\u001b[0;34m:\u001b[0m\u001b[0;34m\u001b[0m\u001b[0;34m\u001b[0m\u001b[0m\n\u001b[0;32m-> 1313\u001b[0;31m         \u001b[0margs_command\u001b[0m\u001b[0;34m,\u001b[0m \u001b[0mtemp_args\u001b[0m \u001b[0;34m=\u001b[0m \u001b[0mself\u001b[0m\u001b[0;34m.\u001b[0m\u001b[0m_build_args\u001b[0m\u001b[0;34m(\u001b[0m\u001b[0;34m*\u001b[0m\u001b[0margs\u001b[0m\u001b[0;34m)\u001b[0m\u001b[0;34m\u001b[0m\u001b[0;34m\u001b[0m\u001b[0m\n\u001b[0m\u001b[1;32m   1314\u001b[0m \u001b[0;34m\u001b[0m\u001b[0m\n\u001b[1;32m   1315\u001b[0m         \u001b[0mcommand\u001b[0m \u001b[0;34m=\u001b[0m \u001b[0mproto\u001b[0m\u001b[0;34m.\u001b[0m\u001b[0mCALL_COMMAND_NAME\u001b[0m \u001b[0;34m+\u001b[0m\u001b[0;31m\\\u001b[0m\u001b[0;34m\u001b[0m\u001b[0;34m\u001b[0m\u001b[0m\n",
            "\u001b[0;32m/usr/local/lib/python3.9/dist-packages/py4j/java_gateway.py\u001b[0m in \u001b[0;36m_build_args\u001b[0;34m(self, *args)\u001b[0m\n\u001b[1;32m   1281\u001b[0m \u001b[0;34m\u001b[0m\u001b[0m\n\u001b[1;32m   1282\u001b[0m         args_command = \"\".join(\n\u001b[0;32m-> 1283\u001b[0;31m             [get_command_part(arg, self.pool) for arg in new_args])\n\u001b[0m\u001b[1;32m   1284\u001b[0m \u001b[0;34m\u001b[0m\u001b[0m\n\u001b[1;32m   1285\u001b[0m         \u001b[0;32mreturn\u001b[0m \u001b[0margs_command\u001b[0m\u001b[0;34m,\u001b[0m \u001b[0mtemp_args\u001b[0m\u001b[0;34m\u001b[0m\u001b[0;34m\u001b[0m\u001b[0m\n",
            "\u001b[0;32m/usr/local/lib/python3.9/dist-packages/py4j/java_gateway.py\u001b[0m in \u001b[0;36m<listcomp>\u001b[0;34m(.0)\u001b[0m\n\u001b[1;32m   1281\u001b[0m \u001b[0;34m\u001b[0m\u001b[0m\n\u001b[1;32m   1282\u001b[0m         args_command = \"\".join(\n\u001b[0;32m-> 1283\u001b[0;31m             [get_command_part(arg, self.pool) for arg in new_args])\n\u001b[0m\u001b[1;32m   1284\u001b[0m \u001b[0;34m\u001b[0m\u001b[0m\n\u001b[1;32m   1285\u001b[0m         \u001b[0;32mreturn\u001b[0m \u001b[0margs_command\u001b[0m\u001b[0;34m,\u001b[0m \u001b[0mtemp_args\u001b[0m\u001b[0;34m\u001b[0m\u001b[0;34m\u001b[0m\u001b[0m\n",
            "\u001b[0;32m/usr/local/lib/python3.9/dist-packages/py4j/protocol.py\u001b[0m in \u001b[0;36mget_command_part\u001b[0;34m(parameter, python_proxy_pool)\u001b[0m\n\u001b[1;32m    296\u001b[0m             \u001b[0mcommand_part\u001b[0m \u001b[0;34m+=\u001b[0m \u001b[0;34m\";\"\u001b[0m \u001b[0;34m+\u001b[0m \u001b[0minterface\u001b[0m\u001b[0;34m\u001b[0m\u001b[0;34m\u001b[0m\u001b[0m\n\u001b[1;32m    297\u001b[0m     \u001b[0;32melse\u001b[0m\u001b[0;34m:\u001b[0m\u001b[0;34m\u001b[0m\u001b[0;34m\u001b[0m\u001b[0m\n\u001b[0;32m--> 298\u001b[0;31m         \u001b[0mcommand_part\u001b[0m \u001b[0;34m=\u001b[0m \u001b[0mREFERENCE_TYPE\u001b[0m \u001b[0;34m+\u001b[0m \u001b[0mparameter\u001b[0m\u001b[0;34m.\u001b[0m\u001b[0m_get_object_id\u001b[0m\u001b[0;34m(\u001b[0m\u001b[0;34m)\u001b[0m\u001b[0;34m\u001b[0m\u001b[0;34m\u001b[0m\u001b[0m\n\u001b[0m\u001b[1;32m    299\u001b[0m \u001b[0;34m\u001b[0m\u001b[0m\n\u001b[1;32m    300\u001b[0m     \u001b[0mcommand_part\u001b[0m \u001b[0;34m+=\u001b[0m \u001b[0;34m\"\\n\"\u001b[0m\u001b[0;34m\u001b[0m\u001b[0;34m\u001b[0m\u001b[0m\n",
            "\u001b[0;31mAttributeError\u001b[0m: 'numpy.bool_' object has no attribute '_get_object_id'"
          ]
        }
      ]
    },
    {
      "cell_type": "code",
      "source": [
        "df = df.filter(col('value').isNotNull())"
      ],
      "metadata": {
        "id": "V_NZ8IbhdDU4"
      },
      "execution_count": 178,
      "outputs": []
    },
    {
      "cell_type": "code",
      "source": [
        "df.printSchema()"
      ],
      "metadata": {
        "colab": {
          "base_uri": "https://localhost:8080/"
        },
        "id": "RBgo56ijdDmI",
        "outputId": "4f0b1310-e9f9-4d7c-9f8d-3339d77242e0"
      },
      "execution_count": 189,
      "outputs": [
        {
          "output_type": "stream",
          "name": "stdout",
          "text": [
            "root\n",
            " |-- timestamp: string (nullable = true)\n",
            " |-- value: float (nullable = true)\n",
            " |-- hour: integer (nullable = true)\n",
            " |-- day: integer (nullable = true)\n",
            " |-- month: integer (nullable = true)\n",
            " |-- year: integer (nullable = true)\n",
            " |-- day_of_week: integer (nullable = true)\n",
            " |-- weekday_or_weekend: string (nullable = false)\n",
            " |-- daytime_or_nighttime: string (nullable = false)\n",
            " |-- date: string (nullable = true)\n",
            " |-- week: integer (nullable = true)\n",
            "\n"
          ]
        }
      ]
    },
    {
      "cell_type": "code",
      "source": [
        "def mad_outlier_udf(col):\n",
        "    # Convert the PySpark column to a NumPy array\n",
        "    arr = np.array(col)\n",
        "    # Call the mad_based_outlier function on the array\n",
        "    result = mad_based_outlier(arr)\n",
        "    # Convert the NumPy boolean array to a Python list\n",
        "    result_list = result.tolist()\n",
        "    # Return the result as a PySpark Boolean column\n",
        "    return result_list\n",
        "\n",
        "# Apply the UDF on a PySpark DataFrame column\n",
        "df = df.withColumn('mad_outlier', mad_outlier_udf(df['value']))"
      ],
      "metadata": {
        "id": "ooZmXyaywSA_",
        "colab": {
          "base_uri": "https://localhost:8080/",
          "height": 363
        },
        "outputId": "5cdc4caa-6573-4406-dc27-ca7f5a8a1ddb"
      },
      "execution_count": 187,
      "outputs": [
        {
          "output_type": "stream",
          "name": "stdout",
          "text": [
            "<class 'numpy.ndarray'>\n"
          ]
        },
        {
          "output_type": "error",
          "ename": "AxisError",
          "evalue": "ignored",
          "traceback": [
            "\u001b[0;31m---------------------------------------------------------------------------\u001b[0m",
            "\u001b[0;31mAxisError\u001b[0m                                 Traceback (most recent call last)",
            "\u001b[0;32m<ipython-input-187-9d0db00a025a>\u001b[0m in \u001b[0;36m<module>\u001b[0;34m\u001b[0m\n\u001b[1;32m     10\u001b[0m \u001b[0;34m\u001b[0m\u001b[0m\n\u001b[1;32m     11\u001b[0m \u001b[0;31m# Apply the UDF on a PySpark DataFrame column\u001b[0m\u001b[0;34m\u001b[0m\u001b[0;34m\u001b[0m\u001b[0m\n\u001b[0;32m---> 12\u001b[0;31m \u001b[0mdf\u001b[0m \u001b[0;34m=\u001b[0m \u001b[0mdf\u001b[0m\u001b[0;34m.\u001b[0m\u001b[0mwithColumn\u001b[0m\u001b[0;34m(\u001b[0m\u001b[0;34m'mad_outlier'\u001b[0m\u001b[0;34m,\u001b[0m \u001b[0mmad_outlier_udf\u001b[0m\u001b[0;34m(\u001b[0m\u001b[0mdf\u001b[0m\u001b[0;34m[\u001b[0m\u001b[0;34m'value'\u001b[0m\u001b[0;34m]\u001b[0m\u001b[0;34m)\u001b[0m\u001b[0;34m)\u001b[0m\u001b[0;34m\u001b[0m\u001b[0;34m\u001b[0m\u001b[0m\n\u001b[0m",
            "\u001b[0;32m<ipython-input-187-9d0db00a025a>\u001b[0m in \u001b[0;36mmad_outlier_udf\u001b[0;34m(col)\u001b[0m\n\u001b[1;32m      3\u001b[0m     \u001b[0marr\u001b[0m \u001b[0;34m=\u001b[0m \u001b[0mnp\u001b[0m\u001b[0;34m.\u001b[0m\u001b[0marray\u001b[0m\u001b[0;34m(\u001b[0m\u001b[0mcol\u001b[0m\u001b[0;34m)\u001b[0m\u001b[0;34m\u001b[0m\u001b[0;34m\u001b[0m\u001b[0m\n\u001b[1;32m      4\u001b[0m     \u001b[0;31m# Call the mad_based_outlier function on the array\u001b[0m\u001b[0;34m\u001b[0m\u001b[0;34m\u001b[0m\u001b[0m\n\u001b[0;32m----> 5\u001b[0;31m     \u001b[0mresult\u001b[0m \u001b[0;34m=\u001b[0m \u001b[0mmad_based_outlier\u001b[0m\u001b[0;34m(\u001b[0m\u001b[0marr\u001b[0m\u001b[0;34m)\u001b[0m\u001b[0;34m\u001b[0m\u001b[0;34m\u001b[0m\u001b[0m\n\u001b[0m\u001b[1;32m      6\u001b[0m     \u001b[0;31m# Convert the NumPy boolean array to a Python list\u001b[0m\u001b[0;34m\u001b[0m\u001b[0;34m\u001b[0m\u001b[0m\n\u001b[1;32m      7\u001b[0m     \u001b[0mresult_list\u001b[0m \u001b[0;34m=\u001b[0m \u001b[0mresult\u001b[0m\u001b[0;34m.\u001b[0m\u001b[0mtolist\u001b[0m\u001b[0;34m(\u001b[0m\u001b[0;34m)\u001b[0m\u001b[0;34m\u001b[0m\u001b[0;34m\u001b[0m\u001b[0m\n",
            "\u001b[0;32m<ipython-input-117-bb8d42031d99>\u001b[0m in \u001b[0;36mmad_based_outlier\u001b[0;34m(points, thresh)\u001b[0m\n\u001b[1;32m      3\u001b[0m     \u001b[0;32mif\u001b[0m \u001b[0mlen\u001b[0m\u001b[0;34m(\u001b[0m\u001b[0mpoints\u001b[0m\u001b[0;34m.\u001b[0m\u001b[0mshape\u001b[0m\u001b[0;34m)\u001b[0m \u001b[0;34m==\u001b[0m \u001b[0;36m1\u001b[0m\u001b[0;34m:\u001b[0m\u001b[0;34m\u001b[0m\u001b[0;34m\u001b[0m\u001b[0m\n\u001b[1;32m      4\u001b[0m         \u001b[0mpoints\u001b[0m \u001b[0;34m=\u001b[0m \u001b[0mpoints\u001b[0m\u001b[0;34m[\u001b[0m\u001b[0;34m:\u001b[0m\u001b[0;34m,\u001b[0m\u001b[0;32mNone\u001b[0m\u001b[0;34m]\u001b[0m\u001b[0;34m\u001b[0m\u001b[0;34m\u001b[0m\u001b[0m\n\u001b[0;32m----> 5\u001b[0;31m     \u001b[0mmedian\u001b[0m \u001b[0;34m=\u001b[0m \u001b[0mnp\u001b[0m\u001b[0;34m.\u001b[0m\u001b[0mmedian\u001b[0m\u001b[0;34m(\u001b[0m\u001b[0mpoints\u001b[0m\u001b[0;34m,\u001b[0m \u001b[0maxis\u001b[0m\u001b[0;34m=\u001b[0m\u001b[0;36m0\u001b[0m\u001b[0;34m)\u001b[0m\u001b[0;34m\u001b[0m\u001b[0;34m\u001b[0m\u001b[0m\n\u001b[0m\u001b[1;32m      6\u001b[0m     \u001b[0mdiff\u001b[0m \u001b[0;34m=\u001b[0m \u001b[0mnp\u001b[0m\u001b[0;34m.\u001b[0m\u001b[0msum\u001b[0m\u001b[0;34m(\u001b[0m\u001b[0;34m(\u001b[0m\u001b[0mpoints\u001b[0m \u001b[0;34m-\u001b[0m \u001b[0mmedian\u001b[0m\u001b[0;34m)\u001b[0m\u001b[0;34m**\u001b[0m\u001b[0;36m2\u001b[0m\u001b[0;34m,\u001b[0m \u001b[0maxis\u001b[0m\u001b[0;34m=\u001b[0m\u001b[0;34m-\u001b[0m\u001b[0;36m1\u001b[0m\u001b[0;34m)\u001b[0m\u001b[0;34m\u001b[0m\u001b[0;34m\u001b[0m\u001b[0m\n\u001b[1;32m      7\u001b[0m     \u001b[0mdiff\u001b[0m \u001b[0;34m=\u001b[0m \u001b[0mnp\u001b[0m\u001b[0;34m.\u001b[0m\u001b[0msqrt\u001b[0m\u001b[0;34m(\u001b[0m\u001b[0mdiff\u001b[0m\u001b[0;34m)\u001b[0m\u001b[0;34m\u001b[0m\u001b[0;34m\u001b[0m\u001b[0m\n",
            "\u001b[0;32m/usr/local/lib/python3.9/dist-packages/numpy/core/overrides.py\u001b[0m in \u001b[0;36mmedian\u001b[0;34m(*args, **kwargs)\u001b[0m\n",
            "\u001b[0;32m/usr/local/lib/python3.9/dist-packages/numpy/lib/function_base.py\u001b[0m in \u001b[0;36mmedian\u001b[0;34m(a, axis, out, overwrite_input, keepdims)\u001b[0m\n\u001b[1;32m   3791\u001b[0m \u001b[0;34m\u001b[0m\u001b[0m\n\u001b[1;32m   3792\u001b[0m     \"\"\"\n\u001b[0;32m-> 3793\u001b[0;31m     r, k = _ureduce(a, func=_median, axis=axis, out=out,\n\u001b[0m\u001b[1;32m   3794\u001b[0m                     overwrite_input=overwrite_input)\n\u001b[1;32m   3795\u001b[0m     \u001b[0;32mif\u001b[0m \u001b[0mkeepdims\u001b[0m\u001b[0;34m:\u001b[0m\u001b[0;34m\u001b[0m\u001b[0;34m\u001b[0m\u001b[0m\n",
            "\u001b[0;32m/usr/local/lib/python3.9/dist-packages/numpy/lib/function_base.py\u001b[0m in \u001b[0;36m_ureduce\u001b[0;34m(a, func, **kwargs)\u001b[0m\n\u001b[1;32m   3680\u001b[0m         \u001b[0mkeepdim\u001b[0m \u001b[0;34m=\u001b[0m \u001b[0mlist\u001b[0m\u001b[0;34m(\u001b[0m\u001b[0ma\u001b[0m\u001b[0;34m.\u001b[0m\u001b[0mshape\u001b[0m\u001b[0;34m)\u001b[0m\u001b[0;34m\u001b[0m\u001b[0;34m\u001b[0m\u001b[0m\n\u001b[1;32m   3681\u001b[0m         \u001b[0mnd\u001b[0m \u001b[0;34m=\u001b[0m \u001b[0ma\u001b[0m\u001b[0;34m.\u001b[0m\u001b[0mndim\u001b[0m\u001b[0;34m\u001b[0m\u001b[0;34m\u001b[0m\u001b[0m\n\u001b[0;32m-> 3682\u001b[0;31m         \u001b[0maxis\u001b[0m \u001b[0;34m=\u001b[0m \u001b[0m_nx\u001b[0m\u001b[0;34m.\u001b[0m\u001b[0mnormalize_axis_tuple\u001b[0m\u001b[0;34m(\u001b[0m\u001b[0maxis\u001b[0m\u001b[0;34m,\u001b[0m \u001b[0mnd\u001b[0m\u001b[0;34m)\u001b[0m\u001b[0;34m\u001b[0m\u001b[0;34m\u001b[0m\u001b[0m\n\u001b[0m\u001b[1;32m   3683\u001b[0m \u001b[0;34m\u001b[0m\u001b[0m\n\u001b[1;32m   3684\u001b[0m         \u001b[0;32mfor\u001b[0m \u001b[0max\u001b[0m \u001b[0;32min\u001b[0m \u001b[0maxis\u001b[0m\u001b[0;34m:\u001b[0m\u001b[0;34m\u001b[0m\u001b[0;34m\u001b[0m\u001b[0m\n",
            "\u001b[0;32m/usr/local/lib/python3.9/dist-packages/numpy/core/numeric.py\u001b[0m in \u001b[0;36mnormalize_axis_tuple\u001b[0;34m(axis, ndim, argname, allow_duplicate)\u001b[0m\n\u001b[1;32m   1389\u001b[0m             \u001b[0;32mpass\u001b[0m\u001b[0;34m\u001b[0m\u001b[0;34m\u001b[0m\u001b[0m\n\u001b[1;32m   1390\u001b[0m     \u001b[0;31m# Going via an iterator directly is slower than via list comprehension.\u001b[0m\u001b[0;34m\u001b[0m\u001b[0;34m\u001b[0m\u001b[0m\n\u001b[0;32m-> 1391\u001b[0;31m     \u001b[0maxis\u001b[0m \u001b[0;34m=\u001b[0m \u001b[0mtuple\u001b[0m\u001b[0;34m(\u001b[0m\u001b[0;34m[\u001b[0m\u001b[0mnormalize_axis_index\u001b[0m\u001b[0;34m(\u001b[0m\u001b[0max\u001b[0m\u001b[0;34m,\u001b[0m \u001b[0mndim\u001b[0m\u001b[0;34m,\u001b[0m \u001b[0margname\u001b[0m\u001b[0;34m)\u001b[0m \u001b[0;32mfor\u001b[0m \u001b[0max\u001b[0m \u001b[0;32min\u001b[0m \u001b[0maxis\u001b[0m\u001b[0;34m]\u001b[0m\u001b[0;34m)\u001b[0m\u001b[0;34m\u001b[0m\u001b[0;34m\u001b[0m\u001b[0m\n\u001b[0m\u001b[1;32m   1392\u001b[0m     \u001b[0;32mif\u001b[0m \u001b[0;32mnot\u001b[0m \u001b[0mallow_duplicate\u001b[0m \u001b[0;32mand\u001b[0m \u001b[0mlen\u001b[0m\u001b[0;34m(\u001b[0m\u001b[0mset\u001b[0m\u001b[0;34m(\u001b[0m\u001b[0maxis\u001b[0m\u001b[0;34m)\u001b[0m\u001b[0;34m)\u001b[0m \u001b[0;34m!=\u001b[0m \u001b[0mlen\u001b[0m\u001b[0;34m(\u001b[0m\u001b[0maxis\u001b[0m\u001b[0;34m)\u001b[0m\u001b[0;34m:\u001b[0m\u001b[0;34m\u001b[0m\u001b[0;34m\u001b[0m\u001b[0m\n\u001b[1;32m   1393\u001b[0m         \u001b[0;32mif\u001b[0m \u001b[0margname\u001b[0m\u001b[0;34m:\u001b[0m\u001b[0;34m\u001b[0m\u001b[0;34m\u001b[0m\u001b[0m\n",
            "\u001b[0;32m/usr/local/lib/python3.9/dist-packages/numpy/core/numeric.py\u001b[0m in \u001b[0;36m<listcomp>\u001b[0;34m(.0)\u001b[0m\n\u001b[1;32m   1389\u001b[0m             \u001b[0;32mpass\u001b[0m\u001b[0;34m\u001b[0m\u001b[0;34m\u001b[0m\u001b[0m\n\u001b[1;32m   1390\u001b[0m     \u001b[0;31m# Going via an iterator directly is slower than via list comprehension.\u001b[0m\u001b[0;34m\u001b[0m\u001b[0;34m\u001b[0m\u001b[0m\n\u001b[0;32m-> 1391\u001b[0;31m     \u001b[0maxis\u001b[0m \u001b[0;34m=\u001b[0m \u001b[0mtuple\u001b[0m\u001b[0;34m(\u001b[0m\u001b[0;34m[\u001b[0m\u001b[0mnormalize_axis_index\u001b[0m\u001b[0;34m(\u001b[0m\u001b[0max\u001b[0m\u001b[0;34m,\u001b[0m \u001b[0mndim\u001b[0m\u001b[0;34m,\u001b[0m \u001b[0margname\u001b[0m\u001b[0;34m)\u001b[0m \u001b[0;32mfor\u001b[0m \u001b[0max\u001b[0m \u001b[0;32min\u001b[0m \u001b[0maxis\u001b[0m\u001b[0;34m]\u001b[0m\u001b[0;34m)\u001b[0m\u001b[0;34m\u001b[0m\u001b[0;34m\u001b[0m\u001b[0m\n\u001b[0m\u001b[1;32m   1392\u001b[0m     \u001b[0;32mif\u001b[0m \u001b[0;32mnot\u001b[0m \u001b[0mallow_duplicate\u001b[0m \u001b[0;32mand\u001b[0m \u001b[0mlen\u001b[0m\u001b[0;34m(\u001b[0m\u001b[0mset\u001b[0m\u001b[0;34m(\u001b[0m\u001b[0maxis\u001b[0m\u001b[0;34m)\u001b[0m\u001b[0;34m)\u001b[0m \u001b[0;34m!=\u001b[0m \u001b[0mlen\u001b[0m\u001b[0;34m(\u001b[0m\u001b[0maxis\u001b[0m\u001b[0;34m)\u001b[0m\u001b[0;34m:\u001b[0m\u001b[0;34m\u001b[0m\u001b[0;34m\u001b[0m\u001b[0m\n\u001b[1;32m   1393\u001b[0m         \u001b[0;32mif\u001b[0m \u001b[0margname\u001b[0m\u001b[0;34m:\u001b[0m\u001b[0;34m\u001b[0m\u001b[0;34m\u001b[0m\u001b[0m\n",
            "\u001b[0;31mAxisError\u001b[0m: axis 0 is out of bounds for array of dimension 0"
          ]
        }
      ]
    },
    {
      "cell_type": "code",
      "source": [
        "df.printSchema()"
      ],
      "metadata": {
        "id": "Qjg8k8OXwR_e",
        "colab": {
          "base_uri": "https://localhost:8080/"
        },
        "outputId": "53293e84-a6f5-45ba-e4b4-2ce889f89695"
      },
      "execution_count": 163,
      "outputs": [
        {
          "output_type": "stream",
          "name": "stdout",
          "text": [
            "root\n",
            " |-- timestamp: string (nullable = true)\n",
            " |-- value: float (nullable = true)\n",
            " |-- hour: integer (nullable = true)\n",
            " |-- day: integer (nullable = true)\n",
            " |-- month: integer (nullable = true)\n",
            " |-- year: integer (nullable = true)\n",
            " |-- day_of_week: integer (nullable = true)\n",
            " |-- weekday_or_weekend: string (nullable = false)\n",
            " |-- daytime_or_nighttime: string (nullable = false)\n",
            " |-- date: string (nullable = true)\n",
            " |-- week: integer (nullable = true)\n",
            "\n"
          ]
        }
      ]
    },
    {
      "cell_type": "code",
      "source": [],
      "metadata": {
        "id": "paYpqMrkwR91",
        "colab": {
          "base_uri": "https://localhost:8080/"
        },
        "outputId": "f02ba97c-dc9a-4874-e564-45ed35156ad7"
      },
      "execution_count": 165,
      "outputs": [
        {
          "output_type": "stream",
          "name": "stdout",
          "text": [
            "+---------+-----+----+----+-----+----+-----------+------------------+--------------------+----+----+\n",
            "|timestamp|value|hour| day|month|year|day_of_week|weekday_or_weekend|daytime_or_nighttime|date|week|\n",
            "+---------+-----+----+----+-----+----+-----------+------------------+--------------------+----+----+\n",
            "|     7267| 7267|7267|7267| 7267|7267|       7267|              7267|                7267|7267|7267|\n",
            "+---------+-----+----+----+-----+----+-----------+------------------+--------------------+----+----+\n",
            "\n"
          ]
        }
      ]
    },
    {
      "cell_type": "code",
      "source": [
        "from pyspark.sql.functions import col,isnan, when, count\n",
        "df.select([count(when(isnan(c) | col(c).isNull(), c)).alias(c) for c in df.columns]\n",
        "   ).show()"
      ],
      "metadata": {
        "id": "CGNR4MIKwR8O",
        "colab": {
          "base_uri": "https://localhost:8080/"
        },
        "outputId": "cffabfa3-bebc-42a3-f56c-ed67cb7b1f7f"
      },
      "execution_count": 175,
      "outputs": [
        {
          "output_type": "stream",
          "name": "stdout",
          "text": [
            "+---------+-----+----+---+-----+----+-----------+------------------+--------------------+----+----+\n",
            "|timestamp|value|hour|day|month|year|day_of_week|weekday_or_weekend|daytime_or_nighttime|date|week|\n",
            "+---------+-----+----+---+-----+----+-----------+------------------+--------------------+----+----+\n",
            "|        0|    0|   0|  0|    0|   0|          0|                 0|                   0|   0|   0|\n",
            "+---------+-----+----+---+-----+----+-----------+------------------+--------------------+----+----+\n",
            "\n"
          ]
        }
      ]
    },
    {
      "cell_type": "code",
      "source": [],
      "metadata": {
        "id": "bPNN1mwvwR6j"
      },
      "execution_count": null,
      "outputs": []
    },
    {
      "cell_type": "markdown",
      "source": [
        "Unsupervised methods:\n",
        "Unsupervised methods don't require labeled data and work by identifying data points that are significantly different from the rest of the data. Some examples of unsupervised methods for anomaly detection include clustering-based methods (e.g., k-means, DBSCAN), density-based methods (e.g., local outlier factor, one-class SVM), and reconstruction-based methods (e.g., autoencoder, PCA).\n",
        "\n",
        "Supervised methods:\n",
        "Supervised methods require labeled data and work by learning a model that can distinguish between normal and anomalous data. Some examples of supervised methods for anomaly detection include classification-based methods (e.g., SVM, decision tree, random forest) and regression-based methods (e.g., linear regression, logistic regression).\n",
        "\n",
        "Hybrid methods:\n",
        "Hybrid methods combine unsupervised and supervised methods to leverage the strengths of both approaches. For example, one could use an unsupervised method to identify potential anomalies and then use a supervised method to refine the results."
      ],
      "metadata": {
        "id": "Kf-J9qlbeFUP"
      }
    },
    {
      "cell_type": "code",
      "source": [
        "from pyspark.sql.functions import udf\n",
        "from pyspark.sql.types import BooleanType\n",
        "import numpy as np\n",
        "\n",
        "def iqr_outlier(points, multiplier=1.5):\n",
        "    q1, q3 = np.percentile(points, [25, 75])\n",
        "    iqr = q3 - q1\n",
        "    lower_bound = q1 - (multiplier * iqr)\n",
        "    upper_bound = q3 + (multiplier * iqr)\n",
        "    return (points < lower_bound) | (points > upper_bound)\n",
        "\n",
        "iqr_outlier_udf = udf(lambda col: iqr_outlier(np.array(col)), BooleanType())\n",
        "\n",
        "# Apply the UDF on a PySpark DataFrame column\n",
        "df = df.withColumn('iqr_outlier', iqr_outlier_udf(df['value']))"
      ],
      "metadata": {
        "id": "KVEknQqKwR5I"
      },
      "execution_count": 190,
      "outputs": []
    },
    {
      "cell_type": "code",
      "source": [
        "df.show()"
      ],
      "metadata": {
        "id": "te8N0BmkwR3Z",
        "colab": {
          "base_uri": "https://localhost:8080/",
          "height": 1000
        },
        "outputId": "b37d899a-bed2-460f-af10-bef6b6e9c602"
      },
      "execution_count": 191,
      "outputs": [
        {
          "output_type": "error",
          "ename": "Py4JJavaError",
          "evalue": "ignored",
          "traceback": [
            "\u001b[0;31m---------------------------------------------------------------------------\u001b[0m",
            "\u001b[0;31mPy4JJavaError\u001b[0m                             Traceback (most recent call last)",
            "\u001b[0;32m<ipython-input-191-1a6ce2362cd4>\u001b[0m in \u001b[0;36m<module>\u001b[0;34m\u001b[0m\n\u001b[0;32m----> 1\u001b[0;31m \u001b[0mdf\u001b[0m\u001b[0;34m.\u001b[0m\u001b[0mshow\u001b[0m\u001b[0;34m(\u001b[0m\u001b[0;34m)\u001b[0m\u001b[0;34m\u001b[0m\u001b[0;34m\u001b[0m\u001b[0m\n\u001b[0m",
            "\u001b[0;32m/usr/local/lib/python3.9/dist-packages/pyspark/sql/dataframe.py\u001b[0m in \u001b[0;36mshow\u001b[0;34m(self, n, truncate, vertical)\u001b[0m\n\u001b[1;32m    604\u001b[0m \u001b[0;34m\u001b[0m\u001b[0m\n\u001b[1;32m    605\u001b[0m         \u001b[0;32mif\u001b[0m \u001b[0misinstance\u001b[0m\u001b[0;34m(\u001b[0m\u001b[0mtruncate\u001b[0m\u001b[0;34m,\u001b[0m \u001b[0mbool\u001b[0m\u001b[0;34m)\u001b[0m \u001b[0;32mand\u001b[0m \u001b[0mtruncate\u001b[0m\u001b[0;34m:\u001b[0m\u001b[0;34m\u001b[0m\u001b[0;34m\u001b[0m\u001b[0m\n\u001b[0;32m--> 606\u001b[0;31m             \u001b[0mprint\u001b[0m\u001b[0;34m(\u001b[0m\u001b[0mself\u001b[0m\u001b[0;34m.\u001b[0m\u001b[0m_jdf\u001b[0m\u001b[0;34m.\u001b[0m\u001b[0mshowString\u001b[0m\u001b[0;34m(\u001b[0m\u001b[0mn\u001b[0m\u001b[0;34m,\u001b[0m \u001b[0;36m20\u001b[0m\u001b[0;34m,\u001b[0m \u001b[0mvertical\u001b[0m\u001b[0;34m)\u001b[0m\u001b[0;34m)\u001b[0m\u001b[0;34m\u001b[0m\u001b[0;34m\u001b[0m\u001b[0m\n\u001b[0m\u001b[1;32m    607\u001b[0m         \u001b[0;32melse\u001b[0m\u001b[0;34m:\u001b[0m\u001b[0;34m\u001b[0m\u001b[0;34m\u001b[0m\u001b[0m\n\u001b[1;32m    608\u001b[0m             \u001b[0;32mtry\u001b[0m\u001b[0;34m:\u001b[0m\u001b[0;34m\u001b[0m\u001b[0;34m\u001b[0m\u001b[0m\n",
            "\u001b[0;32m/usr/local/lib/python3.9/dist-packages/py4j/java_gateway.py\u001b[0m in \u001b[0;36m__call__\u001b[0;34m(self, *args)\u001b[0m\n\u001b[1;32m   1319\u001b[0m \u001b[0;34m\u001b[0m\u001b[0m\n\u001b[1;32m   1320\u001b[0m         \u001b[0manswer\u001b[0m \u001b[0;34m=\u001b[0m \u001b[0mself\u001b[0m\u001b[0;34m.\u001b[0m\u001b[0mgateway_client\u001b[0m\u001b[0;34m.\u001b[0m\u001b[0msend_command\u001b[0m\u001b[0;34m(\u001b[0m\u001b[0mcommand\u001b[0m\u001b[0;34m)\u001b[0m\u001b[0;34m\u001b[0m\u001b[0;34m\u001b[0m\u001b[0m\n\u001b[0;32m-> 1321\u001b[0;31m         return_value = get_return_value(\n\u001b[0m\u001b[1;32m   1322\u001b[0m             answer, self.gateway_client, self.target_id, self.name)\n\u001b[1;32m   1323\u001b[0m \u001b[0;34m\u001b[0m\u001b[0m\n",
            "\u001b[0;32m/usr/local/lib/python3.9/dist-packages/pyspark/sql/utils.py\u001b[0m in \u001b[0;36mdeco\u001b[0;34m(*a, **kw)\u001b[0m\n\u001b[1;32m    188\u001b[0m     \u001b[0;32mdef\u001b[0m \u001b[0mdeco\u001b[0m\u001b[0;34m(\u001b[0m\u001b[0;34m*\u001b[0m\u001b[0ma\u001b[0m\u001b[0;34m:\u001b[0m \u001b[0mAny\u001b[0m\u001b[0;34m,\u001b[0m \u001b[0;34m**\u001b[0m\u001b[0mkw\u001b[0m\u001b[0;34m:\u001b[0m \u001b[0mAny\u001b[0m\u001b[0;34m)\u001b[0m \u001b[0;34m->\u001b[0m \u001b[0mAny\u001b[0m\u001b[0;34m:\u001b[0m\u001b[0;34m\u001b[0m\u001b[0;34m\u001b[0m\u001b[0m\n\u001b[1;32m    189\u001b[0m         \u001b[0;32mtry\u001b[0m\u001b[0;34m:\u001b[0m\u001b[0;34m\u001b[0m\u001b[0;34m\u001b[0m\u001b[0m\n\u001b[0;32m--> 190\u001b[0;31m             \u001b[0;32mreturn\u001b[0m \u001b[0mf\u001b[0m\u001b[0;34m(\u001b[0m\u001b[0;34m*\u001b[0m\u001b[0ma\u001b[0m\u001b[0;34m,\u001b[0m \u001b[0;34m**\u001b[0m\u001b[0mkw\u001b[0m\u001b[0;34m)\u001b[0m\u001b[0;34m\u001b[0m\u001b[0;34m\u001b[0m\u001b[0m\n\u001b[0m\u001b[1;32m    191\u001b[0m         \u001b[0;32mexcept\u001b[0m \u001b[0mPy4JJavaError\u001b[0m \u001b[0;32mas\u001b[0m \u001b[0me\u001b[0m\u001b[0;34m:\u001b[0m\u001b[0;34m\u001b[0m\u001b[0;34m\u001b[0m\u001b[0m\n\u001b[1;32m    192\u001b[0m             \u001b[0mconverted\u001b[0m \u001b[0;34m=\u001b[0m \u001b[0mconvert_exception\u001b[0m\u001b[0;34m(\u001b[0m\u001b[0me\u001b[0m\u001b[0;34m.\u001b[0m\u001b[0mjava_exception\u001b[0m\u001b[0;34m)\u001b[0m\u001b[0;34m\u001b[0m\u001b[0;34m\u001b[0m\u001b[0m\n",
            "\u001b[0;32m/usr/local/lib/python3.9/dist-packages/py4j/protocol.py\u001b[0m in \u001b[0;36mget_return_value\u001b[0;34m(answer, gateway_client, target_id, name)\u001b[0m\n\u001b[1;32m    324\u001b[0m             \u001b[0mvalue\u001b[0m \u001b[0;34m=\u001b[0m \u001b[0mOUTPUT_CONVERTER\u001b[0m\u001b[0;34m[\u001b[0m\u001b[0mtype\u001b[0m\u001b[0;34m]\u001b[0m\u001b[0;34m(\u001b[0m\u001b[0manswer\u001b[0m\u001b[0;34m[\u001b[0m\u001b[0;36m2\u001b[0m\u001b[0;34m:\u001b[0m\u001b[0;34m]\u001b[0m\u001b[0;34m,\u001b[0m \u001b[0mgateway_client\u001b[0m\u001b[0;34m)\u001b[0m\u001b[0;34m\u001b[0m\u001b[0;34m\u001b[0m\u001b[0m\n\u001b[1;32m    325\u001b[0m             \u001b[0;32mif\u001b[0m \u001b[0manswer\u001b[0m\u001b[0;34m[\u001b[0m\u001b[0;36m1\u001b[0m\u001b[0;34m]\u001b[0m \u001b[0;34m==\u001b[0m \u001b[0mREFERENCE_TYPE\u001b[0m\u001b[0;34m:\u001b[0m\u001b[0;34m\u001b[0m\u001b[0;34m\u001b[0m\u001b[0m\n\u001b[0;32m--> 326\u001b[0;31m                 raise Py4JJavaError(\n\u001b[0m\u001b[1;32m    327\u001b[0m                     \u001b[0;34m\"An error occurred while calling {0}{1}{2}.\\n\"\u001b[0m\u001b[0;34m.\u001b[0m\u001b[0;34m\u001b[0m\u001b[0;34m\u001b[0m\u001b[0m\n\u001b[1;32m    328\u001b[0m                     format(target_id, \".\", name), value)\n",
            "\u001b[0;31mPy4JJavaError\u001b[0m: An error occurred while calling o8210.showString.\n: org.apache.spark.SparkException: Job aborted due to stage failure: Task 0 in stage 96.0 failed 1 times, most recent failure: Lost task 0.0 in stage 96.0 (TID 72) (f4ad923d31d4 executor driver): net.razorvine.pickle.PickleException: expected zero arguments for construction of ClassDict (for numpy.dtype). This happens when an unsupported/unregistered class is being unpickled that requires construction arguments. Fix it by registering a custom IObjectConstructor for this class.\n\tat net.razorvine.pickle.objects.ClassDictConstructor.construct(ClassDictConstructor.java:23)\n\tat net.razorvine.pickle.Unpickler.load_reduce(Unpickler.java:759)\n\tat net.razorvine.pickle.Unpickler.dispatch(Unpickler.java:199)\n\tat net.razorvine.pickle.Unpickler.load(Unpickler.java:109)\n\tat net.razorvine.pickle.Unpickler.loads(Unpickler.java:122)\n\tat org.apache.spark.sql.execution.python.BatchEvalPythonExec.$anonfun$evaluate$6(BatchEvalPythonExec.scala:94)\n\tat scala.collection.Iterator$$anon$11.nextCur(Iterator.scala:486)\n\tat scala.collection.Iterator$$anon$11.hasNext(Iterator.scala:492)\n\tat scala.collection.Iterator$$anon$10.hasNext(Iterator.scala:460)\n\tat scala.collection.Iterator$$anon$10.hasNext(Iterator.scala:460)\n\tat org.apache.spark.sql.catalyst.expressions.GeneratedClass$GeneratedIteratorForCodegenStage2.processNext(Unknown Source)\n\tat org.apache.spark.sql.execution.BufferedRowIterator.hasNext(BufferedRowIterator.java:43)\n\tat org.apache.spark.sql.execution.WholeStageCodegenExec$$anon$1.hasNext(WholeStageCodegenExec.scala:760)\n\tat org.apache.spark.sql.execution.SparkPlan.$anonfun$getByteArrayRdd$1(SparkPlan.scala:364)\n\tat org.apache.spark.rdd.RDD.$anonfun$mapPartitionsInternal$2(RDD.scala:890)\n\tat org.apache.spark.rdd.RDD.$anonfun$mapPartitionsInternal$2$adapted(RDD.scala:890)\n\tat org.apache.spark.rdd.MapPartitionsRDD.compute(MapPartitionsRDD.scala:52)\n\tat org.apache.spark.rdd.RDD.computeOrReadCheckpoint(RDD.scala:365)\n\tat org.apache.spark.rdd.RDD.iterator(RDD.scala:329)\n\tat org.apache.spark.scheduler.ResultTask.runTask(ResultTask.scala:90)\n\tat org.apache.spark.scheduler.Task.run(Task.scala:136)\n\tat org.apache.spark.executor.Executor$TaskRunner.$anonfun$run$3(Executor.scala:548)\n\tat org.apache.spark.util.Utils$.tryWithSafeFinally(Utils.scala:1504)\n\tat org.apache.spark.executor.Executor$TaskRunner.run(Executor.scala:551)\n\tat java.util.concurrent.ThreadPoolExecutor.runWorker(ThreadPoolExecutor.java:1149)\n\tat java.util.concurrent.ThreadPoolExecutor$Worker.run(ThreadPoolExecutor.java:624)\n\tat java.lang.Thread.run(Thread.java:750)\n\nDriver stacktrace:\n\tat org.apache.spark.scheduler.DAGScheduler.failJobAndIndependentStages(DAGScheduler.scala:2672)\n\tat org.apache.spark.scheduler.DAGScheduler.$anonfun$abortStage$2(DAGScheduler.scala:2608)\n\tat org.apache.spark.scheduler.DAGScheduler.$anonfun$abortStage$2$adapted(DAGScheduler.scala:2607)\n\tat scala.collection.mutable.ResizableArray.foreach(ResizableArray.scala:62)\n\tat scala.collection.mutable.ResizableArray.foreach$(ResizableArray.scala:55)\n\tat scala.collection.mutable.ArrayBuffer.foreach(ArrayBuffer.scala:49)\n\tat org.apache.spark.scheduler.DAGScheduler.abortStage(DAGScheduler.scala:2607)\n\tat org.apache.spark.scheduler.DAGScheduler.$anonfun$handleTaskSetFailed$1(DAGScheduler.scala:1182)\n\tat org.apache.spark.scheduler.DAGScheduler.$anonfun$handleTaskSetFailed$1$adapted(DAGScheduler.scala:1182)\n\tat scala.Option.foreach(Option.scala:407)\n\tat org.apache.spark.scheduler.DAGScheduler.handleTaskSetFailed(DAGScheduler.scala:1182)\n\tat org.apache.spark.scheduler.DAGSchedulerEventProcessLoop.doOnReceive(DAGScheduler.scala:2860)\n\tat org.apache.spark.scheduler.DAGSchedulerEventProcessLoop.onReceive(DAGScheduler.scala:2802)\n\tat org.apache.spark.scheduler.DAGSchedulerEventProcessLoop.onReceive(DAGScheduler.scala:2791)\n\tat org.apache.spark.util.EventLoop$$anon$1.run(EventLoop.scala:49)\n\tat org.apache.spark.scheduler.DAGScheduler.runJob(DAGScheduler.scala:952)\n\tat org.apache.spark.SparkContext.runJob(SparkContext.scala:2238)\n\tat org.apache.spark.SparkContext.runJob(SparkContext.scala:2259)\n\tat org.apache.spark.SparkContext.runJob(SparkContext.scala:2278)\n\tat org.apache.spark.sql.execution.SparkPlan.executeTake(SparkPlan.scala:506)\n\tat org.apache.spark.sql.execution.SparkPlan.executeTake(SparkPlan.scala:459)\n\tat org.apache.spark.sql.execution.CollectLimitExec.executeCollect(limit.scala:48)\n\tat org.apache.spark.sql.Dataset.collectFromPlan(Dataset.scala:3868)\n\tat org.apache.spark.sql.Dataset.$anonfun$head$1(Dataset.scala:2863)\n\tat org.apache.spark.sql.Dataset.$anonfun$withAction$2(Dataset.scala:3858)\n\tat org.apache.spark.sql.execution.QueryExecution$.withInternalError(QueryExecution.scala:510)\n\tat org.apache.spark.sql.Dataset.$anonfun$withAction$1(Dataset.scala:3856)\n\tat org.apache.spark.sql.execution.SQLExecution$.$anonfun$withNewExecutionId$6(SQLExecution.scala:109)\n\tat org.apache.spark.sql.execution.SQLExecution$.withSQLConfPropagated(SQLExecution.scala:169)\n\tat org.apache.spark.sql.execution.SQLExecution$.$anonfun$withNewExecutionId$1(SQLExecution.scala:95)\n\tat org.apache.spark.sql.SparkSession.withActive(SparkSession.scala:779)\n\tat org.apache.spark.sql.execution.SQLExecution$.withNewExecutionId(SQLExecution.scala:64)\n\tat org.apache.spark.sql.Dataset.withAction(Dataset.scala:3856)\n\tat org.apache.spark.sql.Dataset.head(Dataset.scala:2863)\n\tat org.apache.spark.sql.Dataset.take(Dataset.scala:3084)\n\tat org.apache.spark.sql.Dataset.getRows(Dataset.scala:288)\n\tat org.apache.spark.sql.Dataset.showString(Dataset.scala:327)\n\tat sun.reflect.GeneratedMethodAccessor66.invoke(Unknown Source)\n\tat sun.reflect.DelegatingMethodAccessorImpl.invoke(DelegatingMethodAccessorImpl.java:43)\n\tat java.lang.reflect.Method.invoke(Method.java:498)\n\tat py4j.reflection.MethodInvoker.invoke(MethodInvoker.java:244)\n\tat py4j.reflection.ReflectionEngine.invoke(ReflectionEngine.java:357)\n\tat py4j.Gateway.invoke(Gateway.java:282)\n\tat py4j.commands.AbstractCommand.invokeMethod(AbstractCommand.java:132)\n\tat py4j.commands.CallCommand.execute(CallCommand.java:79)\n\tat py4j.ClientServerConnection.waitForCommands(ClientServerConnection.java:182)\n\tat py4j.ClientServerConnection.run(ClientServerConnection.java:106)\n\tat java.lang.Thread.run(Thread.java:750)\nCaused by: net.razorvine.pickle.PickleException: expected zero arguments for construction of ClassDict (for numpy.dtype). This happens when an unsupported/unregistered class is being unpickled that requires construction arguments. Fix it by registering a custom IObjectConstructor for this class.\n\tat net.razorvine.pickle.objects.ClassDictConstructor.construct(ClassDictConstructor.java:23)\n\tat net.razorvine.pickle.Unpickler.load_reduce(Unpickler.java:759)\n\tat net.razorvine.pickle.Unpickler.dispatch(Unpickler.java:199)\n\tat net.razorvine.pickle.Unpickler.load(Unpickler.java:109)\n\tat net.razorvine.pickle.Unpickler.loads(Unpickler.java:122)\n\tat org.apache.spark.sql.execution.python.BatchEvalPythonExec.$anonfun$evaluate$6(BatchEvalPythonExec.scala:94)\n\tat scala.collection.Iterator$$anon$11.nextCur(Iterator.scala:486)\n\tat scala.collection.Iterator$$anon$11.hasNext(Iterator.scala:492)\n\tat scala.collection.Iterator$$anon$10.hasNext(Iterator.scala:460)\n\tat scala.collection.Iterator$$anon$10.hasNext(Iterator.scala:460)\n\tat org.apache.spark.sql.catalyst.expressions.GeneratedClass$GeneratedIteratorForCodegenStage2.processNext(Unknown Source)\n\tat org.apache.spark.sql.execution.BufferedRowIterator.hasNext(BufferedRowIterator.java:43)\n\tat org.apache.spark.sql.execution.WholeStageCodegenExec$$anon$1.hasNext(WholeStageCodegenExec.scala:760)\n\tat org.apache.spark.sql.execution.SparkPlan.$anonfun$getByteArrayRdd$1(SparkPlan.scala:364)\n\tat org.apache.spark.rdd.RDD.$anonfun$mapPartitionsInternal$2(RDD.scala:890)\n\tat org.apache.spark.rdd.RDD.$anonfun$mapPartitionsInternal$2$adapted(RDD.scala:890)\n\tat org.apache.spark.rdd.MapPartitionsRDD.compute(MapPartitionsRDD.scala:52)\n\tat org.apache.spark.rdd.RDD.computeOrReadCheckpoint(RDD.scala:365)\n\tat org.apache.spark.rdd.RDD.iterator(RDD.scala:329)\n\tat org.apache.spark.scheduler.ResultTask.runTask(ResultTask.scala:90)\n\tat org.apache.spark.scheduler.Task.run(Task.scala:136)\n\tat org.apache.spark.executor.Executor$TaskRunner.$anonfun$run$3(Executor.scala:548)\n\tat org.apache.spark.util.Utils$.tryWithSafeFinally(Utils.scala:1504)\n\tat org.apache.spark.executor.Executor$TaskRunner.run(Executor.scala:551)\n\tat java.util.concurrent.ThreadPoolExecutor.runWorker(ThreadPoolExecutor.java:1149)\n\tat java.util.concurrent.ThreadPoolExecutor$Worker.run(ThreadPoolExecutor.java:624)\n\t... 1 more\n"
          ]
        }
      ]
    },
    {
      "cell_type": "code",
      "source": [
        "df = df_temp"
      ],
      "metadata": {
        "id": "e5YLpporwR14"
      },
      "execution_count": 192,
      "outputs": []
    },
    {
      "cell_type": "markdown",
      "source": [
        "Statistical methods such as z-score, median absolute deviation (MAD), and interquartile range (IQR) which can detect anomalies based on deviations from the normal statistical properties of the data.\n",
        "Density-based methods such as Local Outlier Factor (LOF) and DBSCAN that identify anomalies as data points that are in low-density regions of the data space.\n",
        "Clustering-based methods such as k-means clustering that identify anomalies as data points that do not belong to any cluster or belong to a cluster with significantly different properties than the majority of the data."
      ],
      "metadata": {
        "id": "89jHY3W7fB-l"
      }
    },
    {
      "cell_type": "code",
      "source": [
        "df.show()"
      ],
      "metadata": {
        "id": "hQi3zq_lwR0Y",
        "colab": {
          "base_uri": "https://localhost:8080/"
        },
        "outputId": "cdec4523-64cd-4c52-b421-b289e487dbb1"
      },
      "execution_count": 193,
      "outputs": [
        {
          "output_type": "stream",
          "name": "stdout",
          "text": [
            "+-------------------+---------+----+---+-----+----+-----------+------------------+--------------------+----------+----+\n",
            "|          timestamp|    value|hour|day|month|year|day_of_week|weekday_or_weekend|daytime_or_nighttime|      date|week|\n",
            "+-------------------+---------+----+---+-----+----+-----------+------------------+--------------------+----------+----+\n",
            "|2013-07-04 00:00:00| 69.88084|   0|  4|    7|2013|          5|           weekday|           nighttime|2013-07-04|  27|\n",
            "|2013-07-04 01:00:00| 71.22023|   1|  4|    7|2013|          5|           weekday|           nighttime|2013-07-04|  27|\n",
            "|2013-07-04 02:00:00| 70.87781|   2|  4|    7|2013|          5|           weekday|           nighttime|2013-07-04|  27|\n",
            "|2013-07-04 03:00:00|  68.9594|   3|  4|    7|2013|          5|           weekday|           nighttime|2013-07-04|  27|\n",
            "|2013-07-04 04:00:00|69.283554|   4|  4|    7|2013|          5|           weekday|           nighttime|2013-07-04|  27|\n",
            "|2013-07-04 05:00:00| 70.06097|   5|  4|    7|2013|          5|           weekday|           nighttime|2013-07-04|  27|\n",
            "|2013-07-04 06:00:00| 69.27976|   6|  4|    7|2013|          5|           weekday|           nighttime|2013-07-04|  27|\n",
            "|2013-07-04 07:00:00|69.369606|   7|  4|    7|2013|          5|           weekday|             daytime|2013-07-04|  27|\n",
            "|2013-07-04 08:00:00| 69.16672|   8|  4|    7|2013|          5|           weekday|             daytime|2013-07-04|  27|\n",
            "|2013-07-04 09:00:00|68.986084|   9|  4|    7|2013|          5|           weekday|             daytime|2013-07-04|  27|\n",
            "|2013-07-04 10:00:00|69.965065|  10|  4|    7|2013|          5|           weekday|             daytime|2013-07-04|  27|\n",
            "|2013-07-04 11:00:00|  70.5562|  11|  4|    7|2013|          5|           weekday|             daytime|2013-07-04|  27|\n",
            "|2013-07-04 12:00:00|  70.3075|  12|  4|    7|2013|          5|           weekday|             daytime|2013-07-04|  27|\n",
            "|2013-07-04 13:00:00|70.246254|  13|  4|    7|2013|          5|           weekday|             daytime|2013-07-04|  27|\n",
            "|2013-07-04 14:00:00| 69.85491|  14|  4|    7|2013|          5|           weekday|             daytime|2013-07-04|  27|\n",
            "|2013-07-04 15:00:00| 71.64329|  15|  4|    7|2013|          5|           weekday|             daytime|2013-07-04|  27|\n",
            "|2013-07-04 16:00:00| 71.24566|  16|  4|    7|2013|          5|           weekday|             daytime|2013-07-04|  27|\n",
            "|2013-07-04 17:00:00|  70.7451|  17|  4|    7|2013|          5|           weekday|             daytime|2013-07-04|  27|\n",
            "|2013-07-04 18:00:00|  71.3733|  18|  4|    7|2013|          5|           weekday|             daytime|2013-07-04|  27|\n",
            "|2013-07-04 19:00:00| 71.79575|  19|  4|    7|2013|          5|           weekday|             daytime|2013-07-04|  27|\n",
            "+-------------------+---------+----+---+-----+----+-----------+------------------+--------------------+----------+----+\n",
            "only showing top 20 rows\n",
            "\n"
          ]
        }
      ]
    },
    {
      "cell_type": "code",
      "source": [
        "\n",
        "\n",
        "# Calculate the lower and upper quartiles and IQR\n",
        "quantiles = df.approxQuantile(\"value\", [0.25, 0.75], 0.01)\n",
        "q1 = quantiles[0]\n",
        "q3 = quantiles[1]\n",
        "iqr = q3 - q1\n",
        "\n",
        "# Define the lower and upper bounds for identifying potential outliers\n",
        "lower_bound = q1 - 1.5 * iqr\n",
        "upper_bound = q3 + 1.5 * iqr\n",
        "\n",
        "# Identify potential outliers\n",
        "outliers_df = df.filter((df[\"value\"] < lower_bound) | (df[\"value\"] > upper_bound))\n",
        "\n",
        "# Show the potential outliers\n",
        "outliers_df.show()\n"
      ],
      "metadata": {
        "id": "3LaoDdPwwRy5",
        "colab": {
          "base_uri": "https://localhost:8080/"
        },
        "outputId": "4129c32d-97f3-4cb6-d0f3-2da8a667304d"
      },
      "execution_count": 198,
      "outputs": [
        {
          "output_type": "stream",
          "name": "stdout",
          "text": [
            "+-------------------+---------+----+---+-----+----+-----------+------------------+--------------------+----------+----+\n",
            "|          timestamp|    value|hour|day|month|year|day_of_week|weekday_or_weekend|daytime_or_nighttime|      date|week|\n",
            "+-------------------+---------+----+---+-----+----+-----------+------------------+--------------------+----------+----+\n",
            "|2013-12-22 01:00:00|   83.781|   1| 22|   12|2013|          1|           weekend|           nighttime|2013-12-22|  51|\n",
            "|2013-12-22 16:00:00| 83.51163|  16| 22|   12|2013|          1|           weekend|             daytime|2013-12-22|  51|\n",
            "|2013-12-22 17:00:00| 84.39093|  17| 22|   12|2013|          1|           weekend|             daytime|2013-12-22|  51|\n",
            "|2013-12-22 18:00:00|85.227684|  18| 22|   12|2013|          1|           weekend|             daytime|2013-12-22|  51|\n",
            "|2013-12-22 19:00:00| 86.09489|  19| 22|   12|2013|          1|           weekend|             daytime|2013-12-22|  51|\n",
            "|2013-12-22 20:00:00|86.204185|  20| 22|   12|2013|          1|           weekend|           nighttime|2013-12-22|  51|\n",
            "|2013-12-22 21:00:00| 86.22321|  21| 22|   12|2013|          1|           weekend|           nighttime|2013-12-22|  51|\n",
            "|2013-12-22 22:00:00| 85.64944|  22| 22|   12|2013|          1|           weekend|           nighttime|2013-12-22|  51|\n",
            "|2013-12-22 23:00:00| 86.07471|  23| 22|   12|2013|          1|           weekend|           nighttime|2013-12-22|  51|\n",
            "|2013-12-23 00:00:00|85.326164|   0| 23|   12|2013|          2|           weekday|           nighttime|2013-12-23|  52|\n",
            "|2013-12-23 01:00:00| 85.70599|   1| 23|   12|2013|          2|           weekday|           nighttime|2013-12-23|  52|\n",
            "|2013-12-23 02:00:00| 84.08697|   2| 23|   12|2013|          2|           weekday|           nighttime|2013-12-23|  52|\n",
            "|2013-12-23 03:00:00|85.222275|   3| 23|   12|2013|          2|           weekday|           nighttime|2013-12-23|  52|\n",
            "|2013-12-23 04:00:00| 83.65397|   4| 23|   12|2013|          2|           weekday|           nighttime|2013-12-23|  52|\n",
            "|2013-12-23 05:00:00|   84.329|   5| 23|   12|2013|          2|           weekday|           nighttime|2013-12-23|  52|\n",
            "|2014-04-13 03:00:00|58.862274|   3| 13|    4|2014|          1|           weekend|           nighttime|2014-04-13|  15|\n",
            "|2014-04-13 04:00:00| 58.77714|   4| 13|    4|2014|          1|           weekend|           nighttime|2014-04-13|  15|\n",
            "|2014-04-13 05:00:00|59.410748|   5| 13|    4|2014|          1|           weekend|           nighttime|2014-04-13|  15|\n",
            "|2014-04-13 06:00:00|57.844574|   6| 13|    4|2014|          1|           weekend|           nighttime|2014-04-13|  15|\n",
            "|2014-04-13 07:00:00|58.389523|   7| 13|    4|2014|          1|           weekend|             daytime|2014-04-13|  15|\n",
            "+-------------------+---------+----+---+-----+----+-----------+------------------+--------------------+----------+----+\n",
            "only showing top 20 rows\n",
            "\n"
          ]
        }
      ]
    },
    {
      "cell_type": "code",
      "source": [
        "print(pyspark.__version__)\n"
      ],
      "metadata": {
        "id": "FnktoZP2wRxN",
        "colab": {
          "base_uri": "https://localhost:8080/"
        },
        "outputId": "164aa5a2-27c9-4ca7-87a2-56fdbad857a8"
      },
      "execution_count": 197,
      "outputs": [
        {
          "output_type": "stream",
          "name": "stdout",
          "text": [
            "3.3.2\n"
          ]
        }
      ]
    },
    {
      "cell_type": "code",
      "source": [
        "from pyspark.sql.functions import col\n",
        "\n",
        "df = df.withColumn('IQR', ((col('value') >= lower_bound) & (col('value') <= upper_bound)).cast('integer'))\n"
      ],
      "metadata": {
        "id": "nwdQU8lzwRvs"
      },
      "execution_count": 204,
      "outputs": []
    },
    {
      "cell_type": "code",
      "source": [
        "df.show()"
      ],
      "metadata": {
        "id": "WqCNn_59wRs0",
        "colab": {
          "base_uri": "https://localhost:8080/"
        },
        "outputId": "7a8d2257-207d-4c18-cc06-a94a8750e942"
      },
      "execution_count": 205,
      "outputs": [
        {
          "output_type": "stream",
          "name": "stdout",
          "text": [
            "+-------------------+---------+----+---+-----+----+-----------+------------------+--------------------+----------+----+---+\n",
            "|          timestamp|    value|hour|day|month|year|day_of_week|weekday_or_weekend|daytime_or_nighttime|      date|week|IQR|\n",
            "+-------------------+---------+----+---+-----+----+-----------+------------------+--------------------+----------+----+---+\n",
            "|2013-07-04 00:00:00| 69.88084|   0|  4|    7|2013|          5|           weekday|           nighttime|2013-07-04|  27|  1|\n",
            "|2013-07-04 01:00:00| 71.22023|   1|  4|    7|2013|          5|           weekday|           nighttime|2013-07-04|  27|  1|\n",
            "|2013-07-04 02:00:00| 70.87781|   2|  4|    7|2013|          5|           weekday|           nighttime|2013-07-04|  27|  1|\n",
            "|2013-07-04 03:00:00|  68.9594|   3|  4|    7|2013|          5|           weekday|           nighttime|2013-07-04|  27|  1|\n",
            "|2013-07-04 04:00:00|69.283554|   4|  4|    7|2013|          5|           weekday|           nighttime|2013-07-04|  27|  1|\n",
            "|2013-07-04 05:00:00| 70.06097|   5|  4|    7|2013|          5|           weekday|           nighttime|2013-07-04|  27|  1|\n",
            "|2013-07-04 06:00:00| 69.27976|   6|  4|    7|2013|          5|           weekday|           nighttime|2013-07-04|  27|  1|\n",
            "|2013-07-04 07:00:00|69.369606|   7|  4|    7|2013|          5|           weekday|             daytime|2013-07-04|  27|  1|\n",
            "|2013-07-04 08:00:00| 69.16672|   8|  4|    7|2013|          5|           weekday|             daytime|2013-07-04|  27|  1|\n",
            "|2013-07-04 09:00:00|68.986084|   9|  4|    7|2013|          5|           weekday|             daytime|2013-07-04|  27|  1|\n",
            "|2013-07-04 10:00:00|69.965065|  10|  4|    7|2013|          5|           weekday|             daytime|2013-07-04|  27|  1|\n",
            "|2013-07-04 11:00:00|  70.5562|  11|  4|    7|2013|          5|           weekday|             daytime|2013-07-04|  27|  1|\n",
            "|2013-07-04 12:00:00|  70.3075|  12|  4|    7|2013|          5|           weekday|             daytime|2013-07-04|  27|  1|\n",
            "|2013-07-04 13:00:00|70.246254|  13|  4|    7|2013|          5|           weekday|             daytime|2013-07-04|  27|  1|\n",
            "|2013-07-04 14:00:00| 69.85491|  14|  4|    7|2013|          5|           weekday|             daytime|2013-07-04|  27|  1|\n",
            "|2013-07-04 15:00:00| 71.64329|  15|  4|    7|2013|          5|           weekday|             daytime|2013-07-04|  27|  1|\n",
            "|2013-07-04 16:00:00| 71.24566|  16|  4|    7|2013|          5|           weekday|             daytime|2013-07-04|  27|  1|\n",
            "|2013-07-04 17:00:00|  70.7451|  17|  4|    7|2013|          5|           weekday|             daytime|2013-07-04|  27|  1|\n",
            "|2013-07-04 18:00:00|  71.3733|  18|  4|    7|2013|          5|           weekday|             daytime|2013-07-04|  27|  1|\n",
            "|2013-07-04 19:00:00| 71.79575|  19|  4|    7|2013|          5|           weekday|             daytime|2013-07-04|  27|  1|\n",
            "+-------------------+---------+----+---+-----+----+-----------+------------------+--------------------+----------+----+---+\n",
            "only showing top 20 rows\n",
            "\n"
          ]
        }
      ]
    },
    {
      "cell_type": "code",
      "source": [
        "df_iqr_anomaly = df.filter(col('IQR') == 0)"
      ],
      "metadata": {
        "id": "3MVGg-XEwRpl"
      },
      "execution_count": 207,
      "outputs": []
    },
    {
      "cell_type": "code",
      "source": [
        "data = df\n",
        "assembler = VectorAssembler(inputCols=, outputCol=\"features\")\n",
        "data = assembler.transform(data)"
      ],
      "metadata": {
        "id": "Gfad5hX_wRm7",
        "colab": {
          "base_uri": "https://localhost:8080/",
          "height": 397
        },
        "outputId": "3753e252-0e17-4669-8dd2-b04ac2b29094"
      },
      "execution_count": 209,
      "outputs": [
        {
          "output_type": "error",
          "ename": "IllegalArgumentException",
          "evalue": "ignored",
          "traceback": [
            "\u001b[0;31m---------------------------------------------------------------------------\u001b[0m",
            "\u001b[0;31mIllegalArgumentException\u001b[0m                  Traceback (most recent call last)",
            "\u001b[0;32m<ipython-input-209-b4154bf05f16>\u001b[0m in \u001b[0;36m<module>\u001b[0;34m\u001b[0m\n\u001b[1;32m      1\u001b[0m \u001b[0mdata\u001b[0m \u001b[0;34m=\u001b[0m \u001b[0mdf\u001b[0m\u001b[0;34m\u001b[0m\u001b[0;34m\u001b[0m\u001b[0m\n\u001b[1;32m      2\u001b[0m \u001b[0massembler\u001b[0m \u001b[0;34m=\u001b[0m \u001b[0mVectorAssembler\u001b[0m\u001b[0;34m(\u001b[0m\u001b[0minputCols\u001b[0m\u001b[0;34m=\u001b[0m\u001b[0mdata\u001b[0m\u001b[0;34m.\u001b[0m\u001b[0mcolumns\u001b[0m\u001b[0;34m,\u001b[0m \u001b[0moutputCol\u001b[0m\u001b[0;34m=\u001b[0m\u001b[0;34m\"features\"\u001b[0m\u001b[0;34m)\u001b[0m\u001b[0;34m\u001b[0m\u001b[0;34m\u001b[0m\u001b[0m\n\u001b[0;32m----> 3\u001b[0;31m \u001b[0mdata\u001b[0m \u001b[0;34m=\u001b[0m \u001b[0massembler\u001b[0m\u001b[0;34m.\u001b[0m\u001b[0mtransform\u001b[0m\u001b[0;34m(\u001b[0m\u001b[0mdata\u001b[0m\u001b[0;34m)\u001b[0m\u001b[0;34m\u001b[0m\u001b[0;34m\u001b[0m\u001b[0m\n\u001b[0m",
            "\u001b[0;32m/usr/local/lib/python3.9/dist-packages/pyspark/ml/base.py\u001b[0m in \u001b[0;36mtransform\u001b[0;34m(self, dataset, params)\u001b[0m\n\u001b[1;32m    260\u001b[0m                 \u001b[0;32mreturn\u001b[0m \u001b[0mself\u001b[0m\u001b[0;34m.\u001b[0m\u001b[0mcopy\u001b[0m\u001b[0;34m(\u001b[0m\u001b[0mparams\u001b[0m\u001b[0;34m)\u001b[0m\u001b[0;34m.\u001b[0m\u001b[0m_transform\u001b[0m\u001b[0;34m(\u001b[0m\u001b[0mdataset\u001b[0m\u001b[0;34m)\u001b[0m\u001b[0;34m\u001b[0m\u001b[0;34m\u001b[0m\u001b[0m\n\u001b[1;32m    261\u001b[0m             \u001b[0;32melse\u001b[0m\u001b[0;34m:\u001b[0m\u001b[0;34m\u001b[0m\u001b[0;34m\u001b[0m\u001b[0m\n\u001b[0;32m--> 262\u001b[0;31m                 \u001b[0;32mreturn\u001b[0m \u001b[0mself\u001b[0m\u001b[0;34m.\u001b[0m\u001b[0m_transform\u001b[0m\u001b[0;34m(\u001b[0m\u001b[0mdataset\u001b[0m\u001b[0;34m)\u001b[0m\u001b[0;34m\u001b[0m\u001b[0;34m\u001b[0m\u001b[0m\n\u001b[0m\u001b[1;32m    263\u001b[0m         \u001b[0;32melse\u001b[0m\u001b[0;34m:\u001b[0m\u001b[0;34m\u001b[0m\u001b[0;34m\u001b[0m\u001b[0m\n\u001b[1;32m    264\u001b[0m             \u001b[0;32mraise\u001b[0m \u001b[0mTypeError\u001b[0m\u001b[0;34m(\u001b[0m\u001b[0;34m\"Params must be a param map but got %s.\"\u001b[0m \u001b[0;34m%\u001b[0m \u001b[0mtype\u001b[0m\u001b[0;34m(\u001b[0m\u001b[0mparams\u001b[0m\u001b[0;34m)\u001b[0m\u001b[0;34m)\u001b[0m\u001b[0;34m\u001b[0m\u001b[0;34m\u001b[0m\u001b[0m\n",
            "\u001b[0;32m/usr/local/lib/python3.9/dist-packages/pyspark/ml/wrapper.py\u001b[0m in \u001b[0;36m_transform\u001b[0;34m(self, dataset)\u001b[0m\n\u001b[1;32m    398\u001b[0m \u001b[0;34m\u001b[0m\u001b[0m\n\u001b[1;32m    399\u001b[0m         \u001b[0mself\u001b[0m\u001b[0;34m.\u001b[0m\u001b[0m_transfer_params_to_java\u001b[0m\u001b[0;34m(\u001b[0m\u001b[0;34m)\u001b[0m\u001b[0;34m\u001b[0m\u001b[0;34m\u001b[0m\u001b[0m\n\u001b[0;32m--> 400\u001b[0;31m         \u001b[0;32mreturn\u001b[0m \u001b[0mDataFrame\u001b[0m\u001b[0;34m(\u001b[0m\u001b[0mself\u001b[0m\u001b[0;34m.\u001b[0m\u001b[0m_java_obj\u001b[0m\u001b[0;34m.\u001b[0m\u001b[0mtransform\u001b[0m\u001b[0;34m(\u001b[0m\u001b[0mdataset\u001b[0m\u001b[0;34m.\u001b[0m\u001b[0m_jdf\u001b[0m\u001b[0;34m)\u001b[0m\u001b[0;34m,\u001b[0m \u001b[0mdataset\u001b[0m\u001b[0;34m.\u001b[0m\u001b[0msparkSession\u001b[0m\u001b[0;34m)\u001b[0m\u001b[0;34m\u001b[0m\u001b[0;34m\u001b[0m\u001b[0m\n\u001b[0m\u001b[1;32m    401\u001b[0m \u001b[0;34m\u001b[0m\u001b[0m\n\u001b[1;32m    402\u001b[0m \u001b[0;34m\u001b[0m\u001b[0m\n",
            "\u001b[0;32m/usr/local/lib/python3.9/dist-packages/py4j/java_gateway.py\u001b[0m in \u001b[0;36m__call__\u001b[0;34m(self, *args)\u001b[0m\n\u001b[1;32m   1319\u001b[0m \u001b[0;34m\u001b[0m\u001b[0m\n\u001b[1;32m   1320\u001b[0m         \u001b[0manswer\u001b[0m \u001b[0;34m=\u001b[0m \u001b[0mself\u001b[0m\u001b[0;34m.\u001b[0m\u001b[0mgateway_client\u001b[0m\u001b[0;34m.\u001b[0m\u001b[0msend_command\u001b[0m\u001b[0;34m(\u001b[0m\u001b[0mcommand\u001b[0m\u001b[0;34m)\u001b[0m\u001b[0;34m\u001b[0m\u001b[0;34m\u001b[0m\u001b[0m\n\u001b[0;32m-> 1321\u001b[0;31m         return_value = get_return_value(\n\u001b[0m\u001b[1;32m   1322\u001b[0m             answer, self.gateway_client, self.target_id, self.name)\n\u001b[1;32m   1323\u001b[0m \u001b[0;34m\u001b[0m\u001b[0m\n",
            "\u001b[0;32m/usr/local/lib/python3.9/dist-packages/pyspark/sql/utils.py\u001b[0m in \u001b[0;36mdeco\u001b[0;34m(*a, **kw)\u001b[0m\n\u001b[1;32m    194\u001b[0m                 \u001b[0;31m# Hide where the exception came from that shows a non-Pythonic\u001b[0m\u001b[0;34m\u001b[0m\u001b[0;34m\u001b[0m\u001b[0m\n\u001b[1;32m    195\u001b[0m                 \u001b[0;31m# JVM exception message.\u001b[0m\u001b[0;34m\u001b[0m\u001b[0;34m\u001b[0m\u001b[0m\n\u001b[0;32m--> 196\u001b[0;31m                 \u001b[0;32mraise\u001b[0m \u001b[0mconverted\u001b[0m \u001b[0;32mfrom\u001b[0m \u001b[0;32mNone\u001b[0m\u001b[0;34m\u001b[0m\u001b[0;34m\u001b[0m\u001b[0m\n\u001b[0m\u001b[1;32m    197\u001b[0m             \u001b[0;32melse\u001b[0m\u001b[0;34m:\u001b[0m\u001b[0;34m\u001b[0m\u001b[0;34m\u001b[0m\u001b[0m\n\u001b[1;32m    198\u001b[0m                 \u001b[0;32mraise\u001b[0m\u001b[0;34m\u001b[0m\u001b[0;34m\u001b[0m\u001b[0m\n",
            "\u001b[0;31mIllegalArgumentException\u001b[0m: Data type string of column timestamp is not supported.\nData type string of column weekday_or_weekend is not supported.\nData type string of column daytime_or_nighttime is not supported.\nData type string of column date is not supported."
          ]
        }
      ]
    },
    {
      "cell_type": "code",
      "source": [
        "df = df.withColumn('hour', hour('timestamp'))"
      ],
      "metadata": {
        "id": "zBwBfA6pwRku"
      },
      "execution_count": 211,
      "outputs": []
    },
    {
      "cell_type": "code",
      "source": [
        "df.show()"
      ],
      "metadata": {
        "colab": {
          "base_uri": "https://localhost:8080/"
        },
        "id": "rE7Vv-l6oU88",
        "outputId": "c5db961d-79d5-466e-b450-44f858a4c01e"
      },
      "execution_count": 212,
      "outputs": [
        {
          "output_type": "stream",
          "name": "stdout",
          "text": [
            "+-------------------+---------+----+---+-----+----+-----------+------------------+--------------------+----------+----+---+\n",
            "|          timestamp|    value|hour|day|month|year|day_of_week|weekday_or_weekend|daytime_or_nighttime|      date|week|IQR|\n",
            "+-------------------+---------+----+---+-----+----+-----------+------------------+--------------------+----------+----+---+\n",
            "|2013-07-04 00:00:00| 69.88084|   0|  4|    7|2013|          5|           weekday|           nighttime|2013-07-04|  27|  1|\n",
            "|2013-07-04 01:00:00| 71.22023|   1|  4|    7|2013|          5|           weekday|           nighttime|2013-07-04|  27|  1|\n",
            "|2013-07-04 02:00:00| 70.87781|   2|  4|    7|2013|          5|           weekday|           nighttime|2013-07-04|  27|  1|\n",
            "|2013-07-04 03:00:00|  68.9594|   3|  4|    7|2013|          5|           weekday|           nighttime|2013-07-04|  27|  1|\n",
            "|2013-07-04 04:00:00|69.283554|   4|  4|    7|2013|          5|           weekday|           nighttime|2013-07-04|  27|  1|\n",
            "|2013-07-04 05:00:00| 70.06097|   5|  4|    7|2013|          5|           weekday|           nighttime|2013-07-04|  27|  1|\n",
            "|2013-07-04 06:00:00| 69.27976|   6|  4|    7|2013|          5|           weekday|           nighttime|2013-07-04|  27|  1|\n",
            "|2013-07-04 07:00:00|69.369606|   7|  4|    7|2013|          5|           weekday|             daytime|2013-07-04|  27|  1|\n",
            "|2013-07-04 08:00:00| 69.16672|   8|  4|    7|2013|          5|           weekday|             daytime|2013-07-04|  27|  1|\n",
            "|2013-07-04 09:00:00|68.986084|   9|  4|    7|2013|          5|           weekday|             daytime|2013-07-04|  27|  1|\n",
            "|2013-07-04 10:00:00|69.965065|  10|  4|    7|2013|          5|           weekday|             daytime|2013-07-04|  27|  1|\n",
            "|2013-07-04 11:00:00|  70.5562|  11|  4|    7|2013|          5|           weekday|             daytime|2013-07-04|  27|  1|\n",
            "|2013-07-04 12:00:00|  70.3075|  12|  4|    7|2013|          5|           weekday|             daytime|2013-07-04|  27|  1|\n",
            "|2013-07-04 13:00:00|70.246254|  13|  4|    7|2013|          5|           weekday|             daytime|2013-07-04|  27|  1|\n",
            "|2013-07-04 14:00:00| 69.85491|  14|  4|    7|2013|          5|           weekday|             daytime|2013-07-04|  27|  1|\n",
            "|2013-07-04 15:00:00| 71.64329|  15|  4|    7|2013|          5|           weekday|             daytime|2013-07-04|  27|  1|\n",
            "|2013-07-04 16:00:00| 71.24566|  16|  4|    7|2013|          5|           weekday|             daytime|2013-07-04|  27|  1|\n",
            "|2013-07-04 17:00:00|  70.7451|  17|  4|    7|2013|          5|           weekday|             daytime|2013-07-04|  27|  1|\n",
            "|2013-07-04 18:00:00|  71.3733|  18|  4|    7|2013|          5|           weekday|             daytime|2013-07-04|  27|  1|\n",
            "|2013-07-04 19:00:00| 71.79575|  19|  4|    7|2013|          5|           weekday|             daytime|2013-07-04|  27|  1|\n",
            "+-------------------+---------+----+---+-----+----+-----------+------------------+--------------------+----------+----+---+\n",
            "only showing top 20 rows\n",
            "\n"
          ]
        }
      ]
    },
    {
      "cell_type": "code",
      "source": [
        "df.printSchema()"
      ],
      "metadata": {
        "colab": {
          "base_uri": "https://localhost:8080/"
        },
        "id": "4BdHxP3zoXwY",
        "outputId": "62f2a47a-74b8-4c18-f546-1160a4385d93"
      },
      "execution_count": 213,
      "outputs": [
        {
          "output_type": "stream",
          "name": "stdout",
          "text": [
            "root\n",
            " |-- timestamp: string (nullable = true)\n",
            " |-- value: float (nullable = true)\n",
            " |-- hour: integer (nullable = true)\n",
            " |-- day: integer (nullable = true)\n",
            " |-- month: integer (nullable = true)\n",
            " |-- year: integer (nullable = true)\n",
            " |-- day_of_week: integer (nullable = true)\n",
            " |-- weekday_or_weekend: string (nullable = false)\n",
            " |-- daytime_or_nighttime: string (nullable = false)\n",
            " |-- date: string (nullable = true)\n",
            " |-- week: integer (nullable = true)\n",
            " |-- IQR: integer (nullable = true)\n",
            "\n"
          ]
        }
      ]
    },
    {
      "cell_type": "code",
      "source": [
        "df = df.drop('timestamp')"
      ],
      "metadata": {
        "id": "AfKeFvH3ocvS"
      },
      "execution_count": 214,
      "outputs": []
    },
    {
      "cell_type": "code",
      "source": [
        "df.show()"
      ],
      "metadata": {
        "colab": {
          "base_uri": "https://localhost:8080/"
        },
        "id": "q6BVff03oiMC",
        "outputId": "2e05a6f6-8b71-4c0f-e2c6-2a035c10238a"
      },
      "execution_count": 215,
      "outputs": [
        {
          "output_type": "stream",
          "name": "stdout",
          "text": [
            "+---------+----+---+-----+----+-----------+------------------+--------------------+----------+----+---+\n",
            "|    value|hour|day|month|year|day_of_week|weekday_or_weekend|daytime_or_nighttime|      date|week|IQR|\n",
            "+---------+----+---+-----+----+-----------+------------------+--------------------+----------+----+---+\n",
            "| 69.88084|   0|  4|    7|2013|          5|           weekday|           nighttime|2013-07-04|  27|  1|\n",
            "| 71.22023|   1|  4|    7|2013|          5|           weekday|           nighttime|2013-07-04|  27|  1|\n",
            "| 70.87781|   2|  4|    7|2013|          5|           weekday|           nighttime|2013-07-04|  27|  1|\n",
            "|  68.9594|   3|  4|    7|2013|          5|           weekday|           nighttime|2013-07-04|  27|  1|\n",
            "|69.283554|   4|  4|    7|2013|          5|           weekday|           nighttime|2013-07-04|  27|  1|\n",
            "| 70.06097|   5|  4|    7|2013|          5|           weekday|           nighttime|2013-07-04|  27|  1|\n",
            "| 69.27976|   6|  4|    7|2013|          5|           weekday|           nighttime|2013-07-04|  27|  1|\n",
            "|69.369606|   7|  4|    7|2013|          5|           weekday|             daytime|2013-07-04|  27|  1|\n",
            "| 69.16672|   8|  4|    7|2013|          5|           weekday|             daytime|2013-07-04|  27|  1|\n",
            "|68.986084|   9|  4|    7|2013|          5|           weekday|             daytime|2013-07-04|  27|  1|\n",
            "|69.965065|  10|  4|    7|2013|          5|           weekday|             daytime|2013-07-04|  27|  1|\n",
            "|  70.5562|  11|  4|    7|2013|          5|           weekday|             daytime|2013-07-04|  27|  1|\n",
            "|  70.3075|  12|  4|    7|2013|          5|           weekday|             daytime|2013-07-04|  27|  1|\n",
            "|70.246254|  13|  4|    7|2013|          5|           weekday|             daytime|2013-07-04|  27|  1|\n",
            "| 69.85491|  14|  4|    7|2013|          5|           weekday|             daytime|2013-07-04|  27|  1|\n",
            "| 71.64329|  15|  4|    7|2013|          5|           weekday|             daytime|2013-07-04|  27|  1|\n",
            "| 71.24566|  16|  4|    7|2013|          5|           weekday|             daytime|2013-07-04|  27|  1|\n",
            "|  70.7451|  17|  4|    7|2013|          5|           weekday|             daytime|2013-07-04|  27|  1|\n",
            "|  71.3733|  18|  4|    7|2013|          5|           weekday|             daytime|2013-07-04|  27|  1|\n",
            "| 71.79575|  19|  4|    7|2013|          5|           weekday|             daytime|2013-07-04|  27|  1|\n",
            "+---------+----+---+-----+----+-----------+------------------+--------------------+----------+----+---+\n",
            "only showing top 20 rows\n",
            "\n"
          ]
        }
      ]
    },
    {
      "cell_type": "code",
      "source": [
        "from pyspark.ml.feature import OneHotEncoder\n",
        "from pyspark.ml.feature import StringIndexer\n",
        "\n",
        "# create StringIndexer for the two categorical columns\n",
        "weekday_indexer = StringIndexer(inputCol=\"weekday_or_weekend\", outputCol=\"weekday_index\")\n",
        "daytime_indexer = StringIndexer(inputCol=\"daytime_or_nighttime\", outputCol=\"daytime_index\")\n",
        "\n",
        "# fit the StringIndexers to the data\n",
        "indexed = weekday_indexer.fit(df).transform(df)\n",
        "indexed = daytime_indexer.fit(indexed).transform(indexed)\n",
        "\n",
        "# create OneHotEncoder for the two indexed columns\n",
        "encoder = OneHotEncoder(inputCols=[\"weekday_index\", \"daytime_index\"], outputCols=[\"weekday_vec\", \"daytime_vec\"])\n",
        "\n",
        "# fit the encoder to the data\n",
        "encoded = encoder.fit(indexed).transform(indexed)\n",
        "\n",
        "# select the encoded vectors and drop the original categorical columns and the indexers\n",
        "encoded = encoded.select(\"value\", \"hour\", \"day\", \"month\", \"year\", \"date\", \"week\", \"IQR\", \"weekday_vec\", \"daytime_vec\")\n"
      ],
      "metadata": {
        "id": "foQlEGbCov0v"
      },
      "execution_count": 223,
      "outputs": []
    },
    {
      "cell_type": "code",
      "source": [
        "scaled_df = 0"
      ],
      "metadata": {
        "id": "n3YK-RQxtDpG"
      },
      "execution_count": 237,
      "outputs": []
    },
    {
      "cell_type": "code",
      "source": [
        "encoded.show()"
      ],
      "metadata": {
        "colab": {
          "base_uri": "https://localhost:8080/"
        },
        "id": "iqG6fq2vovxN",
        "outputId": "1e5d8a97-7358-4038-985d-b134fd67a864"
      },
      "execution_count": 238,
      "outputs": [
        {
          "output_type": "stream",
          "name": "stdout",
          "text": [
            "+---------+----+---+-----+----+----------+----+---+-------------+-------------+--------------------+\n",
            "|    value|hour|day|month|year|      date|week|IQR|  weekday_vec|  daytime_vec|            features|\n",
            "+---------+----+---+-----+----+----------+----+---+-------------+-------------+--------------------+\n",
            "| 69.88084|   0|  4|    7|2013|2013-07-04|  27|  1|(1,[0],[1.0])|    (1,[],[])|[0.0,4.0,7.0,2013...|\n",
            "| 71.22023|   1|  4|    7|2013|2013-07-04|  27|  1|(1,[0],[1.0])|    (1,[],[])|[1.0,4.0,7.0,2013...|\n",
            "| 70.87781|   2|  4|    7|2013|2013-07-04|  27|  1|(1,[0],[1.0])|    (1,[],[])|[2.0,4.0,7.0,2013...|\n",
            "|  68.9594|   3|  4|    7|2013|2013-07-04|  27|  1|(1,[0],[1.0])|    (1,[],[])|[3.0,4.0,7.0,2013...|\n",
            "|69.283554|   4|  4|    7|2013|2013-07-04|  27|  1|(1,[0],[1.0])|    (1,[],[])|[4.0,4.0,7.0,2013...|\n",
            "| 70.06097|   5|  4|    7|2013|2013-07-04|  27|  1|(1,[0],[1.0])|    (1,[],[])|[5.0,4.0,7.0,2013...|\n",
            "| 69.27976|   6|  4|    7|2013|2013-07-04|  27|  1|(1,[0],[1.0])|    (1,[],[])|[6.0,4.0,7.0,2013...|\n",
            "|69.369606|   7|  4|    7|2013|2013-07-04|  27|  1|(1,[0],[1.0])|(1,[0],[1.0])|[7.0,4.0,7.0,2013...|\n",
            "| 69.16672|   8|  4|    7|2013|2013-07-04|  27|  1|(1,[0],[1.0])|(1,[0],[1.0])|[8.0,4.0,7.0,2013...|\n",
            "|68.986084|   9|  4|    7|2013|2013-07-04|  27|  1|(1,[0],[1.0])|(1,[0],[1.0])|[9.0,4.0,7.0,2013...|\n",
            "|69.965065|  10|  4|    7|2013|2013-07-04|  27|  1|(1,[0],[1.0])|(1,[0],[1.0])|[10.0,4.0,7.0,201...|\n",
            "|  70.5562|  11|  4|    7|2013|2013-07-04|  27|  1|(1,[0],[1.0])|(1,[0],[1.0])|[11.0,4.0,7.0,201...|\n",
            "|  70.3075|  12|  4|    7|2013|2013-07-04|  27|  1|(1,[0],[1.0])|(1,[0],[1.0])|[12.0,4.0,7.0,201...|\n",
            "|70.246254|  13|  4|    7|2013|2013-07-04|  27|  1|(1,[0],[1.0])|(1,[0],[1.0])|[13.0,4.0,7.0,201...|\n",
            "| 69.85491|  14|  4|    7|2013|2013-07-04|  27|  1|(1,[0],[1.0])|(1,[0],[1.0])|[14.0,4.0,7.0,201...|\n",
            "| 71.64329|  15|  4|    7|2013|2013-07-04|  27|  1|(1,[0],[1.0])|(1,[0],[1.0])|[15.0,4.0,7.0,201...|\n",
            "| 71.24566|  16|  4|    7|2013|2013-07-04|  27|  1|(1,[0],[1.0])|(1,[0],[1.0])|[16.0,4.0,7.0,201...|\n",
            "|  70.7451|  17|  4|    7|2013|2013-07-04|  27|  1|(1,[0],[1.0])|(1,[0],[1.0])|[17.0,4.0,7.0,201...|\n",
            "|  71.3733|  18|  4|    7|2013|2013-07-04|  27|  1|(1,[0],[1.0])|(1,[0],[1.0])|[18.0,4.0,7.0,201...|\n",
            "| 71.79575|  19|  4|    7|2013|2013-07-04|  27|  1|(1,[0],[1.0])|(1,[0],[1.0])|[19.0,4.0,7.0,201...|\n",
            "+---------+----+---+-----+----+----------+----+---+-------------+-------------+--------------------+\n",
            "only showing top 20 rows\n",
            "\n"
          ]
        }
      ]
    },
    {
      "cell_type": "code",
      "source": [
        "from pyspark.ml.feature import StandardScaler\n",
        "from pyspark.ml.feature import VectorAssembler\n",
        "\n",
        "# Vector Assembler to combine features into a single vector column\n",
        "assembler = VectorAssembler(inputCols=[\"hour\", \"day\", \"month\", \"year\", \"day\", \"weekday_vec\",\n",
        "                                       \"daytime_vec\", \"week\", \"IQR\"], outputCol=\"features\")\n",
        "\n",
        "# Apply vector assembler to your data\n",
        "encoded = assembler.transform(encoded)\n",
        "\n",
        "# Initialize StandardScaler\n",
        "scaler = StandardScaler(inputCol=\"features\", outputCol=\"scaled_features\", withStd=True, withMean=True)\n",
        "\n",
        "# Fit the scaler to the data and transform the data\n",
        "scaled_df = scaler.fit(encoded).transform(encoded)\n"
      ],
      "metadata": {
        "colab": {
          "base_uri": "https://localhost:8080/",
          "height": 380
        },
        "id": "ac8iEeauovvA",
        "outputId": "e7d41a19-4506-4b6d-a846-26e7867f8cd5"
      },
      "execution_count": 239,
      "outputs": [
        {
          "output_type": "error",
          "ename": "IllegalArgumentException",
          "evalue": "ignored",
          "traceback": [
            "\u001b[0;31m---------------------------------------------------------------------------\u001b[0m",
            "\u001b[0;31mIllegalArgumentException\u001b[0m                  Traceback (most recent call last)",
            "\u001b[0;32m<ipython-input-239-4f4bc350c2b6>\u001b[0m in \u001b[0;36m<module>\u001b[0;34m\u001b[0m\n\u001b[1;32m      7\u001b[0m \u001b[0;34m\u001b[0m\u001b[0m\n\u001b[1;32m      8\u001b[0m \u001b[0;31m# Apply vector assembler to your data\u001b[0m\u001b[0;34m\u001b[0m\u001b[0;34m\u001b[0m\u001b[0m\n\u001b[0;32m----> 9\u001b[0;31m \u001b[0mencoded\u001b[0m \u001b[0;34m=\u001b[0m \u001b[0massembler\u001b[0m\u001b[0;34m.\u001b[0m\u001b[0mtransform\u001b[0m\u001b[0;34m(\u001b[0m\u001b[0mencoded\u001b[0m\u001b[0;34m)\u001b[0m\u001b[0;34m\u001b[0m\u001b[0;34m\u001b[0m\u001b[0m\n\u001b[0m\u001b[1;32m     10\u001b[0m \u001b[0;34m\u001b[0m\u001b[0m\n\u001b[1;32m     11\u001b[0m \u001b[0;31m# Initialize StandardScaler\u001b[0m\u001b[0;34m\u001b[0m\u001b[0;34m\u001b[0m\u001b[0m\n",
            "\u001b[0;32m/usr/local/lib/python3.9/dist-packages/pyspark/ml/base.py\u001b[0m in \u001b[0;36mtransform\u001b[0;34m(self, dataset, params)\u001b[0m\n\u001b[1;32m    260\u001b[0m                 \u001b[0;32mreturn\u001b[0m \u001b[0mself\u001b[0m\u001b[0;34m.\u001b[0m\u001b[0mcopy\u001b[0m\u001b[0;34m(\u001b[0m\u001b[0mparams\u001b[0m\u001b[0;34m)\u001b[0m\u001b[0;34m.\u001b[0m\u001b[0m_transform\u001b[0m\u001b[0;34m(\u001b[0m\u001b[0mdataset\u001b[0m\u001b[0;34m)\u001b[0m\u001b[0;34m\u001b[0m\u001b[0;34m\u001b[0m\u001b[0m\n\u001b[1;32m    261\u001b[0m             \u001b[0;32melse\u001b[0m\u001b[0;34m:\u001b[0m\u001b[0;34m\u001b[0m\u001b[0;34m\u001b[0m\u001b[0m\n\u001b[0;32m--> 262\u001b[0;31m                 \u001b[0;32mreturn\u001b[0m \u001b[0mself\u001b[0m\u001b[0;34m.\u001b[0m\u001b[0m_transform\u001b[0m\u001b[0;34m(\u001b[0m\u001b[0mdataset\u001b[0m\u001b[0;34m)\u001b[0m\u001b[0;34m\u001b[0m\u001b[0;34m\u001b[0m\u001b[0m\n\u001b[0m\u001b[1;32m    263\u001b[0m         \u001b[0;32melse\u001b[0m\u001b[0;34m:\u001b[0m\u001b[0;34m\u001b[0m\u001b[0;34m\u001b[0m\u001b[0m\n\u001b[1;32m    264\u001b[0m             \u001b[0;32mraise\u001b[0m \u001b[0mTypeError\u001b[0m\u001b[0;34m(\u001b[0m\u001b[0;34m\"Params must be a param map but got %s.\"\u001b[0m \u001b[0;34m%\u001b[0m \u001b[0mtype\u001b[0m\u001b[0;34m(\u001b[0m\u001b[0mparams\u001b[0m\u001b[0;34m)\u001b[0m\u001b[0;34m)\u001b[0m\u001b[0;34m\u001b[0m\u001b[0;34m\u001b[0m\u001b[0m\n",
            "\u001b[0;32m/usr/local/lib/python3.9/dist-packages/pyspark/ml/wrapper.py\u001b[0m in \u001b[0;36m_transform\u001b[0;34m(self, dataset)\u001b[0m\n\u001b[1;32m    398\u001b[0m \u001b[0;34m\u001b[0m\u001b[0m\n\u001b[1;32m    399\u001b[0m         \u001b[0mself\u001b[0m\u001b[0;34m.\u001b[0m\u001b[0m_transfer_params_to_java\u001b[0m\u001b[0;34m(\u001b[0m\u001b[0;34m)\u001b[0m\u001b[0;34m\u001b[0m\u001b[0;34m\u001b[0m\u001b[0m\n\u001b[0;32m--> 400\u001b[0;31m         \u001b[0;32mreturn\u001b[0m \u001b[0mDataFrame\u001b[0m\u001b[0;34m(\u001b[0m\u001b[0mself\u001b[0m\u001b[0;34m.\u001b[0m\u001b[0m_java_obj\u001b[0m\u001b[0;34m.\u001b[0m\u001b[0mtransform\u001b[0m\u001b[0;34m(\u001b[0m\u001b[0mdataset\u001b[0m\u001b[0;34m.\u001b[0m\u001b[0m_jdf\u001b[0m\u001b[0;34m)\u001b[0m\u001b[0;34m,\u001b[0m \u001b[0mdataset\u001b[0m\u001b[0;34m.\u001b[0m\u001b[0msparkSession\u001b[0m\u001b[0;34m)\u001b[0m\u001b[0;34m\u001b[0m\u001b[0;34m\u001b[0m\u001b[0m\n\u001b[0m\u001b[1;32m    401\u001b[0m \u001b[0;34m\u001b[0m\u001b[0m\n\u001b[1;32m    402\u001b[0m \u001b[0;34m\u001b[0m\u001b[0m\n",
            "\u001b[0;32m/usr/local/lib/python3.9/dist-packages/py4j/java_gateway.py\u001b[0m in \u001b[0;36m__call__\u001b[0;34m(self, *args)\u001b[0m\n\u001b[1;32m   1319\u001b[0m \u001b[0;34m\u001b[0m\u001b[0m\n\u001b[1;32m   1320\u001b[0m         \u001b[0manswer\u001b[0m \u001b[0;34m=\u001b[0m \u001b[0mself\u001b[0m\u001b[0;34m.\u001b[0m\u001b[0mgateway_client\u001b[0m\u001b[0;34m.\u001b[0m\u001b[0msend_command\u001b[0m\u001b[0;34m(\u001b[0m\u001b[0mcommand\u001b[0m\u001b[0;34m)\u001b[0m\u001b[0;34m\u001b[0m\u001b[0;34m\u001b[0m\u001b[0m\n\u001b[0;32m-> 1321\u001b[0;31m         return_value = get_return_value(\n\u001b[0m\u001b[1;32m   1322\u001b[0m             answer, self.gateway_client, self.target_id, self.name)\n\u001b[1;32m   1323\u001b[0m \u001b[0;34m\u001b[0m\u001b[0m\n",
            "\u001b[0;32m/usr/local/lib/python3.9/dist-packages/pyspark/sql/utils.py\u001b[0m in \u001b[0;36mdeco\u001b[0;34m(*a, **kw)\u001b[0m\n\u001b[1;32m    194\u001b[0m                 \u001b[0;31m# Hide where the exception came from that shows a non-Pythonic\u001b[0m\u001b[0;34m\u001b[0m\u001b[0;34m\u001b[0m\u001b[0m\n\u001b[1;32m    195\u001b[0m                 \u001b[0;31m# JVM exception message.\u001b[0m\u001b[0;34m\u001b[0m\u001b[0;34m\u001b[0m\u001b[0m\n\u001b[0;32m--> 196\u001b[0;31m                 \u001b[0;32mraise\u001b[0m \u001b[0mconverted\u001b[0m \u001b[0;32mfrom\u001b[0m \u001b[0;32mNone\u001b[0m\u001b[0;34m\u001b[0m\u001b[0;34m\u001b[0m\u001b[0m\n\u001b[0m\u001b[1;32m    197\u001b[0m             \u001b[0;32melse\u001b[0m\u001b[0;34m:\u001b[0m\u001b[0;34m\u001b[0m\u001b[0;34m\u001b[0m\u001b[0m\n\u001b[1;32m    198\u001b[0m                 \u001b[0;32mraise\u001b[0m\u001b[0;34m\u001b[0m\u001b[0;34m\u001b[0m\u001b[0m\n",
            "\u001b[0;31mIllegalArgumentException\u001b[0m: Output column features already exists."
          ]
        }
      ]
    },
    {
      "cell_type": "code",
      "source": [
        "scaled_df = scaler.fit(encoded).transform(encoded)\n"
      ],
      "metadata": {
        "id": "LcyTYqB9ovsv"
      },
      "execution_count": 246,
      "outputs": []
    },
    {
      "cell_type": "code",
      "source": [
        "scaled_df.show()"
      ],
      "metadata": {
        "colab": {
          "base_uri": "https://localhost:8080/"
        },
        "id": "9lguEhNKtMVn",
        "outputId": "9306235b-f26a-4ff4-8003-c09836d2aeff"
      },
      "execution_count": 247,
      "outputs": [
        {
          "output_type": "stream",
          "name": "stdout",
          "text": [
            "+---------+----+---+-----+----+----------+----+---+-------------+-------------+--------------------+---------------------+\n",
            "|    value|hour|day|month|year|      date|week|IQR|  weekday_vec|  daytime_vec|            features|scaled_features_value|\n",
            "+---------+----+---+-----+----+----------+----+---+-------------+-------------+--------------------+---------------------+\n",
            "| 69.88084|   0|  4|    7|2013|2013-07-04|  27|  1|(1,[0],[1.0])|    (1,[],[])|[0.0,4.0,7.0,2013...| [0.0,0.4635782663...|\n",
            "| 71.22023|   1|  4|    7|2013|2013-07-04|  27|  1|(1,[0],[1.0])|    (1,[],[])|[1.0,4.0,7.0,2013...| [0.14435492666394...|\n",
            "| 70.87781|   2|  4|    7|2013|2013-07-04|  27|  1|(1,[0],[1.0])|    (1,[],[])|[2.0,4.0,7.0,2013...| [0.28870985332788...|\n",
            "|  68.9594|   3|  4|    7|2013|2013-07-04|  27|  1|(1,[0],[1.0])|    (1,[],[])|[3.0,4.0,7.0,2013...| [0.43306477999182...|\n",
            "|69.283554|   4|  4|    7|2013|2013-07-04|  27|  1|(1,[0],[1.0])|    (1,[],[])|[4.0,4.0,7.0,2013...| [0.57741970665576...|\n",
            "| 70.06097|   5|  4|    7|2013|2013-07-04|  27|  1|(1,[0],[1.0])|    (1,[],[])|[5.0,4.0,7.0,2013...| [0.72177463331970...|\n",
            "| 69.27976|   6|  4|    7|2013|2013-07-04|  27|  1|(1,[0],[1.0])|    (1,[],[])|[6.0,4.0,7.0,2013...| [0.86612955998364...|\n",
            "|69.369606|   7|  4|    7|2013|2013-07-04|  27|  1|(1,[0],[1.0])|(1,[0],[1.0])|[7.0,4.0,7.0,2013...| [1.01048448664758...|\n",
            "| 69.16672|   8|  4|    7|2013|2013-07-04|  27|  1|(1,[0],[1.0])|(1,[0],[1.0])|[8.0,4.0,7.0,2013...| [1.15483941331152...|\n",
            "|68.986084|   9|  4|    7|2013|2013-07-04|  27|  1|(1,[0],[1.0])|(1,[0],[1.0])|[9.0,4.0,7.0,2013...| [1.29919433997546...|\n",
            "|69.965065|  10|  4|    7|2013|2013-07-04|  27|  1|(1,[0],[1.0])|(1,[0],[1.0])|[10.0,4.0,7.0,201...| [1.44354926663940...|\n",
            "|  70.5562|  11|  4|    7|2013|2013-07-04|  27|  1|(1,[0],[1.0])|(1,[0],[1.0])|[11.0,4.0,7.0,201...| [1.58790419330334...|\n",
            "|  70.3075|  12|  4|    7|2013|2013-07-04|  27|  1|(1,[0],[1.0])|(1,[0],[1.0])|[12.0,4.0,7.0,201...| [1.73225911996728...|\n",
            "|70.246254|  13|  4|    7|2013|2013-07-04|  27|  1|(1,[0],[1.0])|(1,[0],[1.0])|[13.0,4.0,7.0,201...| [1.87661404663122...|\n",
            "| 69.85491|  14|  4|    7|2013|2013-07-04|  27|  1|(1,[0],[1.0])|(1,[0],[1.0])|[14.0,4.0,7.0,201...| [2.02096897329516...|\n",
            "| 71.64329|  15|  4|    7|2013|2013-07-04|  27|  1|(1,[0],[1.0])|(1,[0],[1.0])|[15.0,4.0,7.0,201...| [2.16532389995911...|\n",
            "| 71.24566|  16|  4|    7|2013|2013-07-04|  27|  1|(1,[0],[1.0])|(1,[0],[1.0])|[16.0,4.0,7.0,201...| [2.30967882662305...|\n",
            "|  70.7451|  17|  4|    7|2013|2013-07-04|  27|  1|(1,[0],[1.0])|(1,[0],[1.0])|[17.0,4.0,7.0,201...| [2.45403375328699...|\n",
            "|  71.3733|  18|  4|    7|2013|2013-07-04|  27|  1|(1,[0],[1.0])|(1,[0],[1.0])|[18.0,4.0,7.0,201...| [2.59838867995093...|\n",
            "| 71.79575|  19|  4|    7|2013|2013-07-04|  27|  1|(1,[0],[1.0])|(1,[0],[1.0])|[19.0,4.0,7.0,201...| [2.74274360661487...|\n",
            "+---------+----+---+-----+----+----------+----+---+-------------+-------------+--------------------+---------------------+\n",
            "only showing top 20 rows\n",
            "\n"
          ]
        }
      ]
    },
    {
      "cell_type": "code",
      "source": [
        "scaled_df.drop('date')"
      ],
      "metadata": {
        "colab": {
          "base_uri": "https://localhost:8080/"
        },
        "id": "ojq4lL-HtQW9",
        "outputId": "b5575e23-5996-496f-82cb-f9537bc6325b"
      },
      "execution_count": 242,
      "outputs": [
        {
          "output_type": "execute_result",
          "data": {
            "text/plain": [
              "DataFrame[value: float, hour: int, day: int, month: int, year: int, week: int, IQR: int, weekday_vec: vector, daytime_vec: vector, features: vector, scaled_features_value: vector]"
            ]
          },
          "metadata": {},
          "execution_count": 242
        }
      ]
    },
    {
      "cell_type": "code",
      "source": [
        "!pip install pyod"
      ],
      "metadata": {
        "colab": {
          "base_uri": "https://localhost:8080/"
        },
        "id": "oeIp2IIstQIX",
        "outputId": "73042e91-ed45-4e00-ebe2-1ae7d11ceac3"
      },
      "execution_count": 249,
      "outputs": [
        {
          "output_type": "stream",
          "name": "stdout",
          "text": [
            "Looking in indexes: https://pypi.org/simple, https://us-python.pkg.dev/colab-wheels/public/simple/\n",
            "Collecting pyod\n",
            "  Downloading pyod-1.0.8.tar.gz (149 kB)\n",
            "\u001b[2K     \u001b[90m━━━━━━━━━━━━━━━━━━━━━━━━━━━━━━━━━━━━━━━\u001b[0m \u001b[32m150.0/150.0 KB\u001b[0m \u001b[31m7.2 MB/s\u001b[0m eta \u001b[36m0:00:00\u001b[0m\n",
            "\u001b[?25h  Preparing metadata (setup.py) ... \u001b[?25l\u001b[?25hdone\n",
            "Requirement already satisfied: joblib in /usr/local/lib/python3.9/dist-packages (from pyod) (1.1.1)\n",
            "Requirement already satisfied: matplotlib in /usr/local/lib/python3.9/dist-packages (from pyod) (3.5.3)\n",
            "Requirement already satisfied: numpy>=1.19 in /usr/local/lib/python3.9/dist-packages (from pyod) (1.22.4)\n",
            "Requirement already satisfied: numba>=0.51 in /usr/local/lib/python3.9/dist-packages (from pyod) (0.56.4)\n",
            "Requirement already satisfied: scipy>=1.5.1 in /usr/local/lib/python3.9/dist-packages (from pyod) (1.10.1)\n",
            "Requirement already satisfied: scikit_learn>=0.20.0 in /usr/local/lib/python3.9/dist-packages (from pyod) (1.2.2)\n",
            "Requirement already satisfied: six in /usr/local/lib/python3.9/dist-packages (from pyod) (1.15.0)\n",
            "Requirement already satisfied: setuptools in /usr/local/lib/python3.9/dist-packages (from numba>=0.51->pyod) (57.4.0)\n",
            "Requirement already satisfied: llvmlite<0.40,>=0.39.0dev0 in /usr/local/lib/python3.9/dist-packages (from numba>=0.51->pyod) (0.39.1)\n",
            "Requirement already satisfied: threadpoolctl>=2.0.0 in /usr/local/lib/python3.9/dist-packages (from scikit_learn>=0.20.0->pyod) (3.1.0)\n",
            "Requirement already satisfied: fonttools>=4.22.0 in /usr/local/lib/python3.9/dist-packages (from matplotlib->pyod) (4.39.0)\n",
            "Requirement already satisfied: pillow>=6.2.0 in /usr/local/lib/python3.9/dist-packages (from matplotlib->pyod) (8.4.0)\n",
            "Requirement already satisfied: cycler>=0.10 in /usr/local/lib/python3.9/dist-packages (from matplotlib->pyod) (0.11.0)\n",
            "Requirement already satisfied: kiwisolver>=1.0.1 in /usr/local/lib/python3.9/dist-packages (from matplotlib->pyod) (1.4.4)\n",
            "Requirement already satisfied: pyparsing>=2.2.1 in /usr/local/lib/python3.9/dist-packages (from matplotlib->pyod) (3.0.9)\n",
            "Requirement already satisfied: python-dateutil>=2.7 in /usr/local/lib/python3.9/dist-packages (from matplotlib->pyod) (2.8.2)\n",
            "Requirement already satisfied: packaging>=20.0 in /usr/local/lib/python3.9/dist-packages (from matplotlib->pyod) (23.0)\n",
            "Building wheels for collected packages: pyod\n",
            "  Building wheel for pyod (setup.py) ... \u001b[?25l\u001b[?25hdone\n",
            "  Created wheel for pyod: filename=pyod-1.0.8-py3-none-any.whl size=184055 sha256=5aebd3f374e43ffa5d2d2f0d9841ef52f16298a170252884ac4e82a16d20bf9c\n",
            "  Stored in directory: /root/.cache/pip/wheels/90/2b/16/c9baeb5fcd94a8a5bc4ea786fef2122f5b9ab3a61a7fc0303a\n",
            "Successfully built pyod\n",
            "Installing collected packages: pyod\n",
            "Successfully installed pyod-1.0.8\n"
          ]
        }
      ]
    },
    {
      "cell_type": "code",
      "source": [
        "from pyspark.ml.feature import VectorAssembler\n",
        "from pyspark.ml.clustering import KMeans\n",
        "from pyspark.sql.functions import expr\n",
        "from pyspark.sql.functions import col\n",
        "from pyod.models.lof import LOF\n"
      ],
      "metadata": {
        "id": "-vgelF47tTt8"
      },
      "execution_count": 250,
      "outputs": []
    },
    {
      "cell_type": "code",
      "source": [
        "from sklearn.neighbors import LocalOutlierFactor\n",
        "\n",
        "# Instantiate LOF model\n",
        "lof = LocalOutlierFactor(n_neighbors=20, contamination=0.01)\n",
        "\n",
        "# Fit the model and get the predictions\n",
        "preds = lof.fit_predict(df_scaled[['value']])"
      ],
      "metadata": {
        "colab": {
          "base_uri": "https://localhost:8080/",
          "height": 200
        },
        "id": "t1L2nlTkovqY",
        "outputId": "dbe3b471-0ded-41ad-9922-14bd91d19c33"
      },
      "execution_count": 229,
      "outputs": [
        {
          "output_type": "error",
          "ename": "NameError",
          "evalue": "ignored",
          "traceback": [
            "\u001b[0;31m---------------------------------------------------------------------------\u001b[0m",
            "\u001b[0;31mNameError\u001b[0m                                 Traceback (most recent call last)",
            "\u001b[0;32m<ipython-input-229-30cdaf32e1a4>\u001b[0m in \u001b[0;36m<module>\u001b[0;34m\u001b[0m\n\u001b[1;32m      5\u001b[0m \u001b[0;34m\u001b[0m\u001b[0m\n\u001b[1;32m      6\u001b[0m \u001b[0;31m# Fit the model and get the predictions\u001b[0m\u001b[0;34m\u001b[0m\u001b[0;34m\u001b[0m\u001b[0m\n\u001b[0;32m----> 7\u001b[0;31m \u001b[0mpreds\u001b[0m \u001b[0;34m=\u001b[0m \u001b[0mlof\u001b[0m\u001b[0;34m.\u001b[0m\u001b[0mfit_predict\u001b[0m\u001b[0;34m(\u001b[0m\u001b[0mdf_scaled\u001b[0m\u001b[0;34m[\u001b[0m\u001b[0;34m[\u001b[0m\u001b[0;34m'value'\u001b[0m\u001b[0;34m]\u001b[0m\u001b[0;34m]\u001b[0m\u001b[0;34m)\u001b[0m\u001b[0;34m\u001b[0m\u001b[0;34m\u001b[0m\u001b[0m\n\u001b[0m",
            "\u001b[0;31mNameError\u001b[0m: name 'df_scaled' is not defined"
          ]
        }
      ]
    },
    {
      "cell_type": "code",
      "source": [
        "kmeans = KMeans(k=10, seed=1)\n",
        "model = kmeans.fit(scaled_df)\n",
        "scaled_df = model.transform(scaled_df).withColumn('cluster', expr('CAST(prediction AS INT)'))\n"
      ],
      "metadata": {
        "id": "Bz2Rdz63s9fh"
      },
      "execution_count": 255,
      "outputs": []
    },
    {
      "cell_type": "code",
      "source": [
        "lof = LOF(contamination=0.1)\n",
        "lof.fit(df.select('cluster', 'features').rdd.map(lambda x: (x[1], x[0])))\n"
      ],
      "metadata": {
        "colab": {
          "base_uri": "https://localhost:8080/",
          "height": 397
        },
        "id": "c--mR58Uovnn",
        "outputId": "0b1fc246-af9c-4f44-d7fe-2f78c06273f5"
      },
      "execution_count": 256,
      "outputs": [
        {
          "output_type": "error",
          "ename": "ValueError",
          "evalue": "ignored",
          "traceback": [
            "\u001b[0;31m---------------------------------------------------------------------------\u001b[0m",
            "\u001b[0;31mValueError\u001b[0m                                Traceback (most recent call last)",
            "\u001b[0;32m<ipython-input-256-66f3419160a3>\u001b[0m in \u001b[0;36m<module>\u001b[0;34m\u001b[0m\n\u001b[1;32m      1\u001b[0m \u001b[0mlof\u001b[0m \u001b[0;34m=\u001b[0m \u001b[0mLOF\u001b[0m\u001b[0;34m(\u001b[0m\u001b[0mcontamination\u001b[0m\u001b[0;34m=\u001b[0m\u001b[0;36m0.1\u001b[0m\u001b[0;34m)\u001b[0m\u001b[0;34m\u001b[0m\u001b[0;34m\u001b[0m\u001b[0m\n\u001b[0;32m----> 2\u001b[0;31m \u001b[0mlof\u001b[0m\u001b[0;34m.\u001b[0m\u001b[0mfit\u001b[0m\u001b[0;34m(\u001b[0m\u001b[0mdf\u001b[0m\u001b[0;34m.\u001b[0m\u001b[0mselect\u001b[0m\u001b[0;34m(\u001b[0m\u001b[0;34m'cluster'\u001b[0m\u001b[0;34m,\u001b[0m \u001b[0;34m'features'\u001b[0m\u001b[0;34m)\u001b[0m\u001b[0;34m.\u001b[0m\u001b[0mrdd\u001b[0m\u001b[0;34m.\u001b[0m\u001b[0mmap\u001b[0m\u001b[0;34m(\u001b[0m\u001b[0;32mlambda\u001b[0m \u001b[0mx\u001b[0m\u001b[0;34m:\u001b[0m \u001b[0;34m(\u001b[0m\u001b[0mx\u001b[0m\u001b[0;34m[\u001b[0m\u001b[0;36m1\u001b[0m\u001b[0;34m]\u001b[0m\u001b[0;34m,\u001b[0m \u001b[0mx\u001b[0m\u001b[0;34m[\u001b[0m\u001b[0;36m0\u001b[0m\u001b[0;34m]\u001b[0m\u001b[0;34m)\u001b[0m\u001b[0;34m)\u001b[0m\u001b[0;34m)\u001b[0m\u001b[0;34m\u001b[0m\u001b[0;34m\u001b[0m\u001b[0m\n\u001b[0m",
            "\u001b[0;32m/usr/local/lib/python3.9/dist-packages/pyod/models/lof.py\u001b[0m in \u001b[0;36mfit\u001b[0;34m(self, X, y)\u001b[0m\n\u001b[1;32m    169\u001b[0m         \"\"\"\n\u001b[1;32m    170\u001b[0m         \u001b[0;31m# validate inputs X and y (optional)\u001b[0m\u001b[0;34m\u001b[0m\u001b[0;34m\u001b[0m\u001b[0m\n\u001b[0;32m--> 171\u001b[0;31m         \u001b[0mX\u001b[0m \u001b[0;34m=\u001b[0m \u001b[0mcheck_array\u001b[0m\u001b[0;34m(\u001b[0m\u001b[0mX\u001b[0m\u001b[0;34m)\u001b[0m\u001b[0;34m\u001b[0m\u001b[0;34m\u001b[0m\u001b[0m\n\u001b[0m\u001b[1;32m    172\u001b[0m         \u001b[0mself\u001b[0m\u001b[0;34m.\u001b[0m\u001b[0m_set_n_classes\u001b[0m\u001b[0;34m(\u001b[0m\u001b[0my\u001b[0m\u001b[0;34m)\u001b[0m\u001b[0;34m\u001b[0m\u001b[0;34m\u001b[0m\u001b[0m\n\u001b[1;32m    173\u001b[0m \u001b[0;34m\u001b[0m\u001b[0m\n",
            "\u001b[0;32m/usr/local/lib/python3.9/dist-packages/sklearn/utils/validation.py\u001b[0m in \u001b[0;36mcheck_array\u001b[0;34m(array, accept_sparse, accept_large_sparse, dtype, order, copy, force_all_finite, ensure_2d, allow_nd, ensure_min_samples, ensure_min_features, estimator, input_name)\u001b[0m\n\u001b[1;32m    892\u001b[0m             \u001b[0;31m# If input is scalar raise error\u001b[0m\u001b[0;34m\u001b[0m\u001b[0;34m\u001b[0m\u001b[0m\n\u001b[1;32m    893\u001b[0m             \u001b[0;32mif\u001b[0m \u001b[0marray\u001b[0m\u001b[0;34m.\u001b[0m\u001b[0mndim\u001b[0m \u001b[0;34m==\u001b[0m \u001b[0;36m0\u001b[0m\u001b[0;34m:\u001b[0m\u001b[0;34m\u001b[0m\u001b[0;34m\u001b[0m\u001b[0m\n\u001b[0;32m--> 894\u001b[0;31m                 raise ValueError(\n\u001b[0m\u001b[1;32m    895\u001b[0m                     \u001b[0;34m\"Expected 2D array, got scalar array instead:\\narray={}.\\n\"\u001b[0m\u001b[0;34m\u001b[0m\u001b[0;34m\u001b[0m\u001b[0m\n\u001b[1;32m    896\u001b[0m                     \u001b[0;34m\"Reshape your data either using array.reshape(-1, 1) if \"\u001b[0m\u001b[0;34m\u001b[0m\u001b[0;34m\u001b[0m\u001b[0m\n",
            "\u001b[0;31mValueError\u001b[0m: Expected 2D array, got scalar array instead:\narray=PythonRDD[624] at RDD at PythonRDD.scala:53.\nReshape your data either using array.reshape(-1, 1) if your data has a single feature or array.reshape(1, -1) if it contains a single sample."
          ]
        }
      ]
    }
  ]
}